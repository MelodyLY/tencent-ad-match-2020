{
 "cells": [
  {
   "cell_type": "markdown",
   "metadata": {},
   "source": [
    "# age|gender预测--TFIDF版"
   ]
  },
  {
   "cell_type": "code",
   "execution_count": 1,
   "metadata": {
    "ExecuteTime": {
     "end_time": "2020-06-28T12:07:48.430432Z",
     "start_time": "2020-06-28T12:07:48.233684Z"
    }
   },
   "outputs": [],
   "source": [
    "import numpy as np\n",
    "import pandas as pd"
   ]
  },
  {
   "cell_type": "code",
   "execution_count": 2,
   "metadata": {
    "ExecuteTime": {
     "end_time": "2020-06-28T12:07:48.988517Z",
     "start_time": "2020-06-28T12:07:48.986303Z"
    }
   },
   "outputs": [],
   "source": [
    "import gc"
   ]
  },
  {
   "cell_type": "markdown",
   "metadata": {},
   "source": [
    "## 载入用户点击日志"
   ]
  },
  {
   "cell_type": "code",
   "execution_count": 3,
   "metadata": {
    "ExecuteTime": {
     "end_time": "2020-06-28T12:08:56.509509Z",
     "start_time": "2020-06-28T12:07:57.435252Z"
    }
   },
   "outputs": [],
   "source": [
    "pd_user_ad_list = pd.read_csv(\"./data/pd_user_ad_id_seg_all_click_time.csv\")"
   ]
  },
  {
   "cell_type": "code",
   "execution_count": 5,
   "metadata": {
    "ExecuteTime": {
     "end_time": "2020-06-28T12:09:42.969116Z",
     "start_time": "2020-06-28T12:09:42.955683Z"
    }
   },
   "outputs": [
    {
     "data": {
      "text/html": [
       "<div>\n",
       "<style scoped>\n",
       "    .dataframe tbody tr th:only-of-type {\n",
       "        vertical-align: middle;\n",
       "    }\n",
       "\n",
       "    .dataframe tbody tr th {\n",
       "        vertical-align: top;\n",
       "    }\n",
       "\n",
       "    .dataframe thead th {\n",
       "        text-align: right;\n",
       "    }\n",
       "</style>\n",
       "<table border=\"1\" class=\"dataframe\">\n",
       "  <thead>\n",
       "    <tr style=\"text-align: right;\">\n",
       "      <th></th>\n",
       "      <th>user_id</th>\n",
       "      <th>time</th>\n",
       "      <th>creative_id</th>\n",
       "      <th>click_times</th>\n",
       "      <th>ad_id</th>\n",
       "      <th>product_id</th>\n",
       "      <th>product_category</th>\n",
       "      <th>advertiser_id</th>\n",
       "      <th>industry</th>\n",
       "    </tr>\n",
       "  </thead>\n",
       "  <tbody>\n",
       "    <tr>\n",
       "      <th>0</th>\n",
       "      <td>1</td>\n",
       "      <td>20 20 20 39 40 43 46 52 60 64 64 73 76</td>\n",
       "      <td>877468 209778 821396 1683713 122032 71691 1940...</td>\n",
       "      <td>1 1 1 1 1 1 1 1 1 1 1 1 2</td>\n",
       "      <td>773445 188507 724607 1458878 109959 66210 1678...</td>\n",
       "      <td>0 136 0 0 1334 0 0 0 0 64 1454 64 1261</td>\n",
       "      <td>5 2 5 5 2 18 5 5 18 2 2 2 2</td>\n",
       "      <td>29455 9702 7293 14668 11411 14681 17189 367 44...</td>\n",
       "      <td>106 6 326 326 0 326 73 217 64 245 238 245 6</td>\n",
       "    </tr>\n",
       "    <tr>\n",
       "      <th>1</th>\n",
       "      <td>2</td>\n",
       "      <td>10 11 14 17 28 28 28 38 38 39 41 42 42 42 44 4...</td>\n",
       "      <td>63441 155822 39714 609050 13069 1266180 441462...</td>\n",
       "      <td>1 1 1 1 1 1 1 1 1 1 1 1 1 1 1 1 1 1 1 1 1 1 1 ...</td>\n",
       "      <td>58788 139702 38066 541125 14495 1107111 392680...</td>\n",
       "      <td>87 80 129 129 1400 0 87 0 1261 0 111 129 0 0 0...</td>\n",
       "      <td>2 2 2 2 2 18 2 18 2 18 2 2 18 18 18 18 2 2 2 2...</td>\n",
       "      <td>22885 10686 18562 25932 768 34505 22885 26006 ...</td>\n",
       "      <td>318 238 6 6 317 47 318 47 6 47 242 6 47 6 47 4...</td>\n",
       "    </tr>\n",
       "    <tr>\n",
       "      <th>2</th>\n",
       "      <td>3</td>\n",
       "      <td>12 13 14 14 14 17 19 22 31 36 37 44 47 47 50 5...</td>\n",
       "      <td>661347 808612 593522 825434 710859 726940 3920...</td>\n",
       "      <td>1 1 1 1 1 1 1 1 1 1 1 1 1 1 1 1 1 1 1 1 1 1 1 ...</td>\n",
       "      <td>586668 713448 527601 728308 629278 643108 3502...</td>\n",
       "      <td>36256 40905 1674 35985 1674 0 0 1031 1786 2258...</td>\n",
       "      <td>17 17 2 17 2 18 18 2 2 2 18 12 2 2 18 18 8 4 2...</td>\n",
       "      <td>32974 9877 17018 14186 18492 9058 8371 2336 39...</td>\n",
       "      <td>0 0 322 0 322 6 54 6 322 322 205 302 322 322 2...</td>\n",
       "    </tr>\n",
       "    <tr>\n",
       "      <th>3</th>\n",
       "      <td>4</td>\n",
       "      <td>8 15 41 44 48 48 48 48 49 52 58 58 59 61 62 62...</td>\n",
       "      <td>39588 589886 574787 1892854 1230094 31070 2264...</td>\n",
       "      <td>1 1 1 1 1 1 1 1 1 1 1 1 1 1 1 1 1 1 1 1 1 1 1 ...</td>\n",
       "      <td>37966 524312 511235 1638619 1076286 30773 1953...</td>\n",
       "      <td>1862 0 2625 38743 39904 39422 37758 41265 0 15...</td>\n",
       "      <td>2 18 2 17 17 17 4 17 18 2 2 2 2 2 2 2 2 2 5 2 ...</td>\n",
       "      <td>19451 7976 13084 12130 10172 13299 811 23664 1...</td>\n",
       "      <td>238 25 248 0 0 0 0 0 88 319 6 238 319 238 319 ...</td>\n",
       "    </tr>\n",
       "    <tr>\n",
       "      <th>4</th>\n",
       "      <td>5</td>\n",
       "      <td>3 13 14 15 20 21 24 25 27 28 29 30 32 32 35 35...</td>\n",
       "      <td>296145 350759 24333 43235 852327 1054434 12964...</td>\n",
       "      <td>1 1 1 1 1 2 1 1 1 1 1 1 1 1 1 1 1 1 1 1 1 1 1 ...</td>\n",
       "      <td>265971 314795 24966 41148 751113 925792 113378...</td>\n",
       "      <td>0 0 87 136 0 136 0 0 0 1064 0 2620 0 0 0 136 2...</td>\n",
       "      <td>5 8 2 2 18 2 5 18 18 2 18 2 5 5 18 2 2 18 18 5...</td>\n",
       "      <td>11882 992 22885 9706 38760 2862 17745 31552 22...</td>\n",
       "      <td>297 0 318 6 322 6 288 322 319 238 322 322 203 ...</td>\n",
       "    </tr>\n",
       "  </tbody>\n",
       "</table>\n",
       "</div>"
      ],
      "text/plain": [
       "   user_id                                               time  \\\n",
       "0        1             20 20 20 39 40 43 46 52 60 64 64 73 76   \n",
       "1        2  10 11 14 17 28 28 28 38 38 39 41 42 42 42 44 4...   \n",
       "2        3  12 13 14 14 14 17 19 22 31 36 37 44 47 47 50 5...   \n",
       "3        4  8 15 41 44 48 48 48 48 49 52 58 58 59 61 62 62...   \n",
       "4        5  3 13 14 15 20 21 24 25 27 28 29 30 32 32 35 35...   \n",
       "\n",
       "                                         creative_id  \\\n",
       "0  877468 209778 821396 1683713 122032 71691 1940...   \n",
       "1  63441 155822 39714 609050 13069 1266180 441462...   \n",
       "2  661347 808612 593522 825434 710859 726940 3920...   \n",
       "3  39588 589886 574787 1892854 1230094 31070 2264...   \n",
       "4  296145 350759 24333 43235 852327 1054434 12964...   \n",
       "\n",
       "                                         click_times  \\\n",
       "0                          1 1 1 1 1 1 1 1 1 1 1 1 2   \n",
       "1  1 1 1 1 1 1 1 1 1 1 1 1 1 1 1 1 1 1 1 1 1 1 1 ...   \n",
       "2  1 1 1 1 1 1 1 1 1 1 1 1 1 1 1 1 1 1 1 1 1 1 1 ...   \n",
       "3  1 1 1 1 1 1 1 1 1 1 1 1 1 1 1 1 1 1 1 1 1 1 1 ...   \n",
       "4  1 1 1 1 1 2 1 1 1 1 1 1 1 1 1 1 1 1 1 1 1 1 1 ...   \n",
       "\n",
       "                                               ad_id  \\\n",
       "0  773445 188507 724607 1458878 109959 66210 1678...   \n",
       "1  58788 139702 38066 541125 14495 1107111 392680...   \n",
       "2  586668 713448 527601 728308 629278 643108 3502...   \n",
       "3  37966 524312 511235 1638619 1076286 30773 1953...   \n",
       "4  265971 314795 24966 41148 751113 925792 113378...   \n",
       "\n",
       "                                          product_id  \\\n",
       "0             0 136 0 0 1334 0 0 0 0 64 1454 64 1261   \n",
       "1  87 80 129 129 1400 0 87 0 1261 0 111 129 0 0 0...   \n",
       "2  36256 40905 1674 35985 1674 0 0 1031 1786 2258...   \n",
       "3  1862 0 2625 38743 39904 39422 37758 41265 0 15...   \n",
       "4  0 0 87 136 0 136 0 0 0 1064 0 2620 0 0 0 136 2...   \n",
       "\n",
       "                                    product_category  \\\n",
       "0                        5 2 5 5 2 18 5 5 18 2 2 2 2   \n",
       "1  2 2 2 2 2 18 2 18 2 18 2 2 18 18 18 18 2 2 2 2...   \n",
       "2  17 17 2 17 2 18 18 2 2 2 18 12 2 2 18 18 8 4 2...   \n",
       "3  2 18 2 17 17 17 4 17 18 2 2 2 2 2 2 2 2 2 5 2 ...   \n",
       "4  5 8 2 2 18 2 5 18 18 2 18 2 5 5 18 2 2 18 18 5...   \n",
       "\n",
       "                                       advertiser_id  \\\n",
       "0  29455 9702 7293 14668 11411 14681 17189 367 44...   \n",
       "1  22885 10686 18562 25932 768 34505 22885 26006 ...   \n",
       "2  32974 9877 17018 14186 18492 9058 8371 2336 39...   \n",
       "3  19451 7976 13084 12130 10172 13299 811 23664 1...   \n",
       "4  11882 992 22885 9706 38760 2862 17745 31552 22...   \n",
       "\n",
       "                                            industry  \n",
       "0        106 6 326 326 0 326 73 217 64 245 238 245 6  \n",
       "1  318 238 6 6 317 47 318 47 6 47 242 6 47 6 47 4...  \n",
       "2  0 0 322 0 322 6 54 6 322 322 205 302 322 322 2...  \n",
       "3  238 25 248 0 0 0 0 0 88 319 6 238 319 238 319 ...  \n",
       "4  297 0 318 6 322 6 288 322 319 238 322 322 203 ...  "
      ]
     },
     "execution_count": 5,
     "metadata": {},
     "output_type": "execute_result"
    }
   ],
   "source": [
    "pd_user_ad_list.head()"
   ]
  },
  {
   "cell_type": "code",
   "execution_count": 6,
   "metadata": {
    "ExecuteTime": {
     "end_time": "2020-06-28T12:10:43.624537Z",
     "start_time": "2020-06-28T12:10:43.621439Z"
    }
   },
   "outputs": [
    {
     "data": {
      "text/plain": [
       "(1900000, 9)"
      ]
     },
     "execution_count": 6,
     "metadata": {},
     "output_type": "execute_result"
    }
   ],
   "source": [
    "pd_user_ad_list.shape"
   ]
  },
  {
   "cell_type": "markdown",
   "metadata": {},
   "source": [
    "### 标签信息"
   ]
  },
  {
   "cell_type": "code",
   "execution_count": 7,
   "metadata": {
    "ExecuteTime": {
     "end_time": "2020-06-28T12:10:47.512455Z",
     "start_time": "2020-06-28T12:10:47.365023Z"
    }
   },
   "outputs": [],
   "source": [
    "df_user_label = pd.read_csv(\"./data/train_preliminary/user.csv\")"
   ]
  },
  {
   "cell_type": "code",
   "execution_count": 8,
   "metadata": {
    "ExecuteTime": {
     "end_time": "2020-06-28T12:10:48.248864Z",
     "start_time": "2020-06-28T12:10:48.245744Z"
    },
    "scrolled": true
   },
   "outputs": [
    {
     "data": {
      "text/plain": [
       "(900000, 3)"
      ]
     },
     "execution_count": 8,
     "metadata": {},
     "output_type": "execute_result"
    }
   ],
   "source": [
    "df_user_label.shape"
   ]
  },
  {
   "cell_type": "markdown",
   "metadata": {},
   "source": [
    "#### 分离出测试集用户id"
   ]
  },
  {
   "cell_type": "code",
   "execution_count": 9,
   "metadata": {
    "ExecuteTime": {
     "end_time": "2020-06-28T12:10:53.992316Z",
     "start_time": "2020-06-28T12:10:53.414171Z"
    }
   },
   "outputs": [],
   "source": [
    "user_ids_test = set(pd_user_ad_list['user_id'].unique())-set(df_user_label['user_id'].values)"
   ]
  },
  {
   "cell_type": "code",
   "execution_count": 10,
   "metadata": {
    "ExecuteTime": {
     "end_time": "2020-06-28T12:10:55.460450Z",
     "start_time": "2020-06-28T12:10:55.456560Z"
    }
   },
   "outputs": [
    {
     "data": {
      "text/plain": [
       "1000000"
      ]
     },
     "execution_count": 10,
     "metadata": {},
     "output_type": "execute_result"
    }
   ],
   "source": [
    "len(user_ids_test)"
   ]
  },
  {
   "cell_type": "code",
   "execution_count": 11,
   "metadata": {
    "ExecuteTime": {
     "end_time": "2020-06-28T12:10:57.155371Z",
     "start_time": "2020-06-28T12:10:56.887137Z"
    }
   },
   "outputs": [],
   "source": [
    "df_test_user_id = pd.DataFrame(data=user_ids_test,columns=['user_id'])"
   ]
  },
  {
   "cell_type": "code",
   "execution_count": 12,
   "metadata": {
    "ExecuteTime": {
     "end_time": "2020-06-28T12:10:58.656868Z",
     "start_time": "2020-06-28T12:10:58.653807Z"
    }
   },
   "outputs": [
    {
     "data": {
      "text/plain": [
       "(1000000, 1)"
      ]
     },
     "execution_count": 12,
     "metadata": {},
     "output_type": "execute_result"
    }
   ],
   "source": [
    "df_test_user_id.shape"
   ]
  },
  {
   "cell_type": "code",
   "execution_count": 13,
   "metadata": {
    "ExecuteTime": {
     "end_time": "2020-06-28T12:11:14.767821Z",
     "start_time": "2020-06-28T12:11:14.762077Z"
    }
   },
   "outputs": [
    {
     "data": {
      "text/plain": [
       "(3000001, 4000000)"
      ]
     },
     "execution_count": 13,
     "metadata": {},
     "output_type": "execute_result"
    }
   ],
   "source": [
    "df_test_user_id['user_id'].min(),df_test_user_id['user_id'].max()"
   ]
  },
  {
   "cell_type": "code",
   "execution_count": 14,
   "metadata": {
    "ExecuteTime": {
     "end_time": "2020-06-28T12:11:16.304970Z",
     "start_time": "2020-06-28T12:11:16.297961Z"
    }
   },
   "outputs": [
    {
     "data": {
      "text/plain": [
       "(1, 900000)"
      ]
     },
     "execution_count": 14,
     "metadata": {},
     "output_type": "execute_result"
    }
   ],
   "source": [
    "df_user_label['user_id'].min(),df_user_label['user_id'].max()"
   ]
  },
  {
   "cell_type": "markdown",
   "metadata": {},
   "source": [
    "## 构造tfidf向量"
   ]
  },
  {
   "cell_type": "code",
   "execution_count": 19,
   "metadata": {
    "ExecuteTime": {
     "end_time": "2020-06-28T12:15:06.930753Z",
     "start_time": "2020-06-28T12:15:06.925448Z"
    }
   },
   "outputs": [],
   "source": [
    "from sklearn.feature_extraction.text import TfidfVectorizer, CountVectorizer"
   ]
  },
  {
   "cell_type": "code",
   "execution_count": 18,
   "metadata": {
    "ExecuteTime": {
     "end_time": "2020-06-28T12:14:41.619313Z",
     "start_time": "2020-06-28T12:14:41.616236Z"
    },
    "scrolled": false
   },
   "outputs": [],
   "source": [
    "#tf换成CountVectorizer即可\n",
    "tf_idf_vectorizer_cr = TfidfVectorizer(min_df=30)\n",
    "tf_idf_vectorizer_ad = TfidfVectorizer(min_df=30)\n",
    "tf_idf_vectorizer_pr = TfidfVectorizer(min_df=30)\n",
    "tf_idf_vectorizer_pc = TfidfVectorizer(min_df=30)\n",
    "tf_idf_vectorizer_av = TfidfVectorizer(min_df=30)\n",
    "tf_idf_vectorizer_in = TfidfVectorizer(min_df=30)"
   ]
  },
  {
   "cell_type": "code",
   "execution_count": 20,
   "metadata": {
    "ExecuteTime": {
     "end_time": "2020-06-28T12:20:53.820884Z",
     "start_time": "2020-06-28T12:15:39.618647Z"
    }
   },
   "outputs": [
    {
     "data": {
      "text/plain": [
       "TfidfVectorizer(analyzer='word', binary=False, decode_error='strict',\n",
       "                dtype=<class 'numpy.float64'>, encoding='utf-8',\n",
       "                input='content', lowercase=True, max_df=1.0, max_features=None,\n",
       "                min_df=30, ngram_range=(1, 1), norm='l2', preprocessor=None,\n",
       "                smooth_idf=True, stop_words=None, strip_accents=None,\n",
       "                sublinear_tf=False, token_pattern='(?u)\\\\b\\\\w\\\\w+\\\\b',\n",
       "                tokenizer=None, use_idf=True, vocabulary=None)"
      ]
     },
     "execution_count": 20,
     "metadata": {},
     "output_type": "execute_result"
    }
   ],
   "source": [
    "tf_idf_vectorizer_cr.fit(pd_user_ad_list['creative_id'].values)\n",
    "tf_idf_vectorizer_ad.fit(pd_user_ad_list['ad_id'].values)\n",
    "tf_idf_vectorizer_pr.fit(pd_user_ad_list['product_id'].values)\n",
    "tf_idf_vectorizer_pc.fit(pd_user_ad_list['product_category'].values)\n",
    "tf_idf_vectorizer_av.fit(pd_user_ad_list['advertiser_id'].values)\n",
    "tf_idf_vectorizer_in.fit(pd_user_ad_list['industry'].values)"
   ]
  },
  {
   "cell_type": "code",
   "execution_count": 21,
   "metadata": {
    "ExecuteTime": {
     "end_time": "2020-06-28T12:22:45.432416Z",
     "start_time": "2020-06-28T12:22:45.427433Z"
    }
   },
   "outputs": [
    {
     "data": {
      "text/plain": [
       "(222544, 222625, 9934, 9, 23793, 286)"
      ]
     },
     "execution_count": 21,
     "metadata": {},
     "output_type": "execute_result"
    }
   ],
   "source": [
    "len(tf_idf_vectorizer_cr.vocabulary_.keys()),len(tf_idf_vectorizer_ad.vocabulary_.keys()),len(tf_idf_vectorizer_pr.vocabulary_.keys()),len(tf_idf_vectorizer_pc.vocabulary_.keys()),len(tf_idf_vectorizer_av.vocabulary_.keys()),len(tf_idf_vectorizer_in.vocabulary_.keys())"
   ]
  },
  {
   "cell_type": "markdown",
   "metadata": {},
   "source": [
    "## 构造样本"
   ]
  },
  {
   "cell_type": "code",
   "execution_count": 22,
   "metadata": {
    "ExecuteTime": {
     "end_time": "2020-06-28T12:22:53.637931Z",
     "start_time": "2020-06-28T12:22:52.673921Z"
    }
   },
   "outputs": [],
   "source": [
    "pd_user_ad_list_train = pd.merge(pd_user_ad_list,df_user_label,on='user_id')"
   ]
  },
  {
   "cell_type": "code",
   "execution_count": 23,
   "metadata": {
    "ExecuteTime": {
     "end_time": "2020-06-28T12:22:56.154549Z",
     "start_time": "2020-06-28T12:22:55.148403Z"
    }
   },
   "outputs": [],
   "source": [
    "pd_user_ad_list_test = pd.merge(pd_user_ad_list,df_test_user_id,on='user_id')"
   ]
  },
  {
   "cell_type": "code",
   "execution_count": 24,
   "metadata": {
    "ExecuteTime": {
     "end_time": "2020-06-28T12:22:57.664519Z",
     "start_time": "2020-06-28T12:22:57.661386Z"
    }
   },
   "outputs": [
    {
     "data": {
      "text/plain": [
       "((900000, 11), (1000000, 9))"
      ]
     },
     "execution_count": 24,
     "metadata": {},
     "output_type": "execute_result"
    }
   ],
   "source": [
    "pd_user_ad_list_train.shape,pd_user_ad_list_test.shape"
   ]
  },
  {
   "cell_type": "code",
   "execution_count": 25,
   "metadata": {
    "ExecuteTime": {
     "end_time": "2020-06-28T12:22:59.814903Z",
     "start_time": "2020-06-28T12:22:59.193593Z"
    }
   },
   "outputs": [
    {
     "data": {
      "text/plain": [
       "0"
      ]
     },
     "execution_count": 25,
     "metadata": {},
     "output_type": "execute_result"
    }
   ],
   "source": [
    "gc.collect()"
   ]
  },
  {
   "cell_type": "code",
   "execution_count": 26,
   "metadata": {
    "ExecuteTime": {
     "end_time": "2020-06-28T12:23:02.326110Z",
     "start_time": "2020-06-28T12:23:02.323850Z"
    }
   },
   "outputs": [],
   "source": [
    "from scipy import sparse"
   ]
  },
  {
   "cell_type": "code",
   "execution_count": 27,
   "metadata": {
    "ExecuteTime": {
     "end_time": "2020-06-28T12:25:30.979927Z",
     "start_time": "2020-06-28T12:23:16.102810Z"
    }
   },
   "outputs": [],
   "source": [
    "tf_idf_train_cr = tf_idf_vectorizer_cr.transform(pd_user_ad_list_train['creative_id'].values)\n",
    "tf_idf_train_ad = tf_idf_vectorizer_ad.transform(pd_user_ad_list_train['ad_id'].values)\n",
    "tf_idf_train_pr = tf_idf_vectorizer_pr.transform(pd_user_ad_list_train['product_id'].values)\n",
    "tf_idf_train_pc = tf_idf_vectorizer_pc.transform(pd_user_ad_list_train['product_category'].values)\n",
    "tf_idf_train_av = tf_idf_vectorizer_av.transform(pd_user_ad_list_train['advertiser_id'].values)\n",
    "tf_idf_train_in = tf_idf_vectorizer_in.transform(pd_user_ad_list_train['industry'].values)"
   ]
  },
  {
   "cell_type": "code",
   "execution_count": 28,
   "metadata": {
    "ExecuteTime": {
     "end_time": "2020-06-28T12:25:43.208584Z",
     "start_time": "2020-06-28T12:25:37.465776Z"
    }
   },
   "outputs": [],
   "source": [
    "tf_idf_train = sparse.hstack((tf_idf_train_cr,tf_idf_train_pr,tf_idf_train_pc,tf_idf_train_av,tf_idf_train_in)).tocsr()"
   ]
  },
  {
   "cell_type": "code",
   "execution_count": 29,
   "metadata": {
    "ExecuteTime": {
     "end_time": "2020-06-28T12:25:52.908227Z",
     "start_time": "2020-06-28T12:25:52.904962Z"
    }
   },
   "outputs": [
    {
     "data": {
      "text/plain": [
       "<900000x256566 sparse matrix of type '<class 'numpy.float64'>'\n",
       "\twith 64375991 stored elements in Compressed Sparse Row format>"
      ]
     },
     "execution_count": 29,
     "metadata": {},
     "output_type": "execute_result"
    }
   ],
   "source": [
    "tf_idf_train"
   ]
  },
  {
   "cell_type": "code",
   "execution_count": 30,
   "metadata": {
    "ExecuteTime": {
     "end_time": "2020-06-28T12:28:28.208688Z",
     "start_time": "2020-06-28T12:26:02.710830Z"
    }
   },
   "outputs": [],
   "source": [
    "tf_idf_test_cr = tf_idf_vectorizer_cr.transform(pd_user_ad_list_test['creative_id'].values)\n",
    "tf_idf_test_ad = tf_idf_vectorizer_ad.transform(pd_user_ad_list_test['ad_id'].values)\n",
    "tf_idf_test_pr = tf_idf_vectorizer_pr.transform(pd_user_ad_list_test['product_id'].values)\n",
    "tf_idf_test_pc = tf_idf_vectorizer_pc.transform(pd_user_ad_list_test['product_category'].values)\n",
    "tf_idf_test_av = tf_idf_vectorizer_av.transform(pd_user_ad_list_test['advertiser_id'].values)\n",
    "tf_idf_test_in = tf_idf_vectorizer_in.transform(pd_user_ad_list_test['industry'].values)"
   ]
  },
  {
   "cell_type": "code",
   "execution_count": 31,
   "metadata": {
    "ExecuteTime": {
     "end_time": "2020-06-28T12:28:50.356775Z",
     "start_time": "2020-06-28T12:28:43.983762Z"
    }
   },
   "outputs": [],
   "source": [
    "tf_idf_test = sparse.hstack((tf_idf_test_cr,tf_idf_test_pr,tf_idf_test_pc,tf_idf_test_av,tf_idf_test_in)).tocsr()"
   ]
  },
  {
   "cell_type": "code",
   "execution_count": 32,
   "metadata": {
    "ExecuteTime": {
     "end_time": "2020-06-28T12:29:09.263639Z",
     "start_time": "2020-06-28T12:29:09.260543Z"
    },
    "scrolled": true
   },
   "outputs": [
    {
     "data": {
      "text/plain": [
       "<1000000x256566 sparse matrix of type '<class 'numpy.float64'>'\n",
       "\twith 71544646 stored elements in Compressed Sparse Row format>"
      ]
     },
     "execution_count": 32,
     "metadata": {},
     "output_type": "execute_result"
    }
   ],
   "source": [
    "tf_idf_test"
   ]
  },
  {
   "cell_type": "markdown",
   "metadata": {},
   "source": [
    "## 建模"
   ]
  },
  {
   "cell_type": "code",
   "execution_count": 33,
   "metadata": {
    "ExecuteTime": {
     "end_time": "2020-06-28T12:29:35.527678Z",
     "start_time": "2020-06-28T12:29:35.471099Z"
    }
   },
   "outputs": [],
   "source": [
    "from sklearn.model_selection import train_test_split\n",
    "from lightgbm.sklearn import LGBMClassifier\n",
    "from sklearn.metrics import accuracy_score"
   ]
  },
  {
   "cell_type": "code",
   "execution_count": 39,
   "metadata": {
    "ExecuteTime": {
     "end_time": "2020-06-28T12:54:25.800095Z",
     "start_time": "2020-06-28T12:54:25.797789Z"
    }
   },
   "outputs": [],
   "source": [
    "from sklearn.linear_model import LogisticRegression"
   ]
  },
  {
   "cell_type": "code",
   "execution_count": 40,
   "metadata": {
    "ExecuteTime": {
     "end_time": "2020-06-28T12:54:45.890330Z",
     "start_time": "2020-06-28T12:54:45.886837Z"
    }
   },
   "outputs": [],
   "source": [
    "from sklearn.naive_bayes import GaussianNB,MultinomialNB,BernoulliNB"
   ]
  },
  {
   "cell_type": "code",
   "execution_count": 49,
   "metadata": {
    "ExecuteTime": {
     "end_time": "2020-06-28T13:01:15.584592Z",
     "start_time": "2020-06-28T13:01:15.581727Z"
    }
   },
   "outputs": [],
   "source": [
    "from lightgbm.sklearn import LGBMClassifier"
   ]
  },
  {
   "cell_type": "markdown",
   "metadata": {},
   "source": [
    "### 性别"
   ]
  },
  {
   "cell_type": "code",
   "execution_count": 35,
   "metadata": {
    "ExecuteTime": {
     "end_time": "2020-06-28T12:40:53.019240Z",
     "start_time": "2020-06-28T12:40:53.014336Z"
    }
   },
   "outputs": [],
   "source": [
    "def model_test(clf,df_data,tf_idf_feature,label_name,test_size=0.3,refit=False):\n",
    "    '''\n",
    "    建模测试\n",
    "    Parameters\n",
    "    ----------\n",
    "    clf:sklearn model\n",
    "    df_data：pandas.DataFrame,训练数据源\n",
    "    tf_idf_feature：sparse matrix\n",
    "    label_name：str,标签列名\n",
    "    test_size：验证集比例\n",
    "    refit：boolean,测试完是否refit\n",
    "    Returns\n",
    "    ----------\n",
    "    clf:sklearn model\n",
    "    '''\n",
    "    X_train, X_test, y_train, y_test = train_test_split(tf_idf_feature,df_data[label_name],test_size=test_size,random_state=0)\n",
    "    print(\"数据集划分完毕\")\n",
    "    clf.fit(X_train,y_train)\n",
    "    print(\"模型训练完毕\")\n",
    "    y_test_predict = clf.predict(X_test)\n",
    "    y_train_predict = clf.predict(X_train)\n",
    "    print(\"训练集：%f,测试集：%f\" % (accuracy_score(y_train,y_train_predict),accuracy_score(y_test,y_test_predict)))\n",
    "    if refit is True:\n",
    "        clf.fit(tf_idf_feature,df_data[label_name])\n",
    "    return clf"
   ]
  },
  {
   "cell_type": "markdown",
   "metadata": {},
   "source": [
    "#### lr"
   ]
  },
  {
   "cell_type": "markdown",
   "metadata": {},
   "source": [
    "tf-idf['creative_id']:min_df=30"
   ]
  },
  {
   "cell_type": "code",
   "execution_count": 36,
   "metadata": {
    "ExecuteTime": {
     "end_time": "2020-06-28T12:41:12.641742Z",
     "start_time": "2020-06-28T12:41:12.639523Z"
    }
   },
   "outputs": [],
   "source": [
    "clf_lr = LogisticRegression(max_iter=1000,random_state=0)"
   ]
  },
  {
   "cell_type": "code",
   "execution_count": 70,
   "metadata": {
    "ExecuteTime": {
     "end_time": "2020-05-23T04:33:15.562113Z",
     "start_time": "2020-05-23T04:32:16.061035Z"
    },
    "scrolled": true
   },
   "outputs": [
    {
     "name": "stdout",
     "output_type": "stream",
     "text": [
      "数据集划分完毕\n",
      "模型训练完毕\n",
      "训练集：0.932446,测试集：0.908770\n"
     ]
    }
   ],
   "source": [
    "clf_lr = model_test(clf_lr,pd_user_ad_list_train,tf_idf_train,label_name='gender',test_size=0.3)"
   ]
  },
  {
   "cell_type": "markdown",
   "metadata": {},
   "source": [
    "tf-idf['creative_id','product_id','product_category','advertiser_id','industry']：min_df=30"
   ]
  },
  {
   "cell_type": "code",
   "execution_count": 37,
   "metadata": {
    "ExecuteTime": {
     "end_time": "2020-06-28T12:46:00.965928Z",
     "start_time": "2020-06-28T12:41:47.711824Z"
    },
    "scrolled": true
   },
   "outputs": [
    {
     "name": "stdout",
     "output_type": "stream",
     "text": [
      "数据集划分完毕\n",
      "模型训练完毕\n",
      "训练集：0.944122,测试集：0.921567\n"
     ]
    }
   ],
   "source": [
    "clf_lr = model_test(clf_lr,pd_user_ad_list_train,tf_idf_train,label_name='gender',test_size=0.3)"
   ]
  },
  {
   "cell_type": "markdown",
   "metadata": {},
   "source": [
    "tf-idf:['creative_id','ad_id','product_id','product_category','advertiser_id','industry']:min_df=30，重复点击次数"
   ]
  },
  {
   "cell_type": "code",
   "execution_count": 267,
   "metadata": {
    "ExecuteTime": {
     "end_time": "2020-05-23T10:37:35.615595Z",
     "start_time": "2020-05-23T10:31:56.187871Z"
    },
    "scrolled": true
   },
   "outputs": [
    {
     "name": "stdout",
     "output_type": "stream",
     "text": [
      "数据集划分完毕\n",
      "模型训练完毕\n",
      "训练集：0.950727,测试集：0.920048\n"
     ]
    }
   ],
   "source": [
    "clf_lr = model_test(clf_lr,pd_user_ad_list_train,tf_idf_train,label_name='gender',test_size=0.3)"
   ]
  },
  {
   "cell_type": "markdown",
   "metadata": {},
   "source": [
    "tf-idf:['creative_id','product_id','product_category','advertiser_id','industry']:min_df=30，重复点击次数"
   ]
  },
  {
   "cell_type": "code",
   "execution_count": 272,
   "metadata": {
    "ExecuteTime": {
     "end_time": "2020-05-23T10:47:10.315601Z",
     "start_time": "2020-05-23T10:43:39.590525Z"
    },
    "scrolled": true
   },
   "outputs": [
    {
     "name": "stdout",
     "output_type": "stream",
     "text": [
      "数据集划分完毕\n",
      "模型训练完毕\n",
      "训练集：0.943244,测试集：0.920696\n"
     ]
    }
   ],
   "source": [
    "clf_lr = model_test(clf_lr,pd_user_ad_list_train,tf_idf_train,label_name='gender',test_size=0.3)"
   ]
  },
  {
   "cell_type": "markdown",
   "metadata": {},
   "source": [
    "refit"
   ]
  },
  {
   "cell_type": "code",
   "execution_count": 299,
   "metadata": {
    "ExecuteTime": {
     "end_time": "2020-05-23T12:49:46.532608Z",
     "start_time": "2020-05-23T12:49:46.529598Z"
    }
   },
   "outputs": [],
   "source": [
    "clf_lr_gender = LogisticRegression(max_iter=1000)"
   ]
  },
  {
   "cell_type": "code",
   "execution_count": 300,
   "metadata": {
    "ExecuteTime": {
     "end_time": "2020-05-23T12:56:03.749998Z",
     "start_time": "2020-05-23T12:50:04.432007Z"
    },
    "scrolled": true
   },
   "outputs": [
    {
     "data": {
      "text/plain": [
       "LogisticRegression(C=1.0, class_weight=None, dual=False, fit_intercept=True,\n",
       "                   intercept_scaling=1, l1_ratio=None, max_iter=1000,\n",
       "                   multi_class='auto', n_jobs=None, penalty='l2',\n",
       "                   random_state=None, solver='lbfgs', tol=0.0001, verbose=0,\n",
       "                   warm_start=False)"
      ]
     },
     "execution_count": 300,
     "metadata": {},
     "output_type": "execute_result"
    }
   ],
   "source": [
    "clf_lr_gender.fit(tf_idf_train,pd_user_ad_list_train['gender'])"
   ]
  },
  {
   "cell_type": "markdown",
   "metadata": {},
   "source": [
    "#### 多项式贝叶斯"
   ]
  },
  {
   "cell_type": "code",
   "execution_count": 56,
   "metadata": {
    "ExecuteTime": {
     "end_time": "2020-05-23T04:09:21.637198Z",
     "start_time": "2020-05-23T04:09:21.632997Z"
    }
   },
   "outputs": [],
   "source": [
    "clf_mnb= MultinomialNB()"
   ]
  },
  {
   "cell_type": "markdown",
   "metadata": {},
   "source": [
    "tf['creative_id']:min_df=1"
   ]
  },
  {
   "cell_type": "code",
   "execution_count": 85,
   "metadata": {
    "ExecuteTime": {
     "end_time": "2020-05-23T05:18:48.965847Z",
     "start_time": "2020-05-23T05:18:47.416969Z"
    },
    "scrolled": true
   },
   "outputs": [
    {
     "name": "stdout",
     "output_type": "stream",
     "text": [
      "数据集划分完毕\n",
      "模型训练完毕\n",
      "训练集：0.886489,测试集：0.857737\n"
     ]
    }
   ],
   "source": [
    "clf_mnb = model_test(clf_mnb,pd_user_ad_list_train,tf_idf_train,label_name='gender',test_size=0.3)"
   ]
  },
  {
   "cell_type": "markdown",
   "metadata": {},
   "source": [
    "tf['creative_id']:min_df=10"
   ]
  },
  {
   "cell_type": "code",
   "execution_count": 90,
   "metadata": {
    "ExecuteTime": {
     "end_time": "2020-05-23T05:31:45.931249Z",
     "start_time": "2020-05-23T05:31:44.843099Z"
    },
    "scrolled": true
   },
   "outputs": [
    {
     "name": "stdout",
     "output_type": "stream",
     "text": [
      "数据集划分完毕\n",
      "模型训练完毕\n",
      "训练集：0.923608,测试集：0.906515\n"
     ]
    }
   ],
   "source": [
    "clf_mnb = model_test(clf_mnb,pd_user_ad_list_train,tf_idf_train,label_name='gender',test_size=0.3)"
   ]
  },
  {
   "cell_type": "markdown",
   "metadata": {},
   "source": [
    "tf['creative_id']:min_df=30"
   ]
  },
  {
   "cell_type": "code",
   "execution_count": 108,
   "metadata": {
    "ExecuteTime": {
     "end_time": "2020-05-23T05:50:17.554454Z",
     "start_time": "2020-05-23T05:50:16.635192Z"
    },
    "scrolled": false
   },
   "outputs": [
    {
     "name": "stdout",
     "output_type": "stream",
     "text": [
      "数据集划分完毕\n",
      "模型训练完毕\n",
      "训练集：0.917257,测试集：0.908052\n"
     ]
    }
   ],
   "source": [
    "clf_mnb = model_test(clf_mnb,pd_user_ad_list_train,tf_train,label_name='gender',test_size=0.3)"
   ]
  },
  {
   "cell_type": "markdown",
   "metadata": {},
   "source": [
    "tf['creative_id']:min_df=100"
   ]
  },
  {
   "cell_type": "code",
   "execution_count": 97,
   "metadata": {
    "ExecuteTime": {
     "end_time": "2020-05-23T05:35:55.577689Z",
     "start_time": "2020-05-23T05:35:54.795063Z"
    },
    "scrolled": true
   },
   "outputs": [
    {
     "name": "stdout",
     "output_type": "stream",
     "text": [
      "数据集划分完毕\n",
      "模型训练完毕\n",
      "训练集：0.911303,测试集：0.905263\n"
     ]
    }
   ],
   "source": [
    "clf_mnb = model_test(clf_mnb,pd_user_ad_list_train,tf_idf_train,label_name='gender',test_size=0.3)"
   ]
  },
  {
   "cell_type": "markdown",
   "metadata": {},
   "source": [
    "tf-idf['creative_id']:min_df=30"
   ]
  },
  {
   "cell_type": "code",
   "execution_count": 57,
   "metadata": {
    "ExecuteTime": {
     "end_time": "2020-05-23T04:09:38.814418Z",
     "start_time": "2020-05-23T04:09:38.029498Z"
    },
    "scrolled": true
   },
   "outputs": [
    {
     "name": "stdout",
     "output_type": "stream",
     "text": [
      "数据集划分完毕\n",
      "模型训练完毕\n",
      "训练集：0.920537,测试集：0.909656\n"
     ]
    }
   ],
   "source": [
    "clf_mnb = model_test(clf_mnb,pd_user_ad_list_train,tf_idf_train,label_name='gender',test_size=0.3)"
   ]
  },
  {
   "cell_type": "markdown",
   "metadata": {},
   "source": [
    "tf-idf['creative_id']:min_df=30,加上点击次数"
   ]
  },
  {
   "cell_type": "code",
   "execution_count": 262,
   "metadata": {
    "ExecuteTime": {
     "end_time": "2020-05-23T10:28:28.707070Z",
     "start_time": "2020-05-23T10:28:27.910180Z"
    }
   },
   "outputs": [
    {
     "name": "stdout",
     "output_type": "stream",
     "text": [
      "数据集划分完毕\n",
      "模型训练完毕\n",
      "训练集：0.919586,测试集：0.908252\n"
     ]
    }
   ],
   "source": [
    "clf_mnb = model_test(clf_mnb,pd_user_ad_list_train,tf_idf_train_cr,label_name='gender',test_size=0.3)"
   ]
  },
  {
   "cell_type": "markdown",
   "metadata": {},
   "source": [
    "tf-idf['creative_id','product_id','product_category','advertiser_id','industry']:min_df=30"
   ]
  },
  {
   "cell_type": "code",
   "execution_count": 230,
   "metadata": {
    "ExecuteTime": {
     "end_time": "2020-05-23T08:08:24.378598Z",
     "start_time": "2020-05-23T08:08:22.295434Z"
    },
    "scrolled": true
   },
   "outputs": [
    {
     "name": "stdout",
     "output_type": "stream",
     "text": [
      "数据集划分完毕\n",
      "模型训练完毕\n",
      "训练集：0.906313,测试集：0.900652\n"
     ]
    }
   ],
   "source": [
    "clf_mnb = model_test(clf_mnb,pd_user_ad_list_train,tf_idf_train,label_name='gender',test_size=0.3)"
   ]
  },
  {
   "cell_type": "markdown",
   "metadata": {},
   "source": [
    "tf-idf['creative_id','ad_id','product_id','product_category','advertiser_id','industry']:min_df=30，加上点击次数"
   ]
  },
  {
   "cell_type": "code",
   "execution_count": 263,
   "metadata": {
    "ExecuteTime": {
     "end_time": "2020-05-23T10:29:18.836565Z",
     "start_time": "2020-05-23T10:29:16.503278Z"
    }
   },
   "outputs": [
    {
     "name": "stdout",
     "output_type": "stream",
     "text": [
      "数据集划分完毕\n",
      "模型训练完毕\n",
      "训练集：0.912256,测试集：0.905644\n"
     ]
    }
   ],
   "source": [
    "clf_mnb = model_test(clf_mnb,pd_user_ad_list_train,tf_idf_train,label_name='gender',test_size=0.3)"
   ]
  },
  {
   "cell_type": "markdown",
   "metadata": {},
   "source": [
    "#### 伯努利贝叶斯"
   ]
  },
  {
   "cell_type": "markdown",
   "metadata": {},
   "source": [
    "tf-idf['creative_id']：min_df=30"
   ]
  },
  {
   "cell_type": "code",
   "execution_count": 41,
   "metadata": {
    "ExecuteTime": {
     "end_time": "2020-06-28T12:55:04.866644Z",
     "start_time": "2020-06-28T12:55:04.864517Z"
    }
   },
   "outputs": [],
   "source": [
    "clf_bnb = BernoulliNB()"
   ]
  },
  {
   "cell_type": "code",
   "execution_count": 109,
   "metadata": {
    "ExecuteTime": {
     "end_time": "2020-05-23T05:52:59.331592Z",
     "start_time": "2020-05-23T05:52:57.859188Z"
    },
    "scrolled": false
   },
   "outputs": [
    {
     "name": "stdout",
     "output_type": "stream",
     "text": [
      "数据集划分完毕\n",
      "模型训练完毕\n",
      "训练集：0.919308,测试集：0.909885\n"
     ]
    }
   ],
   "source": [
    "clf_bnb = model_test(clf_bnb,pd_user_ad_list_train,tf_train,label_name='gender',test_size=0.3)"
   ]
  },
  {
   "cell_type": "markdown",
   "metadata": {},
   "source": [
    "tf-idf['creative_id']：min_df=1"
   ]
  },
  {
   "cell_type": "code",
   "execution_count": 84,
   "metadata": {
    "ExecuteTime": {
     "end_time": "2020-05-23T05:18:13.298055Z",
     "start_time": "2020-05-23T05:18:10.316332Z"
    },
    "scrolled": false
   },
   "outputs": [
    {
     "name": "stdout",
     "output_type": "stream",
     "text": [
      "数据集划分完毕\n",
      "模型训练完毕\n",
      "训练集：0.926208,测试集：0.895704\n"
     ]
    }
   ],
   "source": [
    "clf_bnb = model_test(clf_bnb,pd_user_ad_list_train,tf_idf_train,label_name='gender',test_size=0.3)"
   ]
  },
  {
   "cell_type": "markdown",
   "metadata": {},
   "source": [
    "tf-idf['creative_id','product_id','product_category','advertiser_id','industry']:min_df=30"
   ]
  },
  {
   "cell_type": "code",
   "execution_count": 231,
   "metadata": {
    "ExecuteTime": {
     "end_time": "2020-05-23T08:09:33.999121Z",
     "start_time": "2020-05-23T08:09:30.677161Z"
    },
    "scrolled": true
   },
   "outputs": [
    {
     "name": "stdout",
     "output_type": "stream",
     "text": [
      "数据集划分完毕\n",
      "模型训练完毕\n",
      "训练集：0.887865,测试集：0.882570\n"
     ]
    }
   ],
   "source": [
    "clf_bnb = model_test(clf_bnb,pd_user_ad_list_train,tf_idf_train,label_name='gender',test_size=0.3)"
   ]
  },
  {
   "cell_type": "markdown",
   "metadata": {},
   "source": [
    "#### LGBM"
   ]
  },
  {
   "cell_type": "code",
   "execution_count": 314,
   "metadata": {
    "ExecuteTime": {
     "end_time": "2020-05-23T13:59:26.996198Z",
     "start_time": "2020-05-23T13:59:26.991986Z"
    }
   },
   "outputs": [],
   "source": [
    "lgbm_gender = LGBMClassifier(n_estimators=300,learning_rate=0.1,max_depth=8,num_leaves=127,subsample=0.8,colsample_bytree=0.8,min_split_gain=3,random_state=0,reg_alpha=0.05)"
   ]
  },
  {
   "cell_type": "code",
   "execution_count": null,
   "metadata": {},
   "outputs": [],
   "source": [
    "lgbm_gender.fit()"
   ]
  },
  {
   "cell_type": "code",
   "execution_count": null,
   "metadata": {},
   "outputs": [],
   "source": [
    "lgbm_gender = LGBMClassifier()"
   ]
  },
  {
   "cell_type": "code",
   "execution_count": 315,
   "metadata": {
    "ExecuteTime": {
     "end_time": "2020-05-23T14:01:04.480289Z",
     "start_time": "2020-05-23T13:59:46.585568Z"
    },
    "scrolled": false
   },
   "outputs": [
    {
     "name": "stdout",
     "output_type": "stream",
     "text": [
      "数据集划分完毕\n",
      "模型训练完毕\n",
      "训练集：0.798248,测试集：0.795911\n"
     ]
    }
   ],
   "source": [
    "lgbm_gender = model_test(lgbm_gender,pd_user_ad_list_train,tf_idf_train,label_name='gender',test_size=0.3)"
   ]
  },
  {
   "cell_type": "markdown",
   "metadata": {},
   "source": [
    "### 年龄"
   ]
  },
  {
   "cell_type": "markdown",
   "metadata": {},
   "source": [
    "#### 多项式贝叶斯"
   ]
  },
  {
   "cell_type": "markdown",
   "metadata": {},
   "source": [
    "tf-idf['creative_id']：min_df=30"
   ]
  },
  {
   "cell_type": "code",
   "execution_count": 59,
   "metadata": {
    "ExecuteTime": {
     "end_time": "2020-05-23T04:24:53.420055Z",
     "start_time": "2020-05-23T04:24:51.694271Z"
    },
    "scrolled": false
   },
   "outputs": [
    {
     "name": "stdout",
     "output_type": "stream",
     "text": [
      "数据集划分完毕\n",
      "模型训练完毕\n",
      "训练集：0.506217,测试集：0.357393\n"
     ]
    }
   ],
   "source": [
    "clf_mnb = model_test(clf_mnb,pd_user_ad_list_train,tf_idf_train,label_name='age',test_size=0.3)"
   ]
  },
  {
   "cell_type": "markdown",
   "metadata": {},
   "source": [
    "#### 伯努利贝叶斯"
   ]
  },
  {
   "cell_type": "markdown",
   "metadata": {},
   "source": [
    "tf-idf['creative_id']：min_df=30"
   ]
  },
  {
   "cell_type": "code",
   "execution_count": 72,
   "metadata": {
    "ExecuteTime": {
     "end_time": "2020-05-23T04:41:12.181661Z",
     "start_time": "2020-05-23T04:41:09.763946Z"
    },
    "scrolled": true
   },
   "outputs": [
    {
     "name": "stdout",
     "output_type": "stream",
     "text": [
      "数据集划分完毕\n",
      "模型训练完毕\n",
      "训练集：0.547689,测试集：0.368556\n"
     ]
    }
   ],
   "source": [
    "clf_bnb = model_test(clf_bnb,pd_user_ad_list_train,tf_idf_train,label_name='age',test_size=0.3)"
   ]
  },
  {
   "cell_type": "markdown",
   "metadata": {},
   "source": [
    "#### lr"
   ]
  },
  {
   "cell_type": "markdown",
   "metadata": {},
   "source": [
    "tf-idf['creative_id']：min_df=30"
   ]
  },
  {
   "cell_type": "code",
   "execution_count": 238,
   "metadata": {
    "ExecuteTime": {
     "end_time": "2020-05-23T08:24:22.382209Z",
     "start_time": "2020-05-23T08:24:22.379259Z"
    }
   },
   "outputs": [],
   "source": [
    "clf_lr = LogisticRegression(max_iter=1000)"
   ]
  },
  {
   "cell_type": "code",
   "execution_count": 76,
   "metadata": {
    "ExecuteTime": {
     "end_time": "2020-05-23T05:03:02.757721Z",
     "start_time": "2020-05-23T04:49:25.615819Z"
    },
    "scrolled": false
   },
   "outputs": [
    {
     "name": "stdout",
     "output_type": "stream",
     "text": [
      "数据集划分完毕\n"
     ]
    },
    {
     "name": "stderr",
     "output_type": "stream",
     "text": [
      "/opt/app/conda/lib/python3.6/site-packages/sklearn/linear_model/_logistic.py:940: ConvergenceWarning: lbfgs failed to converge (status=1):\n",
      "STOP: TOTAL NO. of ITERATIONS REACHED LIMIT.\n",
      "\n",
      "Increase the number of iterations (max_iter) or scale the data as shown in:\n",
      "    https://scikit-learn.org/stable/modules/preprocessing.html\n",
      "Please also refer to the documentation for alternative solver options:\n",
      "    https://scikit-learn.org/stable/modules/linear_model.html#logistic-regression\n",
      "  extra_warning_msg=_LOGISTIC_SOLVER_CONVERGENCE_MSG)\n"
     ]
    },
    {
     "name": "stdout",
     "output_type": "stream",
     "text": [
      "模型训练完毕\n",
      "训练集：0.622743,测试集：0.386215\n"
     ]
    }
   ],
   "source": [
    "clf_lr = model_test(clf_lr,pd_user_ad_list_train,tf_idf_train,label_name='age',test_size=0.3)"
   ]
  },
  {
   "cell_type": "markdown",
   "metadata": {},
   "source": [
    "tf-idf:['creative_id','product_id','product_category','advertiser_id','industry']:min_df=30"
   ]
  },
  {
   "cell_type": "code",
   "execution_count": 239,
   "metadata": {
    "ExecuteTime": {
     "end_time": "2020-05-23T09:11:35.460898Z",
     "start_time": "2020-05-23T08:24:53.749790Z"
    },
    "scrolled": false
   },
   "outputs": [
    {
     "name": "stdout",
     "output_type": "stream",
     "text": [
      "数据集划分完毕\n"
     ]
    },
    {
     "name": "stderr",
     "output_type": "stream",
     "text": [
      "/opt/app/conda/lib/python3.6/site-packages/sklearn/linear_model/_logistic.py:940: ConvergenceWarning: lbfgs failed to converge (status=1):\n",
      "STOP: TOTAL NO. of ITERATIONS REACHED LIMIT.\n",
      "\n",
      "Increase the number of iterations (max_iter) or scale the data as shown in:\n",
      "    https://scikit-learn.org/stable/modules/preprocessing.html\n",
      "Please also refer to the documentation for alternative solver options:\n",
      "    https://scikit-learn.org/stable/modules/linear_model.html#logistic-regression\n",
      "  extra_warning_msg=_LOGISTIC_SOLVER_CONVERGENCE_MSG)\n"
     ]
    },
    {
     "name": "stdout",
     "output_type": "stream",
     "text": [
      "模型训练完毕\n",
      "训练集：0.673306,测试集：0.421833\n"
     ]
    }
   ],
   "source": [
    "clf_lr = model_test(clf_lr,pd_user_ad_list_train,tf_idf_train,label_name='age',test_size=0.3)"
   ]
  },
  {
   "cell_type": "code",
   "execution_count": 296,
   "metadata": {
    "ExecuteTime": {
     "end_time": "2020-05-23T11:45:17.771891Z",
     "start_time": "2020-05-23T11:45:17.768986Z"
    }
   },
   "outputs": [],
   "source": [
    "clf_lr_age = LogisticRegression(max_iter=1000)"
   ]
  },
  {
   "cell_type": "code",
   "execution_count": 298,
   "metadata": {
    "ExecuteTime": {
     "end_time": "2020-05-23T12:49:27.707767Z",
     "start_time": "2020-05-23T11:45:44.741619Z"
    },
    "scrolled": false
   },
   "outputs": [
    {
     "name": "stderr",
     "output_type": "stream",
     "text": [
      "/opt/app/conda/lib/python3.6/site-packages/sklearn/linear_model/_logistic.py:940: ConvergenceWarning: lbfgs failed to converge (status=1):\n",
      "STOP: TOTAL NO. of ITERATIONS REACHED LIMIT.\n",
      "\n",
      "Increase the number of iterations (max_iter) or scale the data as shown in:\n",
      "    https://scikit-learn.org/stable/modules/preprocessing.html\n",
      "Please also refer to the documentation for alternative solver options:\n",
      "    https://scikit-learn.org/stable/modules/linear_model.html#logistic-regression\n",
      "  extra_warning_msg=_LOGISTIC_SOLVER_CONVERGENCE_MSG)\n"
     ]
    },
    {
     "data": {
      "text/plain": [
       "LogisticRegression(C=1.0, class_weight=None, dual=False, fit_intercept=True,\n",
       "                   intercept_scaling=1, l1_ratio=None, max_iter=1000,\n",
       "                   multi_class='auto', n_jobs=None, penalty='l2',\n",
       "                   random_state=None, solver='lbfgs', tol=0.0001, verbose=0,\n",
       "                   warm_start=False)"
      ]
     },
     "execution_count": 298,
     "metadata": {},
     "output_type": "execute_result"
    }
   ],
   "source": [
    "clf_lr_age.fit(tf_idf_train,pd_user_ad_list_train['age'])"
   ]
  },
  {
   "cell_type": "markdown",
   "metadata": {},
   "source": [
    "### 保存模型"
   ]
  },
  {
   "cell_type": "code",
   "execution_count": 45,
   "metadata": {
    "ExecuteTime": {
     "end_time": "2020-06-28T12:59:00.318701Z",
     "start_time": "2020-06-28T12:59:00.314849Z"
    },
    "scrolled": true
   },
   "outputs": [
    {
     "name": "stderr",
     "output_type": "stream",
     "text": [
      "/opt/app/conda/lib/python3.6/site-packages/sklearn/externals/joblib/__init__.py:15: FutureWarning: sklearn.externals.joblib is deprecated in 0.21 and will be removed in 0.23. Please import this functionality directly from joblib, which can be installed with: pip install joblib. If this warning is raised when loading pickled models, you may need to re-serialize those models with scikit-learn 0.21+.\n",
      "  warnings.warn(msg, category=FutureWarning)\n"
     ]
    }
   ],
   "source": [
    "from sklearn.externals import joblib"
   ]
  },
  {
   "cell_type": "code",
   "execution_count": 394,
   "metadata": {
    "ExecuteTime": {
     "end_time": "2020-05-23T15:33:38.171924Z",
     "start_time": "2020-05-23T15:33:38.162096Z"
    }
   },
   "outputs": [
    {
     "data": {
      "text/plain": [
       "['./model/lr_gender_tfidf_noclicktimes.pkl']"
      ]
     },
     "execution_count": 394,
     "metadata": {},
     "output_type": "execute_result"
    }
   ],
   "source": [
    "joblib.dump(clf_lr_gender,'./model/lr_gender_tfidf_noclicktimes.pkl')"
   ]
  },
  {
   "cell_type": "code",
   "execution_count": 397,
   "metadata": {
    "ExecuteTime": {
     "end_time": "2020-05-23T15:34:39.830826Z",
     "start_time": "2020-05-23T15:34:39.796813Z"
    },
    "scrolled": true
   },
   "outputs": [
    {
     "data": {
      "text/plain": [
       "['./model/lr_age_tfidf_noclicktimes.pkl']"
      ]
     },
     "execution_count": 397,
     "metadata": {},
     "output_type": "execute_result"
    }
   ],
   "source": [
    "joblib.dump(clf_lr_age,'./model/lr_age_tfidf_noclicktimes.pkl')"
   ]
  },
  {
   "cell_type": "markdown",
   "metadata": {},
   "source": [
    "载入模型"
   ]
  },
  {
   "cell_type": "code",
   "execution_count": 46,
   "metadata": {
    "ExecuteTime": {
     "end_time": "2020-06-28T12:59:51.275763Z",
     "start_time": "2020-06-28T12:59:51.186359Z"
    }
   },
   "outputs": [],
   "source": [
    "clf_lr_gender = joblib.load(\"./model/lr_gender_tfidf_noclicktimes.pkl\")"
   ]
  },
  {
   "cell_type": "code",
   "execution_count": 47,
   "metadata": {
    "ExecuteTime": {
     "end_time": "2020-06-28T13:00:10.958219Z",
     "start_time": "2020-06-28T13:00:10.737071Z"
    }
   },
   "outputs": [],
   "source": [
    "train_result_gender = clf_lr_gender.predict(tf_idf_train)"
   ]
  },
  {
   "cell_type": "code",
   "execution_count": 48,
   "metadata": {
    "ExecuteTime": {
     "end_time": "2020-06-28T13:00:30.891836Z",
     "start_time": "2020-06-28T13:00:30.817331Z"
    }
   },
   "outputs": [
    {
     "data": {
      "text/plain": [
       "0.9426955555555555"
      ]
     },
     "execution_count": 48,
     "metadata": {},
     "output_type": "execute_result"
    }
   ],
   "source": [
    "accuracy_score(pd_user_ad_list_train['gender'],train_result_gender)"
   ]
  },
  {
   "cell_type": "markdown",
   "metadata": {},
   "source": [
    "### 测试集输出结果"
   ]
  },
  {
   "cell_type": "markdown",
   "metadata": {},
   "source": [
    "性别"
   ]
  },
  {
   "cell_type": "code",
   "execution_count": 392,
   "metadata": {
    "ExecuteTime": {
     "end_time": "2020-05-23T15:32:40.748424Z",
     "start_time": "2020-05-23T15:32:40.388369Z"
    }
   },
   "outputs": [],
   "source": [
    "train_result_gender = clf_lr_gender.predict(tf_idf_train)"
   ]
  },
  {
   "cell_type": "code",
   "execution_count": 393,
   "metadata": {
    "ExecuteTime": {
     "end_time": "2020-05-23T15:33:00.639130Z",
     "start_time": "2020-05-23T15:33:00.559928Z"
    }
   },
   "outputs": [
    {
     "data": {
      "text/plain": [
       "0.9426955555555555"
      ]
     },
     "execution_count": 393,
     "metadata": {},
     "output_type": "execute_result"
    }
   ],
   "source": [
    "accuracy_score(pd_user_ad_list_train['gender'],train_result_gender)"
   ]
  },
  {
   "cell_type": "code",
   "execution_count": 305,
   "metadata": {
    "ExecuteTime": {
     "end_time": "2020-05-23T13:27:01.040109Z",
     "start_time": "2020-05-23T13:27:00.565091Z"
    }
   },
   "outputs": [],
   "source": [
    "test_result_gender = clf_lr_gender.predict(tf_idf_test)"
   ]
  },
  {
   "cell_type": "code",
   "execution_count": 306,
   "metadata": {
    "ExecuteTime": {
     "end_time": "2020-05-23T13:29:15.080698Z",
     "start_time": "2020-05-23T13:29:15.072531Z"
    }
   },
   "outputs": [],
   "source": [
    "pd_user_ad_list_test['predicted_gender'] = test_result_gender"
   ]
  },
  {
   "cell_type": "markdown",
   "metadata": {},
   "source": [
    "年龄"
   ]
  },
  {
   "cell_type": "code",
   "execution_count": 395,
   "metadata": {
    "ExecuteTime": {
     "end_time": "2020-05-23T15:34:00.147623Z",
     "start_time": "2020-05-23T15:33:58.639274Z"
    }
   },
   "outputs": [],
   "source": [
    "train_result_age = clf_lr_age.predict(tf_idf_train)"
   ]
  },
  {
   "cell_type": "code",
   "execution_count": 396,
   "metadata": {
    "ExecuteTime": {
     "end_time": "2020-05-23T15:34:19.801329Z",
     "start_time": "2020-05-23T15:34:19.740119Z"
    },
    "scrolled": true
   },
   "outputs": [
    {
     "data": {
      "text/plain": [
       "0.6492277777777777"
      ]
     },
     "execution_count": 396,
     "metadata": {},
     "output_type": "execute_result"
    }
   ],
   "source": [
    "accuracy_score(pd_user_ad_list_train['age'],train_result_age)"
   ]
  },
  {
   "cell_type": "code",
   "execution_count": 307,
   "metadata": {
    "ExecuteTime": {
     "end_time": "2020-05-23T13:30:57.327469Z",
     "start_time": "2020-05-23T13:30:55.444124Z"
    }
   },
   "outputs": [],
   "source": [
    "test_result_age = clf_lr_age.predict(tf_idf_test)"
   ]
  },
  {
   "cell_type": "code",
   "execution_count": 308,
   "metadata": {
    "ExecuteTime": {
     "end_time": "2020-05-23T13:31:15.837944Z",
     "start_time": "2020-05-23T13:31:15.826880Z"
    }
   },
   "outputs": [],
   "source": [
    "pd_user_ad_list_test['predicted_age'] = test_result_age"
   ]
  },
  {
   "cell_type": "code",
   "execution_count": 312,
   "metadata": {
    "ExecuteTime": {
     "end_time": "2020-05-23T13:32:59.124271Z",
     "start_time": "2020-05-23T13:32:59.100017Z"
    }
   },
   "outputs": [
    {
     "data": {
      "text/plain": [
       "3     0.276018\n",
       "2     0.179521\n",
       "4     0.159956\n",
       "5     0.139169\n",
       "6     0.110705\n",
       "7     0.057754\n",
       "1     0.025161\n",
       "8     0.023479\n",
       "9     0.016450\n",
       "10    0.011787\n",
       "Name: predicted_age, dtype: float64"
      ]
     },
     "execution_count": 312,
     "metadata": {},
     "output_type": "execute_result"
    }
   ],
   "source": [
    "pd_user_ad_list_test['predicted_age'].value_counts()/pd_user_ad_list_test['predicted_age'].value_counts().sum()"
   ]
  },
  {
   "cell_type": "code",
   "execution_count": 311,
   "metadata": {
    "ExecuteTime": {
     "end_time": "2020-05-23T13:32:41.989367Z",
     "start_time": "2020-05-23T13:32:41.966629Z"
    },
    "scrolled": true
   },
   "outputs": [
    {
     "data": {
      "text/plain": [
       "3     0.225454\n",
       "4     0.167309\n",
       "2     0.165857\n",
       "5     0.145186\n",
       "6     0.113022\n",
       "7     0.074123\n",
       "1     0.039106\n",
       "8     0.035519\n",
       "9     0.021638\n",
       "10    0.012787\n",
       "Name: age, dtype: float64"
      ]
     },
     "execution_count": 311,
     "metadata": {},
     "output_type": "execute_result"
    }
   ],
   "source": [
    "pd_user_ad_list_train['age'].value_counts()/pd_user_ad_list_train['age'].value_counts().sum()"
   ]
  },
  {
   "cell_type": "code",
   "execution_count": 313,
   "metadata": {
    "ExecuteTime": {
     "end_time": "2020-05-23T13:35:50.673839Z",
     "start_time": "2020-05-23T13:35:49.411246Z"
    }
   },
   "outputs": [],
   "source": [
    "pd_user_ad_list_test[['user_id','predicted_age','predicted_gender']].to_csv(\"./result/submission.csv\",index=False)"
   ]
  }
 ],
 "metadata": {
  "kernelspec": {
   "display_name": "Python 3",
   "language": "python",
   "name": "python3"
  },
  "language_info": {
   "codemirror_mode": {
    "name": "ipython",
    "version": 3
   },
   "file_extension": ".py",
   "mimetype": "text/x-python",
   "name": "python",
   "nbconvert_exporter": "python",
   "pygments_lexer": "ipython3",
   "version": "3.6.5"
  },
  "toc": {
   "base_numbering": 1,
   "nav_menu": {},
   "number_sections": true,
   "sideBar": true,
   "skip_h1_title": false,
   "title_cell": "Table of Contents",
   "title_sidebar": "Contents",
   "toc_cell": false,
   "toc_position": {
    "height": "calc(100% - 180px)",
    "left": "10px",
    "top": "150px",
    "width": "307.2px"
   },
   "toc_section_display": true,
   "toc_window_display": true
  },
  "varInspector": {
   "cols": {
    "lenName": 16,
    "lenType": 16,
    "lenVar": 40
   },
   "kernels_config": {
    "python": {
     "delete_cmd_postfix": "",
     "delete_cmd_prefix": "del ",
     "library": "var_list.py",
     "varRefreshCmd": "print(var_dic_list())"
    },
    "r": {
     "delete_cmd_postfix": ") ",
     "delete_cmd_prefix": "rm(",
     "library": "var_list.r",
     "varRefreshCmd": "cat(var_dic_list()) "
    }
   },
   "types_to_exclude": [
    "module",
    "function",
    "builtin_function_or_method",
    "instance",
    "_Feature"
   ],
   "window_display": false
  }
 },
 "nbformat": 4,
 "nbformat_minor": 4
}
