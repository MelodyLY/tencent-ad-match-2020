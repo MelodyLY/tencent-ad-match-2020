{
 "cells": [
  {
   "cell_type": "markdown",
   "metadata": {},
   "source": [
    "# 用户点击日志预处理"
   ]
  },
  {
   "cell_type": "markdown",
   "metadata": {},
   "source": [
    "将点击日志处理为文本序列"
   ]
  },
  {
   "cell_type": "code",
   "execution_count": 1,
   "metadata": {
    "ExecuteTime": {
     "end_time": "2020-06-28T11:09:58.270418Z",
     "start_time": "2020-06-28T11:09:58.063076Z"
    }
   },
   "outputs": [],
   "source": [
    "import numpy as np\n",
    "import pandas as pd"
   ]
  },
  {
   "cell_type": "code",
   "execution_count": 2,
   "metadata": {
    "ExecuteTime": {
     "end_time": "2020-06-28T11:09:58.967083Z",
     "start_time": "2020-06-28T11:09:58.965153Z"
    }
   },
   "outputs": [],
   "source": [
    "import gc"
   ]
  },
  {
   "cell_type": "markdown",
   "metadata": {},
   "source": [
    "## 载入用户点击日志"
   ]
  },
  {
   "cell_type": "code",
   "execution_count": 3,
   "metadata": {
    "ExecuteTime": {
     "end_time": "2020-06-28T11:10:31.663577Z",
     "start_time": "2020-06-28T11:10:01.774647Z"
    }
   },
   "outputs": [],
   "source": [
    "df_user_click_log_train = pd.read_csv(\"./data/train_preliminary/click_log.csv\")\n",
    "df_user_click_log_test = pd.read_csv(\"./data/test/click_log.csv\")"
   ]
  },
  {
   "cell_type": "code",
   "execution_count": null,
   "metadata": {
    "ExecuteTime": {
     "end_time": "2020-06-28T13:02:22.519402Z",
     "start_time": "2020-06-28T13:02:22.458826Z"
    }
   },
   "outputs": [],
   "source": [
    "df_user_click_log_train.shape,df_user_click_log_test.shape"
   ]
  },
  {
   "cell_type": "code",
   "execution_count": 5,
   "metadata": {
    "ExecuteTime": {
     "end_time": "2020-06-28T11:10:32.822087Z",
     "start_time": "2020-06-28T11:10:31.717627Z"
    }
   },
   "outputs": [
    {
     "data": {
      "text/plain": [
       "count    3.008277e+07\n",
       "mean     1.063127e+00\n",
       "std      2.982831e-01\n",
       "min      1.000000e+00\n",
       "5%       1.000000e+00\n",
       "25%      1.000000e+00\n",
       "50%      1.000000e+00\n",
       "75%      1.000000e+00\n",
       "95%      2.000000e+00\n",
       "99%      2.000000e+00\n",
       "max      1.520000e+02\n",
       "Name: click_times, dtype: float64"
      ]
     },
     "execution_count": 5,
     "metadata": {},
     "output_type": "execute_result"
    }
   ],
   "source": [
    "df_user_click_log_train['click_times'].describe(percentiles=[0.05,0.25,0.5,0.75,0.95,0.99])"
   ]
  },
  {
   "cell_type": "markdown",
   "metadata": {},
   "source": [
    "### 广告信息"
   ]
  },
  {
   "cell_type": "code",
   "execution_count": 6,
   "metadata": {
    "ExecuteTime": {
     "end_time": "2020-06-28T11:10:36.845966Z",
     "start_time": "2020-06-28T11:10:32.842860Z"
    }
   },
   "outputs": [],
   "source": [
    "df_ad_info_train = pd.read_csv(\"./data/train_preliminary/ad.csv\")\n",
    "df_ad_info_test = pd.read_csv(\"./data/test/ad.csv\")"
   ]
  },
  {
   "cell_type": "code",
   "execution_count": 11,
   "metadata": {
    "ExecuteTime": {
     "end_time": "2020-06-18T15:12:50.334776Z",
     "start_time": "2020-06-18T15:12:50.331130Z"
    },
    "scrolled": false
   },
   "outputs": [
    {
     "data": {
      "text/plain": [
       "((2481135, 6), (2618159, 6))"
      ]
     },
     "execution_count": 11,
     "metadata": {},
     "output_type": "execute_result"
    }
   ],
   "source": [
    "df_ad_info_train.shape,df_ad_info_test.shape"
   ]
  },
  {
   "cell_type": "code",
   "execution_count": 12,
   "metadata": {
    "ExecuteTime": {
     "end_time": "2020-06-18T15:12:51.340039Z",
     "start_time": "2020-06-18T15:12:51.061514Z"
    }
   },
   "outputs": [
    {
     "data": {
      "text/plain": [
       "('1', '\\\\N')"
      ]
     },
     "execution_count": 12,
     "metadata": {},
     "output_type": "execute_result"
    }
   ],
   "source": [
    "df_ad_info_train['industry'].min(),df_ad_info_train['industry'].max()"
   ]
  },
  {
   "cell_type": "code",
   "execution_count": 9,
   "metadata": {
    "ExecuteTime": {
     "end_time": "2020-06-18T15:12:33.795194Z",
     "start_time": "2020-06-18T15:12:33.503356Z"
    }
   },
   "outputs": [
    {
     "data": {
      "text/plain": [
       "('1', '\\\\N')"
      ]
     },
     "execution_count": 9,
     "metadata": {},
     "output_type": "execute_result"
    }
   ],
   "source": [
    "df_ad_info_test['industry'].min(),df_ad_info_test['industry'].max()"
   ]
  },
  {
   "cell_type": "code",
   "execution_count": 10,
   "metadata": {
    "ExecuteTime": {
     "end_time": "2020-06-18T15:12:34.685125Z",
     "start_time": "2020-06-18T15:12:34.390033Z"
    }
   },
   "outputs": [
    {
     "data": {
      "text/plain": [
       "('1', '\\\\N')"
      ]
     },
     "execution_count": 10,
     "metadata": {},
     "output_type": "execute_result"
    }
   ],
   "source": [
    "df_ad_info_train['product_id'].min(),df_ad_info_train['product_id'].max()"
   ]
  },
  {
   "cell_type": "code",
   "execution_count": 127,
   "metadata": {
    "ExecuteTime": {
     "end_time": "2020-05-23T06:06:05.186664Z",
     "start_time": "2020-05-23T06:06:05.180161Z"
    }
   },
   "outputs": [
    {
     "data": {
      "text/plain": [
       "creative_id          int64\n",
       "ad_id                int64\n",
       "product_id          object\n",
       "product_category     int64\n",
       "advertiser_id        int64\n",
       "industry            object\n",
       "dtype: object"
      ]
     },
     "execution_count": 127,
     "metadata": {},
     "output_type": "execute_result"
    }
   ],
   "source": [
    "df_ad_info_train.dtypes"
   ]
  },
  {
   "cell_type": "code",
   "execution_count": 131,
   "metadata": {
    "ExecuteTime": {
     "end_time": "2020-05-23T06:10:03.489301Z",
     "start_time": "2020-05-23T06:10:03.484414Z"
    }
   },
   "outputs": [
    {
     "data": {
      "text/plain": [
       "creative_id          int64\n",
       "ad_id                int64\n",
       "product_id          object\n",
       "product_category     int64\n",
       "advertiser_id        int64\n",
       "industry            object\n",
       "dtype: object"
      ]
     },
     "execution_count": 131,
     "metadata": {},
     "output_type": "execute_result"
    }
   ],
   "source": [
    "df_ad_info_test.dtypes"
   ]
  },
  {
   "cell_type": "markdown",
   "metadata": {},
   "source": [
    "### 标签信息"
   ]
  },
  {
   "cell_type": "code",
   "execution_count": 7,
   "metadata": {
    "ExecuteTime": {
     "end_time": "2020-06-28T11:10:37.168479Z",
     "start_time": "2020-06-28T11:10:36.886667Z"
    }
   },
   "outputs": [],
   "source": [
    "df_user_label = pd.read_csv(\"./data/train_preliminary/user.csv\")"
   ]
  },
  {
   "cell_type": "code",
   "execution_count": 8,
   "metadata": {
    "ExecuteTime": {
     "end_time": "2020-06-28T11:10:37.216423Z",
     "start_time": "2020-06-28T11:10:37.213653Z"
    }
   },
   "outputs": [
    {
     "data": {
      "text/plain": [
       "(900000, 3)"
      ]
     },
     "execution_count": 8,
     "metadata": {},
     "output_type": "execute_result"
    }
   ],
   "source": [
    "df_user_label.shape"
   ]
  },
  {
   "cell_type": "markdown",
   "metadata": {},
   "source": [
    "## 合并训练集和测试集点击日志"
   ]
  },
  {
   "cell_type": "code",
   "execution_count": 9,
   "metadata": {
    "ExecuteTime": {
     "end_time": "2020-06-28T11:10:49.829620Z",
     "start_time": "2020-06-28T11:10:37.261877Z"
    }
   },
   "outputs": [],
   "source": [
    "df_user_features_train = pd.merge(df_user_click_log_train,df_ad_info_train,on='creative_id')"
   ]
  },
  {
   "cell_type": "code",
   "execution_count": 10,
   "metadata": {
    "ExecuteTime": {
     "end_time": "2020-06-28T11:11:03.991857Z",
     "start_time": "2020-06-28T11:10:49.889748Z"
    }
   },
   "outputs": [],
   "source": [
    "df_user_features_test = pd.merge(df_user_click_log_test,df_ad_info_test,on='creative_id')"
   ]
  },
  {
   "cell_type": "code",
   "execution_count": 11,
   "metadata": {
    "ExecuteTime": {
     "end_time": "2020-06-28T11:11:20.510323Z",
     "start_time": "2020-06-28T11:11:04.063688Z"
    }
   },
   "outputs": [],
   "source": [
    "df_user_features = pd.concat((df_user_features_train,df_user_features_test))"
   ]
  },
  {
   "cell_type": "code",
   "execution_count": 18,
   "metadata": {
    "ExecuteTime": {
     "end_time": "2020-06-18T15:14:33.847651Z",
     "start_time": "2020-06-18T15:14:33.843923Z"
    }
   },
   "outputs": [
    {
     "data": {
      "text/plain": [
       "(63668283, 9)"
      ]
     },
     "execution_count": 18,
     "metadata": {},
     "output_type": "execute_result"
    }
   ],
   "source": [
    "df_user_features.shape"
   ]
  },
  {
   "cell_type": "code",
   "execution_count": 144,
   "metadata": {
    "ExecuteTime": {
     "end_time": "2020-05-23T06:16:17.873907Z",
     "start_time": "2020-05-23T06:16:17.863186Z"
    },
    "scrolled": true
   },
   "outputs": [
    {
     "data": {
      "text/html": [
       "<div>\n",
       "<style scoped>\n",
       "    .dataframe tbody tr th:only-of-type {\n",
       "        vertical-align: middle;\n",
       "    }\n",
       "\n",
       "    .dataframe tbody tr th {\n",
       "        vertical-align: top;\n",
       "    }\n",
       "\n",
       "    .dataframe thead th {\n",
       "        text-align: right;\n",
       "    }\n",
       "</style>\n",
       "<table border=\"1\" class=\"dataframe\">\n",
       "  <thead>\n",
       "    <tr style=\"text-align: right;\">\n",
       "      <th></th>\n",
       "      <th>time</th>\n",
       "      <th>user_id</th>\n",
       "      <th>creative_id</th>\n",
       "      <th>click_times</th>\n",
       "      <th>ad_id</th>\n",
       "      <th>product_id</th>\n",
       "      <th>product_category</th>\n",
       "      <th>advertiser_id</th>\n",
       "      <th>industry</th>\n",
       "    </tr>\n",
       "  </thead>\n",
       "  <tbody>\n",
       "    <tr>\n",
       "      <th>0</th>\n",
       "      <td>9</td>\n",
       "      <td>30920</td>\n",
       "      <td>567330</td>\n",
       "      <td>1</td>\n",
       "      <td>504423</td>\n",
       "      <td>30673</td>\n",
       "      <td>3</td>\n",
       "      <td>32638</td>\n",
       "      <td>319</td>\n",
       "    </tr>\n",
       "    <tr>\n",
       "      <th>1</th>\n",
       "      <td>15</td>\n",
       "      <td>320815</td>\n",
       "      <td>567330</td>\n",
       "      <td>1</td>\n",
       "      <td>504423</td>\n",
       "      <td>30673</td>\n",
       "      <td>3</td>\n",
       "      <td>32638</td>\n",
       "      <td>319</td>\n",
       "    </tr>\n",
       "    <tr>\n",
       "      <th>2</th>\n",
       "      <td>11</td>\n",
       "      <td>355089</td>\n",
       "      <td>567330</td>\n",
       "      <td>1</td>\n",
       "      <td>504423</td>\n",
       "      <td>30673</td>\n",
       "      <td>3</td>\n",
       "      <td>32638</td>\n",
       "      <td>319</td>\n",
       "    </tr>\n",
       "    <tr>\n",
       "      <th>3</th>\n",
       "      <td>9</td>\n",
       "      <td>363442</td>\n",
       "      <td>567330</td>\n",
       "      <td>1</td>\n",
       "      <td>504423</td>\n",
       "      <td>30673</td>\n",
       "      <td>3</td>\n",
       "      <td>32638</td>\n",
       "      <td>319</td>\n",
       "    </tr>\n",
       "    <tr>\n",
       "      <th>4</th>\n",
       "      <td>14</td>\n",
       "      <td>370513</td>\n",
       "      <td>567330</td>\n",
       "      <td>1</td>\n",
       "      <td>504423</td>\n",
       "      <td>30673</td>\n",
       "      <td>3</td>\n",
       "      <td>32638</td>\n",
       "      <td>319</td>\n",
       "    </tr>\n",
       "  </tbody>\n",
       "</table>\n",
       "</div>"
      ],
      "text/plain": [
       "   time  user_id  creative_id  click_times   ad_id product_id  \\\n",
       "0     9    30920       567330            1  504423      30673   \n",
       "1    15   320815       567330            1  504423      30673   \n",
       "2    11   355089       567330            1  504423      30673   \n",
       "3     9   363442       567330            1  504423      30673   \n",
       "4    14   370513       567330            1  504423      30673   \n",
       "\n",
       "   product_category  advertiser_id industry  \n",
       "0                 3          32638      319  \n",
       "1                 3          32638      319  \n",
       "2                 3          32638      319  \n",
       "3                 3          32638      319  \n",
       "4                 3          32638      319  "
      ]
     },
     "execution_count": 144,
     "metadata": {},
     "output_type": "execute_result"
    }
   ],
   "source": [
    "df_user_features.head()"
   ]
  },
  {
   "cell_type": "code",
   "execution_count": 145,
   "metadata": {
    "ExecuteTime": {
     "end_time": "2020-05-23T06:16:27.728875Z",
     "start_time": "2020-05-23T06:16:19.675335Z"
    }
   },
   "outputs": [
    {
     "data": {
      "text/plain": [
       "('1', '\\\\N')"
      ]
     },
     "execution_count": 145,
     "metadata": {},
     "output_type": "execute_result"
    }
   ],
   "source": [
    "df_user_features['industry'].min(),df_user_features['industry'].max()"
   ]
  },
  {
   "cell_type": "code",
   "execution_count": 12,
   "metadata": {
    "ExecuteTime": {
     "end_time": "2020-06-28T11:11:23.633789Z",
     "start_time": "2020-06-28T11:11:23.130262Z"
    }
   },
   "outputs": [],
   "source": [
    "del df_user_features_train\n",
    "del df_user_features_test"
   ]
  },
  {
   "cell_type": "code",
   "execution_count": 13,
   "metadata": {
    "ExecuteTime": {
     "end_time": "2020-06-28T11:11:24.351134Z",
     "start_time": "2020-06-28T11:11:24.314986Z"
    }
   },
   "outputs": [
    {
     "data": {
      "text/plain": [
       "0"
      ]
     },
     "execution_count": 13,
     "metadata": {},
     "output_type": "execute_result"
    }
   ],
   "source": [
    "gc.collect()"
   ]
  },
  {
   "cell_type": "code",
   "execution_count": 14,
   "metadata": {
    "ExecuteTime": {
     "end_time": "2020-06-28T11:11:34.899125Z",
     "start_time": "2020-06-28T11:11:26.539333Z"
    },
    "scrolled": true
   },
   "outputs": [
    {
     "name": "stdout",
     "output_type": "stream",
     "text": [
      "time:1\n",
      "user_id:1\n",
      "creative_id:1\n",
      "click_times:1\n",
      "ad_id:1\n",
      "product_id:1\n",
      "product_category:1\n",
      "advertiser_id:1\n",
      "industry:1\n"
     ]
    }
   ],
   "source": [
    "for x in df_user_features.columns:\n",
    "    print(\"%s:%s\" % (x,str(df_user_features[x].min())))"
   ]
  },
  {
   "cell_type": "code",
   "execution_count": 15,
   "metadata": {
    "ExecuteTime": {
     "end_time": "2020-06-28T11:11:34.960323Z",
     "start_time": "2020-06-28T11:11:34.956440Z"
    }
   },
   "outputs": [
    {
     "data": {
      "text/plain": [
       "4857.504501342773"
      ]
     },
     "execution_count": 15,
     "metadata": {},
     "output_type": "execute_result"
    }
   ],
   "source": [
    "df_user_features.memory_usage().sum()/1024**2"
   ]
  },
  {
   "cell_type": "markdown",
   "metadata": {},
   "source": [
    "## 替换缺失值"
   ]
  },
  {
   "cell_type": "code",
   "execution_count": 16,
   "metadata": {
    "ExecuteTime": {
     "end_time": "2020-06-28T11:11:48.339085Z",
     "start_time": "2020-06-28T11:11:37.484485Z"
    }
   },
   "outputs": [],
   "source": [
    "df_user_features.replace('\\\\N',0,inplace=True)"
   ]
  },
  {
   "cell_type": "markdown",
   "metadata": {},
   "source": [
    "## 压缩数据"
   ]
  },
  {
   "cell_type": "code",
   "execution_count": 17,
   "metadata": {
    "ExecuteTime": {
     "end_time": "2020-06-28T11:11:50.883521Z",
     "start_time": "2020-06-28T11:11:50.878827Z"
    }
   },
   "outputs": [
    {
     "data": {
      "text/plain": [
       "4857.504501342773"
      ]
     },
     "execution_count": 17,
     "metadata": {},
     "output_type": "execute_result"
    }
   ],
   "source": [
    "df_user_features.memory_usage().sum()/1024**2"
   ]
  },
  {
   "cell_type": "code",
   "execution_count": 18,
   "metadata": {
    "ExecuteTime": {
     "end_time": "2020-06-28T11:11:51.922745Z",
     "start_time": "2020-06-28T11:11:51.919592Z"
    }
   },
   "outputs": [
    {
     "data": {
      "text/plain": [
       "2147483647"
      ]
     },
     "execution_count": 18,
     "metadata": {},
     "output_type": "execute_result"
    }
   ],
   "source": [
    "np.iinfo(np.int32).max"
   ]
  },
  {
   "cell_type": "code",
   "execution_count": 19,
   "metadata": {
    "ExecuteTime": {
     "end_time": "2020-06-28T11:12:27.270424Z",
     "start_time": "2020-06-28T11:12:05.617340Z"
    }
   },
   "outputs": [],
   "source": [
    "for col in df_user_features.columns:\n",
    "    df_user_features[col] = df_user_features[col].astype(np.int32)"
   ]
  },
  {
   "cell_type": "code",
   "execution_count": 20,
   "metadata": {
    "ExecuteTime": {
     "end_time": "2020-06-28T11:12:29.662402Z",
     "start_time": "2020-06-28T11:12:29.653109Z"
    }
   },
   "outputs": [
    {
     "data": {
      "text/plain": [
       "2671.6274757385254"
      ]
     },
     "execution_count": 20,
     "metadata": {},
     "output_type": "execute_result"
    }
   ],
   "source": [
    "df_user_features.memory_usage().sum()/1024**2"
   ]
  },
  {
   "cell_type": "code",
   "execution_count": 29,
   "metadata": {
    "ExecuteTime": {
     "end_time": "2020-06-18T15:15:50.847985Z",
     "start_time": "2020-06-18T15:15:49.849570Z"
    }
   },
   "outputs": [
    {
     "name": "stdout",
     "output_type": "stream",
     "text": [
      "time:91\n",
      "user_id:4000000\n",
      "creative_id:4445720\n",
      "click_times:185\n",
      "ad_id:3812202\n",
      "product_id:44314\n",
      "product_category:18\n",
      "advertiser_id:62965\n",
      "industry:335\n"
     ]
    }
   ],
   "source": [
    "for x in df_user_features.columns:\n",
    "    print(\"%s:%s\" % (x,str(df_user_features[x].max())))"
   ]
  },
  {
   "cell_type": "code",
   "execution_count": 21,
   "metadata": {
    "ExecuteTime": {
     "end_time": "2020-06-28T11:12:35.179662Z",
     "start_time": "2020-06-28T11:12:35.174429Z"
    },
    "scrolled": true
   },
   "outputs": [
    {
     "data": {
      "text/plain": [
       "time                int32\n",
       "user_id             int32\n",
       "creative_id         int32\n",
       "click_times         int32\n",
       "ad_id               int32\n",
       "product_id          int32\n",
       "product_category    int32\n",
       "advertiser_id       int32\n",
       "industry            int32\n",
       "dtype: object"
      ]
     },
     "execution_count": 21,
     "metadata": {},
     "output_type": "execute_result"
    }
   ],
   "source": [
    "df_user_features.dtypes"
   ]
  },
  {
   "cell_type": "markdown",
   "metadata": {},
   "source": [
    "## 排序"
   ]
  },
  {
   "cell_type": "code",
   "execution_count": 22,
   "metadata": {
    "ExecuteTime": {
     "end_time": "2020-06-28T11:13:31.383809Z",
     "start_time": "2020-06-28T11:12:41.654781Z"
    }
   },
   "outputs": [],
   "source": [
    "df_user_features.sort_values(by=['user_id','time'],inplace=True,ascending=[True,True])"
   ]
  },
  {
   "cell_type": "code",
   "execution_count": 34,
   "metadata": {
    "ExecuteTime": {
     "end_time": "2020-06-18T15:31:29.124341Z",
     "start_time": "2020-06-18T15:31:29.109115Z"
    },
    "scrolled": false
   },
   "outputs": [
    {
     "data": {
      "text/html": [
       "<div>\n",
       "<style scoped>\n",
       "    .dataframe tbody tr th:only-of-type {\n",
       "        vertical-align: middle;\n",
       "    }\n",
       "\n",
       "    .dataframe tbody tr th {\n",
       "        vertical-align: top;\n",
       "    }\n",
       "\n",
       "    .dataframe thead th {\n",
       "        text-align: right;\n",
       "    }\n",
       "</style>\n",
       "<table border=\"1\" class=\"dataframe\">\n",
       "  <thead>\n",
       "    <tr style=\"text-align: right;\">\n",
       "      <th></th>\n",
       "      <th>time</th>\n",
       "      <th>user_id</th>\n",
       "      <th>creative_id</th>\n",
       "      <th>click_times</th>\n",
       "      <th>ad_id</th>\n",
       "      <th>product_id</th>\n",
       "      <th>product_category</th>\n",
       "      <th>advertiser_id</th>\n",
       "      <th>industry</th>\n",
       "    </tr>\n",
       "  </thead>\n",
       "  <tbody>\n",
       "    <tr>\n",
       "      <th>18768377</th>\n",
       "      <td>76</td>\n",
       "      <td>1</td>\n",
       "      <td>3592928</td>\n",
       "      <td>2</td>\n",
       "      <td>3093461</td>\n",
       "      <td>1261</td>\n",
       "      <td>2</td>\n",
       "      <td>10988</td>\n",
       "      <td>6</td>\n",
       "    </tr>\n",
       "    <tr>\n",
       "      <th>8869317</th>\n",
       "      <td>73</td>\n",
       "      <td>1</td>\n",
       "      <td>2456345</td>\n",
       "      <td>1</td>\n",
       "      <td>2116146</td>\n",
       "      <td>64</td>\n",
       "      <td>2</td>\n",
       "      <td>188</td>\n",
       "      <td>245</td>\n",
       "    </tr>\n",
       "    <tr>\n",
       "      <th>8869318</th>\n",
       "      <td>64</td>\n",
       "      <td>1</td>\n",
       "      <td>2456345</td>\n",
       "      <td>1</td>\n",
       "      <td>2116146</td>\n",
       "      <td>64</td>\n",
       "      <td>2</td>\n",
       "      <td>188</td>\n",
       "      <td>245</td>\n",
       "    </tr>\n",
       "    <tr>\n",
       "      <th>15516145</th>\n",
       "      <td>64</td>\n",
       "      <td>1</td>\n",
       "      <td>3068256</td>\n",
       "      <td>1</td>\n",
       "      <td>2638858</td>\n",
       "      <td>1454</td>\n",
       "      <td>2</td>\n",
       "      <td>23575</td>\n",
       "      <td>238</td>\n",
       "    </tr>\n",
       "    <tr>\n",
       "      <th>15704991</th>\n",
       "      <td>60</td>\n",
       "      <td>1</td>\n",
       "      <td>2087846</td>\n",
       "      <td>1</td>\n",
       "      <td>1803758</td>\n",
       "      <td>0</td>\n",
       "      <td>18</td>\n",
       "      <td>44865</td>\n",
       "      <td>64</td>\n",
       "    </tr>\n",
       "    <tr>\n",
       "      <th>10203710</th>\n",
       "      <td>52</td>\n",
       "      <td>1</td>\n",
       "      <td>90171</td>\n",
       "      <td>1</td>\n",
       "      <td>82421</td>\n",
       "      <td>0</td>\n",
       "      <td>5</td>\n",
       "      <td>367</td>\n",
       "      <td>217</td>\n",
       "    </tr>\n",
       "    <tr>\n",
       "      <th>13223979</th>\n",
       "      <td>46</td>\n",
       "      <td>1</td>\n",
       "      <td>1940159</td>\n",
       "      <td>1</td>\n",
       "      <td>1678901</td>\n",
       "      <td>0</td>\n",
       "      <td>5</td>\n",
       "      <td>17189</td>\n",
       "      <td>73</td>\n",
       "    </tr>\n",
       "    <tr>\n",
       "      <th>5298558</th>\n",
       "      <td>43</td>\n",
       "      <td>1</td>\n",
       "      <td>71691</td>\n",
       "      <td>1</td>\n",
       "      <td>66210</td>\n",
       "      <td>0</td>\n",
       "      <td>18</td>\n",
       "      <td>14681</td>\n",
       "      <td>326</td>\n",
       "    </tr>\n",
       "    <tr>\n",
       "      <th>9498187</th>\n",
       "      <td>40</td>\n",
       "      <td>1</td>\n",
       "      <td>122032</td>\n",
       "      <td>1</td>\n",
       "      <td>109959</td>\n",
       "      <td>1334</td>\n",
       "      <td>2</td>\n",
       "      <td>11411</td>\n",
       "      <td>0</td>\n",
       "    </tr>\n",
       "    <tr>\n",
       "      <th>22502265</th>\n",
       "      <td>39</td>\n",
       "      <td>1</td>\n",
       "      <td>1683713</td>\n",
       "      <td>1</td>\n",
       "      <td>1458878</td>\n",
       "      <td>0</td>\n",
       "      <td>5</td>\n",
       "      <td>14668</td>\n",
       "      <td>326</td>\n",
       "    </tr>\n",
       "    <tr>\n",
       "      <th>16203201</th>\n",
       "      <td>20</td>\n",
       "      <td>1</td>\n",
       "      <td>877468</td>\n",
       "      <td>1</td>\n",
       "      <td>773445</td>\n",
       "      <td>0</td>\n",
       "      <td>5</td>\n",
       "      <td>29455</td>\n",
       "      <td>106</td>\n",
       "    </tr>\n",
       "    <tr>\n",
       "      <th>23067445</th>\n",
       "      <td>20</td>\n",
       "      <td>1</td>\n",
       "      <td>209778</td>\n",
       "      <td>1</td>\n",
       "      <td>188507</td>\n",
       "      <td>136</td>\n",
       "      <td>2</td>\n",
       "      <td>9702</td>\n",
       "      <td>6</td>\n",
       "    </tr>\n",
       "    <tr>\n",
       "      <th>26781023</th>\n",
       "      <td>20</td>\n",
       "      <td>1</td>\n",
       "      <td>821396</td>\n",
       "      <td>1</td>\n",
       "      <td>724607</td>\n",
       "      <td>0</td>\n",
       "      <td>5</td>\n",
       "      <td>7293</td>\n",
       "      <td>326</td>\n",
       "    </tr>\n",
       "    <tr>\n",
       "      <th>24983460</th>\n",
       "      <td>90</td>\n",
       "      <td>2</td>\n",
       "      <td>625944</td>\n",
       "      <td>1</td>\n",
       "      <td>555841</td>\n",
       "      <td>11119</td>\n",
       "      <td>8</td>\n",
       "      <td>20193</td>\n",
       "      <td>328</td>\n",
       "    </tr>\n",
       "    <tr>\n",
       "      <th>24288965</th>\n",
       "      <td>89</td>\n",
       "      <td>2</td>\n",
       "      <td>4194247</td>\n",
       "      <td>1</td>\n",
       "      <td>3598073</td>\n",
       "      <td>0</td>\n",
       "      <td>18</td>\n",
       "      <td>25704</td>\n",
       "      <td>207</td>\n",
       "    </tr>\n",
       "    <tr>\n",
       "      <th>10734795</th>\n",
       "      <td>88</td>\n",
       "      <td>2</td>\n",
       "      <td>513298</td>\n",
       "      <td>1</td>\n",
       "      <td>456635</td>\n",
       "      <td>1064</td>\n",
       "      <td>2</td>\n",
       "      <td>33664</td>\n",
       "      <td>242</td>\n",
       "    </tr>\n",
       "    <tr>\n",
       "      <th>3261593</th>\n",
       "      <td>87</td>\n",
       "      <td>2</td>\n",
       "      <td>22013</td>\n",
       "      <td>1</td>\n",
       "      <td>22877</td>\n",
       "      <td>1323</td>\n",
       "      <td>2</td>\n",
       "      <td>818</td>\n",
       "      <td>319</td>\n",
       "    </tr>\n",
       "    <tr>\n",
       "      <th>3967433</th>\n",
       "      <td>87</td>\n",
       "      <td>2</td>\n",
       "      <td>15558</td>\n",
       "      <td>2</td>\n",
       "      <td>16946</td>\n",
       "      <td>107</td>\n",
       "      <td>2</td>\n",
       "      <td>17951</td>\n",
       "      <td>317</td>\n",
       "    </tr>\n",
       "    <tr>\n",
       "      <th>14807754</th>\n",
       "      <td>85</td>\n",
       "      <td>2</td>\n",
       "      <td>2270719</td>\n",
       "      <td>1</td>\n",
       "      <td>1959296</td>\n",
       "      <td>1064</td>\n",
       "      <td>2</td>\n",
       "      <td>38517</td>\n",
       "      <td>242</td>\n",
       "    </tr>\n",
       "    <tr>\n",
       "      <th>17616577</th>\n",
       "      <td>78</td>\n",
       "      <td>2</td>\n",
       "      <td>3574990</td>\n",
       "      <td>1</td>\n",
       "      <td>3078081</td>\n",
       "      <td>128</td>\n",
       "      <td>2</td>\n",
       "      <td>16473</td>\n",
       "      <td>317</td>\n",
       "    </tr>\n",
       "  </tbody>\n",
       "</table>\n",
       "</div>"
      ],
      "text/plain": [
       "          time  user_id  creative_id  click_times    ad_id  product_id  \\\n",
       "18768377    76        1      3592928            2  3093461        1261   \n",
       "8869317     73        1      2456345            1  2116146          64   \n",
       "8869318     64        1      2456345            1  2116146          64   \n",
       "15516145    64        1      3068256            1  2638858        1454   \n",
       "15704991    60        1      2087846            1  1803758           0   \n",
       "10203710    52        1        90171            1    82421           0   \n",
       "13223979    46        1      1940159            1  1678901           0   \n",
       "5298558     43        1        71691            1    66210           0   \n",
       "9498187     40        1       122032            1   109959        1334   \n",
       "22502265    39        1      1683713            1  1458878           0   \n",
       "16203201    20        1       877468            1   773445           0   \n",
       "23067445    20        1       209778            1   188507         136   \n",
       "26781023    20        1       821396            1   724607           0   \n",
       "24983460    90        2       625944            1   555841       11119   \n",
       "24288965    89        2      4194247            1  3598073           0   \n",
       "10734795    88        2       513298            1   456635        1064   \n",
       "3261593     87        2        22013            1    22877        1323   \n",
       "3967433     87        2        15558            2    16946         107   \n",
       "14807754    85        2      2270719            1  1959296        1064   \n",
       "17616577    78        2      3574990            1  3078081         128   \n",
       "\n",
       "          product_category  advertiser_id  industry  \n",
       "18768377                 2          10988         6  \n",
       "8869317                  2            188       245  \n",
       "8869318                  2            188       245  \n",
       "15516145                 2          23575       238  \n",
       "15704991                18          44865        64  \n",
       "10203710                 5            367       217  \n",
       "13223979                 5          17189        73  \n",
       "5298558                 18          14681       326  \n",
       "9498187                  2          11411         0  \n",
       "22502265                 5          14668       326  \n",
       "16203201                 5          29455       106  \n",
       "23067445                 2           9702         6  \n",
       "26781023                 5           7293       326  \n",
       "24983460                 8          20193       328  \n",
       "24288965                18          25704       207  \n",
       "10734795                 2          33664       242  \n",
       "3261593                  2            818       319  \n",
       "3967433                  2          17951       317  \n",
       "14807754                 2          38517       242  \n",
       "17616577                 2          16473       317  "
      ]
     },
     "execution_count": 34,
     "metadata": {},
     "output_type": "execute_result"
    }
   ],
   "source": [
    "df_user_features.head(20)"
   ]
  },
  {
   "cell_type": "code",
   "execution_count": 35,
   "metadata": {
    "ExecuteTime": {
     "end_time": "2020-06-18T15:31:42.308780Z",
     "start_time": "2020-06-18T15:31:40.569243Z"
    }
   },
   "outputs": [
    {
     "data": {
      "text/plain": [
       "count     6.366828e+07\n",
       "mean      1.064746e+00\n",
       "std       3.300665e-01\n",
       "min       1.000000e+00\n",
       "5%        1.000000e+00\n",
       "25%       1.000000e+00\n",
       "50%       1.000000e+00\n",
       "75%       1.000000e+00\n",
       "95%       2.000000e+00\n",
       "99%       2.000000e+00\n",
       "99.9%     4.000000e+00\n",
       "99.99%    8.000000e+00\n",
       "max       1.850000e+02\n",
       "Name: click_times, dtype: float64"
      ]
     },
     "execution_count": 35,
     "metadata": {},
     "output_type": "execute_result"
    }
   ],
   "source": [
    "df_user_features['click_times'].describe(percentiles=[0.05,0.25,0.5,0.75,0.95,0.99,0.999,0.9999])"
   ]
  },
  {
   "cell_type": "code",
   "execution_count": 177,
   "metadata": {
    "ExecuteTime": {
     "end_time": "2020-05-23T06:41:03.442542Z",
     "start_time": "2020-05-23T06:40:32.561335Z"
    }
   },
   "outputs": [],
   "source": [
    "df_user_features['click_times_smooth'] = df_user_features['click_times'].apply(lambda x:min(x,10))"
   ]
  },
  {
   "cell_type": "code",
   "execution_count": 178,
   "metadata": {
    "ExecuteTime": {
     "end_time": "2020-05-23T06:41:14.098761Z",
     "start_time": "2020-05-23T06:41:11.835001Z"
    }
   },
   "outputs": [
    {
     "data": {
      "text/plain": [
       "count     6.366828e+07\n",
       "mean      1.064385e+00\n",
       "std       3.012934e-01\n",
       "min       1.000000e+00\n",
       "5%        1.000000e+00\n",
       "25%       1.000000e+00\n",
       "50%       1.000000e+00\n",
       "75%       1.000000e+00\n",
       "95%       2.000000e+00\n",
       "99%       2.000000e+00\n",
       "99.9%     4.000000e+00\n",
       "99.99%    8.000000e+00\n",
       "max       1.000000e+01\n",
       "Name: click_times_smooth, dtype: float64"
      ]
     },
     "execution_count": 178,
     "metadata": {},
     "output_type": "execute_result"
    }
   ],
   "source": [
    "df_user_features['click_times_smooth'].describe(percentiles=[0.05,0.25,0.5,0.75,0.95,0.99,0.999,0.9999])"
   ]
  },
  {
   "cell_type": "code",
   "execution_count": 179,
   "metadata": {
    "ExecuteTime": {
     "end_time": "2020-05-23T06:41:56.899513Z",
     "start_time": "2020-05-23T06:41:54.820525Z"
    },
    "scrolled": true
   },
   "outputs": [
    {
     "data": {
      "text/plain": [
       "time                  0\n",
       "user_id               0\n",
       "creative_id           0\n",
       "click_times           0\n",
       "ad_id                 0\n",
       "product_id            0\n",
       "product_category      0\n",
       "advertiser_id         0\n",
       "industry              0\n",
       "click_times_smooth    0\n",
       "dtype: int64"
      ]
     },
     "execution_count": 179,
     "metadata": {},
     "output_type": "execute_result"
    }
   ],
   "source": [
    "df_user_features.isnull().sum()"
   ]
  },
  {
   "cell_type": "markdown",
   "metadata": {},
   "source": [
    "## 合并用户点击序列"
   ]
  },
  {
   "cell_type": "code",
   "execution_count": 36,
   "metadata": {
    "ExecuteTime": {
     "end_time": "2020-06-18T15:32:18.437525Z",
     "start_time": "2020-06-18T15:32:11.897738Z"
    },
    "scrolled": false
   },
   "outputs": [
    {
     "data": {
      "text/html": [
       "<div>\n",
       "<style scoped>\n",
       "    .dataframe tbody tr th:only-of-type {\n",
       "        vertical-align: middle;\n",
       "    }\n",
       "\n",
       "    .dataframe tbody tr th {\n",
       "        vertical-align: top;\n",
       "    }\n",
       "\n",
       "    .dataframe thead th {\n",
       "        text-align: right;\n",
       "    }\n",
       "</style>\n",
       "<table border=\"1\" class=\"dataframe\">\n",
       "  <thead>\n",
       "    <tr style=\"text-align: right;\">\n",
       "      <th></th>\n",
       "      <th>time</th>\n",
       "      <th>user_id</th>\n",
       "      <th>creative_id</th>\n",
       "      <th>click_times</th>\n",
       "      <th>ad_id</th>\n",
       "      <th>product_id</th>\n",
       "      <th>product_category</th>\n",
       "      <th>advertiser_id</th>\n",
       "      <th>industry</th>\n",
       "    </tr>\n",
       "  </thead>\n",
       "  <tbody>\n",
       "    <tr>\n",
       "      <th>18768377</th>\n",
       "      <td>76</td>\n",
       "      <td>1</td>\n",
       "      <td>3592928</td>\n",
       "      <td>2</td>\n",
       "      <td>3093461</td>\n",
       "      <td>1261</td>\n",
       "      <td>2</td>\n",
       "      <td>10988</td>\n",
       "      <td>6</td>\n",
       "    </tr>\n",
       "    <tr>\n",
       "      <th>8869317</th>\n",
       "      <td>73</td>\n",
       "      <td>1</td>\n",
       "      <td>2456345</td>\n",
       "      <td>1</td>\n",
       "      <td>2116146</td>\n",
       "      <td>64</td>\n",
       "      <td>2</td>\n",
       "      <td>188</td>\n",
       "      <td>245</td>\n",
       "    </tr>\n",
       "    <tr>\n",
       "      <th>8869318</th>\n",
       "      <td>64</td>\n",
       "      <td>1</td>\n",
       "      <td>2456345</td>\n",
       "      <td>1</td>\n",
       "      <td>2116146</td>\n",
       "      <td>64</td>\n",
       "      <td>2</td>\n",
       "      <td>188</td>\n",
       "      <td>245</td>\n",
       "    </tr>\n",
       "    <tr>\n",
       "      <th>15516145</th>\n",
       "      <td>64</td>\n",
       "      <td>1</td>\n",
       "      <td>3068256</td>\n",
       "      <td>1</td>\n",
       "      <td>2638858</td>\n",
       "      <td>1454</td>\n",
       "      <td>2</td>\n",
       "      <td>23575</td>\n",
       "      <td>238</td>\n",
       "    </tr>\n",
       "    <tr>\n",
       "      <th>15704991</th>\n",
       "      <td>60</td>\n",
       "      <td>1</td>\n",
       "      <td>2087846</td>\n",
       "      <td>1</td>\n",
       "      <td>1803758</td>\n",
       "      <td>0</td>\n",
       "      <td>18</td>\n",
       "      <td>44865</td>\n",
       "      <td>64</td>\n",
       "    </tr>\n",
       "    <tr>\n",
       "      <th>...</th>\n",
       "      <td>...</td>\n",
       "      <td>...</td>\n",
       "      <td>...</td>\n",
       "      <td>...</td>\n",
       "      <td>...</td>\n",
       "      <td>...</td>\n",
       "      <td>...</td>\n",
       "      <td>...</td>\n",
       "      <td>...</td>\n",
       "    </tr>\n",
       "    <tr>\n",
       "      <th>30802063</th>\n",
       "      <td>60</td>\n",
       "      <td>4000000</td>\n",
       "      <td>2769944</td>\n",
       "      <td>1</td>\n",
       "      <td>2381896</td>\n",
       "      <td>0</td>\n",
       "      <td>18</td>\n",
       "      <td>45380</td>\n",
       "      <td>133</td>\n",
       "    </tr>\n",
       "    <tr>\n",
       "      <th>12161667</th>\n",
       "      <td>59</td>\n",
       "      <td>4000000</td>\n",
       "      <td>2490312</td>\n",
       "      <td>1</td>\n",
       "      <td>2144917</td>\n",
       "      <td>0</td>\n",
       "      <td>18</td>\n",
       "      <td>41654</td>\n",
       "      <td>26</td>\n",
       "    </tr>\n",
       "    <tr>\n",
       "      <th>29153627</th>\n",
       "      <td>59</td>\n",
       "      <td>4000000</td>\n",
       "      <td>2687277</td>\n",
       "      <td>1</td>\n",
       "      <td>2312216</td>\n",
       "      <td>2046</td>\n",
       "      <td>2</td>\n",
       "      <td>14155</td>\n",
       "      <td>247</td>\n",
       "    </tr>\n",
       "    <tr>\n",
       "      <th>24319295</th>\n",
       "      <td>58</td>\n",
       "      <td>4000000</td>\n",
       "      <td>2500260</td>\n",
       "      <td>1</td>\n",
       "      <td>2153299</td>\n",
       "      <td>0</td>\n",
       "      <td>18</td>\n",
       "      <td>24747</td>\n",
       "      <td>54</td>\n",
       "    </tr>\n",
       "    <tr>\n",
       "      <th>1586593</th>\n",
       "      <td>57</td>\n",
       "      <td>4000000</td>\n",
       "      <td>71689</td>\n",
       "      <td>1</td>\n",
       "      <td>66208</td>\n",
       "      <td>0</td>\n",
       "      <td>18</td>\n",
       "      <td>14681</td>\n",
       "      <td>6</td>\n",
       "    </tr>\n",
       "  </tbody>\n",
       "</table>\n",
       "<p>33364962 rows × 9 columns</p>\n",
       "</div>"
      ],
      "text/plain": [
       "          time  user_id  creative_id  click_times    ad_id  product_id  \\\n",
       "18768377    76        1      3592928            2  3093461        1261   \n",
       "8869317     73        1      2456345            1  2116146          64   \n",
       "8869318     64        1      2456345            1  2116146          64   \n",
       "15516145    64        1      3068256            1  2638858        1454   \n",
       "15704991    60        1      2087846            1  1803758           0   \n",
       "...        ...      ...          ...          ...      ...         ...   \n",
       "30802063    60  4000000      2769944            1  2381896           0   \n",
       "12161667    59  4000000      2490312            1  2144917           0   \n",
       "29153627    59  4000000      2687277            1  2312216        2046   \n",
       "24319295    58  4000000      2500260            1  2153299           0   \n",
       "1586593     57  4000000        71689            1    66208           0   \n",
       "\n",
       "          product_category  advertiser_id  industry  \n",
       "18768377                 2          10988         6  \n",
       "8869317                  2            188       245  \n",
       "8869318                  2            188       245  \n",
       "15516145                 2          23575       238  \n",
       "15704991                18          44865        64  \n",
       "...                    ...            ...       ...  \n",
       "30802063                18          45380       133  \n",
       "12161667                18          41654        26  \n",
       "29153627                 2          14155       247  \n",
       "24319295                18          24747        54  \n",
       "1586593                 18          14681         6  \n",
       "\n",
       "[33364962 rows x 9 columns]"
      ]
     },
     "execution_count": 36,
     "metadata": {},
     "output_type": "execute_result"
    }
   ],
   "source": [
    "df_user_features.groupby(\"user_id\").head(20)"
   ]
  },
  {
   "cell_type": "code",
   "execution_count": 38,
   "metadata": {
    "ExecuteTime": {
     "end_time": "2020-06-18T15:33:41.893698Z",
     "start_time": "2020-06-18T15:33:41.886076Z"
    }
   },
   "outputs": [],
   "source": [
    "def extract_user_creative_id(dfData,min_word_num=0):\n",
    "    '''\n",
    "    提取用户文本内容\n",
    "    Parameters\n",
    "    ----------\n",
    "    dfData：pandas.DataFrame，需包含列名['user_id','creative_id','ad_id','time','click_times','product_id','product_category','advertiser_id','industry']\n",
    "    min_word_num：最小词数要求，默认为0\n",
    "    Returns\n",
    "    ----------\n",
    "    user_list：list,用户各个id的分词序列\n",
    "    '''\n",
    "    user_list = []\n",
    "    count=0\n",
    "    exclude_num=0#不满足最小词数要求的用户数\n",
    "    for uid,group in dfData.groupby(\"user_id\"):\n",
    "        userinfo=[]\n",
    "        count+=1\n",
    "        click_times_list = group[\"click_times\"].values\n",
    "        click_times_len = click_times_list.shape[0]\n",
    "        userinfo.append(uid)\n",
    "        for id_col in ['time','creative_id','click_times','ad_id','product_id','product_category','advertiser_id','industry']:\n",
    "            id_list = group[id_col].values\n",
    "            segtitle=''\n",
    "            for i in range(0,click_times_len):\n",
    "                segtitle+=(str(id_list[i])+\" \")#*click_times_list[i]\n",
    "            #segtitle = \" \".join(seglist)\n",
    "            segtitle = segtitle.strip()\n",
    "            segtitle_len = len(segtitle.split(\" \"))\n",
    "            if segtitle!=\"\":\n",
    "                if segtitle_len>=min_word_num:  \n",
    "                    userinfo.append(segtitle)\n",
    "                else:\n",
    "                    exclude_num+=1\n",
    "                    if(exclude_num<=3):\n",
    "                        print(\"exclude_uid:\",uid)\n",
    "        if count<=3:\n",
    "            print(\"uid:\",uid)\n",
    "            print(\"userinfo:\",userinfo)\n",
    "        if count%100000==0:\n",
    "            print(count)\n",
    "        user_list.append(userinfo)\n",
    "    print(\"exclude_num:\",exclude_num)\n",
    "    print(\"处理记录总数量：\",count)\n",
    "    return user_list"
   ]
  },
  {
   "cell_type": "code",
   "execution_count": 39,
   "metadata": {
    "ExecuteTime": {
     "end_time": "2020-06-18T15:54:53.896051Z",
     "start_time": "2020-06-18T15:33:49.180779Z"
    },
    "scrolled": false
   },
   "outputs": [
    {
     "name": "stdout",
     "output_type": "stream",
     "text": [
      "uid: 1\n",
      "userinfo: [1, '76 73 64 64 60 52 46 43 40 39 20 20 20', '3592928 2456345 2456345 3068256 2087846 90171 1940159 71691 122032 1683713 877468 209778 821396', '2 1 1 1 1 1 1 1 1 1 1 1 1', '3093461 2116146 2116146 2638858 1803758 82421 1678901 66210 109959 1458878 773445 188507 724607', '1261 64 64 1454 0 0 0 0 1334 0 0 136 0', '2 2 2 2 18 5 5 18 2 5 5 2 5', '10988 188 188 23575 44865 367 17189 14681 11411 14668 29455 9702 7293', '6 245 245 238 64 217 73 326 0 326 106 6 326']\n",
      "uid: 2\n",
      "userinfo: [2, '90 89 88 87 87 85 78 77 77 77 73 72 68 67 60 60 60 59 55 53 53 53 53 51 49 49 49 49 48 44 44 42 42 42 41 39 38 38 28 28 28 17 14 11 10', '625944 4194247 513298 22013 15558 2270719 3574990 1416518 3765766 3766271 2995416 3443654 3246898 738378 2785305 2108551 2862407 2624965 2496722 647980 2143574 2489057 2552139 2369339 2085566 157180 396652 1696925 2085566 1145367 96192 1252062 1145367 1662244 1074235 769749 1696925 1657530 13069 1266180 441462 609050 39714 155822 63441', '1 1 1 1 2 1 1 1 1 1 1 1 1 1 1 1 1 1 1 1 1 1 1 1 1 1 1 1 1 1 1 1 1 1 1 1 1 1 1 1 1 1 1 1 1', '555841 3598073 456635 22877 16946 1959296 3078081 1235723 3238255 3238685 2576212 2964754 2793270 653169 2394728 1821340 2461002 2259448 2150246 575249 1851077 2143842 2197677 2042824 1801889 140916 354247 1469873 1801889 1003786 87644 1095314 1003786 1440744 942883 680028 1469873 1436687 14495 1107111 392680 541125 38066 139702 58788', '11119 0 1064 1323 107 1064 128 2065 1849 1849 2637 0 0 1064 129 15872 0 2103 0 154 129 80 111 0 129 1268 2031 0 129 0 0 129 0 0 111 0 0 1261 1400 0 87 129 129 80 87', '8 18 2 2 2 2 2 2 2 2 2 18 18 2 2 8 18 2 18 2 2 2 2 18 2 2 2 18 2 18 18 2 18 18 2 18 18 2 2 18 2 2 2 2 2', '20193 25704 33664 818 17951 38517 16473 25896 57597 57597 40936 14681 11989 33664 42272 45025 36700 52193 29097 14002 42272 10686 52049 14938 42272 2302 38785 26006 42272 27843 25260 20033 27843 13732 17284 34503 26006 918 768 34505 22885 25932 18562 10686 22885', '328 207 242 319 317 242 317 238 317 317 250 207 21 242 6 289 36 322 36 319 6 238 242 36 6 5 238 47 6 47 47 6 47 6 242 47 47 6 317 47 318 6 6 238 318']\n",
      "uid: 3\n",
      "userinfo: [3, '88 86 86 80 78 77 77 77 75 74 70 69 53 51 50 50 47 47 44 37 36 31 22 19 17 14 14 14 13 12', '2556703 2032927 3581615 2816845 3491821 3684862 3696597 3560473 599128 3255755 3403177 3386299 2502798 2081930 66009 1899318 2073029 2198902 1014211 72533 1725184 862241 1173863 392052 726940 593522 825434 710859 808612 661347', '1 1 1 1 1 1 1 1 1 1 1 1 1 1 1 1 1 1 1 1 1 1 1 1 1 1 1 1 1 1', '2201596 1757244 3083678 2421620 3007026 3171030 3180793 3065742 532510 2800842 2118485 2914064 2155455 1798799 60437 1640307 1791274 1898111 891470 66929 1493871 760110 1027874 350235 643108 527601 728308 629278 713448 586668', '23 38250 37243 37933 0 0 1873 1243 1261 2887 0 23 38847 0 0 0 1786 2258 0 0 2258 1786 1031 0 0 1674 35985 1674 40905 36256', '2 17 17 17 18 18 2 2 2 2 18 2 4 8 18 18 2 2 12 18 2 2 2 18 18 2 17 2 17 17', '28648 15120 17151 7516 8371 8371 31365 34656 918 52263 16895 55248 14498 15351 9970 16764 36384 48608 13119 14289 45169 39500 2336 8371 9058 17018 14186 18492 9877 32974', '319 0 0 0 54 54 322 322 6 247 205 319 0 0 205 205 322 322 302 205 322 322 6 54 6 322 0 322 0 0']\n",
      "100000\n",
      "200000\n",
      "300000\n",
      "400000\n",
      "500000\n",
      "600000\n",
      "700000\n",
      "800000\n",
      "900000\n",
      "1000000\n",
      "1100000\n",
      "1200000\n",
      "1300000\n",
      "1400000\n",
      "1500000\n",
      "1600000\n",
      "1700000\n",
      "1800000\n",
      "1900000\n",
      "exclude_num: 0\n",
      "处理记录总数量： 1900000\n"
     ]
    }
   ],
   "source": [
    "user_ad_list = extract_user_creative_id(df_user_features)"
   ]
  },
  {
   "cell_type": "code",
   "execution_count": 40,
   "metadata": {
    "ExecuteTime": {
     "end_time": "2020-06-18T15:58:29.189513Z",
     "start_time": "2020-06-18T15:58:25.610885Z"
    }
   },
   "outputs": [],
   "source": [
    "pd_user_ad_list = pd.DataFrame(user_ad_list,columns=['user_id','time','creative_id','click_times','ad_id','product_id','product_category','advertiser_id','industry'])"
   ]
  },
  {
   "cell_type": "markdown",
   "metadata": {},
   "source": [
    "导出预处理结果"
   ]
  },
  {
   "cell_type": "code",
   "execution_count": 41,
   "metadata": {
    "ExecuteTime": {
     "end_time": "2020-06-18T15:59:30.009766Z",
     "start_time": "2020-06-18T15:58:48.838306Z"
    }
   },
   "outputs": [],
   "source": [
    "pd_user_ad_list.to_csv(\"./data/pd_user_ad_id_seg_all_click_time.csv\",index=False)"
   ]
  },
  {
   "cell_type": "code",
   "execution_count": 278,
   "metadata": {
    "ExecuteTime": {
     "end_time": "2020-05-23T11:20:50.541309Z",
     "start_time": "2020-05-23T11:20:50.528639Z"
    },
    "scrolled": false
   },
   "outputs": [
    {
     "data": {
      "text/html": [
       "<div>\n",
       "<style scoped>\n",
       "    .dataframe tbody tr th:only-of-type {\n",
       "        vertical-align: middle;\n",
       "    }\n",
       "\n",
       "    .dataframe tbody tr th {\n",
       "        vertical-align: top;\n",
       "    }\n",
       "\n",
       "    .dataframe thead th {\n",
       "        text-align: right;\n",
       "    }\n",
       "</style>\n",
       "<table border=\"1\" class=\"dataframe\">\n",
       "  <thead>\n",
       "    <tr style=\"text-align: right;\">\n",
       "      <th></th>\n",
       "      <th>user_id</th>\n",
       "      <th>time</th>\n",
       "      <th>creative_id</th>\n",
       "      <th>click_times</th>\n",
       "      <th>ad_id</th>\n",
       "      <th>product_id</th>\n",
       "      <th>product_category</th>\n",
       "      <th>advertiser_id</th>\n",
       "      <th>industry</th>\n",
       "    </tr>\n",
       "  </thead>\n",
       "  <tbody>\n",
       "    <tr>\n",
       "      <th>0</th>\n",
       "      <td>1</td>\n",
       "      <td>20 20 20 39 40 43 46 52 60 64 64 73 76</td>\n",
       "      <td>877468 209778 821396 1683713 122032 71691 1940...</td>\n",
       "      <td>1 1 1 1 1 1 1 1 1 1 1 1 2</td>\n",
       "      <td>773445 188507 724607 1458878 109959 66210 1678...</td>\n",
       "      <td>0 136 0 0 1334 0 0 0 0 64 1454 64 1261</td>\n",
       "      <td>5 2 5 5 2 18 5 5 18 2 2 2 2</td>\n",
       "      <td>29455 9702 7293 14668 11411 14681 17189 367 44...</td>\n",
       "      <td>106 6 326 326 0 326 73 217 64 245 238 245 6</td>\n",
       "    </tr>\n",
       "    <tr>\n",
       "      <th>1</th>\n",
       "      <td>2</td>\n",
       "      <td>10 11 14 17 28 28 28 38 38 39 41 42 42 42 44 4...</td>\n",
       "      <td>63441 155822 39714 609050 13069 1266180 441462...</td>\n",
       "      <td>1 1 1 1 1 1 1 1 1 1 1 1 1 1 1 1 1 1 1 1 1 1 1 ...</td>\n",
       "      <td>58788 139702 38066 541125 14495 1107111 392680...</td>\n",
       "      <td>87 80 129 129 1400 0 87 0 1261 0 111 129 0 0 0...</td>\n",
       "      <td>2 2 2 2 2 18 2 18 2 18 2 2 18 18 18 18 2 2 2 2...</td>\n",
       "      <td>22885 10686 18562 25932 768 34505 22885 26006 ...</td>\n",
       "      <td>318 238 6 6 317 47 318 47 6 47 242 6 47 6 47 4...</td>\n",
       "    </tr>\n",
       "    <tr>\n",
       "      <th>2</th>\n",
       "      <td>3</td>\n",
       "      <td>12 13 14 14 14 17 19 22 31 36 37 44 47 47 50 5...</td>\n",
       "      <td>661347 808612 593522 825434 710859 726940 3920...</td>\n",
       "      <td>1 1 1 1 1 1 1 1 1 1 1 1 1 1 1 1 1 1 1 1 1 1 1 ...</td>\n",
       "      <td>586668 713448 527601 728308 629278 643108 3502...</td>\n",
       "      <td>36256 40905 1674 35985 1674 0 0 1031 1786 2258...</td>\n",
       "      <td>17 17 2 17 2 18 18 2 2 2 18 12 2 2 18 18 8 4 2...</td>\n",
       "      <td>32974 9877 17018 14186 18492 9058 8371 2336 39...</td>\n",
       "      <td>0 0 322 0 322 6 54 6 322 322 205 302 322 322 2...</td>\n",
       "    </tr>\n",
       "    <tr>\n",
       "      <th>3</th>\n",
       "      <td>4</td>\n",
       "      <td>8 15 41 44 48 48 48 48 49 52 58 58 59 61 62 62...</td>\n",
       "      <td>39588 589886 574787 1892854 1230094 31070 2264...</td>\n",
       "      <td>1 1 1 1 1 1 1 1 1 1 1 1 1 1 1 1 1 1 1 1 1 1 1 ...</td>\n",
       "      <td>37966 524312 511235 1638619 1076286 30773 1953...</td>\n",
       "      <td>1862 0 2625 38743 39904 39422 37758 41265 0 15...</td>\n",
       "      <td>2 18 2 17 17 17 4 17 18 2 2 2 2 2 2 2 2 2 5 2 ...</td>\n",
       "      <td>19451 7976 13084 12130 10172 13299 811 23664 1...</td>\n",
       "      <td>238 25 248 0 0 0 0 0 88 319 6 238 319 238 319 ...</td>\n",
       "    </tr>\n",
       "    <tr>\n",
       "      <th>4</th>\n",
       "      <td>5</td>\n",
       "      <td>3 13 14 15 20 21 24 25 27 28 29 30 32 32 35 35...</td>\n",
       "      <td>296145 350759 24333 43235 852327 1054434 12964...</td>\n",
       "      <td>1 1 1 1 1 2 1 1 1 1 1 1 1 1 1 1 1 1 1 1 1 1 1 ...</td>\n",
       "      <td>265971 314795 24966 41148 751113 925792 113378...</td>\n",
       "      <td>0 0 87 136 0 136 0 0 0 1064 0 2620 0 0 0 136 2...</td>\n",
       "      <td>5 8 2 2 18 2 5 18 18 2 18 2 5 5 18 2 2 18 18 5...</td>\n",
       "      <td>11882 992 22885 9706 38760 2862 17745 31552 22...</td>\n",
       "      <td>297 0 318 6 322 6 288 322 319 238 322 322 203 ...</td>\n",
       "    </tr>\n",
       "  </tbody>\n",
       "</table>\n",
       "</div>"
      ],
      "text/plain": [
       "   user_id                                               time  \\\n",
       "0        1             20 20 20 39 40 43 46 52 60 64 64 73 76   \n",
       "1        2  10 11 14 17 28 28 28 38 38 39 41 42 42 42 44 4...   \n",
       "2        3  12 13 14 14 14 17 19 22 31 36 37 44 47 47 50 5...   \n",
       "3        4  8 15 41 44 48 48 48 48 49 52 58 58 59 61 62 62...   \n",
       "4        5  3 13 14 15 20 21 24 25 27 28 29 30 32 32 35 35...   \n",
       "\n",
       "                                         creative_id  \\\n",
       "0  877468 209778 821396 1683713 122032 71691 1940...   \n",
       "1  63441 155822 39714 609050 13069 1266180 441462...   \n",
       "2  661347 808612 593522 825434 710859 726940 3920...   \n",
       "3  39588 589886 574787 1892854 1230094 31070 2264...   \n",
       "4  296145 350759 24333 43235 852327 1054434 12964...   \n",
       "\n",
       "                                         click_times  \\\n",
       "0                          1 1 1 1 1 1 1 1 1 1 1 1 2   \n",
       "1  1 1 1 1 1 1 1 1 1 1 1 1 1 1 1 1 1 1 1 1 1 1 1 ...   \n",
       "2  1 1 1 1 1 1 1 1 1 1 1 1 1 1 1 1 1 1 1 1 1 1 1 ...   \n",
       "3  1 1 1 1 1 1 1 1 1 1 1 1 1 1 1 1 1 1 1 1 1 1 1 ...   \n",
       "4  1 1 1 1 1 2 1 1 1 1 1 1 1 1 1 1 1 1 1 1 1 1 1 ...   \n",
       "\n",
       "                                               ad_id  \\\n",
       "0  773445 188507 724607 1458878 109959 66210 1678...   \n",
       "1  58788 139702 38066 541125 14495 1107111 392680...   \n",
       "2  586668 713448 527601 728308 629278 643108 3502...   \n",
       "3  37966 524312 511235 1638619 1076286 30773 1953...   \n",
       "4  265971 314795 24966 41148 751113 925792 113378...   \n",
       "\n",
       "                                          product_id  \\\n",
       "0             0 136 0 0 1334 0 0 0 0 64 1454 64 1261   \n",
       "1  87 80 129 129 1400 0 87 0 1261 0 111 129 0 0 0...   \n",
       "2  36256 40905 1674 35985 1674 0 0 1031 1786 2258...   \n",
       "3  1862 0 2625 38743 39904 39422 37758 41265 0 15...   \n",
       "4  0 0 87 136 0 136 0 0 0 1064 0 2620 0 0 0 136 2...   \n",
       "\n",
       "                                    product_category  \\\n",
       "0                        5 2 5 5 2 18 5 5 18 2 2 2 2   \n",
       "1  2 2 2 2 2 18 2 18 2 18 2 2 18 18 18 18 2 2 2 2...   \n",
       "2  17 17 2 17 2 18 18 2 2 2 18 12 2 2 18 18 8 4 2...   \n",
       "3  2 18 2 17 17 17 4 17 18 2 2 2 2 2 2 2 2 2 5 2 ...   \n",
       "4  5 8 2 2 18 2 5 18 18 2 18 2 5 5 18 2 2 18 18 5...   \n",
       "\n",
       "                                       advertiser_id  \\\n",
       "0  29455 9702 7293 14668 11411 14681 17189 367 44...   \n",
       "1  22885 10686 18562 25932 768 34505 22885 26006 ...   \n",
       "2  32974 9877 17018 14186 18492 9058 8371 2336 39...   \n",
       "3  19451 7976 13084 12130 10172 13299 811 23664 1...   \n",
       "4  11882 992 22885 9706 38760 2862 17745 31552 22...   \n",
       "\n",
       "                                            industry  \n",
       "0        106 6 326 326 0 326 73 217 64 245 238 245 6  \n",
       "1  318 238 6 6 317 47 318 47 6 47 242 6 47 6 47 4...  \n",
       "2  0 0 322 0 322 6 54 6 322 322 205 302 322 322 2...  \n",
       "3  238 25 248 0 0 0 0 0 88 319 6 238 319 238 319 ...  \n",
       "4  297 0 318 6 322 6 288 322 319 238 322 322 203 ...  "
      ]
     },
     "execution_count": 278,
     "metadata": {},
     "output_type": "execute_result"
    }
   ],
   "source": [
    "pd_user_ad_list.head()"
   ]
  },
  {
   "cell_type": "markdown",
   "metadata": {},
   "source": [
    "观察数据分布"
   ]
  },
  {
   "cell_type": "code",
   "execution_count": null,
   "metadata": {
    "ExecuteTime": {
     "end_time": "2020-06-29T03:23:45.202464Z",
     "start_time": "2020-06-29T03:23:45.189601Z"
    }
   },
   "outputs": [],
   "source": [
    "#用户点击id个数\n",
    "pd_user_ad_list['word_count'] = pd_user_ad_list['click_times'].apply(lambda x:len(x.split(\" \")))"
   ]
  },
  {
   "cell_type": "code",
   "execution_count": 3,
   "metadata": {
    "ExecuteTime": {
     "end_time": "2020-06-29T03:23:25.181840Z",
     "start_time": "2020-06-29T03:23:25.175912Z"
    }
   },
   "outputs": [],
   "source": [
    "#用户单日最大点击次数\n",
    "def max_day_click_times(item):\n",
    "    click_list = item.split(\" \")\n",
    "    max_time=1\n",
    "    for click_time in click_list:\n",
    "        max_time=max(int(click_time),max_time)\n",
    "    return max_time"
   ]
  },
  {
   "cell_type": "code",
   "execution_count": 206,
   "metadata": {
    "ExecuteTime": {
     "end_time": "2020-05-23T07:34:24.087439Z",
     "start_time": "2020-05-23T07:34:01.046458Z"
    }
   },
   "outputs": [],
   "source": [
    "pd_user_ad_list['max_day_click_times'] = pd_user_ad_list['click_times'].apply(max_day_click_times)"
   ]
  },
  {
   "cell_type": "code",
   "execution_count": 212,
   "metadata": {
    "ExecuteTime": {
     "end_time": "2020-05-23T07:39:07.590836Z",
     "start_time": "2020-05-23T07:39:07.531721Z"
    },
    "scrolled": true
   },
   "outputs": [
    {
     "data": {
      "text/plain": [
       "count     1.900000e+06\n",
       "mean      1.797689e+00\n",
       "std       9.286576e-01\n",
       "min       1.000000e+00\n",
       "5%        1.000000e+00\n",
       "25%       1.000000e+00\n",
       "50%       2.000000e+00\n",
       "75%       2.000000e+00\n",
       "95%       3.000000e+00\n",
       "99%       5.000000e+00\n",
       "99.9%     9.000000e+00\n",
       "99.99%    1.600000e+01\n",
       "max       1.850000e+02\n",
       "Name: max_day_click_times, dtype: float64"
      ]
     },
     "execution_count": 212,
     "metadata": {},
     "output_type": "execute_result"
    }
   ],
   "source": [
    "pd_user_ad_list['max_day_click_times'].describe(percentiles=[0.05,0.25,0.5,0.75,0.95,0.99,0.999,0.9999])"
   ]
  },
  {
   "cell_type": "code",
   "execution_count": 213,
   "metadata": {
    "ExecuteTime": {
     "end_time": "2020-05-23T07:39:17.273475Z",
     "start_time": "2020-05-23T07:39:17.262052Z"
    },
    "scrolled": false
   },
   "outputs": [
    {
     "data": {
      "text/html": [
       "<div>\n",
       "<style scoped>\n",
       "    .dataframe tbody tr th:only-of-type {\n",
       "        vertical-align: middle;\n",
       "    }\n",
       "\n",
       "    .dataframe tbody tr th {\n",
       "        vertical-align: top;\n",
       "    }\n",
       "\n",
       "    .dataframe thead th {\n",
       "        text-align: right;\n",
       "    }\n",
       "</style>\n",
       "<table border=\"1\" class=\"dataframe\">\n",
       "  <thead>\n",
       "    <tr style=\"text-align: right;\">\n",
       "      <th></th>\n",
       "      <th>user_id</th>\n",
       "      <th>creative_id</th>\n",
       "      <th>click_times</th>\n",
       "      <th>product_id</th>\n",
       "      <th>product_category</th>\n",
       "      <th>advertiser_id</th>\n",
       "      <th>industry</th>\n",
       "      <th>word_count</th>\n",
       "      <th>max_day_click_times</th>\n",
       "    </tr>\n",
       "  </thead>\n",
       "  <tbody>\n",
       "    <tr>\n",
       "      <th>0</th>\n",
       "      <td>1</td>\n",
       "      <td>877468 209778 821396 1683713 122032 71691 1940...</td>\n",
       "      <td>1 1 1 1 1 1 1 1 1 1 1 1 2</td>\n",
       "      <td>0 136 0 0 1334 0 0 0 0 64 1454 64 1261</td>\n",
       "      <td>5 2 5 5 2 18 5 5 18 2 2 2 2</td>\n",
       "      <td>29455 9702 7293 14668 11411 14681 17189 367 44...</td>\n",
       "      <td>106 6 326 326 0 326 73 217 64 245 238 245 6</td>\n",
       "      <td>13</td>\n",
       "      <td>2</td>\n",
       "    </tr>\n",
       "    <tr>\n",
       "      <th>1</th>\n",
       "      <td>2</td>\n",
       "      <td>63441 155822 39714 609050 13069 1266180 441462...</td>\n",
       "      <td>1 1 1 1 1 1 1 1 1 1 1 1 1 1 1 1 1 1 1 1 1 1 1 ...</td>\n",
       "      <td>87 80 129 129 1400 0 87 0 1261 0 111 129 0 0 0...</td>\n",
       "      <td>2 2 2 2 2 18 2 18 2 18 2 2 18 18 18 18 2 2 2 2...</td>\n",
       "      <td>22885 10686 18562 25932 768 34505 22885 26006 ...</td>\n",
       "      <td>318 238 6 6 317 47 318 47 6 47 242 6 47 6 47 4...</td>\n",
       "      <td>45</td>\n",
       "      <td>2</td>\n",
       "    </tr>\n",
       "    <tr>\n",
       "      <th>2</th>\n",
       "      <td>3</td>\n",
       "      <td>661347 808612 593522 825434 710859 726940 3920...</td>\n",
       "      <td>1 1 1 1 1 1 1 1 1 1 1 1 1 1 1 1 1 1 1 1 1 1 1 ...</td>\n",
       "      <td>36256 40905 1674 35985 1674 0 0 1031 1786 2258...</td>\n",
       "      <td>17 17 2 17 2 18 18 2 2 2 18 12 2 2 18 18 8 4 2...</td>\n",
       "      <td>32974 9877 17018 14186 18492 9058 8371 2336 39...</td>\n",
       "      <td>0 0 322 0 322 6 54 6 322 322 205 302 322 322 2...</td>\n",
       "      <td>30</td>\n",
       "      <td>1</td>\n",
       "    </tr>\n",
       "    <tr>\n",
       "      <th>3</th>\n",
       "      <td>4</td>\n",
       "      <td>39588 589886 574787 1892854 1230094 31070 2264...</td>\n",
       "      <td>1 1 1 1 1 1 1 1 1 1 1 1 1 1 1 1 1 1 1 1 1 1 1 ...</td>\n",
       "      <td>1862 0 2625 38743 39904 39422 37758 41265 0 15...</td>\n",
       "      <td>2 18 2 17 17 17 4 17 18 2 2 2 2 2 2 2 2 2 5 2 ...</td>\n",
       "      <td>19451 7976 13084 12130 10172 13299 811 23664 1...</td>\n",
       "      <td>238 25 248 0 0 0 0 0 88 319 6 238 319 238 319 ...</td>\n",
       "      <td>29</td>\n",
       "      <td>1</td>\n",
       "    </tr>\n",
       "    <tr>\n",
       "      <th>4</th>\n",
       "      <td>5</td>\n",
       "      <td>296145 350759 24333 43235 852327 1054434 12964...</td>\n",
       "      <td>1 1 1 1 1 2 1 1 1 1 1 1 1 1 1 1 1 1 1 1 1 1 1 ...</td>\n",
       "      <td>0 0 87 136 0 136 0 0 0 1064 0 2620 0 0 0 136 2...</td>\n",
       "      <td>5 8 2 2 18 2 5 18 18 2 18 2 5 5 18 2 2 18 18 5...</td>\n",
       "      <td>11882 992 22885 9706 38760 2862 17745 31552 22...</td>\n",
       "      <td>297 0 318 6 322 6 288 322 319 238 322 322 203 ...</td>\n",
       "      <td>33</td>\n",
       "      <td>2</td>\n",
       "    </tr>\n",
       "  </tbody>\n",
       "</table>\n",
       "</div>"
      ],
      "text/plain": [
       "   user_id                                        creative_id  \\\n",
       "0        1  877468 209778 821396 1683713 122032 71691 1940...   \n",
       "1        2  63441 155822 39714 609050 13069 1266180 441462...   \n",
       "2        3  661347 808612 593522 825434 710859 726940 3920...   \n",
       "3        4  39588 589886 574787 1892854 1230094 31070 2264...   \n",
       "4        5  296145 350759 24333 43235 852327 1054434 12964...   \n",
       "\n",
       "                                         click_times  \\\n",
       "0                          1 1 1 1 1 1 1 1 1 1 1 1 2   \n",
       "1  1 1 1 1 1 1 1 1 1 1 1 1 1 1 1 1 1 1 1 1 1 1 1 ...   \n",
       "2  1 1 1 1 1 1 1 1 1 1 1 1 1 1 1 1 1 1 1 1 1 1 1 ...   \n",
       "3  1 1 1 1 1 1 1 1 1 1 1 1 1 1 1 1 1 1 1 1 1 1 1 ...   \n",
       "4  1 1 1 1 1 2 1 1 1 1 1 1 1 1 1 1 1 1 1 1 1 1 1 ...   \n",
       "\n",
       "                                          product_id  \\\n",
       "0             0 136 0 0 1334 0 0 0 0 64 1454 64 1261   \n",
       "1  87 80 129 129 1400 0 87 0 1261 0 111 129 0 0 0...   \n",
       "2  36256 40905 1674 35985 1674 0 0 1031 1786 2258...   \n",
       "3  1862 0 2625 38743 39904 39422 37758 41265 0 15...   \n",
       "4  0 0 87 136 0 136 0 0 0 1064 0 2620 0 0 0 136 2...   \n",
       "\n",
       "                                    product_category  \\\n",
       "0                        5 2 5 5 2 18 5 5 18 2 2 2 2   \n",
       "1  2 2 2 2 2 18 2 18 2 18 2 2 18 18 18 18 2 2 2 2...   \n",
       "2  17 17 2 17 2 18 18 2 2 2 18 12 2 2 18 18 8 4 2...   \n",
       "3  2 18 2 17 17 17 4 17 18 2 2 2 2 2 2 2 2 2 5 2 ...   \n",
       "4  5 8 2 2 18 2 5 18 18 2 18 2 5 5 18 2 2 18 18 5...   \n",
       "\n",
       "                                       advertiser_id  \\\n",
       "0  29455 9702 7293 14668 11411 14681 17189 367 44...   \n",
       "1  22885 10686 18562 25932 768 34505 22885 26006 ...   \n",
       "2  32974 9877 17018 14186 18492 9058 8371 2336 39...   \n",
       "3  19451 7976 13084 12130 10172 13299 811 23664 1...   \n",
       "4  11882 992 22885 9706 38760 2862 17745 31552 22...   \n",
       "\n",
       "                                            industry  word_count  \\\n",
       "0        106 6 326 326 0 326 73 217 64 245 238 245 6          13   \n",
       "1  318 238 6 6 317 47 318 47 6 47 242 6 47 6 47 4...          45   \n",
       "2  0 0 322 0 322 6 54 6 322 322 205 302 322 322 2...          30   \n",
       "3  238 25 248 0 0 0 0 0 88 319 6 238 319 238 319 ...          29   \n",
       "4  297 0 318 6 322 6 288 322 319 238 322 322 203 ...          33   \n",
       "\n",
       "   max_day_click_times  \n",
       "0                    2  \n",
       "1                    2  \n",
       "2                    1  \n",
       "3                    1  \n",
       "4                    2  "
      ]
     },
     "execution_count": 213,
     "metadata": {},
     "output_type": "execute_result"
    }
   ],
   "source": [
    "pd_user_ad_list.head()"
   ]
  },
  {
   "cell_type": "code",
   "execution_count": 204,
   "metadata": {
    "ExecuteTime": {
     "end_time": "2020-05-23T07:27:54.146751Z",
     "start_time": "2020-05-23T07:27:54.075112Z"
    }
   },
   "outputs": [
    {
     "data": {
      "text/plain": [
       "count    1.900000e+06\n",
       "mean     3.350962e+01\n",
       "std      9.479383e+01\n",
       "min      2.000000e+00\n",
       "5%       1.000000e+01\n",
       "25%      1.500000e+01\n",
       "50%      2.400000e+01\n",
       "75%      4.000000e+01\n",
       "95%      8.900000e+01\n",
       "99%      1.570000e+02\n",
       "max      1.139740e+05\n",
       "Name: word_count, dtype: float64"
      ]
     },
     "execution_count": 204,
     "metadata": {},
     "output_type": "execute_result"
    }
   ],
   "source": [
    "pd_user_ad_list['word_count'].describe(percentiles=[0.05,0.25,0.5,0.75,0.95,0.99])"
   ]
  }
 ],
 "metadata": {
  "kernelspec": {
   "display_name": "Python 3",
   "language": "python",
   "name": "python3"
  },
  "language_info": {
   "codemirror_mode": {
    "name": "ipython",
    "version": 3
   },
   "file_extension": ".py",
   "mimetype": "text/x-python",
   "name": "python",
   "nbconvert_exporter": "python",
   "pygments_lexer": "ipython3",
   "version": "3.6.5"
  },
  "toc": {
   "base_numbering": 1,
   "nav_menu": {},
   "number_sections": true,
   "sideBar": true,
   "skip_h1_title": false,
   "title_cell": "Table of Contents",
   "title_sidebar": "Contents",
   "toc_cell": false,
   "toc_position": {
    "height": "calc(100% - 180px)",
    "left": "10px",
    "top": "150px",
    "width": "307.2px"
   },
   "toc_section_display": true,
   "toc_window_display": true
  },
  "varInspector": {
   "cols": {
    "lenName": 16,
    "lenType": 16,
    "lenVar": 40
   },
   "kernels_config": {
    "python": {
     "delete_cmd_postfix": "",
     "delete_cmd_prefix": "del ",
     "library": "var_list.py",
     "varRefreshCmd": "print(var_dic_list())"
    },
    "r": {
     "delete_cmd_postfix": ") ",
     "delete_cmd_prefix": "rm(",
     "library": "var_list.r",
     "varRefreshCmd": "cat(var_dic_list()) "
    }
   },
   "types_to_exclude": [
    "module",
    "function",
    "builtin_function_or_method",
    "instance",
    "_Feature"
   ],
   "window_display": false
  }
 },
 "nbformat": 4,
 "nbformat_minor": 4
}
