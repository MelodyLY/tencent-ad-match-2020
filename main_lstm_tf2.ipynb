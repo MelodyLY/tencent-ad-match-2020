{
 "cells": [
  {
   "cell_type": "markdown",
   "metadata": {},
   "source": [
    "# age|gender预测-BiLSTM版"
   ]
  },
  {
   "cell_type": "code",
   "execution_count": 1,
   "metadata": {
    "ExecuteTime": {
     "end_time": "2020-06-28T06:32:56.500093Z",
     "start_time": "2020-06-28T06:32:55.312013Z"
    }
   },
   "outputs": [],
   "source": [
    "import numpy as np\n",
    "import pandas as pd\n",
    "import matplotlib as mpl\n",
    "from matplotlib import pyplot as plt\n",
    "from sklearn.metrics import make_scorer\n",
    "from sklearn.model_selection import StratifiedKFold\n",
    "from sklearn.metrics import accuracy_score"
   ]
  },
  {
   "cell_type": "code",
   "execution_count": 2,
   "metadata": {
    "ExecuteTime": {
     "end_time": "2020-06-28T06:32:56.504463Z",
     "start_time": "2020-06-28T06:32:56.501986Z"
    }
   },
   "outputs": [],
   "source": [
    "from sklearn.model_selection import train_test_split"
   ]
  },
  {
   "cell_type": "code",
   "execution_count": 3,
   "metadata": {
    "ExecuteTime": {
     "end_time": "2020-06-28T06:32:56.508203Z",
     "start_time": "2020-06-28T06:32:56.506127Z"
    }
   },
   "outputs": [],
   "source": [
    "import gc"
   ]
  },
  {
   "cell_type": "code",
   "execution_count": 4,
   "metadata": {
    "ExecuteTime": {
     "end_time": "2020-06-28T06:33:00.300985Z",
     "start_time": "2020-06-28T06:32:56.690206Z"
    }
   },
   "outputs": [],
   "source": [
    "import tensorflow as tf"
   ]
  },
  {
   "cell_type": "code",
   "execution_count": 5,
   "metadata": {
    "ExecuteTime": {
     "end_time": "2020-06-28T06:33:02.140962Z",
     "start_time": "2020-06-28T06:33:02.128016Z"
    },
    "scrolled": false
   },
   "outputs": [],
   "source": [
    "from tensorflow import keras\n",
    "from tensorflow.keras import layers"
   ]
  },
  {
   "cell_type": "code",
   "execution_count": 6,
   "metadata": {
    "ExecuteTime": {
     "end_time": "2020-06-28T06:33:03.047759Z",
     "start_time": "2020-06-28T06:33:03.042415Z"
    }
   },
   "outputs": [
    {
     "data": {
      "text/plain": [
       "'2.1.0'"
      ]
     },
     "execution_count": 6,
     "metadata": {},
     "output_type": "execute_result"
    }
   ],
   "source": [
    "tf.__version__"
   ]
  },
  {
   "cell_type": "code",
   "execution_count": 7,
   "metadata": {
    "ExecuteTime": {
     "end_time": "2020-06-28T06:33:14.994250Z",
     "start_time": "2020-06-28T06:33:14.960663Z"
    }
   },
   "outputs": [
    {
     "data": {
      "text/plain": [
       "[PhysicalDevice(name='/physical_device:GPU:0', device_type='GPU')]"
      ]
     },
     "execution_count": 7,
     "metadata": {},
     "output_type": "execute_result"
    }
   ],
   "source": [
    "tf.config.experimental.list_physical_devices(device_type='GPU')"
   ]
  },
  {
   "cell_type": "markdown",
   "metadata": {},
   "source": [
    "设置显存按需增长，防止程序独占gpu显存"
   ]
  },
  {
   "cell_type": "code",
   "execution_count": 8,
   "metadata": {
    "ExecuteTime": {
     "end_time": "2020-06-28T06:33:15.574030Z",
     "start_time": "2020-06-28T06:33:15.569870Z"
    }
   },
   "outputs": [],
   "source": [
    "if tf.__version__.startswith('1.'):  # tensorflow 1\n",
    "    config = tf.ConfigProto()  # allow_soft_placement=True\n",
    "    config.gpu_options.allow_growth = True\n",
    "    sess = tf.Session(config=config)\n",
    "else:  # tensorflow 2\n",
    "    gpus = tf.config.experimental.list_physical_devices(device_type='GPU')\n",
    "    for gpu in gpus:\n",
    "        tf.config.experimental.set_memory_growth(gpu, True)"
   ]
  },
  {
   "cell_type": "code",
   "execution_count": 9,
   "metadata": {
    "ExecuteTime": {
     "end_time": "2020-06-28T06:33:16.487320Z",
     "start_time": "2020-06-28T06:33:16.384331Z"
    },
    "scrolled": true
   },
   "outputs": [],
   "source": [
    "%load_ext autoreload\n",
    "%autoreload 2"
   ]
  },
  {
   "cell_type": "markdown",
   "metadata": {},
   "source": [
    "## 载入数据"
   ]
  },
  {
   "cell_type": "markdown",
   "metadata": {},
   "source": [
    "### 载入点击日志"
   ]
  },
  {
   "cell_type": "code",
   "execution_count": 10,
   "metadata": {
    "ExecuteTime": {
     "end_time": "2020-06-28T06:33:50.787186Z",
     "start_time": "2020-06-28T06:33:20.416619Z"
    }
   },
   "outputs": [],
   "source": [
    "pd_user_ad_list = pd.read_csv(\"./data/pd_user_ad_id_seg_all_click_time.csv\")"
   ]
  },
  {
   "cell_type": "code",
   "execution_count": 11,
   "metadata": {
    "ExecuteTime": {
     "end_time": "2020-06-28T06:33:50.847474Z",
     "start_time": "2020-06-28T06:33:50.789364Z"
    }
   },
   "outputs": [
    {
     "data": {
      "text/plain": [
       "(1900000, 9)"
      ]
     },
     "execution_count": 11,
     "metadata": {},
     "output_type": "execute_result"
    }
   ],
   "source": [
    "pd_user_ad_list.shape"
   ]
  },
  {
   "cell_type": "code",
   "execution_count": 11,
   "metadata": {
    "ExecuteTime": {
     "end_time": "2020-06-19T15:33:55.164338Z",
     "start_time": "2020-06-19T15:33:55.094249Z"
    }
   },
   "outputs": [
    {
     "data": {
      "text/plain": [
       "user_id              int64\n",
       "time                object\n",
       "creative_id         object\n",
       "click_times         object\n",
       "ad_id               object\n",
       "product_id          object\n",
       "product_category    object\n",
       "advertiser_id       object\n",
       "industry            object\n",
       "dtype: object"
      ]
     },
     "execution_count": 11,
     "metadata": {},
     "output_type": "execute_result"
    }
   ],
   "source": [
    "pd_user_ad_list.dtypes"
   ]
  },
  {
   "cell_type": "code",
   "execution_count": 12,
   "metadata": {
    "ExecuteTime": {
     "end_time": "2020-06-19T15:33:55.234186Z",
     "start_time": "2020-06-19T15:33:55.165994Z"
    },
    "scrolled": false
   },
   "outputs": [
    {
     "data": {
      "text/html": [
       "<div>\n",
       "<style scoped>\n",
       "    .dataframe tbody tr th:only-of-type {\n",
       "        vertical-align: middle;\n",
       "    }\n",
       "\n",
       "    .dataframe tbody tr th {\n",
       "        vertical-align: top;\n",
       "    }\n",
       "\n",
       "    .dataframe thead th {\n",
       "        text-align: right;\n",
       "    }\n",
       "</style>\n",
       "<table border=\"1\" class=\"dataframe\">\n",
       "  <thead>\n",
       "    <tr style=\"text-align: right;\">\n",
       "      <th></th>\n",
       "      <th>user_id</th>\n",
       "      <th>time</th>\n",
       "      <th>creative_id</th>\n",
       "      <th>click_times</th>\n",
       "      <th>ad_id</th>\n",
       "      <th>product_id</th>\n",
       "      <th>product_category</th>\n",
       "      <th>advertiser_id</th>\n",
       "      <th>industry</th>\n",
       "    </tr>\n",
       "  </thead>\n",
       "  <tbody>\n",
       "    <tr>\n",
       "      <th>0</th>\n",
       "      <td>1</td>\n",
       "      <td>20 20 20 39 40 43 46 52 60 64 64 73 76</td>\n",
       "      <td>877468 209778 821396 1683713 122032 71691 1940...</td>\n",
       "      <td>1 1 1 1 1 1 1 1 1 1 1 1 2</td>\n",
       "      <td>773445 188507 724607 1458878 109959 66210 1678...</td>\n",
       "      <td>0 136 0 0 1334 0 0 0 0 64 1454 64 1261</td>\n",
       "      <td>5 2 5 5 2 18 5 5 18 2 2 2 2</td>\n",
       "      <td>29455 9702 7293 14668 11411 14681 17189 367 44...</td>\n",
       "      <td>106 6 326 326 0 326 73 217 64 245 238 245 6</td>\n",
       "    </tr>\n",
       "    <tr>\n",
       "      <th>1</th>\n",
       "      <td>2</td>\n",
       "      <td>10 11 14 17 28 28 28 38 38 39 41 42 42 42 44 4...</td>\n",
       "      <td>63441 155822 39714 609050 13069 1266180 441462...</td>\n",
       "      <td>1 1 1 1 1 1 1 1 1 1 1 1 1 1 1 1 1 1 1 1 1 1 1 ...</td>\n",
       "      <td>58788 139702 38066 541125 14495 1107111 392680...</td>\n",
       "      <td>87 80 129 129 1400 0 87 0 1261 0 111 129 0 0 0...</td>\n",
       "      <td>2 2 2 2 2 18 2 18 2 18 2 2 18 18 18 18 2 2 2 2...</td>\n",
       "      <td>22885 10686 18562 25932 768 34505 22885 26006 ...</td>\n",
       "      <td>318 238 6 6 317 47 318 47 6 47 242 6 47 6 47 4...</td>\n",
       "    </tr>\n",
       "    <tr>\n",
       "      <th>2</th>\n",
       "      <td>3</td>\n",
       "      <td>12 13 14 14 14 17 19 22 31 36 37 44 47 47 50 5...</td>\n",
       "      <td>661347 808612 593522 825434 710859 726940 3920...</td>\n",
       "      <td>1 1 1 1 1 1 1 1 1 1 1 1 1 1 1 1 1 1 1 1 1 1 1 ...</td>\n",
       "      <td>586668 713448 527601 728308 629278 643108 3502...</td>\n",
       "      <td>36256 40905 1674 35985 1674 0 0 1031 1786 2258...</td>\n",
       "      <td>17 17 2 17 2 18 18 2 2 2 18 12 2 2 18 18 8 4 2...</td>\n",
       "      <td>32974 9877 17018 14186 18492 9058 8371 2336 39...</td>\n",
       "      <td>0 0 322 0 322 6 54 6 322 322 205 302 322 322 2...</td>\n",
       "    </tr>\n",
       "    <tr>\n",
       "      <th>3</th>\n",
       "      <td>4</td>\n",
       "      <td>8 15 41 44 48 48 48 48 49 52 58 58 59 61 62 62...</td>\n",
       "      <td>39588 589886 574787 1892854 1230094 31070 2264...</td>\n",
       "      <td>1 1 1 1 1 1 1 1 1 1 1 1 1 1 1 1 1 1 1 1 1 1 1 ...</td>\n",
       "      <td>37966 524312 511235 1638619 1076286 30773 1953...</td>\n",
       "      <td>1862 0 2625 38743 39904 39422 37758 41265 0 15...</td>\n",
       "      <td>2 18 2 17 17 17 4 17 18 2 2 2 2 2 2 2 2 2 5 2 ...</td>\n",
       "      <td>19451 7976 13084 12130 10172 13299 811 23664 1...</td>\n",
       "      <td>238 25 248 0 0 0 0 0 88 319 6 238 319 238 319 ...</td>\n",
       "    </tr>\n",
       "    <tr>\n",
       "      <th>4</th>\n",
       "      <td>5</td>\n",
       "      <td>3 13 14 15 20 21 24 25 27 28 29 30 32 32 35 35...</td>\n",
       "      <td>296145 350759 24333 43235 852327 1054434 12964...</td>\n",
       "      <td>1 1 1 1 1 2 1 1 1 1 1 1 1 1 1 1 1 1 1 1 1 1 1 ...</td>\n",
       "      <td>265971 314795 24966 41148 751113 925792 113378...</td>\n",
       "      <td>0 0 87 136 0 136 0 0 0 1064 0 2620 0 0 0 136 2...</td>\n",
       "      <td>5 8 2 2 18 2 5 18 18 2 18 2 5 5 18 2 2 18 18 5...</td>\n",
       "      <td>11882 992 22885 9706 38760 2862 17745 31552 22...</td>\n",
       "      <td>297 0 318 6 322 6 288 322 319 238 322 322 203 ...</td>\n",
       "    </tr>\n",
       "  </tbody>\n",
       "</table>\n",
       "</div>"
      ],
      "text/plain": [
       "   user_id                                               time  \\\n",
       "0        1             20 20 20 39 40 43 46 52 60 64 64 73 76   \n",
       "1        2  10 11 14 17 28 28 28 38 38 39 41 42 42 42 44 4...   \n",
       "2        3  12 13 14 14 14 17 19 22 31 36 37 44 47 47 50 5...   \n",
       "3        4  8 15 41 44 48 48 48 48 49 52 58 58 59 61 62 62...   \n",
       "4        5  3 13 14 15 20 21 24 25 27 28 29 30 32 32 35 35...   \n",
       "\n",
       "                                         creative_id  \\\n",
       "0  877468 209778 821396 1683713 122032 71691 1940...   \n",
       "1  63441 155822 39714 609050 13069 1266180 441462...   \n",
       "2  661347 808612 593522 825434 710859 726940 3920...   \n",
       "3  39588 589886 574787 1892854 1230094 31070 2264...   \n",
       "4  296145 350759 24333 43235 852327 1054434 12964...   \n",
       "\n",
       "                                         click_times  \\\n",
       "0                          1 1 1 1 1 1 1 1 1 1 1 1 2   \n",
       "1  1 1 1 1 1 1 1 1 1 1 1 1 1 1 1 1 1 1 1 1 1 1 1 ...   \n",
       "2  1 1 1 1 1 1 1 1 1 1 1 1 1 1 1 1 1 1 1 1 1 1 1 ...   \n",
       "3  1 1 1 1 1 1 1 1 1 1 1 1 1 1 1 1 1 1 1 1 1 1 1 ...   \n",
       "4  1 1 1 1 1 2 1 1 1 1 1 1 1 1 1 1 1 1 1 1 1 1 1 ...   \n",
       "\n",
       "                                               ad_id  \\\n",
       "0  773445 188507 724607 1458878 109959 66210 1678...   \n",
       "1  58788 139702 38066 541125 14495 1107111 392680...   \n",
       "2  586668 713448 527601 728308 629278 643108 3502...   \n",
       "3  37966 524312 511235 1638619 1076286 30773 1953...   \n",
       "4  265971 314795 24966 41148 751113 925792 113378...   \n",
       "\n",
       "                                          product_id  \\\n",
       "0             0 136 0 0 1334 0 0 0 0 64 1454 64 1261   \n",
       "1  87 80 129 129 1400 0 87 0 1261 0 111 129 0 0 0...   \n",
       "2  36256 40905 1674 35985 1674 0 0 1031 1786 2258...   \n",
       "3  1862 0 2625 38743 39904 39422 37758 41265 0 15...   \n",
       "4  0 0 87 136 0 136 0 0 0 1064 0 2620 0 0 0 136 2...   \n",
       "\n",
       "                                    product_category  \\\n",
       "0                        5 2 5 5 2 18 5 5 18 2 2 2 2   \n",
       "1  2 2 2 2 2 18 2 18 2 18 2 2 18 18 18 18 2 2 2 2...   \n",
       "2  17 17 2 17 2 18 18 2 2 2 18 12 2 2 18 18 8 4 2...   \n",
       "3  2 18 2 17 17 17 4 17 18 2 2 2 2 2 2 2 2 2 5 2 ...   \n",
       "4  5 8 2 2 18 2 5 18 18 2 18 2 5 5 18 2 2 18 18 5...   \n",
       "\n",
       "                                       advertiser_id  \\\n",
       "0  29455 9702 7293 14668 11411 14681 17189 367 44...   \n",
       "1  22885 10686 18562 25932 768 34505 22885 26006 ...   \n",
       "2  32974 9877 17018 14186 18492 9058 8371 2336 39...   \n",
       "3  19451 7976 13084 12130 10172 13299 811 23664 1...   \n",
       "4  11882 992 22885 9706 38760 2862 17745 31552 22...   \n",
       "\n",
       "                                            industry  \n",
       "0        106 6 326 326 0 326 73 217 64 245 238 245 6  \n",
       "1  318 238 6 6 317 47 318 47 6 47 242 6 47 6 47 4...  \n",
       "2  0 0 322 0 322 6 54 6 322 322 205 302 322 322 2...  \n",
       "3  238 25 248 0 0 0 0 0 88 319 6 238 319 238 319 ...  \n",
       "4  297 0 318 6 322 6 288 322 319 238 322 322 203 ...  "
      ]
     },
     "execution_count": 12,
     "metadata": {},
     "output_type": "execute_result"
    }
   ],
   "source": [
    "pd_user_ad_list.head()"
   ]
  },
  {
   "cell_type": "code",
   "execution_count": 13,
   "metadata": {
    "ExecuteTime": {
     "end_time": "2020-06-19T15:33:57.959756Z",
     "start_time": "2020-06-19T15:33:55.235638Z"
    }
   },
   "outputs": [],
   "source": [
    "pd_user_ad_list['word_count'] = pd_user_ad_list['click_times'].apply(lambda x:len(x.split(\" \")))"
   ]
  },
  {
   "cell_type": "code",
   "execution_count": 14,
   "metadata": {
    "ExecuteTime": {
     "end_time": "2020-06-19T15:33:58.161790Z",
     "start_time": "2020-06-19T15:33:57.961815Z"
    }
   },
   "outputs": [
    {
     "data": {
      "text/plain": [
       "count     1.900000e+06\n",
       "mean      3.350962e+01\n",
       "std       9.479383e+01\n",
       "min       2.000000e+00\n",
       "5%        1.000000e+01\n",
       "25%       1.500000e+01\n",
       "50%       2.400000e+01\n",
       "75%       4.000000e+01\n",
       "95%       8.900000e+01\n",
       "99%       1.570000e+02\n",
       "99.9%     2.940000e+02\n",
       "99.99%    5.540002e+02\n",
       "max       1.139740e+05\n",
       "Name: word_count, dtype: float64"
      ]
     },
     "execution_count": 14,
     "metadata": {},
     "output_type": "execute_result"
    }
   ],
   "source": [
    "pd_user_ad_list['word_count'].describe(percentiles=[0.05,0.25,0.5,0.75,0.95,0.99,0.999,0.9999])"
   ]
  },
  {
   "cell_type": "markdown",
   "metadata": {},
   "source": [
    "### 载入标签数据"
   ]
  },
  {
   "cell_type": "code",
   "execution_count": 12,
   "metadata": {
    "ExecuteTime": {
     "end_time": "2020-06-28T06:33:51.082575Z",
     "start_time": "2020-06-28T06:33:50.849224Z"
    }
   },
   "outputs": [],
   "source": [
    "df_user_label = pd.read_csv(\"./data/train_preliminary/user.csv\")"
   ]
  },
  {
   "cell_type": "code",
   "execution_count": 16,
   "metadata": {
    "ExecuteTime": {
     "end_time": "2020-06-19T15:33:58.563870Z",
     "start_time": "2020-06-19T15:33:58.506186Z"
    }
   },
   "outputs": [
    {
     "data": {
      "text/plain": [
       "(900000, 3)"
      ]
     },
     "execution_count": 16,
     "metadata": {},
     "output_type": "execute_result"
    }
   ],
   "source": [
    "df_user_label.shape"
   ]
  },
  {
   "cell_type": "code",
   "execution_count": 17,
   "metadata": {
    "ExecuteTime": {
     "end_time": "2020-06-19T15:33:58.619502Z",
     "start_time": "2020-06-19T15:33:58.566214Z"
    },
    "scrolled": true
   },
   "outputs": [
    {
     "data": {
      "text/html": [
       "<div>\n",
       "<style scoped>\n",
       "    .dataframe tbody tr th:only-of-type {\n",
       "        vertical-align: middle;\n",
       "    }\n",
       "\n",
       "    .dataframe tbody tr th {\n",
       "        vertical-align: top;\n",
       "    }\n",
       "\n",
       "    .dataframe thead th {\n",
       "        text-align: right;\n",
       "    }\n",
       "</style>\n",
       "<table border=\"1\" class=\"dataframe\">\n",
       "  <thead>\n",
       "    <tr style=\"text-align: right;\">\n",
       "      <th></th>\n",
       "      <th>user_id</th>\n",
       "      <th>age</th>\n",
       "      <th>gender</th>\n",
       "    </tr>\n",
       "  </thead>\n",
       "  <tbody>\n",
       "    <tr>\n",
       "      <th>0</th>\n",
       "      <td>1</td>\n",
       "      <td>4</td>\n",
       "      <td>1</td>\n",
       "    </tr>\n",
       "    <tr>\n",
       "      <th>1</th>\n",
       "      <td>2</td>\n",
       "      <td>10</td>\n",
       "      <td>1</td>\n",
       "    </tr>\n",
       "    <tr>\n",
       "      <th>2</th>\n",
       "      <td>3</td>\n",
       "      <td>7</td>\n",
       "      <td>2</td>\n",
       "    </tr>\n",
       "    <tr>\n",
       "      <th>3</th>\n",
       "      <td>4</td>\n",
       "      <td>5</td>\n",
       "      <td>1</td>\n",
       "    </tr>\n",
       "    <tr>\n",
       "      <th>4</th>\n",
       "      <td>5</td>\n",
       "      <td>4</td>\n",
       "      <td>1</td>\n",
       "    </tr>\n",
       "  </tbody>\n",
       "</table>\n",
       "</div>"
      ],
      "text/plain": [
       "   user_id  age  gender\n",
       "0        1    4       1\n",
       "1        2   10       1\n",
       "2        3    7       2\n",
       "3        4    5       1\n",
       "4        5    4       1"
      ]
     },
     "execution_count": 17,
     "metadata": {},
     "output_type": "execute_result"
    }
   ],
   "source": [
    "df_user_label.head()"
   ]
  },
  {
   "cell_type": "code",
   "execution_count": 18,
   "metadata": {
    "ExecuteTime": {
     "end_time": "2020-06-19T15:33:58.686952Z",
     "start_time": "2020-06-19T15:33:58.621278Z"
    }
   },
   "outputs": [
    {
     "data": {
      "text/plain": [
       "user_id    int64\n",
       "age        int64\n",
       "gender     int64\n",
       "dtype: object"
      ]
     },
     "execution_count": 18,
     "metadata": {},
     "output_type": "execute_result"
    }
   ],
   "source": [
    "df_user_label.dtypes"
   ]
  },
  {
   "cell_type": "code",
   "execution_count": 19,
   "metadata": {
    "ExecuteTime": {
     "end_time": "2020-06-19T15:33:58.758026Z",
     "start_time": "2020-06-19T15:33:58.688909Z"
    }
   },
   "outputs": [
    {
     "data": {
      "text/plain": [
       "1    602610\n",
       "2    297390\n",
       "Name: gender, dtype: int64"
      ]
     },
     "execution_count": 19,
     "metadata": {},
     "output_type": "execute_result"
    }
   ],
   "source": [
    "df_user_label['gender'].value_counts()"
   ]
  },
  {
   "cell_type": "code",
   "execution_count": 20,
   "metadata": {
    "ExecuteTime": {
     "end_time": "2020-06-19T15:33:58.837934Z",
     "start_time": "2020-06-19T15:33:58.759937Z"
    }
   },
   "outputs": [
    {
     "data": {
      "text/plain": [
       "1      35195\n",
       "2     149271\n",
       "3     202909\n",
       "4     150578\n",
       "5     130667\n",
       "6     101720\n",
       "7      66711\n",
       "8      31967\n",
       "9      19474\n",
       "10     11508\n",
       "Name: age, dtype: int64"
      ]
     },
     "execution_count": 20,
     "metadata": {},
     "output_type": "execute_result"
    }
   ],
   "source": [
    "df_user_label['age'].value_counts().sort_index()"
   ]
  },
  {
   "cell_type": "markdown",
   "metadata": {},
   "source": [
    "从0开始编码"
   ]
  },
  {
   "cell_type": "code",
   "execution_count": 13,
   "metadata": {
    "ExecuteTime": {
     "end_time": "2020-06-28T06:33:51.157400Z",
     "start_time": "2020-06-28T06:33:51.084267Z"
    }
   },
   "outputs": [],
   "source": [
    "df_user_label['gender_c'] = df_user_label['gender']-1\n",
    "df_user_label['age_c'] = df_user_label['age']-1"
   ]
  },
  {
   "cell_type": "code",
   "execution_count": 22,
   "metadata": {
    "ExecuteTime": {
     "end_time": "2020-06-19T15:33:58.992561Z",
     "start_time": "2020-06-19T15:33:58.931968Z"
    },
    "scrolled": true
   },
   "outputs": [
    {
     "data": {
      "text/plain": [
       "0    602610\n",
       "1    297390\n",
       "Name: gender_c, dtype: int64"
      ]
     },
     "execution_count": 22,
     "metadata": {},
     "output_type": "execute_result"
    }
   ],
   "source": [
    "df_user_label['gender_c'].value_counts()"
   ]
  },
  {
   "cell_type": "code",
   "execution_count": 23,
   "metadata": {
    "ExecuteTime": {
     "end_time": "2020-06-19T15:33:59.055071Z",
     "start_time": "2020-06-19T15:33:58.994311Z"
    },
    "scrolled": false
   },
   "outputs": [
    {
     "data": {
      "text/plain": [
       "0     35195\n",
       "1    149271\n",
       "2    202909\n",
       "3    150578\n",
       "4    130667\n",
       "5    101720\n",
       "6     66711\n",
       "7     31967\n",
       "8     19474\n",
       "9     11508\n",
       "Name: age_c, dtype: int64"
      ]
     },
     "execution_count": 23,
     "metadata": {},
     "output_type": "execute_result"
    }
   ],
   "source": [
    "df_user_label['age_c'].value_counts().sort_index()"
   ]
  },
  {
   "cell_type": "markdown",
   "metadata": {},
   "source": [
    "#### 分离出测试集用户id"
   ]
  },
  {
   "cell_type": "code",
   "execution_count": 14,
   "metadata": {
    "ExecuteTime": {
     "end_time": "2020-06-28T06:33:51.953371Z",
     "start_time": "2020-06-28T06:33:51.159029Z"
    }
   },
   "outputs": [],
   "source": [
    "user_ids_test = set(pd_user_ad_list['user_id'].unique())-set(df_user_label['user_id'].values)"
   ]
  },
  {
   "cell_type": "code",
   "execution_count": 15,
   "metadata": {
    "ExecuteTime": {
     "end_time": "2020-06-28T06:33:59.149133Z",
     "start_time": "2020-06-28T06:33:59.096424Z"
    }
   },
   "outputs": [
    {
     "data": {
      "text/plain": [
       "1000000"
      ]
     },
     "execution_count": 15,
     "metadata": {},
     "output_type": "execute_result"
    }
   ],
   "source": [
    "len(user_ids_test)"
   ]
  },
  {
   "cell_type": "code",
   "execution_count": 16,
   "metadata": {
    "ExecuteTime": {
     "end_time": "2020-06-28T06:34:00.272243Z",
     "start_time": "2020-06-28T06:33:59.784668Z"
    }
   },
   "outputs": [],
   "source": [
    "df_test_user_id = pd.DataFrame(data=user_ids_test,columns=['user_id'])"
   ]
  },
  {
   "cell_type": "code",
   "execution_count": 17,
   "metadata": {
    "ExecuteTime": {
     "end_time": "2020-06-28T06:34:01.023596Z",
     "start_time": "2020-06-28T06:34:00.968175Z"
    }
   },
   "outputs": [
    {
     "data": {
      "text/plain": [
       "(1000000, 1)"
      ]
     },
     "execution_count": 17,
     "metadata": {},
     "output_type": "execute_result"
    }
   ],
   "source": [
    "df_test_user_id.shape"
   ]
  },
  {
   "cell_type": "code",
   "execution_count": 28,
   "metadata": {
    "ExecuteTime": {
     "end_time": "2020-06-19T15:34:00.608206Z",
     "start_time": "2020-06-19T15:34:00.536276Z"
    }
   },
   "outputs": [
    {
     "data": {
      "text/html": [
       "<div>\n",
       "<style scoped>\n",
       "    .dataframe tbody tr th:only-of-type {\n",
       "        vertical-align: middle;\n",
       "    }\n",
       "\n",
       "    .dataframe tbody tr th {\n",
       "        vertical-align: top;\n",
       "    }\n",
       "\n",
       "    .dataframe thead th {\n",
       "        text-align: right;\n",
       "    }\n",
       "</style>\n",
       "<table border=\"1\" class=\"dataframe\">\n",
       "  <thead>\n",
       "    <tr style=\"text-align: right;\">\n",
       "      <th></th>\n",
       "      <th>user_id</th>\n",
       "    </tr>\n",
       "  </thead>\n",
       "  <tbody>\n",
       "    <tr>\n",
       "      <th>0</th>\n",
       "      <td>3000001</td>\n",
       "    </tr>\n",
       "    <tr>\n",
       "      <th>1</th>\n",
       "      <td>3000002</td>\n",
       "    </tr>\n",
       "    <tr>\n",
       "      <th>2</th>\n",
       "      <td>3000003</td>\n",
       "    </tr>\n",
       "    <tr>\n",
       "      <th>3</th>\n",
       "      <td>3000004</td>\n",
       "    </tr>\n",
       "    <tr>\n",
       "      <th>4</th>\n",
       "      <td>3000005</td>\n",
       "    </tr>\n",
       "  </tbody>\n",
       "</table>\n",
       "</div>"
      ],
      "text/plain": [
       "   user_id\n",
       "0  3000001\n",
       "1  3000002\n",
       "2  3000003\n",
       "3  3000004\n",
       "4  3000005"
      ]
     },
     "execution_count": 28,
     "metadata": {},
     "output_type": "execute_result"
    }
   ],
   "source": [
    "df_test_user_id.head()"
   ]
  },
  {
   "cell_type": "code",
   "execution_count": 18,
   "metadata": {
    "ExecuteTime": {
     "end_time": "2020-06-28T06:34:03.552294Z",
     "start_time": "2020-06-28T06:34:03.496856Z"
    }
   },
   "outputs": [
    {
     "data": {
      "text/plain": [
       "(3000001, 4000000)"
      ]
     },
     "execution_count": 18,
     "metadata": {},
     "output_type": "execute_result"
    }
   ],
   "source": [
    "df_test_user_id['user_id'].min(),df_test_user_id['user_id'].max()"
   ]
  },
  {
   "cell_type": "code",
   "execution_count": 19,
   "metadata": {
    "ExecuteTime": {
     "end_time": "2020-06-28T06:34:04.173942Z",
     "start_time": "2020-06-28T06:34:04.120111Z"
    }
   },
   "outputs": [
    {
     "data": {
      "text/plain": [
       "(1, 900000)"
      ]
     },
     "execution_count": 19,
     "metadata": {},
     "output_type": "execute_result"
    }
   ],
   "source": [
    "df_user_label['user_id'].min(),df_user_label['user_id'].max()"
   ]
  },
  {
   "cell_type": "markdown",
   "metadata": {},
   "source": [
    "## 构建词典"
   ]
  },
  {
   "cell_type": "markdown",
   "metadata": {},
   "source": [
    "### 素材id"
   ]
  },
  {
   "cell_type": "code",
   "execution_count": 21,
   "metadata": {
    "ExecuteTime": {
     "end_time": "2020-06-28T06:41:02.619366Z",
     "start_time": "2020-06-28T06:41:02.567621Z"
    }
   },
   "outputs": [],
   "source": [
    "from sklearn.feature_extraction.text import TfidfVectorizer, CountVectorizer"
   ]
  },
  {
   "cell_type": "code",
   "execution_count": 22,
   "metadata": {
    "ExecuteTime": {
     "end_time": "2020-06-28T06:41:03.533012Z",
     "start_time": "2020-06-28T06:41:03.481537Z"
    }
   },
   "outputs": [],
   "source": [
    "tf_vectorizer_cr = CountVectorizer(min_df=5)"
   ]
  },
  {
   "cell_type": "code",
   "execution_count": 23,
   "metadata": {
    "ExecuteTime": {
     "end_time": "2020-06-28T06:43:11.794355Z",
     "start_time": "2020-06-28T06:41:11.817886Z"
    },
    "scrolled": true
   },
   "outputs": [
    {
     "data": {
      "text/plain": [
       "CountVectorizer(analyzer='word', binary=False, decode_error='strict',\n",
       "        dtype=<class 'numpy.int64'>, encoding='utf-8', input='content',\n",
       "        lowercase=True, max_df=1.0, max_features=None, min_df=5,\n",
       "        ngram_range=(1, 1), preprocessor=None, stop_words=None,\n",
       "        strip_accents=None, token_pattern='(?u)\\\\b\\\\w\\\\w+\\\\b',\n",
       "        tokenizer=None, vocabulary=None)"
      ]
     },
     "execution_count": 23,
     "metadata": {},
     "output_type": "execute_result"
    }
   ],
   "source": [
    "tf_vectorizer_cr.fit(pd_user_ad_list['creative_id'].values)"
   ]
  },
  {
   "cell_type": "code",
   "execution_count": 245,
   "metadata": {
    "ExecuteTime": {
     "end_time": "2020-06-20T10:24:06.597696Z",
     "start_time": "2020-06-20T10:24:02.454732Z"
    }
   },
   "outputs": [
    {
     "data": {
      "text/plain": [
       "123197"
      ]
     },
     "execution_count": 245,
     "metadata": {},
     "output_type": "execute_result"
    }
   ],
   "source": [
    "gc.collect()"
   ]
  },
  {
   "cell_type": "markdown",
   "metadata": {},
   "source": [
    "min_df=30"
   ]
  },
  {
   "cell_type": "code",
   "execution_count": 35,
   "metadata": {
    "ExecuteTime": {
     "end_time": "2020-06-19T15:37:05.155772Z",
     "start_time": "2020-06-19T15:37:05.038664Z"
    },
    "scrolled": true
   },
   "outputs": [
    {
     "data": {
      "text/plain": [
       "(0, 222543, 222544)"
      ]
     },
     "execution_count": 35,
     "metadata": {},
     "output_type": "execute_result"
    }
   ],
   "source": [
    "min(tf_vectorizer_cr.vocabulary_.values()),max(tf_vectorizer_cr.vocabulary_.values()),len(tf_vectorizer_cr.vocabulary_.values())"
   ]
  },
  {
   "cell_type": "markdown",
   "metadata": {},
   "source": [
    "min_df=10"
   ]
  },
  {
   "cell_type": "code",
   "execution_count": 246,
   "metadata": {
    "ExecuteTime": {
     "end_time": "2020-06-20T10:24:25.064691Z",
     "start_time": "2020-06-20T10:24:24.907339Z"
    },
    "scrolled": false
   },
   "outputs": [
    {
     "data": {
      "text/plain": [
       "(0, 578523, 578524)"
      ]
     },
     "execution_count": 246,
     "metadata": {},
     "output_type": "execute_result"
    }
   ],
   "source": [
    "min(tf_vectorizer_cr.vocabulary_.values()),max(tf_vectorizer_cr.vocabulary_.values()),len(tf_vectorizer_cr.vocabulary_.values())"
   ]
  },
  {
   "cell_type": "markdown",
   "metadata": {},
   "source": [
    "min_df=5"
   ]
  },
  {
   "cell_type": "code",
   "execution_count": 37,
   "metadata": {
    "ExecuteTime": {
     "end_time": "2020-06-28T06:49:16.501489Z",
     "start_time": "2020-06-28T06:49:16.306831Z"
    },
    "scrolled": true
   },
   "outputs": [
    {
     "data": {
      "text/plain": [
       "(0, 1020346, 1020347)"
      ]
     },
     "execution_count": 37,
     "metadata": {},
     "output_type": "execute_result"
    }
   ],
   "source": [
    "min(tf_vectorizer_cr.vocabulary_.values()),max(tf_vectorizer_cr.vocabulary_.values()),len(tf_vectorizer_cr.vocabulary_.values())"
   ]
  },
  {
   "cell_type": "markdown",
   "metadata": {},
   "source": [
    "min_df=2"
   ]
  },
  {
   "cell_type": "code",
   "execution_count": 27,
   "metadata": {
    "ExecuteTime": {
     "end_time": "2020-06-22T02:09:37.571953Z",
     "start_time": "2020-06-22T02:09:37.270809Z"
    },
    "scrolled": true
   },
   "outputs": [
    {
     "data": {
      "text/plain": [
       "(0, 2083852, 2083853)"
      ]
     },
     "execution_count": 27,
     "metadata": {},
     "output_type": "execute_result"
    }
   ],
   "source": [
    "min(tf_vectorizer_cr.vocabulary_.values()),max(tf_vectorizer_cr.vocabulary_.values()),len(tf_vectorizer_cr.vocabulary_.values())"
   ]
  },
  {
   "cell_type": "markdown",
   "metadata": {},
   "source": [
    "min_df=1"
   ]
  },
  {
   "cell_type": "code",
   "execution_count": 326,
   "metadata": {
    "ExecuteTime": {
     "end_time": "2020-06-20T14:18:41.880549Z",
     "start_time": "2020-06-20T14:18:41.527835Z"
    },
    "scrolled": true
   },
   "outputs": [
    {
     "data": {
      "text/plain": [
       "(0, 3412763, 3412764)"
      ]
     },
     "execution_count": 326,
     "metadata": {},
     "output_type": "execute_result"
    }
   ],
   "source": [
    "min(tf_vectorizer_cr.vocabulary_.values()),max(tf_vectorizer_cr.vocabulary_.values()),len(tf_vectorizer_cr.vocabulary_.values())"
   ]
  },
  {
   "cell_type": "markdown",
   "metadata": {},
   "source": [
    "生成词典,下同"
   ]
  },
  {
   "cell_type": "code",
   "execution_count": 42,
   "metadata": {
    "ExecuteTime": {
     "end_time": "2020-06-28T06:56:32.852395Z",
     "start_time": "2020-06-28T06:56:32.453935Z"
    }
   },
   "outputs": [],
   "source": [
    "# word_to_id: 形如{\"word_1\":id_1,\"word_2\":id_2,...}\n",
    "dict_cr = tf_vectorizer_cr.vocabulary_ \n",
    "# id_to_word: 形如{\"id_1\":word_1,\"id_2\":word_2,...}\n",
    "dict_cr_reverse = dict(zip(tf_vectorizer_cr.vocabulary_.values(), tf_vectorizer_cr.vocabulary_.keys()))"
   ]
  },
  {
   "cell_type": "markdown",
   "metadata": {},
   "source": [
    "### 广告id"
   ]
  },
  {
   "cell_type": "code",
   "execution_count": 24,
   "metadata": {
    "ExecuteTime": {
     "end_time": "2020-06-28T06:43:11.853688Z",
     "start_time": "2020-06-28T06:43:11.796314Z"
    }
   },
   "outputs": [],
   "source": [
    "tf_vectorizer_ad = CountVectorizer(min_df=5)"
   ]
  },
  {
   "cell_type": "code",
   "execution_count": 25,
   "metadata": {
    "ExecuteTime": {
     "end_time": "2020-06-28T06:45:10.692999Z",
     "start_time": "2020-06-28T06:43:11.855624Z"
    }
   },
   "outputs": [
    {
     "data": {
      "text/plain": [
       "CountVectorizer(analyzer='word', binary=False, decode_error='strict',\n",
       "        dtype=<class 'numpy.int64'>, encoding='utf-8', input='content',\n",
       "        lowercase=True, max_df=1.0, max_features=None, min_df=5,\n",
       "        ngram_range=(1, 1), preprocessor=None, stop_words=None,\n",
       "        strip_accents=None, token_pattern='(?u)\\\\b\\\\w\\\\w+\\\\b',\n",
       "        tokenizer=None, vocabulary=None)"
      ]
     },
     "execution_count": 25,
     "metadata": {},
     "output_type": "execute_result"
    }
   ],
   "source": [
    "tf_vectorizer_ad.fit(pd_user_ad_list['ad_id'].values)"
   ]
  },
  {
   "cell_type": "code",
   "execution_count": 38,
   "metadata": {
    "ExecuteTime": {
     "end_time": "2020-06-28T06:49:21.197341Z",
     "start_time": "2020-06-28T06:49:21.011423Z"
    },
    "scrolled": true
   },
   "outputs": [
    {
     "data": {
      "text/plain": [
       "(0, 1006031, 1006032)"
      ]
     },
     "execution_count": 38,
     "metadata": {},
     "output_type": "execute_result"
    }
   ],
   "source": [
    "min(tf_vectorizer_ad.vocabulary_.values()),max(tf_vectorizer_ad.vocabulary_.values()),len(tf_vectorizer_ad.vocabulary_.values())"
   ]
  },
  {
   "cell_type": "code",
   "execution_count": 27,
   "metadata": {
    "ExecuteTime": {
     "end_time": "2020-06-28T06:45:11.190233Z",
     "start_time": "2020-06-28T06:45:10.865839Z"
    }
   },
   "outputs": [],
   "source": [
    "dict_ad = tf_vectorizer_ad.vocabulary_\n",
    "dict_ad_reverse = dict(zip(tf_vectorizer_ad.vocabulary_.values(), tf_vectorizer_ad.vocabulary_.keys()))"
   ]
  },
  {
   "cell_type": "markdown",
   "metadata": {},
   "source": [
    "### 广告主id"
   ]
  },
  {
   "cell_type": "code",
   "execution_count": 33,
   "metadata": {
    "ExecuteTime": {
     "end_time": "2020-06-28T06:45:57.824015Z",
     "start_time": "2020-06-28T06:45:57.775622Z"
    }
   },
   "outputs": [],
   "source": [
    "tf_vectorizer_av = CountVectorizer(min_df=5)"
   ]
  },
  {
   "cell_type": "code",
   "execution_count": 34,
   "metadata": {
    "ExecuteTime": {
     "end_time": "2020-06-28T06:47:05.929438Z",
     "start_time": "2020-06-28T06:45:57.825493Z"
    }
   },
   "outputs": [
    {
     "data": {
      "text/plain": [
       "CountVectorizer(analyzer='word', binary=False, decode_error='strict',\n",
       "        dtype=<class 'numpy.int64'>, encoding='utf-8', input='content',\n",
       "        lowercase=True, max_df=1.0, max_features=None, min_df=5,\n",
       "        ngram_range=(1, 1), preprocessor=None, stop_words=None,\n",
       "        strip_accents=None, token_pattern='(?u)\\\\b\\\\w\\\\w+\\\\b',\n",
       "        tokenizer=None, vocabulary=None)"
      ]
     },
     "execution_count": 34,
     "metadata": {},
     "output_type": "execute_result"
    }
   ],
   "source": [
    "tf_vectorizer_av.fit(pd_user_ad_list['advertiser_id'].values)"
   ]
  },
  {
   "cell_type": "code",
   "execution_count": 40,
   "metadata": {
    "ExecuteTime": {
     "end_time": "2020-06-28T06:49:25.789539Z",
     "start_time": "2020-06-28T06:49:25.731863Z"
    }
   },
   "outputs": [
    {
     "data": {
      "text/plain": [
       "(0, 40941, 40942)"
      ]
     },
     "execution_count": 40,
     "metadata": {},
     "output_type": "execute_result"
    }
   ],
   "source": [
    "min(tf_vectorizer_av.vocabulary_.values()),max(tf_vectorizer_av.vocabulary_.values()),len(tf_vectorizer_av.vocabulary_.values())"
   ]
  },
  {
   "cell_type": "code",
   "execution_count": 36,
   "metadata": {
    "ExecuteTime": {
     "end_time": "2020-06-28T06:47:06.051422Z",
     "start_time": "2020-06-28T06:47:05.995852Z"
    }
   },
   "outputs": [],
   "source": [
    "dict_av = tf_vectorizer_av.vocabulary_\n",
    "dict_av_reverse = dict(zip(tf_vectorizer_av.vocabulary_.values(), tf_vectorizer_av.vocabulary_.keys()))"
   ]
  },
  {
   "cell_type": "markdown",
   "metadata": {},
   "source": [
    "### 产品id"
   ]
  },
  {
   "cell_type": "code",
   "execution_count": 29,
   "metadata": {
    "ExecuteTime": {
     "end_time": "2020-06-28T06:45:11.634658Z",
     "start_time": "2020-06-28T06:45:11.584192Z"
    }
   },
   "outputs": [],
   "source": [
    "tf_vectorizer_pr = CountVectorizer(min_df=5)"
   ]
  },
  {
   "cell_type": "code",
   "execution_count": 30,
   "metadata": {
    "ExecuteTime": {
     "end_time": "2020-06-28T06:45:57.654712Z",
     "start_time": "2020-06-28T06:45:11.636957Z"
    },
    "scrolled": true
   },
   "outputs": [
    {
     "data": {
      "text/plain": [
       "CountVectorizer(analyzer='word', binary=False, decode_error='strict',\n",
       "        dtype=<class 'numpy.int64'>, encoding='utf-8', input='content',\n",
       "        lowercase=True, max_df=1.0, max_features=None, min_df=5,\n",
       "        ngram_range=(1, 1), preprocessor=None, stop_words=None,\n",
       "        strip_accents=None, token_pattern='(?u)\\\\b\\\\w\\\\w+\\\\b',\n",
       "        tokenizer=None, vocabulary=None)"
      ]
     },
     "execution_count": 30,
     "metadata": {},
     "output_type": "execute_result"
    }
   ],
   "source": [
    "tf_vectorizer_pr.fit(pd_user_ad_list['product_id'].values)"
   ]
  },
  {
   "cell_type": "code",
   "execution_count": 87,
   "metadata": {
    "ExecuteTime": {
     "end_time": "2020-06-28T07:10:03.197343Z",
     "start_time": "2020-06-28T07:10:03.135256Z"
    },
    "scrolled": true
   },
   "outputs": [
    {
     "data": {
      "text/plain": [
       "(0, 22949, 22950)"
      ]
     },
     "execution_count": 87,
     "metadata": {},
     "output_type": "execute_result"
    }
   ],
   "source": [
    "min(tf_vectorizer_pr.vocabulary_.values()),max(tf_vectorizer_pr.vocabulary_.values()),len(tf_vectorizer_pr.vocabulary_.values())"
   ]
  },
  {
   "cell_type": "code",
   "execution_count": 32,
   "metadata": {
    "ExecuteTime": {
     "end_time": "2020-06-28T06:45:57.774129Z",
     "start_time": "2020-06-28T06:45:57.720926Z"
    }
   },
   "outputs": [],
   "source": [
    "dict_pr = tf_vectorizer_pr.vocabulary_\n",
    "dict_pr_reverse = dict(zip(tf_vectorizer_pr.vocabulary_.values(), tf_vectorizer_pr.vocabulary_.keys()))"
   ]
  },
  {
   "cell_type": "markdown",
   "metadata": {},
   "source": [
    "## 载入预训练的词向量"
   ]
  },
  {
   "cell_type": "code",
   "execution_count": 41,
   "metadata": {
    "ExecuteTime": {
     "end_time": "2020-06-28T06:49:38.173232Z",
     "start_time": "2020-06-28T06:49:38.005747Z"
    }
   },
   "outputs": [],
   "source": [
    "from gensim.models import Word2Vec\n",
    "from gensim.models import KeyedVectors\n",
    "from gensim.models import word2vec"
   ]
  },
  {
   "cell_type": "code",
   "execution_count": 126,
   "metadata": {
    "ExecuteTime": {
     "end_time": "2020-06-28T07:42:03.192365Z",
     "start_time": "2020-06-28T07:42:03.137985Z"
    }
   },
   "outputs": [],
   "source": [
    "def get_embedding_initial(dict_id_to_word,wv):\n",
    "    \"\"\"\n",
    "    生成embedding层的预训练权重矩阵\n",
    "    \n",
    "    Parameters\n",
    "    ----------\n",
    "    dict_id_to_word: dict，形如{\"id_1\":word_1,\"id_2\":word_2,...}\n",
    "    wv：gensim.models.keyedvectors.Word2VecKeyedVectors,训练好的词向量\n",
    "    \n",
    "    Returns\n",
    "    ----------\n",
    "    embedding_cr:numpy.ndarray,用作embedding层的预训练权重矩阵\n",
    "    \"\"\"\n",
    "    l = len(dict_id_to_word)\n",
    "    embedding_size = wv.vector_size\n",
    "    # 长度为字典长度+1，预留一位作为padding项\n",
    "    embedding_cr = np.zeros((len(dict_id_to_word)+1,embedding_size),dtype=np.float32)\n",
    "    for i in range(0,l):\n",
    "        embedding_cr[i+1]=np.array(wv[dict_id_to_word[i]])\n",
    "    return embedding_cr"
   ]
  },
  {
   "cell_type": "markdown",
   "metadata": {},
   "source": [
    "### 素材id"
   ]
  },
  {
   "cell_type": "code",
   "execution_count": 157,
   "metadata": {
    "ExecuteTime": {
     "end_time": "2020-06-21T06:37:38.536151Z",
     "start_time": "2020-06-21T06:37:37.538193Z"
    }
   },
   "outputs": [],
   "source": [
    "# del wv_cr"
   ]
  },
  {
   "cell_type": "code",
   "execution_count": 43,
   "metadata": {
    "ExecuteTime": {
     "end_time": "2020-06-28T06:58:45.644336Z",
     "start_time": "2020-06-28T06:58:29.894261Z"
    }
   },
   "outputs": [],
   "source": [
    "wv_cr = KeyedVectors.load(\"./model/word2vec/kv_cr/tx_gender_age_log_cr_sg_win100_neg5_dim128_iter10_minc1_w2v.kv\", mmap='r')"
   ]
  },
  {
   "cell_type": "code",
   "execution_count": 44,
   "metadata": {
    "ExecuteTime": {
     "end_time": "2020-06-28T06:58:58.370501Z",
     "start_time": "2020-06-28T06:58:58.316892Z"
    }
   },
   "outputs": [
    {
     "data": {
      "text/plain": [
       "gensim.models.keyedvectors.Word2VecKeyedVectors"
      ]
     },
     "execution_count": 44,
     "metadata": {},
     "output_type": "execute_result"
    }
   ],
   "source": [
    "type(wv_cr)"
   ]
  },
  {
   "cell_type": "code",
   "execution_count": 38,
   "metadata": {
    "ExecuteTime": {
     "end_time": "2020-06-22T02:10:40.733765Z",
     "start_time": "2020-06-22T02:10:40.676543Z"
    }
   },
   "outputs": [
    {
     "data": {
      "text/plain": [
       "128"
      ]
     },
     "execution_count": 38,
     "metadata": {},
     "output_type": "execute_result"
    }
   ],
   "source": [
    "wv_cr.vector_size"
   ]
  },
  {
   "cell_type": "code",
   "execution_count": 46,
   "metadata": {
    "ExecuteTime": {
     "end_time": "2020-06-21T11:52:33.413498Z",
     "start_time": "2020-06-21T11:52:33.337324Z"
    },
    "scrolled": true
   },
   "outputs": [
    {
     "data": {
      "text/plain": [
       "3412772"
      ]
     },
     "execution_count": 46,
     "metadata": {},
     "output_type": "execute_result"
    }
   ],
   "source": [
    "len(wv_cr.vocab.keys())"
   ]
  },
  {
   "cell_type": "code",
   "execution_count": 161,
   "metadata": {
    "ExecuteTime": {
     "end_time": "2020-06-21T06:38:15.610572Z",
     "start_time": "2020-06-21T06:38:15.544741Z"
    }
   },
   "outputs": [],
   "source": [
    "# del embedding_cr"
   ]
  },
  {
   "cell_type": "code",
   "execution_count": 47,
   "metadata": {
    "ExecuteTime": {
     "end_time": "2020-06-28T07:02:25.359781Z",
     "start_time": "2020-06-28T07:01:57.335360Z"
    }
   },
   "outputs": [],
   "source": [
    "embedding_cr = get_embedding_initial(dict_cr_reverse,wv_cr)"
   ]
  },
  {
   "cell_type": "code",
   "execution_count": 83,
   "metadata": {
    "ExecuteTime": {
     "end_time": "2020-06-28T07:09:48.452112Z",
     "start_time": "2020-06-28T07:09:48.398254Z"
    },
    "scrolled": true
   },
   "outputs": [
    {
     "data": {
      "text/plain": [
       "(1020348, 128)"
      ]
     },
     "execution_count": 83,
     "metadata": {},
     "output_type": "execute_result"
    }
   ],
   "source": [
    "embedding_cr.shape"
   ]
  },
  {
   "cell_type": "code",
   "execution_count": 50,
   "metadata": {
    "ExecuteTime": {
     "end_time": "2020-06-28T07:03:27.438062Z",
     "start_time": "2020-06-28T07:03:27.384253Z"
    },
    "scrolled": true
   },
   "outputs": [
    {
     "data": {
      "text/plain": [
       "dtype('float32')"
      ]
     },
     "execution_count": 50,
     "metadata": {},
     "output_type": "execute_result"
    }
   ],
   "source": [
    "embedding_cr.dtype"
   ]
  },
  {
   "cell_type": "code",
   "execution_count": 51,
   "metadata": {
    "ExecuteTime": {
     "end_time": "2020-06-28T07:03:31.026293Z",
     "start_time": "2020-06-28T07:03:29.606470Z"
    },
    "scrolled": true
   },
   "outputs": [
    {
     "data": {
      "text/plain": [
       "10"
      ]
     },
     "execution_count": 51,
     "metadata": {},
     "output_type": "execute_result"
    }
   ],
   "source": [
    "gc.collect()"
   ]
  },
  {
   "cell_type": "markdown",
   "metadata": {},
   "source": [
    "### 广告id"
   ]
  },
  {
   "cell_type": "code",
   "execution_count": 185,
   "metadata": {
    "ExecuteTime": {
     "end_time": "2020-06-28T09:27:08.762029Z",
     "start_time": "2020-06-28T09:26:56.495009Z"
    }
   },
   "outputs": [],
   "source": [
    "wv_ad = KeyedVectors.load(\"./model/word2vec/kv_ad/tx_gender_age_log_sg_win10_neg5_dim128_iter10_minc1_w2v_ad.kv\", mmap='r')"
   ]
  },
  {
   "cell_type": "code",
   "execution_count": 186,
   "metadata": {
    "ExecuteTime": {
     "end_time": "2020-06-28T09:27:09.653789Z",
     "start_time": "2020-06-28T09:27:09.600026Z"
    }
   },
   "outputs": [
    {
     "data": {
      "text/plain": [
       "128"
      ]
     },
     "execution_count": 186,
     "metadata": {},
     "output_type": "execute_result"
    }
   ],
   "source": [
    "wv_ad.vector_size"
   ]
  },
  {
   "cell_type": "code",
   "execution_count": 187,
   "metadata": {
    "ExecuteTime": {
     "end_time": "2020-06-28T09:27:10.501173Z",
     "start_time": "2020-06-28T09:27:10.446960Z"
    }
   },
   "outputs": [
    {
     "data": {
      "text/plain": [
       "3027360"
      ]
     },
     "execution_count": 187,
     "metadata": {},
     "output_type": "execute_result"
    }
   ],
   "source": [
    "len(wv_ad.vocab.keys())"
   ]
  },
  {
   "cell_type": "code",
   "execution_count": 188,
   "metadata": {
    "ExecuteTime": {
     "end_time": "2020-06-28T09:27:39.498629Z",
     "start_time": "2020-06-28T09:27:12.689359Z"
    }
   },
   "outputs": [],
   "source": [
    "embedding_ad = get_embedding_initial(dict_ad_reverse,wv_ad)"
   ]
  },
  {
   "cell_type": "code",
   "execution_count": 189,
   "metadata": {
    "ExecuteTime": {
     "end_time": "2020-06-28T09:27:40.744207Z",
     "start_time": "2020-06-28T09:27:40.690582Z"
    }
   },
   "outputs": [
    {
     "data": {
      "text/plain": [
       "(1006033, 128)"
      ]
     },
     "execution_count": 189,
     "metadata": {},
     "output_type": "execute_result"
    }
   ],
   "source": [
    "embedding_ad.shape"
   ]
  },
  {
   "cell_type": "code",
   "execution_count": 190,
   "metadata": {
    "ExecuteTime": {
     "end_time": "2020-06-28T09:27:41.817336Z",
     "start_time": "2020-06-28T09:27:41.763542Z"
    }
   },
   "outputs": [
    {
     "data": {
      "text/plain": [
       "dtype('float32')"
      ]
     },
     "execution_count": 190,
     "metadata": {},
     "output_type": "execute_result"
    }
   ],
   "source": [
    "embedding_ad.dtype"
   ]
  },
  {
   "cell_type": "markdown",
   "metadata": {},
   "source": [
    "### 广告主id"
   ]
  },
  {
   "cell_type": "code",
   "execution_count": 69,
   "metadata": {
    "ExecuteTime": {
     "end_time": "2020-06-28T07:07:29.051520Z",
     "start_time": "2020-06-28T07:07:28.759215Z"
    }
   },
   "outputs": [],
   "source": [
    "wv_av = KeyedVectors.load(\"./model/word2vec/kv_adv/tx_gender_age_log_sg_win10_neg5_dim64_iter10_minc1_w2v_adv.kv\", mmap='r')"
   ]
  },
  {
   "cell_type": "code",
   "execution_count": 70,
   "metadata": {
    "ExecuteTime": {
     "end_time": "2020-06-28T07:07:29.549847Z",
     "start_time": "2020-06-28T07:07:29.496736Z"
    }
   },
   "outputs": [
    {
     "data": {
      "text/plain": [
       "64"
      ]
     },
     "execution_count": 70,
     "metadata": {},
     "output_type": "execute_result"
    }
   ],
   "source": [
    "wv_av.vector_size"
   ]
  },
  {
   "cell_type": "code",
   "execution_count": 71,
   "metadata": {
    "ExecuteTime": {
     "end_time": "2020-06-28T07:07:33.245937Z",
     "start_time": "2020-06-28T07:07:33.192106Z"
    }
   },
   "outputs": [
    {
     "data": {
      "text/plain": [
       "57870"
      ]
     },
     "execution_count": 71,
     "metadata": {},
     "output_type": "execute_result"
    }
   ],
   "source": [
    "len(wv_av.vocab.keys())"
   ]
  },
  {
   "cell_type": "code",
   "execution_count": 72,
   "metadata": {
    "ExecuteTime": {
     "end_time": "2020-06-28T07:07:34.045413Z",
     "start_time": "2020-06-28T07:07:33.783490Z"
    }
   },
   "outputs": [],
   "source": [
    "embedding_av = get_embedding_initial(dict_av_reverse,wv_av)"
   ]
  },
  {
   "cell_type": "code",
   "execution_count": 85,
   "metadata": {
    "ExecuteTime": {
     "end_time": "2020-06-28T07:09:53.157265Z",
     "start_time": "2020-06-28T07:09:53.102671Z"
    },
    "scrolled": true
   },
   "outputs": [
    {
     "data": {
      "text/plain": [
       "(40943, 64)"
      ]
     },
     "execution_count": 85,
     "metadata": {},
     "output_type": "execute_result"
    }
   ],
   "source": [
    "embedding_av.shape"
   ]
  },
  {
   "cell_type": "code",
   "execution_count": 74,
   "metadata": {
    "ExecuteTime": {
     "end_time": "2020-06-28T07:07:36.014111Z",
     "start_time": "2020-06-28T07:07:35.960160Z"
    },
    "scrolled": true
   },
   "outputs": [
    {
     "data": {
      "text/plain": [
       "dtype('float32')"
      ]
     },
     "execution_count": 74,
     "metadata": {},
     "output_type": "execute_result"
    }
   ],
   "source": [
    "embedding_av.dtype"
   ]
  },
  {
   "cell_type": "markdown",
   "metadata": {},
   "source": [
    "### 产品id"
   ]
  },
  {
   "cell_type": "code",
   "execution_count": 75,
   "metadata": {
    "ExecuteTime": {
     "end_time": "2020-06-28T07:07:55.288844Z",
     "start_time": "2020-06-28T07:07:55.051356Z"
    }
   },
   "outputs": [],
   "source": [
    "wv_pr = KeyedVectors.load(\"./model/word2vec/kv_pr/tx_gender_age_log_sg_win10_neg5_dim64_iter10_minc1_w2v_pr.kv\", mmap='r')"
   ]
  },
  {
   "cell_type": "code",
   "execution_count": 76,
   "metadata": {
    "ExecuteTime": {
     "end_time": "2020-06-28T07:07:55.922697Z",
     "start_time": "2020-06-28T07:07:55.868460Z"
    }
   },
   "outputs": [
    {
     "data": {
      "text/plain": [
       "64"
      ]
     },
     "execution_count": 76,
     "metadata": {},
     "output_type": "execute_result"
    }
   ],
   "source": [
    "wv_pr.vector_size"
   ]
  },
  {
   "cell_type": "code",
   "execution_count": 77,
   "metadata": {
    "ExecuteTime": {
     "end_time": "2020-06-28T07:07:56.481753Z",
     "start_time": "2020-06-28T07:07:56.428309Z"
    }
   },
   "outputs": [
    {
     "data": {
      "text/plain": [
       "39057"
      ]
     },
     "execution_count": 77,
     "metadata": {},
     "output_type": "execute_result"
    }
   ],
   "source": [
    "len(wv_pr.vocab.keys())"
   ]
  },
  {
   "cell_type": "code",
   "execution_count": 78,
   "metadata": {
    "ExecuteTime": {
     "end_time": "2020-06-28T07:07:57.153894Z",
     "start_time": "2020-06-28T07:07:56.987986Z"
    }
   },
   "outputs": [],
   "source": [
    "embedding_pr = get_embedding_initial(dict_pr_reverse,wv_pr)"
   ]
  },
  {
   "cell_type": "code",
   "execution_count": 86,
   "metadata": {
    "ExecuteTime": {
     "end_time": "2020-06-28T07:09:55.155780Z",
     "start_time": "2020-06-28T07:09:55.101683Z"
    },
    "scrolled": true
   },
   "outputs": [
    {
     "data": {
      "text/plain": [
       "(22951, 64)"
      ]
     },
     "execution_count": 86,
     "metadata": {},
     "output_type": "execute_result"
    }
   ],
   "source": [
    "embedding_pr.shape"
   ]
  },
  {
   "cell_type": "code",
   "execution_count": 80,
   "metadata": {
    "ExecuteTime": {
     "end_time": "2020-06-28T07:07:58.483671Z",
     "start_time": "2020-06-28T07:07:58.428254Z"
    }
   },
   "outputs": [
    {
     "data": {
      "text/plain": [
       "dtype('float32')"
      ]
     },
     "execution_count": 80,
     "metadata": {},
     "output_type": "execute_result"
    }
   ],
   "source": [
    "embedding_pr.dtype"
   ]
  },
  {
   "cell_type": "markdown",
   "metadata": {},
   "source": [
    "## 构造序列特征"
   ]
  },
  {
   "cell_type": "markdown",
   "metadata": {},
   "source": [
    "### 训练集"
   ]
  },
  {
   "cell_type": "code",
   "execution_count": 81,
   "metadata": {
    "ExecuteTime": {
     "end_time": "2020-06-28T07:09:37.420323Z",
     "start_time": "2020-06-28T07:09:36.171644Z"
    }
   },
   "outputs": [],
   "source": [
    "pd_user_ad_list_train = pd.merge(pd_user_ad_list,df_user_label,on=\"user_id\")"
   ]
  },
  {
   "cell_type": "code",
   "execution_count": 82,
   "metadata": {
    "ExecuteTime": {
     "end_time": "2020-06-28T07:09:38.098573Z",
     "start_time": "2020-06-28T07:09:38.043742Z"
    },
    "scrolled": true
   },
   "outputs": [
    {
     "data": {
      "text/plain": [
       "(900000, 13)"
      ]
     },
     "execution_count": 82,
     "metadata": {},
     "output_type": "execute_result"
    }
   ],
   "source": [
    "pd_user_ad_list_train.shape"
   ]
  },
  {
   "cell_type": "code",
   "execution_count": 125,
   "metadata": {
    "ExecuteTime": {
     "end_time": "2020-06-28T07:41:54.264046Z",
     "start_time": "2020-06-28T07:41:54.209467Z"
    }
   },
   "outputs": [],
   "source": [
    "def seq_list(df_data,col_name,dict_id,pad_len=100):\n",
    "    \"\"\"\n",
    "    生成用户的序列id列表\n",
    "    \n",
    "    Parameters\n",
    "    ----------\n",
    "    df_data: pandas.DataFrame,数据源\n",
    "    col_name: str,列名\n",
    "    dict_id：dict,形如{\"id_1\":word_1,\"id_2\":word_2,...}\n",
    "    pad_len: int,pad长度\n",
    "    \n",
    "    Returns\n",
    "    ----------\n",
    "    numpy.ndarray, 用户的序列id列表\n",
    "    \"\"\"\n",
    "    #count=0\n",
    "    id_list=[]\n",
    "    for segcontent in df_data[col_name].values:\n",
    "        #count+=1\n",
    "        seg_id_list = segcontent.split(\" \")\n",
    "        id_list.append([dict_id[x]+1 for x in seg_id_list if x in dict_id])\n",
    "    return keras.preprocessing.sequence.pad_sequences(id_list,maxlen=pad_len)"
   ]
  },
  {
   "cell_type": "code",
   "execution_count": 90,
   "metadata": {
    "ExecuteTime": {
     "end_time": "2020-06-28T07:17:06.544632Z",
     "start_time": "2020-06-28T07:16:27.465622Z"
    }
   },
   "outputs": [],
   "source": [
    "seq_list_train_cr = seq_list(pd_user_ad_list_train,col_name='creative_id',dict_id=dict_cr)"
   ]
  },
  {
   "cell_type": "code",
   "execution_count": 91,
   "metadata": {
    "ExecuteTime": {
     "end_time": "2020-06-28T07:17:06.599591Z",
     "start_time": "2020-06-28T07:17:06.546429Z"
    }
   },
   "outputs": [
    {
     "data": {
      "text/plain": [
       "(900000, 100)"
      ]
     },
     "execution_count": 91,
     "metadata": {},
     "output_type": "execute_result"
    }
   ],
   "source": [
    "seq_list_train_cr.shape"
   ]
  },
  {
   "cell_type": "code",
   "execution_count": 92,
   "metadata": {
    "ExecuteTime": {
     "end_time": "2020-06-28T07:17:27.385646Z",
     "start_time": "2020-06-28T07:17:06.601343Z"
    }
   },
   "outputs": [],
   "source": [
    "seq_list_train_pr = seq_list(pd_user_ad_list_train,col_name='product_id',dict_id=dict_pr)"
   ]
  },
  {
   "cell_type": "code",
   "execution_count": 93,
   "metadata": {
    "ExecuteTime": {
     "end_time": "2020-06-28T07:17:27.449328Z",
     "start_time": "2020-06-28T07:17:27.387977Z"
    },
    "scrolled": true
   },
   "outputs": [
    {
     "data": {
      "text/plain": [
       "(900000, 100)"
      ]
     },
     "execution_count": 93,
     "metadata": {},
     "output_type": "execute_result"
    }
   ],
   "source": [
    "seq_list_train_pr.shape"
   ]
  },
  {
   "cell_type": "code",
   "execution_count": 94,
   "metadata": {
    "ExecuteTime": {
     "end_time": "2020-06-28T07:18:00.553747Z",
     "start_time": "2020-06-28T07:17:27.450768Z"
    }
   },
   "outputs": [],
   "source": [
    "seq_list_train_av = seq_list(pd_user_ad_list_train,col_name='advertiser_id',dict_id=dict_av)"
   ]
  },
  {
   "cell_type": "code",
   "execution_count": 95,
   "metadata": {
    "ExecuteTime": {
     "end_time": "2020-06-28T07:18:00.609360Z",
     "start_time": "2020-06-28T07:18:00.555425Z"
    }
   },
   "outputs": [
    {
     "data": {
      "text/plain": [
       "(900000, 100)"
      ]
     },
     "execution_count": 95,
     "metadata": {},
     "output_type": "execute_result"
    }
   ],
   "source": [
    "seq_list_train_av.shape"
   ]
  },
  {
   "cell_type": "code",
   "execution_count": 96,
   "metadata": {
    "ExecuteTime": {
     "end_time": "2020-06-28T07:18:37.198935Z",
     "start_time": "2020-06-28T07:18:00.610888Z"
    }
   },
   "outputs": [],
   "source": [
    "seq_list_train_ad = seq_list(pd_user_ad_list_train,col_name='ad_id',dict_id=dict_ad)"
   ]
  },
  {
   "cell_type": "code",
   "execution_count": 97,
   "metadata": {
    "ExecuteTime": {
     "end_time": "2020-06-28T07:18:37.262856Z",
     "start_time": "2020-06-28T07:18:37.201565Z"
    }
   },
   "outputs": [
    {
     "data": {
      "text/plain": [
       "(900000, 100)"
      ]
     },
     "execution_count": 97,
     "metadata": {},
     "output_type": "execute_result"
    }
   ],
   "source": [
    "seq_list_train_ad.shape"
   ]
  },
  {
   "cell_type": "markdown",
   "metadata": {},
   "source": [
    "### 测试集"
   ]
  },
  {
   "cell_type": "code",
   "execution_count": 99,
   "metadata": {
    "ExecuteTime": {
     "end_time": "2020-06-28T07:18:50.477777Z",
     "start_time": "2020-06-28T07:18:49.230762Z"
    }
   },
   "outputs": [],
   "source": [
    "pd_user_ad_list_test = pd.merge(pd_user_ad_list,df_test_user_id,on=\"user_id\")"
   ]
  },
  {
   "cell_type": "code",
   "execution_count": 100,
   "metadata": {
    "ExecuteTime": {
     "end_time": "2020-06-28T07:18:51.350483Z",
     "start_time": "2020-06-28T07:18:51.296600Z"
    },
    "scrolled": true
   },
   "outputs": [
    {
     "data": {
      "text/plain": [
       "(1000000, 9)"
      ]
     },
     "execution_count": 100,
     "metadata": {},
     "output_type": "execute_result"
    }
   ],
   "source": [
    "pd_user_ad_list_test.shape"
   ]
  },
  {
   "cell_type": "code",
   "execution_count": 101,
   "metadata": {
    "ExecuteTime": {
     "end_time": "2020-06-28T07:19:44.919009Z",
     "start_time": "2020-06-28T07:19:00.849951Z"
    }
   },
   "outputs": [],
   "source": [
    "seq_list_test_cr = seq_list(pd_user_ad_list_test,col_name='creative_id',dict_id=dict_cr)"
   ]
  },
  {
   "cell_type": "code",
   "execution_count": 102,
   "metadata": {
    "ExecuteTime": {
     "end_time": "2020-06-28T07:19:44.982476Z",
     "start_time": "2020-06-28T07:19:44.921329Z"
    }
   },
   "outputs": [
    {
     "data": {
      "text/plain": [
       "(1000000, 100)"
      ]
     },
     "execution_count": 102,
     "metadata": {},
     "output_type": "execute_result"
    }
   ],
   "source": [
    "seq_list_test_cr.shape"
   ]
  },
  {
   "cell_type": "code",
   "execution_count": 103,
   "metadata": {
    "ExecuteTime": {
     "end_time": "2020-06-28T07:20:08.381167Z",
     "start_time": "2020-06-28T07:19:44.984310Z"
    }
   },
   "outputs": [],
   "source": [
    "seq_list_test_pr = seq_list(pd_user_ad_list_test,col_name='product_id',dict_id=dict_pr)"
   ]
  },
  {
   "cell_type": "code",
   "execution_count": 104,
   "metadata": {
    "ExecuteTime": {
     "end_time": "2020-06-28T07:20:45.205265Z",
     "start_time": "2020-06-28T07:20:08.382961Z"
    }
   },
   "outputs": [],
   "source": [
    "seq_list_test_av = seq_list(pd_user_ad_list_test,col_name='advertiser_id',dict_id=dict_av)"
   ]
  },
  {
   "cell_type": "code",
   "execution_count": 105,
   "metadata": {
    "ExecuteTime": {
     "end_time": "2020-06-28T07:21:30.041930Z",
     "start_time": "2020-06-28T07:20:45.207376Z"
    }
   },
   "outputs": [],
   "source": [
    "seq_list_test_ad = seq_list(pd_user_ad_list_test,col_name='ad_id',dict_id=dict_ad)"
   ]
  },
  {
   "cell_type": "markdown",
   "metadata": {},
   "source": [
    "## 构造词向量特征"
   ]
  },
  {
   "cell_type": "markdown",
   "metadata": {},
   "source": [
    "根据用户点击序列和点击次数进行加权平均获取用户向量，主要作为DNN的输入测试词向量加权平均的模型效果  \n",
    "**若测试BILSTM或者TextCNN此步骤可忽略**"
   ]
  },
  {
   "cell_type": "code",
   "execution_count": 115,
   "metadata": {
    "ExecuteTime": {
     "end_time": "2020-06-28T07:33:57.779347Z",
     "start_time": "2020-06-28T07:33:57.722083Z"
    }
   },
   "outputs": [],
   "source": [
    "def user_w2v(df_data,wv,col_name):\n",
    "    \"\"\"\n",
    "    生成用户的序列id列表\n",
    "    \n",
    "    Parameters\n",
    "    ----------\n",
    "    df_data: pandas.DataFrame,数据源\n",
    "    wv: gensim.models.keyedvectors.Word2VecKeyedVectors,训练好的词向量\n",
    "    col_name: str,列名\n",
    "    \n",
    "    Returns\n",
    "    ----------\n",
    "    numpy.ndarray, 用户词向量表征\n",
    "    \"\"\"\n",
    "    k = wv.vector_size\n",
    "    user_vectors=[]\n",
    "    count=0\n",
    "    for index,row in df_data.iterrows():\n",
    "        \n",
    "        count+=1\n",
    "        user_vec = np.zeros(k)\n",
    "        \n",
    "        id_segcontent = row[col_name]\n",
    "        click_times = row['click_times']\n",
    "                          \n",
    "        ad_list = id_segcontent.split(\" \")\n",
    "        click_time_list = click_times.split(\" \")\n",
    "\n",
    "        word_len = len(ad_list)\n",
    "        word_size = 0\n",
    "        for i in range(0,word_len):\n",
    "            if ad_list[i] in wv:\n",
    "                user_vec+=wv[ad_list[i]]*int(click_time_list[i])\n",
    "                word_size+=int(click_time_list[i])\n",
    "        user_vec = user_vec/word_size\n",
    "        user_vectors.append(user_vec)\n",
    "        if count%100000==0:\n",
    "            print(count)\n",
    "    return np.array(user_vectors)"
   ]
  },
  {
   "cell_type": "markdown",
   "metadata": {
    "ExecuteTime": {
     "end_time": "2020-06-22T02:39:32.615229Z",
     "start_time": "2020-06-22T02:39:28.340459Z"
    }
   },
   "source": [
    "### 训练集"
   ]
  },
  {
   "cell_type": "code",
   "execution_count": 90,
   "metadata": {
    "ExecuteTime": {
     "end_time": "2020-06-22T02:53:54.310490Z",
     "start_time": "2020-06-22T02:40:52.355999Z"
    }
   },
   "outputs": [
    {
     "name": "stdout",
     "output_type": "stream",
     "text": [
      "100000\n",
      "200000\n",
      "300000\n",
      "400000\n",
      "500000\n",
      "600000\n",
      "700000\n",
      "800000\n",
      "900000\n"
     ]
    }
   ],
   "source": [
    "user_w2v_cr_train = user_w2v(pd_user_ad_list_train,wv_cr,col_name='creative_id')"
   ]
  },
  {
   "cell_type": "markdown",
   "metadata": {},
   "source": [
    "### 测试集"
   ]
  },
  {
   "cell_type": "code",
   "execution_count": 91,
   "metadata": {
    "ExecuteTime": {
     "end_time": "2020-06-22T03:08:36.788830Z",
     "start_time": "2020-06-22T02:53:54.312578Z"
    }
   },
   "outputs": [
    {
     "name": "stdout",
     "output_type": "stream",
     "text": [
      "100000\n",
      "200000\n",
      "300000\n",
      "400000\n",
      "500000\n",
      "600000\n",
      "700000\n",
      "800000\n",
      "900000\n",
      "1000000\n"
     ]
    }
   ],
   "source": [
    "user_w2v_cr_test = user_w2v(pd_user_ad_list_test,wv_cr,col_name='creative_id')"
   ]
  },
  {
   "cell_type": "markdown",
   "metadata": {},
   "source": [
    "## 标签编码"
   ]
  },
  {
   "cell_type": "markdown",
   "metadata": {},
   "source": [
    "独热编码"
   ]
  },
  {
   "cell_type": "code",
   "execution_count": 107,
   "metadata": {
    "ExecuteTime": {
     "end_time": "2020-06-28T07:25:51.125593Z",
     "start_time": "2020-06-28T07:25:51.023978Z"
    }
   },
   "outputs": [],
   "source": [
    "label_gender_onehot_train = keras.utils.to_categorical(pd_user_ad_list_train['gender_c'],num_classes=2)\n",
    "label_age_onehot_train = keras.utils.to_categorical(pd_user_ad_list_train['age_c'],num_classes=10)"
   ]
  },
  {
   "cell_type": "code",
   "execution_count": 110,
   "metadata": {
    "ExecuteTime": {
     "end_time": "2020-06-28T07:26:19.987363Z",
     "start_time": "2020-06-28T07:26:19.924253Z"
    },
    "scrolled": true
   },
   "outputs": [
    {
     "data": {
      "text/plain": [
       "array([1., 0.], dtype=float32)"
      ]
     },
     "execution_count": 110,
     "metadata": {},
     "output_type": "execute_result"
    }
   ],
   "source": [
    "label_gender_onehot_train[0]"
   ]
  },
  {
   "cell_type": "code",
   "execution_count": 111,
   "metadata": {
    "ExecuteTime": {
     "end_time": "2020-06-28T07:26:20.424019Z",
     "start_time": "2020-06-28T07:26:20.370558Z"
    },
    "scrolled": true
   },
   "outputs": [
    {
     "data": {
      "text/plain": [
       "array([0., 0., 0., 1., 0., 0., 0., 0., 0., 0.], dtype=float32)"
      ]
     },
     "execution_count": 111,
     "metadata": {},
     "output_type": "execute_result"
    }
   ],
   "source": [
    "label_age_onehot_train[0]"
   ]
  },
  {
   "cell_type": "markdown",
   "metadata": {},
   "source": [
    "## 建模"
   ]
  },
  {
   "cell_type": "markdown",
   "metadata": {},
   "source": [
    "### 定义模型"
   ]
  },
  {
   "cell_type": "markdown",
   "metadata": {},
   "source": [
    "#### 单输入"
   ]
  },
  {
   "cell_type": "code",
   "execution_count": 124,
   "metadata": {
    "ExecuteTime": {
     "end_time": "2020-06-28T07:41:40.940680Z",
     "start_time": "2020-06-28T07:41:40.883262Z"
    }
   },
   "outputs": [],
   "source": [
    "def DNN(feature_dim=128,deep_layers=[128],dropout_deep=[0.2],deep_layers_activation='relu',l1_reg=0.0,l2_reg=0.05,\n",
    "        batch_norm=0,batch_norm_decay=0.995,num_class=2,verbose=True,random_seed=2020):\n",
    "    \"\"\"\n",
    "    构造DNN模型\n",
    "    \n",
    "    Parameters\n",
    "    ----------\n",
    "    feature_dim: int,特征维度\n",
    "    deep_layers: list,隐藏层节点数\n",
    "    dropout_deep: list,隐藏层dropout比例\n",
    "    deep_layers_activation：str,隐藏层激活函数\n",
    "    l1_reg：float,l1正则化系数\n",
    "    l2_reg：float,l2正则化系数\n",
    "    batch_norm：int,是否使用批量归一化，0代表否，1代表是（暂时不用，备用）\n",
    "    batch_norm_decay：float,批量归一化参数（暂时不用，备用）\n",
    "    num_class：int,类别数量\n",
    "    verbose：boolean,是否打印日志（暂时不用，备用）\n",
    "    random_seed：int,随机种子（暂时不用，备用）\n",
    "    \n",
    "    Returns\n",
    "    ----------\n",
    "    keras.Model\n",
    "    \"\"\"\n",
    "    inputs = keras.Input(shape=(feature_dim,), dtype=\"float32\")\n",
    "    x = inputs\n",
    "    for i in range(0,len(deep_layers)):\n",
    "        x = layers.Dense(deep_layers[i], activation=deep_layers_activation,kernel_regularizer=keras.regularizers.l1_l2(l1=l1_reg,l2=l2_reg))(x)\n",
    "        x = layers.Dropout(dropout_deep[i])(x)\n",
    "    outputs = layers.Dense(num_class, activation=\"softmax\")(x)\n",
    "    model = keras.Model(inputs, outputs)\n",
    "    model.summary()\n",
    "    #model.compile(optimizer=optimizer, loss=loss_type, metrics=[eval_metric])\n",
    "    return model"
   ]
  },
  {
   "cell_type": "code",
   "execution_count": 150,
   "metadata": {
    "ExecuteTime": {
     "end_time": "2020-06-28T08:30:24.615599Z",
     "start_time": "2020-06-28T08:30:24.554175Z"
    }
   },
   "outputs": [],
   "source": [
    "def BiLSTM(embedding_feature_size,embedding_size,embedding_initial_weight,embedding_trainable,\n",
    "           mask_zero=True,dropout_embedding=0,seq_length=100,\n",
    "           lstm_kernel='lstm',lstm_num_hidden=128,lstm_num_layer=2,dropout_lstm=0.2,\n",
    "           deep_layers=[128],dropout_deep=[0.2],deep_layers_activation='relu',l1_reg=0.0,l2_reg=0.05,\n",
    "           batch_norm=0,batch_norm_decay=0.995,\n",
    "           #epoch=10,batch_size=128,optimizer= keras.optimizers.Adam(),loss_type='categorical_crossentropy',eval_metric= 'accuracy',\n",
    "           num_class=2,\n",
    "           verbose=True,\n",
    "           random_seed=2020\n",
    "          ):\n",
    "    \"\"\"\n",
    "    构造单输入BiLSTM模型\n",
    "    \n",
    "    Parameters\n",
    "    ----------\n",
    "    embedding_feature_size: int,embedding权重矩阵大小\n",
    "    embedding_size: int,embedding权重矩阵的向量维度\n",
    "    embedding_initial_weight：np.ndarray,embedding初始化矩阵\n",
    "    embedding_trainable：boolean,embedding权重是否可训练\n",
    "    mask_zero：boolean, 是否进行mask\n",
    "    dropout_embedding：int,embedding的droupout比例（暂时不用，备用）\n",
    "    seq_length=100: int,用户的序列长度（暂时不用，备用）\n",
    "    lstm_kernel：str，表示lstm层选择什么核，例如lstm或者gru（暂时不用，备用）\n",
    "    lstm_num_hidden：lstm隐藏层节点数\n",
    "    lstm_num_layer：lstm的层数\n",
    "    dropout_lstm：lstm的dropout比例\n",
    "    #lstm正则项待加\n",
    "    deep_layers: list,隐藏层节点数\n",
    "    dropout_deep: list,隐藏层dropout比例\n",
    "    deep_layers_activation：str,隐藏层激活函数\n",
    "    l1_reg：float,l1正则化系数\n",
    "    l2_reg：float,l2正则化系数\n",
    "    batch_norm：int,是否使用批量归一化，0代表否，1代表是（暂时不用，备用）\n",
    "    batch_norm_decay：float,批量归一化参数（暂时不用，备用）\n",
    "    num_class：int,类别数量\n",
    "    verbose：boolean,是否打印日志（暂时不用，备用）\n",
    "    random_seed：int,随机种子（暂时不用，备用）\n",
    "    \n",
    "    Returns\n",
    "    ----------\n",
    "    keras.Model\n",
    "    \"\"\"\n",
    "    inputs = keras.Input(shape=(None,), dtype=\"int32\")\n",
    "    x = layers.Embedding(input_dim=embedding_feature_size, output_dim=embedding_size,mask_zero=mask_zero,weights=[embedding_initial_weight],trainable=embedding_trainable)(inputs)\n",
    "    #lstm\n",
    "    for i in range(0,lstm_num_layer):  \n",
    "        x = layers.Bidirectional(layers.LSTM(lstm_num_hidden,dropout=dropout_lstm,return_sequences=True))(x)\n",
    "    x = layers.GlobalMaxPooling1D()(x)\n",
    "    #x = layers.Dropout(dropout_lstm)(x)\n",
    "    #lstm后接全连接层\n",
    "    for i in range(0,len(deep_layers)):\n",
    "        x = layers.Dense(deep_layers[i], activation=deep_layers_activation,kernel_regularizer=keras.regularizers.l1_l2(l1=l1_reg,l2=l2_reg))(x)\n",
    "        x = layers.Dropout(dropout_deep[i])(x)\n",
    "    outputs = layers.Dense(num_class, activation=\"softmax\")(x)\n",
    "    model = keras.Model(inputs, outputs)\n",
    "    model.summary()\n",
    "    #model.compile(optimizer=optimizer, loss=loss_type, metrics=[eval_metric])\n",
    "    return model"
   ]
  },
  {
   "cell_type": "markdown",
   "metadata": {},
   "source": [
    "#### 多输入"
   ]
  },
  {
   "cell_type": "code",
   "execution_count": 151,
   "metadata": {
    "ExecuteTime": {
     "end_time": "2020-06-28T08:30:30.411118Z",
     "start_time": "2020-06-28T08:30:30.347480Z"
    }
   },
   "outputs": [],
   "source": [
    "def BiLSTM_MutilInput(embedding_feature_size=[],embedding_size=[],embedding_initial_weight=[],embedding_trainable=False,\n",
    "           mask_zero=True,dropout_embedding=0,seq_length=100,\n",
    "           lstm_kernel='lstm',lstm_num_hidden=128,lstm_num_layer=2,dropout_lstm=0.2,\n",
    "           deep_layers=[128],dropout_deep=[0.2],deep_layers_activation='relu',l1_reg=0.0,l2_reg=0.05,\n",
    "           batch_norm=0,batch_norm_decay=0.995,\n",
    "           epoch=10,batch_size=128,optimizer= keras.optimizers.Adam(),loss_type='categorical_crossentropy',eval_metric= 'accuracy',\n",
    "           num_class=2,\n",
    "           verbose=True,\n",
    "           random_seed=2020\n",
    "          ):\n",
    "    \"\"\"\n",
    "    构造多输入BiLSTM模型，同时支持单输入\n",
    "    \n",
    "    Parameters\n",
    "    ----------\n",
    "    embedding_feature_size: list[int],embedding权重矩阵大小\n",
    "    embedding_size: list[int],embedding权重矩阵的向量维度\n",
    "    embedding_initial_weight：list[np.ndarray],embedding初始化矩阵\n",
    "    embedding_trainable：boolean,embedding权重是否可训练\n",
    "    mask_zero：boolean, 是否进行mask\n",
    "    dropout_embedding：int,embedding的droupout比例（暂时不用，备用）\n",
    "    seq_length=100: int,用户的序列长度（暂时不用，备用）\n",
    "    lstm_kernel：str，表示lstm层选择什么核，例如lstm或者gru（暂时不用，备用）\n",
    "    lstm_num_hidden：lstm隐藏层节点数\n",
    "    lstm_num_layer：lstm的层数\n",
    "    dropout_lstm：lstm的dropout比例\n",
    "    #lstm正则项待加\n",
    "    deep_layers: list,隐藏层节点数\n",
    "    dropout_deep: list,隐藏层dropout比例\n",
    "    deep_layers_activation：str,隐藏层激活函数\n",
    "    l1_reg：float,l1正则化系数\n",
    "    l2_reg：float,l2正则化系数\n",
    "    batch_norm：int,是否使用批量归一化，0代表否，1代表是（暂时不用，备用）\n",
    "    batch_norm_decay：float,批量归一化参数（暂时不用，备用）\n",
    "    num_class：int,类别数量\n",
    "    verbose：boolean,是否打印日志（暂时不用，备用）\n",
    "    random_seed：int,随机种子（暂时不用，备用）\n",
    "    \n",
    "    Returns\n",
    "    ----------\n",
    "    keras.Model\n",
    "    \"\"\"\n",
    "    \n",
    "    input_nums = len(embedding_feature_size)\n",
    "    #每个输入对应一个bilstm\n",
    "    sub_models = []\n",
    "    for i in range(0,input_nums):\n",
    "        #print(i)\n",
    "        inputs = keras.Input(shape=(None,), dtype=\"int32\")\n",
    "        x = layers.Embedding(input_dim=embedding_feature_size[i], output_dim=embedding_size[i],mask_zero=mask_zero,weights=[embedding_initial_weight[i]],trainable=embedding_trainable)(inputs)\n",
    "        for i in range(0,lstm_num_layer):  \n",
    "            x = layers.Bidirectional(layers.LSTM(lstm_num_hidden,dropout=dropout_lstm,return_sequences=True))(x)\n",
    "        x = layers.GlobalMaxPooling1D()(x)\n",
    "        x = keras.Model(inputs, outputs=x)\n",
    "        sub_models.append(x)\n",
    "    \n",
    "    #增加对单输入的支持\n",
    "    if input_nums<2:\n",
    "        combined_input=sub_models[0].output\n",
    "    else:\n",
    "        combined_input = layers.concatenate([x.output for x in sub_models])\n",
    "    \n",
    "    #lstm后接全连接层\n",
    "    x = combined_input\n",
    "    for i in range(0,len(deep_layers)):\n",
    "        x = layers.Dense(deep_layers[i], activation=deep_layers_activation,kernel_regularizer=keras.regularizers.l1_l2(l1=l1_reg,l2=l2_reg))(x)\n",
    "        x = layers.Dropout(dropout_deep[i])(x)  \n",
    "    outputs = layers.Dense(num_class, activation=\"softmax\")(x)\n",
    "    model = keras.Model([x.input for x in sub_models], outputs)\n",
    "    model.summary()\n",
    "    #model.compile(optimizer=optimizer, loss=loss_type, metrics=[eval_metric])\n",
    "    return model"
   ]
  },
  {
   "cell_type": "code",
   "execution_count": 162,
   "metadata": {
    "ExecuteTime": {
     "end_time": "2020-06-28T09:00:52.833783Z",
     "start_time": "2020-06-28T09:00:52.768457Z"
    }
   },
   "outputs": [],
   "source": [
    "def TextCNN_MutilInput(embedding_feature_size=[],embedding_size=[],embedding_initial_weight=[],embedding_trainable=False,\n",
    "           mask_zero=True,dropout_embedding=0,seq_length=100,\n",
    "           filters=128,kernel_size=[2,5,10],dropout_cnn=[0.2,0.2,0.2],\n",
    "           deep_layers=[128],dropout_deep=[0.2],deep_layers_activation='relu',l1_reg=0.0,l2_reg=0.05,\n",
    "           batch_norm=0,batch_norm_decay=0.995,\n",
    "           epoch=10,batch_size=128,optimizer= keras.optimizers.Adam(),loss_type='categorical_crossentropy',eval_metric= 'accuracy',\n",
    "           num_class=2,\n",
    "           verbose=True,\n",
    "           random_seed=2020\n",
    "          ):\n",
    "    \"\"\"\n",
    "    构造多输入TextCNN模型，同时支持单输入\n",
    "    \n",
    "    Parameters\n",
    "    ----------\n",
    "    embedding_feature_size: list[int],embedding权重矩阵大小\n",
    "    embedding_size: list[int],embedding权重矩阵的向量维度\n",
    "    embedding_initial_weight：list[np.ndarray],embedding初始化矩阵\n",
    "    embedding_trainable：boolean,embedding权重是否可训练\n",
    "    mask_zero：boolean, 是否进行mask\n",
    "    dropout_embedding：int,embedding的droupout比例（暂时不用，备用）\n",
    "    seq_length=100: int,用户的序列长度（暂时不用，备用）\n",
    "    filters：int,卷积核个数\n",
    "    kernel_size：list,卷积核大小\n",
    "    dropout_cnn：list,cnn输出节点的dropout比例\n",
    "    deep_layers: list,隐藏层节点数\n",
    "    dropout_deep: list,隐藏层dropout比例\n",
    "    deep_layers_activation：str,隐藏层激活函数\n",
    "    l1_reg：float,l1正则化系数\n",
    "    l2_reg：float,l2正则化系数\n",
    "    batch_norm：int,是否使用批量归一化，0代表否，1代表是（暂时不用，备用）\n",
    "    batch_norm_decay：float,批量归一化参数（暂时不用，备用）\n",
    "    num_class：int,类别数量\n",
    "    verbose：boolean,是否打印日志（暂时不用，备用）\n",
    "    random_seed：int,随机种子（暂时不用，备用））\n",
    "    \n",
    "    Returns\n",
    "    ----------\n",
    "    keras.Model\n",
    "    \"\"\" \n",
    "    input_nums = len(embedding_feature_size)\n",
    "    #每个输入对应一个cnn\n",
    "    sub_models = []\n",
    "    for i in range(0,input_nums):\n",
    "        #print(i)\n",
    "        inputs = keras.Input(shape=(None,), dtype=\"int32\")\n",
    "        emb = layers.Embedding(input_dim=embedding_feature_size[i], output_dim=embedding_size[i],mask_zero=mask_zero,weights=[embedding_initial_weight[i]],trainable=embedding_trainable)(inputs)\n",
    "        convs=[]\n",
    "        for i in range(0,len(kernel_size)):  \n",
    "            x = layers.Conv1D(filters=filters,kernel_size=kernel_size[i],activation=deep_layers_activation)(emb)\n",
    "            x = layers.GlobalMaxPooling1D()(x)\n",
    "            x = layers.Dropout(dropout_cnn[i])(x)\n",
    "            convs.append(x)\n",
    "        x = layers.concatenate(convs)\n",
    "        x = keras.Model(inputs, outputs=x)\n",
    "        sub_models.append(x)\n",
    "        \n",
    "    #增加对单输入的支持\n",
    "    if input_nums<2:\n",
    "        combined_input=sub_models[0].output\n",
    "    else:\n",
    "        combined_input = layers.concatenate([x.output for x in sub_models])\n",
    "    \n",
    "    #cnn后接全连接层\n",
    "    x=combined_input\n",
    "    for i in range(0,len(deep_layers)):\n",
    "        x = layers.Dense(deep_layers[i], activation=deep_layers_activation,kernel_regularizer=keras.regularizers.l1_l2(l1=l1_reg,l2=l2_reg))(x)\n",
    "        x = layers.Dropout(dropout_deep[i])(x)  \n",
    "    outputs = layers.Dense(num_class, activation=\"softmax\")(x)\n",
    "    model = keras.Model([x.input for x in sub_models], outputs)\n",
    "    model.summary()\n",
    "    #model.compile(optimizer=optimizer, loss=loss_type, metrics=[eval_metric])\n",
    "    return model"
   ]
  },
  {
   "cell_type": "code",
   "execution_count": 163,
   "metadata": {
    "ExecuteTime": {
     "end_time": "2020-06-28T09:00:55.282213Z",
     "start_time": "2020-06-28T09:00:55.217000Z"
    }
   },
   "outputs": [],
   "source": [
    "def BiLSTM_DNN_MutilInput(dnn_feature_size=128,embedding_feature_size=[],embedding_size=[],embedding_initial_weight=[],embedding_trainable=False,\n",
    "           mask_zero=True,dropout_embedding=0,seq_length=100,\n",
    "           lstm_kernel='lstm',lstm_num_hidden=128,lstm_num_layer=2,dropout_lstm=0.2,\n",
    "           deep_layers=[128],dropout_deep=[0.2],deep_layers_activation='relu',l1_reg=0.0,l2_reg=0.05,\n",
    "           batch_norm=0,batch_norm_decay=0.995,\n",
    "           epoch=10,batch_size=128,optimizer= keras.optimizers.Adam(),loss_type='categorical_crossentropy',eval_metric= 'accuracy',\n",
    "           num_class=2,\n",
    "           verbose=True,\n",
    "           random_seed=2020\n",
    "          ):\n",
    "    \"\"\"\n",
    "    构造多输入BiLSTM+DNN模型，同时支持单输入\n",
    "    \n",
    "    Parameters\n",
    "    ----------\n",
    "    embedding_feature_size: list[int],embedding权重矩阵大小\n",
    "    embedding_size: list[int],embedding权重矩阵的向量维度\n",
    "    embedding_initial_weight：list[np.ndarray],embedding初始化矩阵\n",
    "    embedding_trainable：boolean,embedding权重是否可训练\n",
    "    mask_zero：boolean, 是否进行mask\n",
    "    dropout_embedding：int,embedding的droupout比例（暂时不用，备用）\n",
    "    seq_length=100: int,用户的序列长度（暂时不用，备用）\n",
    "    lstm_kernel：str，表示lstm层选择什么核，例如lstm或者gru（暂时不用，备用）\n",
    "    lstm_num_hidden：lstm隐藏层节点数\n",
    "    lstm_num_layer：lstm的层数\n",
    "    dropout_lstm：lstm的dropout比例\n",
    "    #lstm正则项待加\n",
    "    deep_layers: list,隐藏层节点数\n",
    "    dropout_deep: list,隐藏层dropout比例\n",
    "    deep_layers_activation：str,隐藏层激活函数\n",
    "    l1_reg：float,l1正则化系数\n",
    "    l2_reg：float,l2正则化系数\n",
    "    batch_norm：int,是否使用批量归一化，0代表否，1代表是（暂时不用，备用）\n",
    "    batch_norm_decay：float,批量归一化参数（暂时不用，备用）\n",
    "    num_class：int,类别数量\n",
    "    verbose：boolean,是否打印日志（暂时不用，备用）\n",
    "    random_seed：int,随机种子（暂时不用，备用）\n",
    "    \n",
    "    Returns\n",
    "    ----------\n",
    "    keras.Model\n",
    "    \"\"\"\n",
    "    input_nums = len(embedding_feature_size)\n",
    "    sub_models = []\n",
    "    #每个输入对应一个bilstm\n",
    "    for i in range(0,input_nums):\n",
    "        #print(i)\n",
    "        inputs = keras.Input(shape=(None,), dtype=\"int32\")\n",
    "        x = layers.Embedding(input_dim=embedding_feature_size[i], output_dim=embedding_size[i],mask_zero=mask_zero,weights=[embedding_initial_weight[i]],trainable=embedding_trainable)(inputs)\n",
    "        for i in range(0,lstm_num_layer):  \n",
    "            x = layers.Bidirectional(layers.LSTM(lstm_num_hidden,dropout=dropout_lstm,return_sequences=True))(x)\n",
    "        x = layers.GlobalMaxPooling1D()(x)\n",
    "        x = keras.Model(inputs, outputs=x)\n",
    "        sub_models.append(x)\n",
    "        \n",
    "    #增加对单输入的支持\n",
    "    if input_nums<2:\n",
    "        combined_input=sub_models[0].output\n",
    "    else:\n",
    "        combined_input = layers.concatenate([x.output for x in sub_models])\n",
    "    \n",
    "    #增加DNN输入特征\n",
    "    dnn_inputs = keras.Input(shape=(dnn_feature_size,), dtype=\"float32\")\n",
    "    x = layers.concatenate([combined_input,dnn_inputs])\n",
    "    #全连接层\n",
    "    for i in range(0,len(deep_layers)):\n",
    "        x = layers.Dense(deep_layers[i], activation=deep_layers_activation,kernel_regularizer=keras.regularizers.l1_l2(l1=l1_reg,l2=l2_reg))(x)\n",
    "        x = layers.Dropout(dropout_deep[i])(x)  \n",
    "    outputs = layers.Dense(num_class, activation=\"softmax\")(x)\n",
    "    inputs = [x.input for x in sub_models]\n",
    "    inputs.append(dnn_inputs)\n",
    "    model = keras.Model(inputs, outputs)\n",
    "    model.summary()\n",
    "    #model.compile(optimizer=optimizer, loss=loss_type, metrics=[eval_metric])\n",
    "    return model"
   ]
  },
  {
   "cell_type": "code",
   "execution_count": 164,
   "metadata": {
    "ExecuteTime": {
     "end_time": "2020-06-28T09:00:57.011945Z",
     "start_time": "2020-06-28T09:00:56.945025Z"
    }
   },
   "outputs": [],
   "source": [
    "def BiLSTM_TextCNN_MutilInput(embedding_feature_size=[],embedding_size=[],embedding_initial_weight=[],embedding_trainable=False,\n",
    "           mask_zero=True,dropout_embedding=0,seq_length=100,\n",
    "           lstm_kernel='lstm',lstm_num_hidden=128,lstm_num_layer=2,dropout_lstm=0.2,\n",
    "           filters=128,kernel_size=[2,5,10],dropout_cnn=[0.2,0.2,0.2],\n",
    "           deep_layers=[128],dropout_deep=[0.2],deep_layers_activation='relu',l1_reg=0.0,l2_reg=0.05,\n",
    "           batch_norm=0,batch_norm_decay=0.995,\n",
    "           epoch=10,batch_size=128,optimizer= keras.optimizers.Adam(),loss_type='categorical_crossentropy',eval_metric= 'accuracy',\n",
    "           num_class=2,\n",
    "           verbose=True,\n",
    "           random_seed=2020\n",
    "          ):\n",
    "    \"\"\"\n",
    "    构造多输入BiLSTM+TextCNN模型，同时支持单输入\n",
    "    \n",
    "    Parameters\n",
    "    ----------\n",
    "    embedding_feature_size: list[int],embedding权重矩阵大小\n",
    "    embedding_size: list[int],embedding权重矩阵的向量维度\n",
    "    embedding_initial_weight：list[np.ndarray],embedding初始化矩阵\n",
    "    embedding_trainable：boolean,embedding权重是否可训练\n",
    "    mask_zero：boolean, 是否进行mask\n",
    "    dropout_embedding：int,embedding的droupout比例（暂时不用，备用）\n",
    "    seq_length=100: int,用户的序列长度（暂时不用，备用）\n",
    "    lstm_kernel：str，表示lstm层选择什么核，例如lstm或者gru（暂时不用，备用）\n",
    "    lstm_num_hidden：lstm隐藏层节点数\n",
    "    lstm_num_layer：lstm的层数\n",
    "    dropout_lstm：lstm的dropout比例\n",
    "    #lstm正则项待加\n",
    "    filters：int,卷积核个数\n",
    "    kernel_size：list,卷积核大小\n",
    "    dropout_cnn：list,cnn输出节点的dropout比例\n",
    "    deep_layers: list,隐藏层节点数\n",
    "    dropout_deep: list,隐藏层dropout比例\n",
    "    deep_layers_activation：str,隐藏层激活函数\n",
    "    l1_reg：float,l1正则化系数\n",
    "    l2_reg：float,l2正则化系数\n",
    "    batch_norm：int,是否使用批量归一化，0代表否，1代表是（暂时不用，备用）\n",
    "    batch_norm_decay：float,批量归一化参数（暂时不用，备用）\n",
    "    num_class：int,类别数量\n",
    "    verbose：boolean,是否打印日志（暂时不用，备用）\n",
    "    random_seed：int,随机种子（暂时不用，备用）\n",
    "    \n",
    "    Returns\n",
    "    ----------\n",
    "    keras.Model\n",
    "    \"\"\"\n",
    "    input_nums = len(embedding_feature_size)\n",
    "    #每个输入对应一个bilstm+textxnn\n",
    "    sub_models = []\n",
    "    for i in range(0,input_nums):\n",
    "        inputs = keras.Input(shape=(None,), dtype=\"int32\")\n",
    "        emb = layers.Embedding(input_dim=embedding_feature_size[i], output_dim=embedding_size[i],mask_zero=mask_zero,weights=[embedding_initial_weight[i]],trainable=embedding_trainable)(inputs)\n",
    "        #bilstm\n",
    "        lstm_part=emb\n",
    "        for i in range(0,lstm_num_layer):  \n",
    "            lstm_part = layers.Bidirectional(layers.LSTM(lstm_num_hidden,dropout=dropout_lstm,return_sequences=True))(lstm_part)\n",
    "        lstm_part = layers.GlobalMaxPooling1D()(lstm_part)\n",
    "        #textcnn\n",
    "        convs=[]\n",
    "        for i in range(0,len(kernel_size)):  \n",
    "            x = layers.Conv1D(filters=filters,kernel_size=kernel_size[i],activation=deep_layers_activation)(emb)\n",
    "            x = layers.GlobalMaxPooling1D()(x)\n",
    "            x = layers.Dropout(dropout_cnn[i])(x)\n",
    "            convs.append(x)\n",
    "        cnn_part = layers.concatenate(convs)\n",
    "        \n",
    "        sub_model = layers.concatenate([lstm_part,cnn_part])\n",
    "        sub_model = keras.Model(inputs, outputs=sub_model)\n",
    "        sub_models.append(sub_model)\n",
    "    \n",
    "    #增加对单输入的支持\n",
    "    if input_nums<2:\n",
    "        combined_input=sub_models[0].output\n",
    "    else:\n",
    "        combined_input = layers.concatenate([x.output for x in sub_models])\n",
    "    \n",
    "    #全连接层\n",
    "    x= combined_input\n",
    "    for i in range(0,len(deep_layers)):\n",
    "        x = layers.Dense(deep_layers[i], activation=deep_layers_activation,kernel_regularizer=keras.regularizers.l1_l2(l1=l1_reg,l2=l2_reg))(x)\n",
    "        x = layers.Dropout(dropout_deep[i])(x)  \n",
    "    outputs = layers.Dense(num_class, activation=\"softmax\")(x)\n",
    "    model = keras.Model([x.input for x in sub_models], outputs)\n",
    "    model.summary()\n",
    "    #model.compile(optimizer=optimizer, loss=loss_type, metrics=[eval_metric])\n",
    "    return model"
   ]
  },
  {
   "cell_type": "markdown",
   "metadata": {},
   "source": [
    "### 性别"
   ]
  },
  {
   "cell_type": "code",
   "execution_count": 88,
   "metadata": {
    "ExecuteTime": {
     "end_time": "2020-06-21T12:16:13.088915Z",
     "start_time": "2020-06-21T12:16:13.034589Z"
    }
   },
   "outputs": [],
   "source": [
    "keras.backend.clear_session()"
   ]
  },
  {
   "cell_type": "code",
   "execution_count": 89,
   "metadata": {
    "ExecuteTime": {
     "end_time": "2020-06-21T12:16:16.602465Z",
     "start_time": "2020-06-21T12:16:13.671027Z"
    }
   },
   "outputs": [
    {
     "data": {
      "text/plain": [
       "1466"
      ]
     },
     "execution_count": 89,
     "metadata": {},
     "output_type": "execute_result"
    }
   ],
   "source": [
    "gc.collect()"
   ]
  },
  {
   "cell_type": "markdown",
   "metadata": {},
   "source": [
    "#### 单输入DNN"
   ]
  },
  {
   "cell_type": "code",
   "execution_count": 119,
   "metadata": {
    "ExecuteTime": {
     "end_time": "2020-06-28T07:35:27.246091Z",
     "start_time": "2020-06-28T07:35:27.191335Z"
    }
   },
   "outputs": [],
   "source": [
    "# params\n",
    "dnn_params_gender = {\n",
    "    \"feature_dim\":128,\n",
    "    \"deep_layers\": [256,128],\n",
    "    \"dropout_deep\": [0.2,0.2],\n",
    "    \"deep_layers_activation\": 'relu',\n",
    "    \"l1_reg\":0.0,\n",
    "    \"l2_reg\": 0.001,\n",
    "    \"batch_norm\": 0,\n",
    "    \"batch_norm_decay\": 0.995,\n",
    "    \"num_class\":2,\n",
    "    \"verbose\": True,\n",
    "    \"random_seed\": 2020\n",
    "}"
   ]
  },
  {
   "cell_type": "code",
   "execution_count": 120,
   "metadata": {
    "ExecuteTime": {
     "end_time": "2020-06-28T07:35:30.699865Z",
     "start_time": "2020-06-28T07:35:29.703978Z"
    },
    "scrolled": true
   },
   "outputs": [
    {
     "name": "stdout",
     "output_type": "stream",
     "text": [
      "Model: \"model\"\n",
      "_________________________________________________________________\n",
      "Layer (type)                 Output Shape              Param #   \n",
      "=================================================================\n",
      "input_1 (InputLayer)         [(None, 128)]             0         \n",
      "_________________________________________________________________\n",
      "dense (Dense)                (None, 256)               33024     \n",
      "_________________________________________________________________\n",
      "dropout (Dropout)            (None, 256)               0         \n",
      "_________________________________________________________________\n",
      "dense_1 (Dense)              (None, 128)               32896     \n",
      "_________________________________________________________________\n",
      "dropout_1 (Dropout)          (None, 128)               0         \n",
      "_________________________________________________________________\n",
      "dense_2 (Dense)              (None, 2)                 258       \n",
      "=================================================================\n",
      "Total params: 66,178\n",
      "Trainable params: 66,178\n",
      "Non-trainable params: 0\n",
      "_________________________________________________________________\n"
     ]
    }
   ],
   "source": [
    "dnn_model_gender = DNN(**dnn_params_gender)"
   ]
  },
  {
   "cell_type": "code",
   "execution_count": 101,
   "metadata": {
    "ExecuteTime": {
     "end_time": "2020-06-22T03:13:00.651862Z",
     "start_time": "2020-06-22T03:13:00.598428Z"
    }
   },
   "outputs": [
    {
     "data": {
      "text/plain": [
       "dtype('float64')"
      ]
     },
     "execution_count": 101,
     "metadata": {},
     "output_type": "execute_result"
    }
   ],
   "source": [
    "user_w2v_cr_train.astype()"
   ]
  },
  {
   "cell_type": "code",
   "execution_count": 102,
   "metadata": {
    "ExecuteTime": {
     "end_time": "2020-06-22T03:14:59.627919Z",
     "start_time": "2020-06-22T03:13:48.862136Z"
    }
   },
   "outputs": [
    {
     "name": "stdout",
     "output_type": "stream",
     "text": [
      "Train on 720000 samples, validate on 180000 samples\n",
      "Epoch 1/5\n",
      "720000/720000 [==============================] - 14s 20us/sample - loss: 0.2410 - accuracy: 0.9184 - val_loss: 0.2307 - val_accuracy: 0.9178\n",
      "Epoch 2/5\n",
      "720000/720000 [==============================] - 14s 19us/sample - loss: 0.2310 - accuracy: 0.9197 - val_loss: 0.2209 - val_accuracy: 0.9240\n",
      "Epoch 3/5\n",
      "720000/720000 [==============================] - 14s 19us/sample - loss: 0.2303 - accuracy: 0.9198 - val_loss: 0.2214 - val_accuracy: 0.9231\n",
      "Epoch 4/5\n",
      "720000/720000 [==============================] - 14s 19us/sample - loss: 0.2300 - accuracy: 0.9202 - val_loss: 0.2200 - val_accuracy: 0.9239\n",
      "Epoch 5/5\n",
      "720000/720000 [==============================] - 14s 19us/sample - loss: 0.2304 - accuracy: 0.9200 - val_loss: 0.2175 - val_accuracy: 0.9245\n"
     ]
    },
    {
     "data": {
      "text/plain": [
       "<tensorflow.python.keras.callbacks.History at 0x7fcfd752eda0>"
      ]
     },
     "execution_count": 102,
     "metadata": {},
     "output_type": "execute_result"
    }
   ],
   "source": [
    "dnn_model_gender.compile(optimizer=keras.optimizers.Adam(3e-3), loss='categorical_crossentropy', metrics=['accuracy'])\n",
    "dnn_model_gender.fit(user_w2v_cr_train, label_gender_onehot_train, batch_size=128, epochs=5,validation_split=0.2)"
   ]
  },
  {
   "cell_type": "markdown",
   "metadata": {},
   "source": [
    "#### 单输入bilstm"
   ]
  },
  {
   "cell_type": "code",
   "execution_count": 193,
   "metadata": {
    "ExecuteTime": {
     "end_time": "2020-06-28T09:28:33.825095Z",
     "start_time": "2020-06-28T09:28:33.770556Z"
    }
   },
   "outputs": [],
   "source": [
    "keras.backend.clear_session()"
   ]
  },
  {
   "cell_type": "code",
   "execution_count": 92,
   "metadata": {
    "ExecuteTime": {
     "end_time": "2020-06-21T12:16:45.515201Z",
     "start_time": "2020-06-21T12:16:43.013635Z"
    }
   },
   "outputs": [
    {
     "data": {
      "text/plain": [
       "0"
      ]
     },
     "execution_count": 92,
     "metadata": {},
     "output_type": "execute_result"
    }
   ],
   "source": [
    "gc.collect()"
   ]
  },
  {
   "cell_type": "code",
   "execution_count": 137,
   "metadata": {
    "ExecuteTime": {
     "end_time": "2020-06-28T08:07:29.092150Z",
     "start_time": "2020-06-28T08:07:29.036534Z"
    }
   },
   "outputs": [],
   "source": [
    "# params\n",
    "dnn_params_gender = {\n",
    "    \"embedding_feature_size\":len(dict_cr.values())+1,\n",
    "    \"embedding_size\": 128,\n",
    "    \"embedding_initial_weight\":embedding_cr,\n",
    "    \"embedding_trainable\":False,\n",
    "    \"mask_zero\":False,\n",
    "    \"dropout_embedding\": 0,\n",
    "    \"seq_length\":100,\n",
    "    \"lstm_kernel\":'lstm',\n",
    "    \"lstm_num_hidden\":128,\n",
    "    \"lstm_num_layer\":2,\n",
    "    \"dropout_lstm\":0.2,\n",
    "    \"deep_layers\": [128],\n",
    "    \"dropout_deep\": [0.2],\n",
    "    \"deep_layers_activation\": 'relu',\n",
    "    \"l1_reg\":0.0,\n",
    "    \"l2_reg\": 0.001,\n",
    "    \"batch_norm\": 0,\n",
    "    \"batch_norm_decay\": 0.995,\n",
    "    \"num_class\":2,\n",
    "    \"verbose\": True,\n",
    "    \"random_seed\": 2020\n",
    "}"
   ]
  },
  {
   "cell_type": "code",
   "execution_count": 91,
   "metadata": {
    "ExecuteTime": {
     "end_time": "2020-06-21T12:16:30.674886Z",
     "start_time": "2020-06-21T12:16:30.623265Z"
    }
   },
   "outputs": [],
   "source": [
    "#del lstm_model_gender"
   ]
  },
  {
   "cell_type": "code",
   "execution_count": 136,
   "metadata": {
    "ExecuteTime": {
     "end_time": "2020-06-28T08:04:42.589022Z",
     "start_time": "2020-06-28T08:04:40.639212Z"
    },
    "scrolled": false
   },
   "outputs": [
    {
     "name": "stdout",
     "output_type": "stream",
     "text": [
      "Model: \"model_1\"\n",
      "_________________________________________________________________\n",
      "Layer (type)                 Output Shape              Param #   \n",
      "=================================================================\n",
      "input_2 (InputLayer)         [(None, None)]            0         \n",
      "_________________________________________________________________\n",
      "embedding (Embedding)        (None, None, 128)         130604544 \n",
      "_________________________________________________________________\n",
      "bidirectional (Bidirectional (None, None, 256)         263168    \n",
      "_________________________________________________________________\n",
      "bidirectional_1 (Bidirection (None, None, 256)         394240    \n",
      "_________________________________________________________________\n",
      "global_max_pooling1d (Global (None, 256)               0         \n",
      "_________________________________________________________________\n",
      "dense_3 (Dense)              (None, 128)               32896     \n",
      "_________________________________________________________________\n",
      "dropout_2 (Dropout)          (None, 128)               0         \n",
      "_________________________________________________________________\n",
      "dense_4 (Dense)              (None, 2)                 258       \n",
      "=================================================================\n",
      "Total params: 131,295,106\n",
      "Trainable params: 690,562\n",
      "Non-trainable params: 130,604,544\n",
      "_________________________________________________________________\n"
     ]
    }
   ],
   "source": [
    "lstm_model_gender = BiLSTM(**dnn_params_gender)"
   ]
  },
  {
   "cell_type": "markdown",
   "metadata": {},
   "source": [
    "test"
   ]
  },
  {
   "cell_type": "code",
   "execution_count": 165,
   "metadata": {
    "ExecuteTime": {
     "end_time": "2020-06-20T05:33:15.534586Z",
     "start_time": "2020-06-20T05:30:06.562602Z"
    },
    "scrolled": false
   },
   "outputs": [
    {
     "name": "stdout",
     "output_type": "stream",
     "text": [
      "Train on 100000 samples, validate on 100000 samples\n",
      "Epoch 1/5\n",
      "100000/100000 [==============================] - 43s 426us/sample - loss: 1.0676 - accuracy: 0.8921 - val_loss: 0.4916 - val_accuracy: 0.9168\n",
      "Epoch 2/5\n",
      "100000/100000 [==============================] - 37s 368us/sample - loss: 0.3432 - accuracy: 0.9149 - val_loss: 0.2508 - val_accuracy: 0.9212\n",
      "Epoch 3/5\n",
      "100000/100000 [==============================] - 37s 368us/sample - loss: 0.2388 - accuracy: 0.9174 - val_loss: 0.2226 - val_accuracy: 0.9195\n",
      "Epoch 4/5\n",
      "100000/100000 [==============================] - 36s 361us/sample - loss: 0.2218 - accuracy: 0.9189 - val_loss: 0.2133 - val_accuracy: 0.9230\n",
      "Epoch 5/5\n",
      "100000/100000 [==============================] - 36s 364us/sample - loss: 0.2156 - accuracy: 0.9209 - val_loss: 0.2084 - val_accuracy: 0.9231\n"
     ]
    },
    {
     "data": {
      "text/plain": [
       "<tensorflow.python.keras.callbacks.History at 0x7ff1fc8d13c8>"
      ]
     },
     "execution_count": 165,
     "metadata": {},
     "output_type": "execute_result"
    }
   ],
   "source": [
    "lstm_model.compile(optimizer=keras.optimizers.Adam(3e-3), loss='categorical_crossentropy', metrics=['accuracy'])\n",
    "lstm_model.fit(seq_list_train_cr[0:100000], label_gender_onehot_train[0:100000], batch_size=512, epochs=5, validation_data=(seq_list_train_cr[100000:200000], label_gender_onehot_train[100000:200000]))"
   ]
  },
  {
   "cell_type": "markdown",
   "metadata": {},
   "source": [
    "手动构造验证集"
   ]
  },
  {
   "cell_type": "code",
   "execution_count": 166,
   "metadata": {
    "ExecuteTime": {
     "end_time": "2020-06-21T06:41:35.887887Z",
     "start_time": "2020-06-21T06:41:35.331566Z"
    }
   },
   "outputs": [],
   "source": [
    "Xi_train_gender,Xi_val_gender,y_train_gender,y_val_gender = train_test_split(seq_list_train_cr,pd_user_ad_list_train['gender_c'],test_size=0.2,random_state=0)"
   ]
  },
  {
   "cell_type": "code",
   "execution_count": 167,
   "metadata": {
    "ExecuteTime": {
     "end_time": "2020-06-21T06:41:37.149430Z",
     "start_time": "2020-06-21T06:41:37.095835Z"
    }
   },
   "outputs": [
    {
     "data": {
      "text/plain": [
       "((720000, 100), (180000, 100))"
      ]
     },
     "execution_count": 167,
     "metadata": {},
     "output_type": "execute_result"
    }
   ],
   "source": [
    "Xi_train_gender.shape,Xi_val_gender.shape"
   ]
  },
  {
   "cell_type": "code",
   "execution_count": 168,
   "metadata": {
    "ExecuteTime": {
     "end_time": "2020-06-21T06:41:37.970281Z",
     "start_time": "2020-06-21T06:41:37.867140Z"
    }
   },
   "outputs": [],
   "source": [
    "y_train_gender_one_hot = keras.utils.to_categorical(y_train_gender,num_classes=2)\n",
    "y_val_gender_one_hot = keras.utils.to_categorical(y_val_gender,num_classes=2)"
   ]
  },
  {
   "cell_type": "code",
   "execution_count": 190,
   "metadata": {
    "ExecuteTime": {
     "end_time": "2020-06-21T08:08:40.527901Z",
     "start_time": "2020-06-21T08:01:09.043995Z"
    },
    "scrolled": false
   },
   "outputs": [
    {
     "name": "stdout",
     "output_type": "stream",
     "text": [
      "Train on 720000 samples, validate on 180000 samples\n",
      "Epoch 1/5\n",
      "720000/720000 [==============================] - 95s 132us/sample - loss: 0.1898 - accuracy: 0.9346 - val_loss: 0.1693 - val_accuracy: 0.9401\n",
      "Epoch 2/5\n",
      "720000/720000 [==============================] - 89s 124us/sample - loss: 0.1710 - accuracy: 0.9400 - val_loss: 0.1716 - val_accuracy: 0.9405\n",
      "Epoch 3/5\n",
      "720000/720000 [==============================] - 89s 123us/sample - loss: 0.1661 - accuracy: 0.9421 - val_loss: 0.1626 - val_accuracy: 0.9423\n",
      "Epoch 4/5\n",
      "720000/720000 [==============================] - 89s 124us/sample - loss: 0.1629 - accuracy: 0.9433 - val_loss: 0.1635 - val_accuracy: 0.9430\n",
      "Epoch 5/5\n",
      "720000/720000 [==============================] - 89s 124us/sample - loss: 0.1603 - accuracy: 0.9442 - val_loss: 0.1619 - val_accuracy: 0.9429\n"
     ]
    },
    {
     "data": {
      "text/plain": [
       "<tensorflow.python.keras.callbacks.History at 0x7f763cc59940>"
      ]
     },
     "execution_count": 190,
     "metadata": {},
     "output_type": "execute_result"
    }
   ],
   "source": [
    "lstm_model_gender.compile(optimizer=keras.optimizers.Adam(3e-3), loss='categorical_crossentropy', metrics=['accuracy'])\n",
    "lstm_model_gender.fit(Xi_train_gender, y_train_gender_one_hot, batch_size=512, epochs=5, validation_data=(Xi_val_gender, y_val_gender_one_hot))"
   ]
  },
  {
   "cell_type": "markdown",
   "metadata": {},
   "source": [
    "利用api参数构造验证集"
   ]
  },
  {
   "cell_type": "code",
   "execution_count": 142,
   "metadata": {
    "ExecuteTime": {
     "end_time": "2020-06-28T08:20:39.919723Z",
     "start_time": "2020-06-28T08:13:14.941776Z"
    },
    "scrolled": false
   },
   "outputs": [
    {
     "name": "stdout",
     "output_type": "stream",
     "text": [
      "Train on 720000 samples, validate on 180000 samples\n",
      "Epoch 1/5\n",
      "720000/720000 [==============================] - 96s 134us/sample - loss: 0.1906 - accuracy: 0.9343 - val_loss: 0.1690 - val_accuracy: 0.9406\n",
      "Epoch 2/5\n",
      "720000/720000 [==============================] - 87s 121us/sample - loss: 0.1711 - accuracy: 0.9400 - val_loss: 0.1647 - val_accuracy: 0.9417\n",
      "Epoch 3/5\n",
      "720000/720000 [==============================] - 87s 121us/sample - loss: 0.1669 - accuracy: 0.9415 - val_loss: 0.1638 - val_accuracy: 0.9420\n",
      "Epoch 4/5\n",
      "720000/720000 [==============================] - 87s 121us/sample - loss: 0.1637 - accuracy: 0.9431 - val_loss: 0.1650 - val_accuracy: 0.9411\n",
      "Epoch 5/5\n",
      "720000/720000 [==============================] - 87s 121us/sample - loss: 0.1607 - accuracy: 0.9442 - val_loss: 0.1637 - val_accuracy: 0.9428\n"
     ]
    },
    {
     "data": {
      "text/plain": [
       "<tensorflow.python.keras.callbacks.History at 0x7f9f4805b518>"
      ]
     },
     "execution_count": 142,
     "metadata": {},
     "output_type": "execute_result"
    }
   ],
   "source": [
    "lstm_model_gender.compile(optimizer=keras.optimizers.Adam(3e-3), loss='categorical_crossentropy', metrics=['accuracy'])\n",
    "lstm_model_gender.fit(seq_list_train_cr, label_gender_onehot_train, batch_size=512, epochs=5,validation_split=0.2)"
   ]
  },
  {
   "cell_type": "markdown",
   "metadata": {},
   "source": [
    "refit"
   ]
  },
  {
   "cell_type": "code",
   "execution_count": 287,
   "metadata": {
    "ExecuteTime": {
     "end_time": "2020-06-20T12:31:13.317523Z",
     "start_time": "2020-06-20T12:16:36.541789Z"
    },
    "scrolled": true
   },
   "outputs": [
    {
     "name": "stdout",
     "output_type": "stream",
     "text": [
      "Train on 900000 samples\n",
      "Epoch 1/4\n",
      "900000/900000 [==============================] - 221s 246us/sample - loss: 0.1859 - accuracy: 0.9346\n",
      "Epoch 2/4\n",
      "900000/900000 [==============================] - 218s 242us/sample - loss: 0.1735 - accuracy: 0.9388\n",
      "Epoch 3/4\n",
      "900000/900000 [==============================] - 218s 242us/sample - loss: 0.1693 - accuracy: 0.9404\n",
      "Epoch 4/4\n",
      "900000/900000 [==============================] - 218s 242us/sample - loss: 0.1663 - accuracy: 0.9417\n"
     ]
    },
    {
     "data": {
      "text/plain": [
       "<tensorflow.python.keras.callbacks.History at 0x7ff22474b7b8>"
      ]
     },
     "execution_count": 287,
     "metadata": {},
     "output_type": "execute_result"
    }
   ],
   "source": [
    "lstm_model_gender.compile(optimizer=keras.optimizers.Adam(3e-3), loss='categorical_crossentropy', metrics=['accuracy'])\n",
    "lstm_model_gender_all.fit(seq_list_train_cr, label_gender_onehot_train, batch_size=512, epochs=4)"
   ]
  },
  {
   "cell_type": "markdown",
   "metadata": {},
   "source": [
    "**显存空间释放，可选**"
   ]
  },
  {
   "cell_type": "code",
   "execution_count": 140,
   "metadata": {
    "ExecuteTime": {
     "end_time": "2020-06-28T08:12:40.172638Z",
     "start_time": "2020-06-28T08:12:40.120480Z"
    }
   },
   "outputs": [],
   "source": [
    "#keras.backend.clear_session()"
   ]
  },
  {
   "cell_type": "code",
   "execution_count": 141,
   "metadata": {
    "ExecuteTime": {
     "end_time": "2020-06-28T08:12:40.491002Z",
     "start_time": "2020-06-28T08:12:40.440913Z"
    }
   },
   "outputs": [],
   "source": [
    "#del lstm_model_gender"
   ]
  },
  {
   "cell_type": "code",
   "execution_count": 187,
   "metadata": {
    "ExecuteTime": {
     "end_time": "2020-06-21T07:59:03.985449Z",
     "start_time": "2020-06-21T07:58:57.826586Z"
    },
    "scrolled": true
   },
   "outputs": [
    {
     "data": {
      "text/plain": [
       "2061"
      ]
     },
     "execution_count": 187,
     "metadata": {},
     "output_type": "execute_result"
    }
   ],
   "source": [
    "gc.collect()"
   ]
  },
  {
   "cell_type": "markdown",
   "metadata": {},
   "source": [
    "#### 多输入bilstm"
   ]
  },
  {
   "cell_type": "code",
   "execution_count": 191,
   "metadata": {
    "ExecuteTime": {
     "end_time": "2020-06-28T09:28:32.609279Z",
     "start_time": "2020-06-28T09:28:32.555921Z"
    }
   },
   "outputs": [],
   "source": [
    "# del lstm_model_gender"
   ]
  },
  {
   "cell_type": "code",
   "execution_count": 192,
   "metadata": {
    "ExecuteTime": {
     "end_time": "2020-06-28T09:28:33.194575Z",
     "start_time": "2020-06-28T09:28:33.114334Z"
    }
   },
   "outputs": [],
   "source": [
    "del dnn_params_gender"
   ]
  },
  {
   "cell_type": "code",
   "execution_count": 193,
   "metadata": {
    "ExecuteTime": {
     "end_time": "2020-06-28T09:28:33.825095Z",
     "start_time": "2020-06-28T09:28:33.770556Z"
    }
   },
   "outputs": [],
   "source": [
    "keras.backend.clear_session()"
   ]
  },
  {
   "cell_type": "code",
   "execution_count": 194,
   "metadata": {
    "ExecuteTime": {
     "end_time": "2020-06-28T09:28:37.246566Z",
     "start_time": "2020-06-28T09:28:34.458612Z"
    }
   },
   "outputs": [
    {
     "data": {
      "text/plain": [
       "3"
      ]
     },
     "execution_count": 194,
     "metadata": {},
     "output_type": "execute_result"
    }
   ],
   "source": [
    "gc.collect()"
   ]
  },
  {
   "cell_type": "code",
   "execution_count": 195,
   "metadata": {
    "ExecuteTime": {
     "end_time": "2020-06-28T09:28:41.028281Z",
     "start_time": "2020-06-28T09:28:40.972863Z"
    }
   },
   "outputs": [],
   "source": [
    "# params\n",
    "dnn_params_gender = {\n",
    "    \"embedding_feature_size\":[len(dict_cr.values())+1,len(dict_ad.values())+1,len(dict_av.values())+1],\n",
    "    \"embedding_size\": [128,128,64],\n",
    "    \"embedding_initial_weight\":[embedding_cr,embedding_ad,embedding_av],\n",
    "    \"embedding_trainable\":False,\n",
    "    \"mask_zero\":False,\n",
    "    \"dropout_embedding\": 0,\n",
    "    \"seq_length\":100,\n",
    "    \"lstm_kernel\":'lstm',\n",
    "    \"lstm_num_hidden\":128,\n",
    "    \"lstm_num_layer\":2,\n",
    "    \"dropout_lstm\":0.2,\n",
    "    \"deep_layers\": [128],\n",
    "    \"dropout_deep\": [0.2],\n",
    "    \"deep_layers_activation\": 'relu',\n",
    "    \"l1_reg\":0.0,\n",
    "    \"l2_reg\": 0.001,\n",
    "    \"batch_norm\": 0,\n",
    "    \"batch_norm_decay\": 0.995,\n",
    "    \"num_class\":2,\n",
    "    \"verbose\": True,\n",
    "    \"random_seed\": 2020\n",
    "}"
   ]
  },
  {
   "cell_type": "code",
   "execution_count": 196,
   "metadata": {
    "ExecuteTime": {
     "end_time": "2020-06-28T09:28:46.847030Z",
     "start_time": "2020-06-28T09:28:42.235878Z"
    },
    "scrolled": false
   },
   "outputs": [
    {
     "name": "stdout",
     "output_type": "stream",
     "text": [
      "Model: \"model_3\"\n",
      "__________________________________________________________________________________________________\n",
      "Layer (type)                    Output Shape         Param #     Connected to                     \n",
      "==================================================================================================\n",
      "input_1 (InputLayer)            [(None, None)]       0                                            \n",
      "__________________________________________________________________________________________________\n",
      "input_2 (InputLayer)            [(None, None)]       0                                            \n",
      "__________________________________________________________________________________________________\n",
      "input_3 (InputLayer)            [(None, None)]       0                                            \n",
      "__________________________________________________________________________________________________\n",
      "embedding (Embedding)           (None, None, 128)    130604544   input_1[0][0]                    \n",
      "__________________________________________________________________________________________________\n",
      "embedding_1 (Embedding)         (None, None, 128)    128772224   input_2[0][0]                    \n",
      "__________________________________________________________________________________________________\n",
      "embedding_2 (Embedding)         (None, None, 64)     2620352     input_3[0][0]                    \n",
      "__________________________________________________________________________________________________\n",
      "bidirectional (Bidirectional)   (None, None, 256)    263168      embedding[0][0]                  \n",
      "__________________________________________________________________________________________________\n",
      "bidirectional_2 (Bidirectional) (None, None, 256)    263168      embedding_1[0][0]                \n",
      "__________________________________________________________________________________________________\n",
      "bidirectional_4 (Bidirectional) (None, None, 256)    197632      embedding_2[0][0]                \n",
      "__________________________________________________________________________________________________\n",
      "bidirectional_1 (Bidirectional) (None, None, 256)    394240      bidirectional[0][0]              \n",
      "__________________________________________________________________________________________________\n",
      "bidirectional_3 (Bidirectional) (None, None, 256)    394240      bidirectional_2[0][0]            \n",
      "__________________________________________________________________________________________________\n",
      "bidirectional_5 (Bidirectional) (None, None, 256)    394240      bidirectional_4[0][0]            \n",
      "__________________________________________________________________________________________________\n",
      "global_max_pooling1d (GlobalMax (None, 256)          0           bidirectional_1[0][0]            \n",
      "__________________________________________________________________________________________________\n",
      "global_max_pooling1d_1 (GlobalM (None, 256)          0           bidirectional_3[0][0]            \n",
      "__________________________________________________________________________________________________\n",
      "global_max_pooling1d_2 (GlobalM (None, 256)          0           bidirectional_5[0][0]            \n",
      "__________________________________________________________________________________________________\n",
      "concatenate (Concatenate)       (None, 768)          0           global_max_pooling1d[0][0]       \n",
      "                                                                 global_max_pooling1d_1[0][0]     \n",
      "                                                                 global_max_pooling1d_2[0][0]     \n",
      "__________________________________________________________________________________________________\n",
      "dense (Dense)                   (None, 128)          98432       concatenate[0][0]                \n",
      "__________________________________________________________________________________________________\n",
      "dropout (Dropout)               (None, 128)          0           dense[0][0]                      \n",
      "__________________________________________________________________________________________________\n",
      "dense_1 (Dense)                 (None, 2)            258         dropout[0][0]                    \n",
      "==================================================================================================\n",
      "Total params: 264,002,498\n",
      "Trainable params: 2,005,378\n",
      "Non-trainable params: 261,997,120\n",
      "__________________________________________________________________________________________________\n"
     ]
    }
   ],
   "source": [
    "lstm_model_gender = BiLSTM_MutilInput(**dnn_params_gender)"
   ]
  },
  {
   "cell_type": "markdown",
   "metadata": {},
   "source": [
    "3输入"
   ]
  },
  {
   "cell_type": "code",
   "execution_count": 197,
   "metadata": {
    "ExecuteTime": {
     "end_time": "2020-06-28T09:51:14.666504Z",
     "start_time": "2020-06-28T09:28:59.534170Z"
    }
   },
   "outputs": [
    {
     "name": "stdout",
     "output_type": "stream",
     "text": [
      "Train on 720000 samples, validate on 180000 samples\n",
      "Epoch 1/5\n",
      "720000/720000 [==============================] - 280s 389us/sample - loss: 0.1909 - accuracy: 0.9357 - val_loss: 0.1654 - val_accuracy: 0.9419\n",
      "Epoch 2/5\n",
      "720000/720000 [==============================] - 263s 366us/sample - loss: 0.1690 - accuracy: 0.9422 - val_loss: 0.1621 - val_accuracy: 0.9435\n",
      "Epoch 3/5\n",
      "720000/720000 [==============================] - 264s 366us/sample - loss: 0.1638 - accuracy: 0.9439 - val_loss: 0.1608 - val_accuracy: 0.9441\n",
      "Epoch 4/5\n",
      "720000/720000 [==============================] - 264s 366us/sample - loss: 0.1613 - accuracy: 0.9448 - val_loss: 0.1580 - val_accuracy: 0.9452\n",
      "Epoch 5/5\n",
      "720000/720000 [==============================] - 264s 366us/sample - loss: 0.1583 - accuracy: 0.9457 - val_loss: 0.1579 - val_accuracy: 0.9452\n"
     ]
    },
    {
     "data": {
      "text/plain": [
       "<tensorflow.python.keras.callbacks.History at 0x7f9f523bd0b8>"
      ]
     },
     "execution_count": 197,
     "metadata": {},
     "output_type": "execute_result"
    }
   ],
   "source": [
    "lstm_model_gender.compile(optimizer=keras.optimizers.Adam(3e-3), loss='categorical_crossentropy', metrics=['accuracy'])\n",
    "lstm_model_gender.fit([seq_list_train_cr,seq_list_train_ad,seq_list_train_av], label_gender_onehot_train, batch_size=512, epochs=5,validation_split=0.2)"
   ]
  },
  {
   "cell_type": "markdown",
   "metadata": {
    "ExecuteTime": {
     "end_time": "2020-06-28T08:57:53.121654Z",
     "start_time": "2020-06-28T08:57:53.044104Z"
    }
   },
   "source": [
    "refit"
   ]
  },
  {
   "cell_type": "code",
   "execution_count": 116,
   "metadata": {
    "ExecuteTime": {
     "end_time": "2020-06-21T14:14:35.482700Z",
     "start_time": "2020-06-21T13:54:36.272228Z"
    },
    "scrolled": true
   },
   "outputs": [
    {
     "name": "stdout",
     "output_type": "stream",
     "text": [
      "Train on 900000 samples\n",
      "Epoch 1/4\n",
      "900000/900000 [==============================] - 311s 346us/sample - loss: 0.1878 - accuracy: 0.9363\n",
      "Epoch 2/4\n",
      "900000/900000 [==============================] - 296s 329us/sample - loss: 0.1674 - accuracy: 0.9426\n",
      "Epoch 3/4\n",
      "900000/900000 [==============================] - 296s 328us/sample - loss: 0.1631 - accuracy: 0.9440\n",
      "Epoch 4/4\n",
      "900000/900000 [==============================] - 295s 328us/sample - loss: 0.1599 - accuracy: 0.9453\n"
     ]
    },
    {
     "data": {
      "text/plain": [
       "<tensorflow.python.keras.callbacks.History at 0x7f40e15cc828>"
      ]
     },
     "execution_count": 116,
     "metadata": {},
     "output_type": "execute_result"
    }
   ],
   "source": [
    "lstm_model_gender.compile(optimizer=keras.optimizers.Adam(3e-3), loss='categorical_crossentropy', metrics=['accuracy'])\n",
    "lstm_model_gender.fit([seq_list_train_cr,seq_list_train_ad,seq_list_train_av], label_gender_onehot_train, batch_size=512, epochs=4)"
   ]
  },
  {
   "cell_type": "markdown",
   "metadata": {},
   "source": [
    "4 输入"
   ]
  },
  {
   "cell_type": "code",
   "execution_count": 182,
   "metadata": {
    "ExecuteTime": {
     "end_time": "2020-06-22T01:17:04.832602Z",
     "start_time": "2020-06-22T00:47:21.837630Z"
    },
    "scrolled": true
   },
   "outputs": [
    {
     "name": "stdout",
     "output_type": "stream",
     "text": [
      "Train on 720000 samples, validate on 180000 samples\n",
      "Epoch 1/5\n",
      "720000/720000 [==============================] - 375s 520us/sample - loss: 0.1903 - accuracy: 0.9356 - val_loss: 0.1688 - val_accuracy: 0.9414\n",
      "Epoch 2/5\n",
      "720000/720000 [==============================] - 351s 488us/sample - loss: 0.1692 - accuracy: 0.9417 - val_loss: 0.1739 - val_accuracy: 0.9388\n",
      "Epoch 3/5\n",
      "720000/720000 [==============================] - 352s 489us/sample - loss: 0.1672 - accuracy: 0.9431 - val_loss: 0.1613 - val_accuracy: 0.9437\n",
      "Epoch 4/5\n",
      "720000/720000 [==============================] - 352s 489us/sample - loss: 0.1616 - accuracy: 0.9450 - val_loss: 0.1588 - val_accuracy: 0.9447\n",
      "Epoch 5/5\n",
      "720000/720000 [==============================] - 351s 488us/sample - loss: 0.1588 - accuracy: 0.9458 - val_loss: 0.1615 - val_accuracy: 0.9447\n"
     ]
    },
    {
     "data": {
      "text/plain": [
       "<tensorflow.python.keras.callbacks.History at 0x7f40b278aba8>"
      ]
     },
     "execution_count": 182,
     "metadata": {},
     "output_type": "execute_result"
    }
   ],
   "source": [
    "lstm_model_gender.compile(optimizer=keras.optimizers.Adam(3e-3), loss='categorical_crossentropy', metrics=['accuracy'])\n",
    "lstm_model_gender.fit([seq_list_train_cr,seq_list_train_ad,seq_list_train_av,seq_list_train_pr], label_gender_onehot_train, batch_size=512, epochs=5,validation_split=0.2)"
   ]
  },
  {
   "cell_type": "markdown",
   "metadata": {},
   "source": [
    "#### 多输入bilstm+dnn"
   ]
  },
  {
   "cell_type": "code",
   "execution_count": 159,
   "metadata": {
    "ExecuteTime": {
     "end_time": "2020-06-28T09:00:21.778243Z",
     "start_time": "2020-06-28T09:00:21.722353Z"
    }
   },
   "outputs": [],
   "source": [
    "keras.backend.clear_session()"
   ]
  },
  {
   "cell_type": "code",
   "execution_count": 160,
   "metadata": {
    "ExecuteTime": {
     "end_time": "2020-06-28T09:00:25.449319Z",
     "start_time": "2020-06-28T09:00:22.332300Z"
    }
   },
   "outputs": [
    {
     "data": {
      "text/plain": [
       "1820"
      ]
     },
     "execution_count": 160,
     "metadata": {},
     "output_type": "execute_result"
    }
   ],
   "source": [
    "gc.collect()"
   ]
  },
  {
   "cell_type": "code",
   "execution_count": 165,
   "metadata": {
    "ExecuteTime": {
     "end_time": "2020-06-28T09:01:02.427041Z",
     "start_time": "2020-06-28T09:01:02.371311Z"
    }
   },
   "outputs": [],
   "source": [
    "# params\n",
    "dnn_params_gender = {\n",
    "    \"dnn_feature_size\":128,\n",
    "    \"embedding_feature_size\":[len(dict_cr.values())+1,len(dict_ad.values())+1,len(dict_av.values())+1],\n",
    "    \"embedding_size\": [128,128,64],\n",
    "    \"embedding_initial_weight\":[embedding_cr,embedding_ad,embedding_av],\n",
    "    \"embedding_trainable\":False,\n",
    "    \"mask_zero\":False,\n",
    "    \"dropout_embedding\": 0,\n",
    "    \"seq_length\":100,\n",
    "    \"lstm_kernel\":'lstm',\n",
    "    \"lstm_num_hidden\":128,\n",
    "    \"lstm_num_layer\":2,\n",
    "    \"dropout_lstm\":0.2,\n",
    "    \"deep_layers\": [128],\n",
    "    \"dropout_deep\": [0.2],\n",
    "    \"deep_layers_activation\": 'relu',\n",
    "    \"l1_reg\":0.0,\n",
    "    \"l2_reg\": 0.001,\n",
    "    \"batch_norm\": 0,\n",
    "    \"batch_norm_decay\": 0.995,\n",
    "    \"num_class\":2,\n",
    "    \"verbose\": True,\n",
    "    \"random_seed\": 2020\n",
    "}"
   ]
  },
  {
   "cell_type": "code",
   "execution_count": 166,
   "metadata": {
    "ExecuteTime": {
     "end_time": "2020-06-28T09:01:22.150171Z",
     "start_time": "2020-06-28T09:01:17.364571Z"
    },
    "scrolled": false
   },
   "outputs": [
    {
     "name": "stdout",
     "output_type": "stream",
     "text": [
      "Model: \"model_3\"\n",
      "__________________________________________________________________________________________________\n",
      "Layer (type)                    Output Shape         Param #     Connected to                     \n",
      "==================================================================================================\n",
      "input_1 (InputLayer)            [(None, None)]       0                                            \n",
      "__________________________________________________________________________________________________\n",
      "input_2 (InputLayer)            [(None, None)]       0                                            \n",
      "__________________________________________________________________________________________________\n",
      "input_3 (InputLayer)            [(None, None)]       0                                            \n",
      "__________________________________________________________________________________________________\n",
      "embedding (Embedding)           (None, None, 128)    130604544   input_1[0][0]                    \n",
      "__________________________________________________________________________________________________\n",
      "embedding_1 (Embedding)         (None, None, 128)    128772224   input_2[0][0]                    \n",
      "__________________________________________________________________________________________________\n",
      "embedding_2 (Embedding)         (None, None, 64)     2620352     input_3[0][0]                    \n",
      "__________________________________________________________________________________________________\n",
      "bidirectional (Bidirectional)   (None, None, 256)    263168      embedding[0][0]                  \n",
      "__________________________________________________________________________________________________\n",
      "bidirectional_2 (Bidirectional) (None, None, 256)    263168      embedding_1[0][0]                \n",
      "__________________________________________________________________________________________________\n",
      "bidirectional_4 (Bidirectional) (None, None, 256)    197632      embedding_2[0][0]                \n",
      "__________________________________________________________________________________________________\n",
      "bidirectional_1 (Bidirectional) (None, None, 256)    394240      bidirectional[0][0]              \n",
      "__________________________________________________________________________________________________\n",
      "bidirectional_3 (Bidirectional) (None, None, 256)    394240      bidirectional_2[0][0]            \n",
      "__________________________________________________________________________________________________\n",
      "bidirectional_5 (Bidirectional) (None, None, 256)    394240      bidirectional_4[0][0]            \n",
      "__________________________________________________________________________________________________\n",
      "global_max_pooling1d (GlobalMax (None, 256)          0           bidirectional_1[0][0]            \n",
      "__________________________________________________________________________________________________\n",
      "global_max_pooling1d_1 (GlobalM (None, 256)          0           bidirectional_3[0][0]            \n",
      "__________________________________________________________________________________________________\n",
      "global_max_pooling1d_2 (GlobalM (None, 256)          0           bidirectional_5[0][0]            \n",
      "__________________________________________________________________________________________________\n",
      "concatenate (Concatenate)       (None, 768)          0           global_max_pooling1d[0][0]       \n",
      "                                                                 global_max_pooling1d_1[0][0]     \n",
      "                                                                 global_max_pooling1d_2[0][0]     \n",
      "__________________________________________________________________________________________________\n",
      "input_4 (InputLayer)            [(None, 128)]        0                                            \n",
      "__________________________________________________________________________________________________\n",
      "concatenate_1 (Concatenate)     (None, 896)          0           concatenate[0][0]                \n",
      "                                                                 input_4[0][0]                    \n",
      "__________________________________________________________________________________________________\n",
      "dense (Dense)                   (None, 128)          114816      concatenate_1[0][0]              \n",
      "__________________________________________________________________________________________________\n",
      "dropout (Dropout)               (None, 128)          0           dense[0][0]                      \n",
      "__________________________________________________________________________________________________\n",
      "dense_1 (Dense)                 (None, 2)            258         dropout[0][0]                    \n",
      "==================================================================================================\n",
      "Total params: 264,018,882\n",
      "Trainable params: 2,021,762\n",
      "Non-trainable params: 261,997,120\n",
      "__________________________________________________________________________________________________\n"
     ]
    }
   ],
   "source": [
    "lstm_dnn_model_gender = BiLSTM_DNN_MutilInput(**dnn_params_gender)"
   ]
  },
  {
   "cell_type": "code",
   "execution_count": 118,
   "metadata": {
    "ExecuteTime": {
     "end_time": "2020-06-22T04:32:51.686876Z",
     "start_time": "2020-06-22T03:51:34.676318Z"
    },
    "scrolled": false
   },
   "outputs": [
    {
     "name": "stdout",
     "output_type": "stream",
     "text": [
      "Train on 720000 samples, validate on 180000 samples\n",
      "Epoch 1/5\n",
      "720000/720000 [==============================] - 511s 709us/sample - loss: 0.1850 - accuracy: 0.9374 - val_loss: 0.1679 - val_accuracy: 0.9416\n",
      "Epoch 2/5\n",
      "720000/720000 [==============================] - 490s 681us/sample - loss: 0.1728 - accuracy: 0.9417 - val_loss: 0.1722 - val_accuracy: 0.9414\n",
      "Epoch 3/5\n",
      "720000/720000 [==============================] - 492s 683us/sample - loss: 0.1690 - accuracy: 0.9430 - val_loss: 0.1648 - val_accuracy: 0.9437\n",
      "Epoch 4/5\n",
      "720000/720000 [==============================] - 490s 681us/sample - loss: 0.1658 - accuracy: 0.9446 - val_loss: 0.1644 - val_accuracy: 0.9431\n",
      "Epoch 5/5\n",
      "720000/720000 [==============================] - 492s 683us/sample - loss: 0.1637 - accuracy: 0.9451 - val_loss: 0.1646 - val_accuracy: 0.9425\n"
     ]
    },
    {
     "data": {
      "text/plain": [
       "<tensorflow.python.keras.callbacks.History at 0x7fd00bcab160>"
      ]
     },
     "execution_count": 118,
     "metadata": {},
     "output_type": "execute_result"
    }
   ],
   "source": [
    "lstm_dnn_model_gender.compile(optimizer=keras.optimizers.Adam(3e-3), loss='categorical_crossentropy', metrics=['accuracy'])\n",
    "lstm_dnn_model_gender.fit([seq_list_train_cr,seq_list_train_ad,seq_list_train_av,user_w2v_cr_train], label_gender_onehot_train, batch_size=512, epochs=5,validation_split=0.2)"
   ]
  },
  {
   "cell_type": "markdown",
   "metadata": {},
   "source": [
    "#### 多输入bilstm+textcnn"
   ]
  },
  {
   "cell_type": "code",
   "execution_count": 180,
   "metadata": {
    "ExecuteTime": {
     "end_time": "2020-06-28T09:13:16.758549Z",
     "start_time": "2020-06-28T09:13:16.704224Z"
    }
   },
   "outputs": [],
   "source": [
    "keras.backend.clear_session()"
   ]
  },
  {
   "cell_type": "code",
   "execution_count": 181,
   "metadata": {
    "ExecuteTime": {
     "end_time": "2020-06-28T09:13:19.673498Z",
     "start_time": "2020-06-28T09:13:17.193896Z"
    }
   },
   "outputs": [
    {
     "data": {
      "text/plain": [
       "116"
      ]
     },
     "execution_count": 181,
     "metadata": {},
     "output_type": "execute_result"
    }
   ],
   "source": [
    "gc.collect()"
   ]
  },
  {
   "cell_type": "code",
   "execution_count": 182,
   "metadata": {
    "ExecuteTime": {
     "end_time": "2020-06-28T09:13:24.585486Z",
     "start_time": "2020-06-28T09:13:24.529109Z"
    }
   },
   "outputs": [],
   "source": [
    "# params\n",
    "dnn_params_gender = {\n",
    "    \"embedding_feature_size\":[len(dict_cr.values())+1,len(dict_ad.values())+1,len(dict_av.values())+1],\n",
    "    \"embedding_size\": [128,128,64],\n",
    "    \"embedding_initial_weight\":[embedding_cr,embedding_ad,embedding_av],\n",
    "    \"embedding_trainable\":False,\n",
    "    \"mask_zero\":False,\n",
    "    \"dropout_embedding\": 0,\n",
    "    \"seq_length\":100,\n",
    "    \"lstm_kernel\":'lstm',\n",
    "    \"lstm_num_hidden\":128,\n",
    "    \"lstm_num_layer\":2,\n",
    "    \"dropout_lstm\":0.2,\n",
    "    \"filters\":128,\n",
    "    \"kernel_size\":[2,5,10],\n",
    "    \"dropout_cnn\":[0.2,0.2,0.2],\n",
    "    \"deep_layers\": [128],\n",
    "    \"dropout_deep\": [0.2],\n",
    "    \"deep_layers_activation\": 'relu',\n",
    "    \"l1_reg\":0.0,\n",
    "    \"l2_reg\": 0.001,\n",
    "    \"batch_norm\": 0,\n",
    "    \"batch_norm_decay\": 0.995,\n",
    "    \"num_class\":2,\n",
    "    \"verbose\": True,\n",
    "    \"random_seed\": 2020\n",
    "}"
   ]
  },
  {
   "cell_type": "code",
   "execution_count": 183,
   "metadata": {
    "ExecuteTime": {
     "end_time": "2020-06-28T09:13:30.029508Z",
     "start_time": "2020-06-28T09:13:25.248995Z"
    },
    "scrolled": false
   },
   "outputs": [
    {
     "name": "stdout",
     "output_type": "stream",
     "text": [
      "Model: \"model_3\"\n",
      "__________________________________________________________________________________________________\n",
      "Layer (type)                    Output Shape         Param #     Connected to                     \n",
      "==================================================================================================\n",
      "input_1 (InputLayer)            [(None, None)]       0                                            \n",
      "__________________________________________________________________________________________________\n",
      "input_2 (InputLayer)            [(None, None)]       0                                            \n",
      "__________________________________________________________________________________________________\n",
      "input_3 (InputLayer)            [(None, None)]       0                                            \n",
      "__________________________________________________________________________________________________\n",
      "embedding (Embedding)           (None, None, 128)    130604544   input_1[0][0]                    \n",
      "__________________________________________________________________________________________________\n",
      "embedding_1 (Embedding)         (None, None, 128)    128772224   input_2[0][0]                    \n",
      "__________________________________________________________________________________________________\n",
      "embedding_2 (Embedding)         (None, None, 64)     2620352     input_3[0][0]                    \n",
      "__________________________________________________________________________________________________\n",
      "conv1d (Conv1D)                 (None, None, 128)    32896       embedding[0][0]                  \n",
      "__________________________________________________________________________________________________\n",
      "conv1d_1 (Conv1D)               (None, None, 128)    82048       embedding[0][0]                  \n",
      "__________________________________________________________________________________________________\n",
      "conv1d_2 (Conv1D)               (None, None, 128)    163968      embedding[0][0]                  \n",
      "__________________________________________________________________________________________________\n",
      "conv1d_3 (Conv1D)               (None, None, 128)    32896       embedding_1[0][0]                \n",
      "__________________________________________________________________________________________________\n",
      "conv1d_4 (Conv1D)               (None, None, 128)    82048       embedding_1[0][0]                \n",
      "__________________________________________________________________________________________________\n",
      "conv1d_5 (Conv1D)               (None, None, 128)    163968      embedding_1[0][0]                \n",
      "__________________________________________________________________________________________________\n",
      "conv1d_6 (Conv1D)               (None, None, 128)    16512       embedding_2[0][0]                \n",
      "__________________________________________________________________________________________________\n",
      "conv1d_7 (Conv1D)               (None, None, 128)    41088       embedding_2[0][0]                \n",
      "__________________________________________________________________________________________________\n",
      "conv1d_8 (Conv1D)               (None, None, 128)    82048       embedding_2[0][0]                \n",
      "__________________________________________________________________________________________________\n",
      "bidirectional (Bidirectional)   (None, None, 256)    263168      embedding[0][0]                  \n",
      "__________________________________________________________________________________________________\n",
      "global_max_pooling1d_1 (GlobalM (None, 128)          0           conv1d[0][0]                     \n",
      "__________________________________________________________________________________________________\n",
      "global_max_pooling1d_2 (GlobalM (None, 128)          0           conv1d_1[0][0]                   \n",
      "__________________________________________________________________________________________________\n",
      "global_max_pooling1d_3 (GlobalM (None, 128)          0           conv1d_2[0][0]                   \n",
      "__________________________________________________________________________________________________\n",
      "bidirectional_2 (Bidirectional) (None, None, 256)    263168      embedding_1[0][0]                \n",
      "__________________________________________________________________________________________________\n",
      "global_max_pooling1d_5 (GlobalM (None, 128)          0           conv1d_3[0][0]                   \n",
      "__________________________________________________________________________________________________\n",
      "global_max_pooling1d_6 (GlobalM (None, 128)          0           conv1d_4[0][0]                   \n",
      "__________________________________________________________________________________________________\n",
      "global_max_pooling1d_7 (GlobalM (None, 128)          0           conv1d_5[0][0]                   \n",
      "__________________________________________________________________________________________________\n",
      "bidirectional_4 (Bidirectional) (None, None, 256)    197632      embedding_2[0][0]                \n",
      "__________________________________________________________________________________________________\n",
      "global_max_pooling1d_9 (GlobalM (None, 128)          0           conv1d_6[0][0]                   \n",
      "__________________________________________________________________________________________________\n",
      "global_max_pooling1d_10 (Global (None, 128)          0           conv1d_7[0][0]                   \n",
      "__________________________________________________________________________________________________\n",
      "global_max_pooling1d_11 (Global (None, 128)          0           conv1d_8[0][0]                   \n",
      "__________________________________________________________________________________________________\n",
      "bidirectional_1 (Bidirectional) (None, None, 256)    394240      bidirectional[0][0]              \n",
      "__________________________________________________________________________________________________\n",
      "dropout (Dropout)               (None, 128)          0           global_max_pooling1d_1[0][0]     \n",
      "__________________________________________________________________________________________________\n",
      "dropout_1 (Dropout)             (None, 128)          0           global_max_pooling1d_2[0][0]     \n",
      "__________________________________________________________________________________________________\n",
      "dropout_2 (Dropout)             (None, 128)          0           global_max_pooling1d_3[0][0]     \n",
      "__________________________________________________________________________________________________\n",
      "bidirectional_3 (Bidirectional) (None, None, 256)    394240      bidirectional_2[0][0]            \n",
      "__________________________________________________________________________________________________\n",
      "dropout_3 (Dropout)             (None, 128)          0           global_max_pooling1d_5[0][0]     \n",
      "__________________________________________________________________________________________________\n",
      "dropout_4 (Dropout)             (None, 128)          0           global_max_pooling1d_6[0][0]     \n",
      "__________________________________________________________________________________________________\n",
      "dropout_5 (Dropout)             (None, 128)          0           global_max_pooling1d_7[0][0]     \n",
      "__________________________________________________________________________________________________\n",
      "bidirectional_5 (Bidirectional) (None, None, 256)    394240      bidirectional_4[0][0]            \n",
      "__________________________________________________________________________________________________\n",
      "dropout_6 (Dropout)             (None, 128)          0           global_max_pooling1d_9[0][0]     \n",
      "__________________________________________________________________________________________________\n",
      "dropout_7 (Dropout)             (None, 128)          0           global_max_pooling1d_10[0][0]    \n",
      "__________________________________________________________________________________________________\n",
      "dropout_8 (Dropout)             (None, 128)          0           global_max_pooling1d_11[0][0]    \n",
      "__________________________________________________________________________________________________\n",
      "global_max_pooling1d (GlobalMax (None, 256)          0           bidirectional_1[0][0]            \n",
      "__________________________________________________________________________________________________\n",
      "concatenate (Concatenate)       (None, 384)          0           dropout[0][0]                    \n",
      "                                                                 dropout_1[0][0]                  \n",
      "                                                                 dropout_2[0][0]                  \n",
      "__________________________________________________________________________________________________\n",
      "global_max_pooling1d_4 (GlobalM (None, 256)          0           bidirectional_3[0][0]            \n",
      "__________________________________________________________________________________________________\n",
      "concatenate_2 (Concatenate)     (None, 384)          0           dropout_3[0][0]                  \n",
      "                                                                 dropout_4[0][0]                  \n",
      "                                                                 dropout_5[0][0]                  \n",
      "__________________________________________________________________________________________________\n",
      "global_max_pooling1d_8 (GlobalM (None, 256)          0           bidirectional_5[0][0]            \n",
      "__________________________________________________________________________________________________\n",
      "concatenate_4 (Concatenate)     (None, 384)          0           dropout_6[0][0]                  \n",
      "                                                                 dropout_7[0][0]                  \n",
      "                                                                 dropout_8[0][0]                  \n",
      "__________________________________________________________________________________________________\n",
      "concatenate_1 (Concatenate)     (None, 640)          0           global_max_pooling1d[0][0]       \n",
      "                                                                 concatenate[0][0]                \n",
      "__________________________________________________________________________________________________\n",
      "concatenate_3 (Concatenate)     (None, 640)          0           global_max_pooling1d_4[0][0]     \n",
      "                                                                 concatenate_2[0][0]              \n",
      "__________________________________________________________________________________________________\n",
      "concatenate_5 (Concatenate)     (None, 640)          0           global_max_pooling1d_8[0][0]     \n",
      "                                                                 concatenate_4[0][0]              \n",
      "__________________________________________________________________________________________________\n",
      "concatenate_6 (Concatenate)     (None, 1920)         0           concatenate_1[0][0]              \n",
      "                                                                 concatenate_3[0][0]              \n",
      "                                                                 concatenate_5[0][0]              \n",
      "__________________________________________________________________________________________________\n",
      "dense (Dense)                   (None, 128)          245888      concatenate_6[0][0]              \n",
      "__________________________________________________________________________________________________\n",
      "dropout_9 (Dropout)             (None, 128)          0           dense[0][0]                      \n",
      "__________________________________________________________________________________________________\n",
      "dense_1 (Dense)                 (None, 2)            258         dropout_9[0][0]                  \n",
      "==================================================================================================\n",
      "Total params: 264,847,426\n",
      "Trainable params: 2,850,306\n",
      "Non-trainable params: 261,997,120\n",
      "__________________________________________________________________________________________________\n"
     ]
    }
   ],
   "source": [
    "lstm_cnn_model_gender = BiLSTM_TextCNN_MutilInput(**dnn_params_gender)"
   ]
  },
  {
   "cell_type": "code",
   "execution_count": null,
   "metadata": {
    "ExecuteTime": {
     "end_time": "2020-06-28T09:22:59.842438Z",
     "start_time": "2020-06-28T09:15:12.418439Z"
    },
    "scrolled": true
   },
   "outputs": [],
   "source": [
    "lstm_cnn_model_gender.compile(optimizer=keras.optimizers.Adam(3e-3), loss='categorical_crossentropy', metrics=['accuracy'])\n",
    "lstm_cnn_model_gender.fit([seq_list_train_cr,seq_list_train_ad,seq_list_train_av], label_gender_onehot_train, batch_size=512, epochs=5,validation_split=0.2)"
   ]
  },
  {
   "cell_type": "markdown",
   "metadata": {},
   "source": [
    "#### 多输入textcnn"
   ]
  },
  {
   "cell_type": "code",
   "execution_count": 177,
   "metadata": {
    "ExecuteTime": {
     "end_time": "2020-06-28T09:12:33.872033Z",
     "start_time": "2020-06-28T09:12:33.816840Z"
    }
   },
   "outputs": [],
   "source": [
    "keras.backend.clear_session()"
   ]
  },
  {
   "cell_type": "code",
   "execution_count": 178,
   "metadata": {
    "ExecuteTime": {
     "end_time": "2020-06-28T09:12:37.480674Z",
     "start_time": "2020-06-28T09:12:34.297531Z"
    }
   },
   "outputs": [
    {
     "data": {
      "text/plain": [
       "1157"
      ]
     },
     "execution_count": 178,
     "metadata": {},
     "output_type": "execute_result"
    }
   ],
   "source": [
    "gc.collect()"
   ]
  },
  {
   "cell_type": "code",
   "execution_count": 176,
   "metadata": {
    "ExecuteTime": {
     "end_time": "2020-06-28T09:12:28.752474Z",
     "start_time": "2020-06-28T09:12:28.696558Z"
    }
   },
   "outputs": [],
   "source": [
    "# params\n",
    "dnn_params_gender = {\n",
    "    \"embedding_feature_size\":[len(dict_cr.values())+1],\n",
    "    \"embedding_size\": [128],\n",
    "    \"embedding_initial_weight\":[embedding_cr],\n",
    "    \"embedding_trainable\":False,\n",
    "    \"mask_zero\":False,\n",
    "    \"dropout_embedding\": 0,\n",
    "    \"seq_length\":100,\n",
    "    \"filters\":128,\n",
    "    \"kernel_size\":[2,5,10],\n",
    "    \"dropout_cnn\":[0.2,0.2,0.2],\n",
    "    \"deep_layers\": [128],\n",
    "    \"dropout_deep\": [0.2],\n",
    "    \"deep_layers_activation\": 'relu',\n",
    "    \"l1_reg\":0.0,\n",
    "    \"l2_reg\": 0.001,\n",
    "    \"batch_norm\": 0,\n",
    "    \"batch_norm_decay\": 0.995,\n",
    "    \"num_class\":2,\n",
    "    \"verbose\": True,\n",
    "    \"random_seed\": 2020\n",
    "}"
   ]
  },
  {
   "cell_type": "code",
   "execution_count": 179,
   "metadata": {
    "ExecuteTime": {
     "end_time": "2020-06-28T09:12:52.817824Z",
     "start_time": "2020-06-28T09:12:51.980702Z"
    }
   },
   "outputs": [
    {
     "name": "stdout",
     "output_type": "stream",
     "text": [
      "Model: \"model_1\"\n",
      "__________________________________________________________________________________________________\n",
      "Layer (type)                    Output Shape         Param #     Connected to                     \n",
      "==================================================================================================\n",
      "input_1 (InputLayer)            [(None, None)]       0                                            \n",
      "__________________________________________________________________________________________________\n",
      "embedding (Embedding)           (None, None, 128)    130604544   input_1[0][0]                    \n",
      "__________________________________________________________________________________________________\n",
      "conv1d (Conv1D)                 (None, None, 128)    32896       embedding[0][0]                  \n",
      "__________________________________________________________________________________________________\n",
      "conv1d_1 (Conv1D)               (None, None, 128)    82048       embedding[0][0]                  \n",
      "__________________________________________________________________________________________________\n",
      "conv1d_2 (Conv1D)               (None, None, 128)    163968      embedding[0][0]                  \n",
      "__________________________________________________________________________________________________\n",
      "global_max_pooling1d (GlobalMax (None, 128)          0           conv1d[0][0]                     \n",
      "__________________________________________________________________________________________________\n",
      "global_max_pooling1d_1 (GlobalM (None, 128)          0           conv1d_1[0][0]                   \n",
      "__________________________________________________________________________________________________\n",
      "global_max_pooling1d_2 (GlobalM (None, 128)          0           conv1d_2[0][0]                   \n",
      "__________________________________________________________________________________________________\n",
      "dropout (Dropout)               (None, 128)          0           global_max_pooling1d[0][0]       \n",
      "__________________________________________________________________________________________________\n",
      "dropout_1 (Dropout)             (None, 128)          0           global_max_pooling1d_1[0][0]     \n",
      "__________________________________________________________________________________________________\n",
      "dropout_2 (Dropout)             (None, 128)          0           global_max_pooling1d_2[0][0]     \n",
      "__________________________________________________________________________________________________\n",
      "concatenate (Concatenate)       (None, 384)          0           dropout[0][0]                    \n",
      "                                                                 dropout_1[0][0]                  \n",
      "                                                                 dropout_2[0][0]                  \n",
      "__________________________________________________________________________________________________\n",
      "dense (Dense)                   (None, 128)          49280       concatenate[0][0]                \n",
      "__________________________________________________________________________________________________\n",
      "dropout_3 (Dropout)             (None, 128)          0           dense[0][0]                      \n",
      "__________________________________________________________________________________________________\n",
      "dense_1 (Dense)                 (None, 2)            258         dropout_3[0][0]                  \n",
      "==================================================================================================\n",
      "Total params: 130,932,994\n",
      "Trainable params: 328,450\n",
      "Non-trainable params: 130,604,544\n",
      "__________________________________________________________________________________________________\n"
     ]
    }
   ],
   "source": [
    "cnn_model_gender = TextCNN_MutilInput(**dnn_params_gender)"
   ]
  },
  {
   "cell_type": "code",
   "execution_count": 268,
   "metadata": {
    "ExecuteTime": {
     "end_time": "2020-06-21T11:13:05.531597Z",
     "start_time": "2020-06-21T11:11:08.617717Z"
    }
   },
   "outputs": [
    {
     "name": "stdout",
     "output_type": "stream",
     "text": [
      "Train on 720000 samples, validate on 180000 samples\n",
      "Epoch 1/5\n",
      "720000/720000 [==============================] - 24s 34us/sample - loss: 0.2181 - accuracy: 0.9318 - val_loss: 0.1773 - val_accuracy: 0.9381\n",
      "Epoch 2/5\n",
      "720000/720000 [==============================] - 23s 32us/sample - loss: 0.1788 - accuracy: 0.9387 - val_loss: 0.1760 - val_accuracy: 0.9390\n",
      "Epoch 3/5\n",
      "720000/720000 [==============================] - 23s 32us/sample - loss: 0.1748 - accuracy: 0.9399 - val_loss: 0.1737 - val_accuracy: 0.9397\n",
      "Epoch 4/5\n",
      "720000/720000 [==============================] - 23s 32us/sample - loss: 0.1721 - accuracy: 0.9410 - val_loss: 0.1740 - val_accuracy: 0.9400\n",
      "Epoch 5/5\n",
      "720000/720000 [==============================] - 23s 32us/sample - loss: 0.1689 - accuracy: 0.9424 - val_loss: 0.1728 - val_accuracy: 0.9398\n"
     ]
    },
    {
     "data": {
      "text/plain": [
       "<tensorflow.python.keras.callbacks.History at 0x7f75eb063748>"
      ]
     },
     "execution_count": 268,
     "metadata": {},
     "output_type": "execute_result"
    }
   ],
   "source": [
    "cnn_model_gender.compile(optimizer=keras.optimizers.Adam(3e-3), loss='categorical_crossentropy', metrics=['accuracy'])\n",
    "cnn_model_gender.fit([seq_list_train_cr], label_gender_onehot_train, batch_size=512, epochs=5,validation_split=0.2)"
   ]
  },
  {
   "cell_type": "markdown",
   "metadata": {},
   "source": [
    "### 年龄"
   ]
  },
  {
   "cell_type": "markdown",
   "metadata": {},
   "source": [
    "#### 单输入bilstm"
   ]
  },
  {
   "cell_type": "code",
   "execution_count": 177,
   "metadata": {
    "ExecuteTime": {
     "end_time": "2020-06-28T09:12:33.872033Z",
     "start_time": "2020-06-28T09:12:33.816840Z"
    }
   },
   "outputs": [],
   "source": [
    "keras.backend.clear_session()"
   ]
  },
  {
   "cell_type": "code",
   "execution_count": 178,
   "metadata": {
    "ExecuteTime": {
     "end_time": "2020-06-28T09:12:37.480674Z",
     "start_time": "2020-06-28T09:12:34.297531Z"
    }
   },
   "outputs": [
    {
     "data": {
      "text/plain": [
       "1157"
      ]
     },
     "execution_count": 178,
     "metadata": {},
     "output_type": "execute_result"
    }
   ],
   "source": [
    "gc.collect()"
   ]
  },
  {
   "cell_type": "code",
   "execution_count": 371,
   "metadata": {
    "ExecuteTime": {
     "end_time": "2020-06-20T15:38:13.076268Z",
     "start_time": "2020-06-20T15:38:12.910683Z"
    }
   },
   "outputs": [],
   "source": [
    "# params\n",
    "dnn_params_age = {\n",
    "    \"embedding_feature_size\":len(dict_cr.values())+1,\n",
    "    \"embedding_size\": 128,\n",
    "    \"embedding_initial_weight\":embedding_cr,\n",
    "    \"embedding_trainable\":False,\n",
    "    \"mask_zero\":False,\n",
    "    \"dropout_embedding\": 0,\n",
    "    \"seq_length\":100,\n",
    "    \"lstm_kernel\":'lstm',\n",
    "    \"lstm_num_hidden\":128,\n",
    "    \"lstm_num_layer\":2,\n",
    "    \"dropout_lstm\":0.2,\n",
    "    \"deep_layers\": [128],\n",
    "    \"dropout_deep\": [0.2],\n",
    "    \"deep_layers_activation\": 'relu',\n",
    "    \"l1_reg\":0.0,\n",
    "    \"l2_reg\": 0.001,\n",
    "    \"batch_norm\": 0,\n",
    "    \"batch_norm_decay\": 0.995,\n",
    "    \"num_class\":10,\n",
    "    \"verbose\": True,\n",
    "    \"random_seed\": 2020\n",
    "}"
   ]
  },
  {
   "cell_type": "code",
   "execution_count": 372,
   "metadata": {
    "ExecuteTime": {
     "end_time": "2020-06-20T15:38:17.562898Z",
     "start_time": "2020-06-20T15:38:15.491684Z"
    },
    "scrolled": false
   },
   "outputs": [
    {
     "name": "stdout",
     "output_type": "stream",
     "text": [
      "Model: \"model\"\n",
      "_________________________________________________________________\n",
      "Layer (type)                 Output Shape              Param #   \n",
      "=================================================================\n",
      "input_1 (InputLayer)         [(None, None)]            0         \n",
      "_________________________________________________________________\n",
      "embedding (Embedding)        (None, None, 128)         130604544 \n",
      "_________________________________________________________________\n",
      "bidirectional (Bidirectional (None, None, 256)         263168    \n",
      "_________________________________________________________________\n",
      "bidirectional_1 (Bidirection (None, None, 256)         394240    \n",
      "_________________________________________________________________\n",
      "global_max_pooling1d (Global (None, 256)               0         \n",
      "_________________________________________________________________\n",
      "dense (Dense)                (None, 128)               32896     \n",
      "_________________________________________________________________\n",
      "dropout (Dropout)            (None, 128)               0         \n",
      "_________________________________________________________________\n",
      "dense_1 (Dense)              (None, 10)                1290      \n",
      "=================================================================\n",
      "Total params: 131,296,138\n",
      "Trainable params: 691,594\n",
      "Non-trainable params: 130,604,544\n",
      "_________________________________________________________________\n"
     ]
    }
   ],
   "source": [
    "lstm_model_age = BiLSTM(**dnn_params_age)"
   ]
  },
  {
   "cell_type": "code",
   "execution_count": 373,
   "metadata": {
    "ExecuteTime": {
     "end_time": "2020-06-20T15:38:25.484996Z",
     "start_time": "2020-06-20T15:38:24.896423Z"
    }
   },
   "outputs": [],
   "source": [
    "Xi_train_age,Xi_val_age,y_train_age,y_val_age = train_test_split(seq_list_train_cr,pd_user_ad_list_train['age_c'],test_size=0.2,random_state=0)"
   ]
  },
  {
   "cell_type": "code",
   "execution_count": 374,
   "metadata": {
    "ExecuteTime": {
     "end_time": "2020-06-20T15:38:25.753923Z",
     "start_time": "2020-06-20T15:38:25.647896Z"
    }
   },
   "outputs": [],
   "source": [
    "y_train_age_one_hot = kr.utils.to_categorical(y_train_age,num_classes=10)\n",
    "y_val_age_one_hot = kr.utils.to_categorical(y_val_age,num_classes=10)"
   ]
  },
  {
   "cell_type": "markdown",
   "metadata": {},
   "source": [
    "min-df=10"
   ]
  },
  {
   "cell_type": "code",
   "execution_count": 266,
   "metadata": {
    "ExecuteTime": {
     "end_time": "2020-06-20T11:29:25.039735Z",
     "start_time": "2020-06-20T10:58:17.327715Z"
    },
    "scrolled": false
   },
   "outputs": [
    {
     "name": "stdout",
     "output_type": "stream",
     "text": [
      "Train on 720000 samples, validate on 180000 samples\n",
      "Epoch 1/10\n",
      "720000/720000 [==============================] - 192s 266us/sample - loss: 1.4961 - accuracy: 0.3897 - val_loss: 1.4088 - val_accuracy: 0.4206\n",
      "Epoch 2/10\n",
      "720000/720000 [==============================] - 186s 258us/sample - loss: 1.4183 - accuracy: 0.4164 - val_loss: 1.3830 - val_accuracy: 0.4292\n",
      "Epoch 3/10\n",
      "720000/720000 [==============================] - 186s 258us/sample - loss: 1.3951 - accuracy: 0.4260 - val_loss: 1.3643 - val_accuracy: 0.4367\n",
      "Epoch 4/10\n",
      "720000/720000 [==============================] - 187s 260us/sample - loss: 1.3797 - accuracy: 0.4309 - val_loss: 1.3535 - val_accuracy: 0.4405\n",
      "Epoch 5/10\n",
      "720000/720000 [==============================] - 185s 258us/sample - loss: 1.3691 - accuracy: 0.4357 - val_loss: 1.3525 - val_accuracy: 0.4406\n",
      "Epoch 6/10\n",
      "720000/720000 [==============================] - 185s 257us/sample - loss: 1.3615 - accuracy: 0.4386 - val_loss: 1.3462 - val_accuracy: 0.4416\n",
      "Epoch 7/10\n",
      "720000/720000 [==============================] - 185s 257us/sample - loss: 1.3539 - accuracy: 0.4408 - val_loss: 1.3501 - val_accuracy: 0.4415\n",
      "Epoch 8/10\n",
      "720000/720000 [==============================] - 186s 259us/sample - loss: 1.3474 - accuracy: 0.4439 - val_loss: 1.3422 - val_accuracy: 0.4448\n",
      "Epoch 9/10\n",
      "720000/720000 [==============================] - 188s 261us/sample - loss: 1.3429 - accuracy: 0.4455 - val_loss: 1.3408 - val_accuracy: 0.4466\n",
      "Epoch 10/10\n",
      "720000/720000 [==============================] - 187s 260us/sample - loss: 1.3393 - accuracy: 0.4464 - val_loss: 1.3432 - val_accuracy: 0.4448\n"
     ]
    },
    {
     "data": {
      "text/plain": [
       "<tensorflow.python.keras.callbacks.History at 0x7ff1a6f070b8>"
      ]
     },
     "execution_count": 266,
     "metadata": {},
     "output_type": "execute_result"
    }
   ],
   "source": [
    "lstm_model_age.compile(optimizer=keras.optimizers.Adam(1e-3), loss='categorical_crossentropy', metrics=['accuracy'])\n",
    "lstm_model_age.fit(Xi_train_age, y_train_age_one_hot, batch_size=128, epochs=10, validation_data=(Xi_val_age, y_val_age_one_hot))"
   ]
  },
  {
   "cell_type": "markdown",
   "metadata": {},
   "source": [
    "min-df=5"
   ]
  },
  {
   "cell_type": "code",
   "execution_count": 375,
   "metadata": {
    "ExecuteTime": {
     "end_time": "2020-06-20T16:09:32.354811Z",
     "start_time": "2020-06-20T15:38:46.133840Z"
    },
    "scrolled": false
   },
   "outputs": [
    {
     "name": "stdout",
     "output_type": "stream",
     "text": [
      "Train on 720000 samples, validate on 180000 samples\n",
      "Epoch 1/10\n",
      "720000/720000 [==============================] - 193s 269us/sample - loss: 1.4963 - accuracy: 0.3888 - val_loss: 1.4068 - val_accuracy: 0.4209\n",
      "Epoch 2/10\n",
      "720000/720000 [==============================] - 184s 255us/sample - loss: 1.4170 - accuracy: 0.4165 - val_loss: 1.3771 - val_accuracy: 0.4306\n",
      "Epoch 3/10\n",
      "720000/720000 [==============================] - 183s 254us/sample - loss: 1.3931 - accuracy: 0.4252 - val_loss: 1.3650 - val_accuracy: 0.4356\n",
      "Epoch 4/10\n",
      "720000/720000 [==============================] - 183s 254us/sample - loss: 1.3782 - accuracy: 0.4316 - val_loss: 1.3551 - val_accuracy: 0.4407\n",
      "Epoch 5/10\n",
      "720000/720000 [==============================] - 183s 254us/sample - loss: 1.3676 - accuracy: 0.4361 - val_loss: 1.3510 - val_accuracy: 0.4421\n",
      "Epoch 6/10\n",
      "720000/720000 [==============================] - 184s 255us/sample - loss: 1.3592 - accuracy: 0.4393 - val_loss: 1.3418 - val_accuracy: 0.4447\n",
      "Epoch 7/10\n",
      "720000/720000 [==============================] - 184s 255us/sample - loss: 1.3511 - accuracy: 0.4422 - val_loss: 1.3432 - val_accuracy: 0.4442\n",
      "Epoch 8/10\n",
      "720000/720000 [==============================] - 184s 256us/sample - loss: 1.3453 - accuracy: 0.4446 - val_loss: 1.3406 - val_accuracy: 0.4467\n",
      "Epoch 9/10\n",
      "720000/720000 [==============================] - 184s 255us/sample - loss: 1.3399 - accuracy: 0.4469 - val_loss: 1.3408 - val_accuracy: 0.4453\n",
      "Epoch 10/10\n",
      "720000/720000 [==============================] - 183s 254us/sample - loss: 1.3359 - accuracy: 0.4480 - val_loss: 1.3398 - val_accuracy: 0.4454\n"
     ]
    },
    {
     "data": {
      "text/plain": [
       "<tensorflow.python.keras.callbacks.History at 0x7fed8f706f60>"
      ]
     },
     "execution_count": 375,
     "metadata": {},
     "output_type": "execute_result"
    }
   ],
   "source": [
    "lstm_model_age.compile(optimizer=keras.optimizers.Adam(1e-3), loss='categorical_crossentropy', metrics=['accuracy'])\n",
    "lstm_model_age.fit(Xi_train_age, y_train_age_one_hot, batch_size=128, epochs=10, validation_data=(Xi_val_age, y_val_age_one_hot))"
   ]
  },
  {
   "cell_type": "markdown",
   "metadata": {},
   "source": [
    "refit"
   ]
  },
  {
   "cell_type": "code",
   "execution_count": 289,
   "metadata": {
    "ExecuteTime": {
     "end_time": "2020-06-20T13:06:17.047686Z",
     "start_time": "2020-06-20T12:33:51.087139Z"
    },
    "scrolled": false
   },
   "outputs": [
    {
     "name": "stdout",
     "output_type": "stream",
     "text": [
      "Train on 900000 samples\n",
      "Epoch 1/9\n",
      "900000/900000 [==============================] - 224s 249us/sample - loss: 1.4850 - accuracy: 0.3934\n",
      "Epoch 2/9\n",
      "900000/900000 [==============================] - 218s 242us/sample - loss: 1.4142 - accuracy: 0.4175\n",
      "Epoch 3/9\n",
      "900000/900000 [==============================] - 216s 240us/sample - loss: 1.3910 - accuracy: 0.4270\n",
      "Epoch 4/9\n",
      "900000/900000 [==============================] - 215s 239us/sample - loss: 1.3773 - accuracy: 0.4325\n",
      "Epoch 5/9\n",
      "900000/900000 [==============================] - 214s 237us/sample - loss: 1.3662 - accuracy: 0.4367\n",
      "Epoch 6/9\n",
      "900000/900000 [==============================] - 215s 239us/sample - loss: 1.3586 - accuracy: 0.4398\n",
      "Epoch 7/9\n",
      "900000/900000 [==============================] - 215s 239us/sample - loss: 1.3524 - accuracy: 0.4419\n",
      "Epoch 8/9\n",
      "900000/900000 [==============================] - 214s 238us/sample - loss: 1.3463 - accuracy: 0.4440\n",
      "Epoch 9/9\n",
      "900000/900000 [==============================] - 215s 239us/sample - loss: 1.3420 - accuracy: 0.4456\n"
     ]
    },
    {
     "data": {
      "text/plain": [
       "<tensorflow.python.keras.callbacks.History at 0x7ff1bf0ee358>"
      ]
     },
     "execution_count": 289,
     "metadata": {},
     "output_type": "execute_result"
    }
   ],
   "source": [
    "lstm_model_age_all.fit(seq_list_train_cr, label_age_onehot_train, batch_size=128, epochs=9)"
   ]
  },
  {
   "cell_type": "markdown",
   "metadata": {},
   "source": [
    "#### 多输入bilistm"
   ]
  },
  {
   "cell_type": "code",
   "execution_count": 163,
   "metadata": {
    "ExecuteTime": {
     "end_time": "2020-06-21T16:37:01.567381Z",
     "start_time": "2020-06-21T16:37:01.499450Z"
    }
   },
   "outputs": [],
   "source": [
    "keras.backend.clear_session()"
   ]
  },
  {
   "cell_type": "code",
   "execution_count": 164,
   "metadata": {
    "ExecuteTime": {
     "end_time": "2020-06-21T16:37:06.041894Z",
     "start_time": "2020-06-21T16:37:01.569354Z"
    }
   },
   "outputs": [
    {
     "data": {
      "text/plain": [
       "1812"
      ]
     },
     "execution_count": 164,
     "metadata": {},
     "output_type": "execute_result"
    }
   ],
   "source": [
    "gc.collect()"
   ]
  },
  {
   "cell_type": "code",
   "execution_count": 187,
   "metadata": {
    "ExecuteTime": {
     "end_time": "2020-06-22T01:20:24.402492Z",
     "start_time": "2020-06-22T01:20:24.345750Z"
    }
   },
   "outputs": [],
   "source": [
    "# params\n",
    "dnn_params_age = {\n",
    "    \"embedding_feature_size\":[len(dict_cr.values())+1,len(dict_ad.values())+1,len(dict_av.values())+1,len(dict_pr.values())+1],\n",
    "    \"embedding_size\": [128,128,64,64],\n",
    "    \"embedding_initial_weight\":[embedding_cr,embedding_ad,embedding_av,embedding_pr],\n",
    "    \"embedding_trainable\":False,\n",
    "    \"mask_zero\":False,\n",
    "    \"dropout_embedding\": 0,\n",
    "    \"seq_length\":100,\n",
    "    \"lstm_kernel\":'lstm',\n",
    "    \"lstm_num_hidden\":128,\n",
    "    \"lstm_num_layer\":2,\n",
    "    \"dropout_lstm\":0.2,\n",
    "    \"deep_layers\": [128],\n",
    "    \"dropout_deep\": [0.2],\n",
    "    \"deep_layers_activation\": 'relu',\n",
    "    \"l1_reg\":0.0,\n",
    "    \"l2_reg\": 0.001,\n",
    "    \"batch_norm\": 0,\n",
    "    \"batch_norm_decay\": 0.995,\n",
    "    \"num_class\":10,\n",
    "    \"verbose\": True,\n",
    "    \"random_seed\": 2020\n",
    "}"
   ]
  },
  {
   "cell_type": "code",
   "execution_count": 188,
   "metadata": {
    "ExecuteTime": {
     "end_time": "2020-06-22T01:20:32.504708Z",
     "start_time": "2020-06-22T01:20:26.457485Z"
    },
    "scrolled": false
   },
   "outputs": [
    {
     "name": "stdout",
     "output_type": "stream",
     "text": [
      "Model: \"model_4\"\n",
      "__________________________________________________________________________________________________\n",
      "Layer (type)                    Output Shape         Param #     Connected to                     \n",
      "==================================================================================================\n",
      "input_1 (InputLayer)            [(None, None)]       0                                            \n",
      "__________________________________________________________________________________________________\n",
      "input_2 (InputLayer)            [(None, None)]       0                                            \n",
      "__________________________________________________________________________________________________\n",
      "input_3 (InputLayer)            [(None, None)]       0                                            \n",
      "__________________________________________________________________________________________________\n",
      "input_4 (InputLayer)            [(None, None)]       0                                            \n",
      "__________________________________________________________________________________________________\n",
      "embedding (Embedding)           (None, None, 128)    130604544   input_1[0][0]                    \n",
      "__________________________________________________________________________________________________\n",
      "embedding_1 (Embedding)         (None, None, 128)    128772224   input_2[0][0]                    \n",
      "__________________________________________________________________________________________________\n",
      "embedding_2 (Embedding)         (None, None, 64)     2620352     input_3[0][0]                    \n",
      "__________________________________________________________________________________________________\n",
      "embedding_3 (Embedding)         (None, None, 64)     1468864     input_4[0][0]                    \n",
      "__________________________________________________________________________________________________\n",
      "bidirectional (Bidirectional)   (None, None, 256)    263168      embedding[0][0]                  \n",
      "__________________________________________________________________________________________________\n",
      "bidirectional_2 (Bidirectional) (None, None, 256)    263168      embedding_1[0][0]                \n",
      "__________________________________________________________________________________________________\n",
      "bidirectional_4 (Bidirectional) (None, None, 256)    197632      embedding_2[0][0]                \n",
      "__________________________________________________________________________________________________\n",
      "bidirectional_6 (Bidirectional) (None, None, 256)    197632      embedding_3[0][0]                \n",
      "__________________________________________________________________________________________________\n",
      "bidirectional_1 (Bidirectional) (None, None, 256)    394240      bidirectional[0][0]              \n",
      "__________________________________________________________________________________________________\n",
      "bidirectional_3 (Bidirectional) (None, None, 256)    394240      bidirectional_2[0][0]            \n",
      "__________________________________________________________________________________________________\n",
      "bidirectional_5 (Bidirectional) (None, None, 256)    394240      bidirectional_4[0][0]            \n",
      "__________________________________________________________________________________________________\n",
      "bidirectional_7 (Bidirectional) (None, None, 256)    394240      bidirectional_6[0][0]            \n",
      "__________________________________________________________________________________________________\n",
      "global_max_pooling1d (GlobalMax (None, 256)          0           bidirectional_1[0][0]            \n",
      "__________________________________________________________________________________________________\n",
      "global_max_pooling1d_1 (GlobalM (None, 256)          0           bidirectional_3[0][0]            \n",
      "__________________________________________________________________________________________________\n",
      "global_max_pooling1d_2 (GlobalM (None, 256)          0           bidirectional_5[0][0]            \n",
      "__________________________________________________________________________________________________\n",
      "global_max_pooling1d_3 (GlobalM (None, 256)          0           bidirectional_7[0][0]            \n",
      "__________________________________________________________________________________________________\n",
      "concatenate (Concatenate)       (None, 1024)         0           global_max_pooling1d[0][0]       \n",
      "                                                                 global_max_pooling1d_1[0][0]     \n",
      "                                                                 global_max_pooling1d_2[0][0]     \n",
      "                                                                 global_max_pooling1d_3[0][0]     \n",
      "__________________________________________________________________________________________________\n",
      "dense (Dense)                   (None, 128)          131200      concatenate[0][0]                \n",
      "__________________________________________________________________________________________________\n",
      "dropout (Dropout)               (None, 128)          0           dense[0][0]                      \n",
      "__________________________________________________________________________________________________\n",
      "dense_1 (Dense)                 (None, 10)           1290        dropout[0][0]                    \n",
      "==================================================================================================\n",
      "Total params: 266,097,034\n",
      "Trainable params: 2,631,050\n",
      "Non-trainable params: 263,465,984\n",
      "__________________________________________________________________________________________________\n"
     ]
    }
   ],
   "source": [
    "lstm_model_age = BiLSTM_MutilInput(**dnn_params_age)"
   ]
  },
  {
   "cell_type": "markdown",
   "metadata": {},
   "source": [
    "3输入"
   ]
  },
  {
   "cell_type": "code",
   "execution_count": 203,
   "metadata": {
    "ExecuteTime": {
     "end_time": "2020-06-21T09:22:47.700614Z",
     "start_time": "2020-06-21T08:38:54.071821Z"
    },
    "scrolled": false
   },
   "outputs": [
    {
     "name": "stdout",
     "output_type": "stream",
     "text": [
      "Train on 720000 samples, validate on 180000 samples\n",
      "Epoch 1/10\n",
      "720000/720000 [==============================] - 279s 388us/sample - loss: 1.4435 - accuracy: 0.4135 - val_loss: 1.3560 - val_accuracy: 0.4447\n",
      "Epoch 2/10\n",
      "720000/720000 [==============================] - 262s 363us/sample - loss: 1.3625 - accuracy: 0.4426 - val_loss: 1.3238 - val_accuracy: 0.4558\n",
      "Epoch 3/10\n",
      "720000/720000 [==============================] - 262s 363us/sample - loss: 1.3412 - accuracy: 0.4519 - val_loss: 1.3131 - val_accuracy: 0.4610\n",
      "Epoch 4/10\n",
      "720000/720000 [==============================] - 262s 364us/sample - loss: 1.3237 - accuracy: 0.4581 - val_loss: 1.3081 - val_accuracy: 0.4630\n",
      "Epoch 5/10\n",
      "720000/720000 [==============================] - 262s 364us/sample - loss: 1.3127 - accuracy: 0.4620 - val_loss: 1.3069 - val_accuracy: 0.4625\n",
      "Epoch 6/10\n",
      "720000/720000 [==============================] - 261s 362us/sample - loss: 1.3022 - accuracy: 0.4662 - val_loss: 1.2973 - val_accuracy: 0.4679\n",
      "Epoch 7/10\n",
      "720000/720000 [==============================] - 261s 362us/sample - loss: 1.2946 - accuracy: 0.4696 - val_loss: 1.2968 - val_accuracy: 0.4663\n",
      "Epoch 8/10\n",
      "720000/720000 [==============================] - 261s 363us/sample - loss: 1.2876 - accuracy: 0.4714 - val_loss: 1.3005 - val_accuracy: 0.4670\n",
      "Epoch 9/10\n",
      "720000/720000 [==============================] - 262s 364us/sample - loss: 1.2809 - accuracy: 0.4745 - val_loss: 1.2924 - val_accuracy: 0.4706\n",
      "Epoch 10/10\n",
      "720000/720000 [==============================] - 261s 363us/sample - loss: 1.2766 - accuracy: 0.4759 - val_loss: 1.2935 - val_accuracy: 0.4692\n"
     ]
    },
    {
     "data": {
      "text/plain": [
       "<tensorflow.python.keras.callbacks.History at 0x7f7643a695c0>"
      ]
     },
     "execution_count": 203,
     "metadata": {},
     "output_type": "execute_result"
    }
   ],
   "source": [
    "lstm_model_age.compile(optimizer=keras.optimizers.Adam(3e-3), loss='categorical_crossentropy', metrics=['accuracy'])\n",
    "lstm_model_age.fit([seq_list_train_cr,seq_list_train_ad,seq_list_train_av], label_age_onehot_train, batch_size=512, epochs=10,validation_split=0.2)"
   ]
  },
  {
   "cell_type": "markdown",
   "metadata": {},
   "source": [
    "refit"
   ]
  },
  {
   "cell_type": "code",
   "execution_count": 105,
   "metadata": {
    "ExecuteTime": {
     "end_time": "2020-06-21T13:48:42.690181Z",
     "start_time": "2020-06-21T13:04:20.530931Z"
    },
    "scrolled": false
   },
   "outputs": [
    {
     "name": "stdout",
     "output_type": "stream",
     "text": [
      "Train on 900000 samples\n",
      "Epoch 1/9\n",
      "900000/900000 [==============================] - 308s 343us/sample - loss: 1.4329 - accuracy: 0.4176\n",
      "Epoch 2/9\n",
      "900000/900000 [==============================] - 295s 327us/sample - loss: 1.3558 - accuracy: 0.4447\n",
      "Epoch 3/9\n",
      "900000/900000 [==============================] - 293s 326us/sample - loss: 1.3333 - accuracy: 0.4537\n",
      "Epoch 4/9\n",
      "900000/900000 [==============================] - 293s 326us/sample - loss: 1.3187 - accuracy: 0.4600\n",
      "Epoch 5/9\n",
      "900000/900000 [==============================] - 294s 326us/sample - loss: 1.3082 - accuracy: 0.4637\n",
      "Epoch 6/9\n",
      "900000/900000 [==============================] - 294s 327us/sample - loss: 1.2993 - accuracy: 0.4671\n",
      "Epoch 7/9\n",
      "900000/900000 [==============================] - 295s 328us/sample - loss: 1.2929 - accuracy: 0.4700\n",
      "Epoch 8/9\n",
      "900000/900000 [==============================] - 294s 327us/sample - loss: 1.2865 - accuracy: 0.4721\n",
      "Epoch 9/9\n",
      "900000/900000 [==============================] - 294s 327us/sample - loss: 1.2815 - accuracy: 0.4735\n"
     ]
    },
    {
     "data": {
      "text/plain": [
       "<tensorflow.python.keras.callbacks.History at 0x7f409c68bcf8>"
      ]
     },
     "execution_count": 105,
     "metadata": {},
     "output_type": "execute_result"
    }
   ],
   "source": [
    "lstm_model_age.compile(optimizer=keras.optimizers.Adam(3e-3), loss='categorical_crossentropy', metrics=['accuracy'])\n",
    "lstm_model_age.fit([seq_list_train_cr,seq_list_train_ad,seq_list_train_av], label_age_onehot_train, batch_size=512, epochs=9)"
   ]
  },
  {
   "cell_type": "markdown",
   "metadata": {},
   "source": [
    "4输入"
   ]
  },
  {
   "cell_type": "code",
   "execution_count": null,
   "metadata": {
    "ExecuteTime": {
     "end_time": "2020-06-21T05:22:51.210612Z",
     "start_time": "2020-06-21T03:28:21.375804Z"
    },
    "scrolled": false
   },
   "outputs": [],
   "source": [
    "lstm_model_age.compile(optimizer=keras.optimizers.Adam(1e-3), loss='categorical_crossentropy', metrics=['accuracy'])\n",
    "lstm_model_age.fit([seq_list_train_cr,seq_list_train_ad,seq_list_train_av,seq_list_train_pr], label_age_onehot_train, batch_size=128, epochs=10,validation_split=0.2)"
   ]
  },
  {
   "cell_type": "markdown",
   "metadata": {},
   "source": [
    "#### 多输入bilstm+textcnn"
   ]
  },
  {
   "cell_type": "code",
   "execution_count": 163,
   "metadata": {
    "ExecuteTime": {
     "end_time": "2020-06-21T16:37:01.567381Z",
     "start_time": "2020-06-21T16:37:01.499450Z"
    }
   },
   "outputs": [],
   "source": [
    "keras.backend.clear_session()"
   ]
  },
  {
   "cell_type": "code",
   "execution_count": 164,
   "metadata": {
    "ExecuteTime": {
     "end_time": "2020-06-21T16:37:06.041894Z",
     "start_time": "2020-06-21T16:37:01.569354Z"
    }
   },
   "outputs": [
    {
     "data": {
      "text/plain": [
       "1812"
      ]
     },
     "execution_count": 164,
     "metadata": {},
     "output_type": "execute_result"
    }
   ],
   "source": [
    "gc.collect()"
   ]
  },
  {
   "cell_type": "code",
   "execution_count": 186,
   "metadata": {
    "ExecuteTime": {
     "end_time": "2020-06-22T01:20:05.566419Z",
     "start_time": "2020-06-22T01:20:05.508595Z"
    }
   },
   "outputs": [],
   "source": [
    "# params\n",
    "dnn_params_age = {\n",
    "    \"embedding_feature_size\":[len(dict_cr.values())+1,len(dict_ad.values())+1,len(dict_av.values())+1,len(dict_pr.values())+1],\n",
    "    \"embedding_size\": [128,128,64,64],\n",
    "    \"embedding_initial_weight\":[embedding_cr,embedding_ad,embedding_av,embedding_pr],\n",
    "    \"embedding_trainable\":False,\n",
    "    \"mask_zero\":False,\n",
    "    \"dropout_embedding\": 0,\n",
    "    \"seq_length\":100,\n",
    "    \"lstm_kernel\":'lstm',\n",
    "    \"lstm_num_hidden\":128,\n",
    "    \"lstm_num_layer\":2,\n",
    "    \"dropout_lstm\":0.2,\n",
    "    \"filters\":128,\n",
    "    \"kernel_size\":[2,5,10],\n",
    "    \"dropout_cnn\":[0.2,0.2,0.2],\n",
    "    \"deep_layers\": [256],\n",
    "    \"dropout_deep\": [0.2],\n",
    "    \"deep_layers_activation\": 'relu',\n",
    "    \"l1_reg\":0.0,\n",
    "    \"l2_reg\": 0.001,\n",
    "    \"batch_norm\": 0,\n",
    "    \"batch_norm_decay\": 0.995,\n",
    "    \"num_class\":10,\n",
    "    \"verbose\": True,\n",
    "    \"random_seed\": 2020\n",
    "}"
   ]
  },
  {
   "cell_type": "code",
   "execution_count": 150,
   "metadata": {
    "ExecuteTime": {
     "end_time": "2020-06-21T15:00:07.828173Z",
     "start_time": "2020-06-21T15:00:02.777637Z"
    },
    "scrolled": false
   },
   "outputs": [
    {
     "name": "stdout",
     "output_type": "stream",
     "text": [
      "Model: \"model_3\"\n",
      "__________________________________________________________________________________________________\n",
      "Layer (type)                    Output Shape         Param #     Connected to                     \n",
      "==================================================================================================\n",
      "input_1 (InputLayer)            [(None, None)]       0                                            \n",
      "__________________________________________________________________________________________________\n",
      "input_2 (InputLayer)            [(None, None)]       0                                            \n",
      "__________________________________________________________________________________________________\n",
      "input_3 (InputLayer)            [(None, None)]       0                                            \n",
      "__________________________________________________________________________________________________\n",
      "embedding (Embedding)           (None, None, 128)    130604544   input_1[0][0]                    \n",
      "__________________________________________________________________________________________________\n",
      "embedding_1 (Embedding)         (None, None, 128)    128772224   input_2[0][0]                    \n",
      "__________________________________________________________________________________________________\n",
      "embedding_2 (Embedding)         (None, None, 64)     2620352     input_3[0][0]                    \n",
      "__________________________________________________________________________________________________\n",
      "conv1d (Conv1D)                 (None, None, 128)    32896       embedding[0][0]                  \n",
      "__________________________________________________________________________________________________\n",
      "conv1d_1 (Conv1D)               (None, None, 128)    82048       embedding[0][0]                  \n",
      "__________________________________________________________________________________________________\n",
      "conv1d_2 (Conv1D)               (None, None, 128)    163968      embedding[0][0]                  \n",
      "__________________________________________________________________________________________________\n",
      "conv1d_3 (Conv1D)               (None, None, 128)    32896       embedding_1[0][0]                \n",
      "__________________________________________________________________________________________________\n",
      "conv1d_4 (Conv1D)               (None, None, 128)    82048       embedding_1[0][0]                \n",
      "__________________________________________________________________________________________________\n",
      "conv1d_5 (Conv1D)               (None, None, 128)    163968      embedding_1[0][0]                \n",
      "__________________________________________________________________________________________________\n",
      "conv1d_6 (Conv1D)               (None, None, 128)    16512       embedding_2[0][0]                \n",
      "__________________________________________________________________________________________________\n",
      "conv1d_7 (Conv1D)               (None, None, 128)    41088       embedding_2[0][0]                \n",
      "__________________________________________________________________________________________________\n",
      "conv1d_8 (Conv1D)               (None, None, 128)    82048       embedding_2[0][0]                \n",
      "__________________________________________________________________________________________________\n",
      "bidirectional (Bidirectional)   (None, None, 256)    263168      embedding[0][0]                  \n",
      "__________________________________________________________________________________________________\n",
      "global_max_pooling1d_1 (GlobalM (None, 128)          0           conv1d[0][0]                     \n",
      "__________________________________________________________________________________________________\n",
      "global_max_pooling1d_2 (GlobalM (None, 128)          0           conv1d_1[0][0]                   \n",
      "__________________________________________________________________________________________________\n",
      "global_max_pooling1d_3 (GlobalM (None, 128)          0           conv1d_2[0][0]                   \n",
      "__________________________________________________________________________________________________\n",
      "bidirectional_2 (Bidirectional) (None, None, 256)    263168      embedding_1[0][0]                \n",
      "__________________________________________________________________________________________________\n",
      "global_max_pooling1d_5 (GlobalM (None, 128)          0           conv1d_3[0][0]                   \n",
      "__________________________________________________________________________________________________\n",
      "global_max_pooling1d_6 (GlobalM (None, 128)          0           conv1d_4[0][0]                   \n",
      "__________________________________________________________________________________________________\n",
      "global_max_pooling1d_7 (GlobalM (None, 128)          0           conv1d_5[0][0]                   \n",
      "__________________________________________________________________________________________________\n",
      "bidirectional_4 (Bidirectional) (None, None, 256)    197632      embedding_2[0][0]                \n",
      "__________________________________________________________________________________________________\n",
      "global_max_pooling1d_9 (GlobalM (None, 128)          0           conv1d_6[0][0]                   \n",
      "__________________________________________________________________________________________________\n",
      "global_max_pooling1d_10 (Global (None, 128)          0           conv1d_7[0][0]                   \n",
      "__________________________________________________________________________________________________\n",
      "global_max_pooling1d_11 (Global (None, 128)          0           conv1d_8[0][0]                   \n",
      "__________________________________________________________________________________________________\n",
      "bidirectional_1 (Bidirectional) (None, None, 256)    394240      bidirectional[0][0]              \n",
      "__________________________________________________________________________________________________\n",
      "dropout (Dropout)               (None, 128)          0           global_max_pooling1d_1[0][0]     \n",
      "__________________________________________________________________________________________________\n",
      "dropout_1 (Dropout)             (None, 128)          0           global_max_pooling1d_2[0][0]     \n",
      "__________________________________________________________________________________________________\n",
      "dropout_2 (Dropout)             (None, 128)          0           global_max_pooling1d_3[0][0]     \n",
      "__________________________________________________________________________________________________\n",
      "bidirectional_3 (Bidirectional) (None, None, 256)    394240      bidirectional_2[0][0]            \n",
      "__________________________________________________________________________________________________\n",
      "dropout_3 (Dropout)             (None, 128)          0           global_max_pooling1d_5[0][0]     \n",
      "__________________________________________________________________________________________________\n",
      "dropout_4 (Dropout)             (None, 128)          0           global_max_pooling1d_6[0][0]     \n",
      "__________________________________________________________________________________________________\n",
      "dropout_5 (Dropout)             (None, 128)          0           global_max_pooling1d_7[0][0]     \n",
      "__________________________________________________________________________________________________\n",
      "bidirectional_5 (Bidirectional) (None, None, 256)    394240      bidirectional_4[0][0]            \n",
      "__________________________________________________________________________________________________\n",
      "dropout_6 (Dropout)             (None, 128)          0           global_max_pooling1d_9[0][0]     \n",
      "__________________________________________________________________________________________________\n",
      "dropout_7 (Dropout)             (None, 128)          0           global_max_pooling1d_10[0][0]    \n",
      "__________________________________________________________________________________________________\n",
      "dropout_8 (Dropout)             (None, 128)          0           global_max_pooling1d_11[0][0]    \n",
      "__________________________________________________________________________________________________\n",
      "global_max_pooling1d (GlobalMax (None, 256)          0           bidirectional_1[0][0]            \n",
      "__________________________________________________________________________________________________\n",
      "concatenate (Concatenate)       (None, 384)          0           dropout[0][0]                    \n",
      "                                                                 dropout_1[0][0]                  \n",
      "                                                                 dropout_2[0][0]                  \n",
      "__________________________________________________________________________________________________\n",
      "global_max_pooling1d_4 (GlobalM (None, 256)          0           bidirectional_3[0][0]            \n",
      "__________________________________________________________________________________________________\n",
      "concatenate_2 (Concatenate)     (None, 384)          0           dropout_3[0][0]                  \n",
      "                                                                 dropout_4[0][0]                  \n",
      "                                                                 dropout_5[0][0]                  \n",
      "__________________________________________________________________________________________________\n",
      "global_max_pooling1d_8 (GlobalM (None, 256)          0           bidirectional_5[0][0]            \n",
      "__________________________________________________________________________________________________\n",
      "concatenate_4 (Concatenate)     (None, 384)          0           dropout_6[0][0]                  \n",
      "                                                                 dropout_7[0][0]                  \n",
      "                                                                 dropout_8[0][0]                  \n",
      "__________________________________________________________________________________________________\n",
      "concatenate_1 (Concatenate)     (None, 640)          0           global_max_pooling1d[0][0]       \n",
      "                                                                 concatenate[0][0]                \n",
      "__________________________________________________________________________________________________\n",
      "concatenate_3 (Concatenate)     (None, 640)          0           global_max_pooling1d_4[0][0]     \n",
      "                                                                 concatenate_2[0][0]              \n",
      "__________________________________________________________________________________________________\n",
      "concatenate_5 (Concatenate)     (None, 640)          0           global_max_pooling1d_8[0][0]     \n",
      "                                                                 concatenate_4[0][0]              \n",
      "__________________________________________________________________________________________________\n",
      "concatenate_6 (Concatenate)     (None, 1920)         0           concatenate_1[0][0]              \n",
      "                                                                 concatenate_3[0][0]              \n",
      "                                                                 concatenate_5[0][0]              \n",
      "__________________________________________________________________________________________________\n",
      "dense (Dense)                   (None, 256)          491776      concatenate_6[0][0]              \n",
      "__________________________________________________________________________________________________\n",
      "dropout_9 (Dropout)             (None, 256)          0           dense[0][0]                      \n",
      "__________________________________________________________________________________________________\n",
      "dense_1 (Dense)                 (None, 128)          32896       dropout_9[0][0]                  \n",
      "__________________________________________________________________________________________________\n",
      "dropout_10 (Dropout)            (None, 128)          0           dense_1[0][0]                    \n",
      "__________________________________________________________________________________________________\n",
      "dense_2 (Dense)                 (None, 10)           1290        dropout_10[0][0]                 \n",
      "==================================================================================================\n",
      "Total params: 265,127,242\n",
      "Trainable params: 3,130,122\n",
      "Non-trainable params: 261,997,120\n",
      "__________________________________________________________________________________________________\n"
     ]
    }
   ],
   "source": [
    "lstm_cnn_model_age = BiLSTM_TextCNN_MutilInput(**dnn_params_age)"
   ]
  },
  {
   "cell_type": "code",
   "execution_count": null,
   "metadata": {
    "ExecuteTime": {
     "end_time": "2020-06-21T15:33:11.346472Z",
     "start_time": "2020-06-21T15:00:32.734011Z"
    },
    "scrolled": false
   },
   "outputs": [],
   "source": [
    "lstm_cnn_model_age.compile(optimizer=keras.optimizers.Adam(3e-3), loss='categorical_crossentropy', metrics=['accuracy'])\n",
    "lstm_cnn_model_age.fit([seq_list_train_cr,seq_list_train_ad,seq_list_train_av], label_age_onehot_train, batch_size=512, epochs=10,validation_split=0.2)"
   ]
  },
  {
   "cell_type": "code",
   "execution_count": 139,
   "metadata": {
    "ExecuteTime": {
     "end_time": "2020-06-21T14:54:49.709768Z",
     "start_time": "2020-06-21T14:54:46.588326Z"
    }
   },
   "outputs": [
    {
     "data": {
      "text/plain": [
       "674"
      ]
     },
     "execution_count": 139,
     "metadata": {},
     "output_type": "execute_result"
    }
   ],
   "source": [
    "del lstm_cnn_model_age\n",
    "gc.collect()"
   ]
  },
  {
   "cell_type": "markdown",
   "metadata": {},
   "source": [
    "### 保存和载入模型"
   ]
  },
  {
   "cell_type": "code",
   "execution_count": 129,
   "metadata": {
    "ExecuteTime": {
     "end_time": "2020-06-21T01:19:43.750058Z",
     "start_time": "2020-06-21T01:18:32.165470Z"
    },
    "scrolled": true
   },
   "outputs": [
    {
     "name": "stdout",
     "output_type": "stream",
     "text": [
      "WARNING:tensorflow:From /opt/app/conda/lib/python3.6/site-packages/tensorflow_core/python/ops/resource_variable_ops.py:1786: calling BaseResourceVariable.__init__ (from tensorflow.python.ops.resource_variable_ops) with constraint is deprecated and will be removed in a future version.\n",
      "Instructions for updating:\n",
      "If using Keras pass *_constraint arguments to layers.\n",
      "INFO:tensorflow:Assets written to: ./model/age_model_lstm_mindf5_3input.tf/assets\n"
     ]
    }
   ],
   "source": [
    "lstm_model_age.save('./model/age_model_lstm_mindf5_3input.tf')"
   ]
  },
  {
   "cell_type": "code",
   "execution_count": 130,
   "metadata": {
    "ExecuteTime": {
     "end_time": "2020-06-21T01:21:47.570994Z",
     "start_time": "2020-06-21T01:21:47.515982Z"
    }
   },
   "outputs": [],
   "source": [
    "del lstm_model_age"
   ]
  },
  {
   "cell_type": "code",
   "execution_count": 131,
   "metadata": {
    "ExecuteTime": {
     "end_time": "2020-06-21T01:23:52.483444Z",
     "start_time": "2020-06-21T01:23:12.831788Z"
    }
   },
   "outputs": [],
   "source": [
    "lstm_model_age = keras.models.load_model(\"./model/age_model_lstm_mindf5_3input.tf\")"
   ]
  },
  {
   "cell_type": "code",
   "execution_count": 134,
   "metadata": {
    "ExecuteTime": {
     "end_time": "2020-06-21T01:28:34.398416Z",
     "start_time": "2020-06-21T01:27:17.523016Z"
    }
   },
   "outputs": [
    {
     "name": "stdout",
     "output_type": "stream",
     "text": [
      "INFO:tensorflow:Assets written to: ./model/gender_model_lstm_mindf5_3input.tf/assets\n"
     ]
    }
   ],
   "source": [
    "lstm_model_gender.save('./model/gender_model_lstm_mindf5_3input.tf')"
   ]
  },
  {
   "cell_type": "code",
   "execution_count": 185,
   "metadata": {
    "ExecuteTime": {
     "end_time": "2020-06-22T01:20:00.341539Z",
     "start_time": "2020-06-22T01:19:54.819143Z"
    }
   },
   "outputs": [
    {
     "data": {
      "text/plain": [
       "1984"
      ]
     },
     "execution_count": 185,
     "metadata": {},
     "output_type": "execute_result"
    }
   ],
   "source": [
    "'''\n",
    "keras.backend.clear_session()\n",
    "del lstm_model_gender\n",
    "del lstm_model_age\n",
    "'''"
   ]
  },
  {
   "cell_type": "code",
   "execution_count": null,
   "metadata": {},
   "outputs": [],
   "source": [
    "gc.collect()"
   ]
  },
  {
   "cell_type": "markdown",
   "metadata": {},
   "source": [
    "### 导出结果"
   ]
  },
  {
   "cell_type": "markdown",
   "metadata": {},
   "source": [
    "预测"
   ]
  },
  {
   "cell_type": "code",
   "execution_count": 169,
   "metadata": {
    "ExecuteTime": {
     "end_time": "2020-06-28T09:05:14.608618Z",
     "start_time": "2020-06-28T09:03:42.570016Z"
    }
   },
   "outputs": [],
   "source": [
    "y_predict_gender_prob_test = lstm_model_gender.predict([seq_list_test_cr,seq_list_test_ad,seq_list_test_av],batch_size=2048)"
   ]
  },
  {
   "cell_type": "code",
   "execution_count": 170,
   "metadata": {
    "ExecuteTime": {
     "end_time": "2020-06-28T09:06:34.558334Z",
     "start_time": "2020-06-28T09:05:14.610452Z"
    }
   },
   "outputs": [],
   "source": [
    "y_predict_gender_prob_train = lstm_model_gender.predict([seq_list_train_cr,seq_list_train_ad,seq_list_train_av],batch_size=2048)"
   ]
  },
  {
   "cell_type": "code",
   "execution_count": 106,
   "metadata": {
    "ExecuteTime": {
     "end_time": "2020-06-21T13:50:58.151763Z",
     "start_time": "2020-06-21T13:49:26.199931Z"
    }
   },
   "outputs": [],
   "source": [
    "y_predict_age_prob_test = lstm_model_age.predict([seq_list_test_cr,seq_list_test_ad,seq_list_test_av],batch_size=2048)"
   ]
  },
  {
   "cell_type": "code",
   "execution_count": 107,
   "metadata": {
    "ExecuteTime": {
     "end_time": "2020-06-21T13:52:18.099109Z",
     "start_time": "2020-06-21T13:50:58.154910Z"
    }
   },
   "outputs": [],
   "source": [
    "y_predict_age_prob_train = lstm_model_age.predict([seq_list_train_cr,seq_list_train_ad,seq_list_train_av],batch_size=2048)"
   ]
  },
  {
   "cell_type": "markdown",
   "metadata": {},
   "source": [
    "概率转标签"
   ]
  },
  {
   "cell_type": "code",
   "execution_count": 171,
   "metadata": {
    "ExecuteTime": {
     "end_time": "2020-06-28T09:06:45.868592Z",
     "start_time": "2020-06-28T09:06:45.796510Z"
    }
   },
   "outputs": [],
   "source": [
    "pd_user_ad_list_train['predicted_gender'] = np.argmax(y_predict_gender_prob_train,axis=1)+1"
   ]
  },
  {
   "cell_type": "code",
   "execution_count": 109,
   "metadata": {
    "ExecuteTime": {
     "end_time": "2020-06-21T13:52:40.564219Z",
     "start_time": "2020-06-21T13:52:40.470805Z"
    }
   },
   "outputs": [],
   "source": [
    "pd_user_ad_list_train['predicted_age'] = np.argmax(y_predict_age_prob_train,axis=1)+1"
   ]
  },
  {
   "cell_type": "code",
   "execution_count": 121,
   "metadata": {
    "ExecuteTime": {
     "end_time": "2020-06-21T14:34:22.837274Z",
     "start_time": "2020-06-21T14:34:22.760441Z"
    }
   },
   "outputs": [],
   "source": [
    "pd_user_ad_list_test['predicted_gender'] = np.argmax(y_predict_gender_prob_test,axis=1)+1"
   ]
  },
  {
   "cell_type": "code",
   "execution_count": 122,
   "metadata": {
    "ExecuteTime": {
     "end_time": "2020-06-21T14:34:23.687331Z",
     "start_time": "2020-06-21T14:34:23.583987Z"
    }
   },
   "outputs": [],
   "source": [
    "pd_user_ad_list_test['predicted_age'] = np.argmax(y_predict_age_prob_test,axis=1)+1"
   ]
  },
  {
   "cell_type": "markdown",
   "metadata": {},
   "source": [
    "查看训练集效果和测试集预测标签分布"
   ]
  },
  {
   "cell_type": "code",
   "execution_count": 120,
   "metadata": {
    "ExecuteTime": {
     "end_time": "2020-06-21T14:33:06.079819Z",
     "start_time": "2020-06-21T14:33:05.890679Z"
    }
   },
   "outputs": [
    {
     "data": {
      "text/plain": [
       "0.9482466666666667"
      ]
     },
     "execution_count": 120,
     "metadata": {},
     "output_type": "execute_result"
    }
   ],
   "source": [
    "accuracy_score(pd_user_ad_list_train['gender'],pd_user_ad_list_train['predicted_gender'])"
   ]
  },
  {
   "cell_type": "code",
   "execution_count": 110,
   "metadata": {
    "ExecuteTime": {
     "end_time": "2020-06-21T13:52:43.267583Z",
     "start_time": "2020-06-21T13:52:43.138459Z"
    }
   },
   "outputs": [
    {
     "data": {
      "text/plain": [
       "0.49612333333333336"
      ]
     },
     "execution_count": 110,
     "metadata": {},
     "output_type": "execute_result"
    }
   ],
   "source": [
    "accuracy_score(pd_user_ad_list_train['age'],pd_user_ad_list_train['predicted_age'])"
   ]
  },
  {
   "cell_type": "code",
   "execution_count": 123,
   "metadata": {
    "ExecuteTime": {
     "end_time": "2020-06-21T14:35:31.150714Z",
     "start_time": "2020-06-21T14:35:31.069264Z"
    }
   },
   "outputs": [
    {
     "data": {
      "text/plain": [
       "3     0.225454\n",
       "4     0.167309\n",
       "2     0.165857\n",
       "5     0.145186\n",
       "6     0.113022\n",
       "7     0.074123\n",
       "1     0.039106\n",
       "8     0.035519\n",
       "9     0.021638\n",
       "10    0.012787\n",
       "Name: age, dtype: float64"
      ]
     },
     "execution_count": 123,
     "metadata": {},
     "output_type": "execute_result"
    }
   ],
   "source": [
    "pd_user_ad_list_train['age'].value_counts()/pd_user_ad_list_train['age'].value_counts().sum()"
   ]
  },
  {
   "cell_type": "code",
   "execution_count": 124,
   "metadata": {
    "ExecuteTime": {
     "end_time": "2020-06-21T14:35:40.991905Z",
     "start_time": "2020-06-21T14:35:40.914046Z"
    }
   },
   "outputs": [
    {
     "data": {
      "text/plain": [
       "3     0.247647\n",
       "4     0.187156\n",
       "2     0.169764\n",
       "6     0.147429\n",
       "5     0.112628\n",
       "7     0.054154\n",
       "8     0.025360\n",
       "1     0.023323\n",
       "9     0.019223\n",
       "10    0.013316\n",
       "Name: predicted_age, dtype: float64"
      ]
     },
     "execution_count": 124,
     "metadata": {},
     "output_type": "execute_result"
    }
   ],
   "source": [
    "pd_user_ad_list_test['predicted_age'].value_counts()/pd_user_ad_list_test['predicted_age'].value_counts().sum()"
   ]
  },
  {
   "cell_type": "code",
   "execution_count": 125,
   "metadata": {
    "ExecuteTime": {
     "end_time": "2020-06-21T14:36:24.186139Z",
     "start_time": "2020-06-21T14:36:22.297185Z"
    }
   },
   "outputs": [],
   "source": [
    "pd_user_ad_list_test[['user_id','predicted_age','predicted_gender']].to_csv(\"./result/submission.csv\",index=False)"
   ]
  },
  {
   "cell_type": "markdown",
   "metadata": {},
   "source": [
    "测试"
   ]
  },
  {
   "cell_type": "code",
   "execution_count": 146,
   "metadata": {
    "ExecuteTime": {
     "end_time": "2020-06-21T02:20:50.688151Z",
     "start_time": "2020-06-21T02:20:50.441008Z"
    }
   },
   "outputs": [],
   "source": [
    "test_result = pd.read_csv(\"./result/submission.csv\")"
   ]
  },
  {
   "cell_type": "code",
   "execution_count": 147,
   "metadata": {
    "ExecuteTime": {
     "end_time": "2020-06-21T02:21:07.667737Z",
     "start_time": "2020-06-21T02:21:07.592493Z"
    }
   },
   "outputs": [
    {
     "data": {
      "text/plain": [
       "3     0.278535\n",
       "4     0.186520\n",
       "2     0.173963\n",
       "6     0.148147\n",
       "5     0.093333\n",
       "7     0.043736\n",
       "1     0.024179\n",
       "8     0.022073\n",
       "9     0.017949\n",
       "10    0.011565\n",
       "Name: predicted_age, dtype: float64"
      ]
     },
     "execution_count": 147,
     "metadata": {},
     "output_type": "execute_result"
    }
   ],
   "source": [
    "test_result['predicted_age'].value_counts()/test_result['predicted_age'].value_counts().sum()"
   ]
  },
  {
   "cell_type": "code",
   "execution_count": 241,
   "metadata": {
    "ExecuteTime": {
     "end_time": "2020-06-20T09:42:22.084587Z",
     "start_time": "2020-06-20T09:42:21.647858Z"
    }
   },
   "outputs": [],
   "source": [
    "test_result_new = pd.merge(pd_user_ad_list_test[['user_id','predicted_age']],test_result[['user_id','predicted_gender']],on='user_id')"
   ]
  },
  {
   "cell_type": "code",
   "execution_count": 242,
   "metadata": {
    "ExecuteTime": {
     "end_time": "2020-06-20T09:43:22.047336Z",
     "start_time": "2020-06-20T09:43:20.117864Z"
    }
   },
   "outputs": [],
   "source": [
    "test_result_new[['user_id','predicted_age','predicted_gender']].to_csv(\"./result/submission.csv\",index=False)"
   ]
  }
 ],
 "metadata": {
  "kernelspec": {
   "display_name": "Python 3",
   "language": "python",
   "name": "python3"
  },
  "language_info": {
   "codemirror_mode": {
    "name": "ipython",
    "version": 3
   },
   "file_extension": ".py",
   "mimetype": "text/x-python",
   "name": "python",
   "nbconvert_exporter": "python",
   "pygments_lexer": "ipython3",
   "version": "3.6.5"
  },
  "toc": {
   "base_numbering": 1,
   "nav_menu": {},
   "number_sections": true,
   "sideBar": true,
   "skip_h1_title": false,
   "title_cell": "Table of Contents",
   "title_sidebar": "Contents",
   "toc_cell": false,
   "toc_position": {
    "height": "calc(100% - 180px)",
    "left": "10px",
    "top": "150px",
    "width": "281.3px"
   },
   "toc_section_display": true,
   "toc_window_display": true
  }
 },
 "nbformat": 4,
 "nbformat_minor": 4
}
