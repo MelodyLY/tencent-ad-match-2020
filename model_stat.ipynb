{
 "cells": [
  {
   "cell_type": "markdown",
   "metadata": {},
   "source": [
    "# age|gender预测-统计特征版"
   ]
  },
  {
   "cell_type": "code",
   "execution_count": 2,
   "metadata": {
    "ExecuteTime": {
     "end_time": "2020-06-22T01:34:42.117265Z",
     "start_time": "2020-06-22T01:34:41.792030Z"
    }
   },
   "outputs": [],
   "source": [
    "import numpy as np\n",
    "import pandas as pd"
   ]
  },
  {
   "cell_type": "code",
   "execution_count": 158,
   "metadata": {
    "ExecuteTime": {
     "end_time": "2020-05-19T15:33:20.251513Z",
     "start_time": "2020-05-19T15:33:20.249272Z"
    }
   },
   "outputs": [],
   "source": [
    "import gc"
   ]
  },
  {
   "cell_type": "markdown",
   "metadata": {},
   "source": [
    "## 载入数据"
   ]
  },
  {
   "cell_type": "markdown",
   "metadata": {},
   "source": [
    "### 用户日志"
   ]
  },
  {
   "cell_type": "code",
   "execution_count": 3,
   "metadata": {
    "ExecuteTime": {
     "end_time": "2020-06-22T01:35:20.894463Z",
     "start_time": "2020-06-22T01:34:43.720023Z"
    }
   },
   "outputs": [],
   "source": [
    "df_user_click_log_train = pd.read_csv(\"./data/train_preliminary/click_log.csv\")\n",
    "df_user_click_log_test = pd.read_csv(\"./data/test/click_log.csv\")"
   ]
  },
  {
   "cell_type": "code",
   "execution_count": 4,
   "metadata": {
    "ExecuteTime": {
     "end_time": "2020-06-22T01:35:24.753504Z",
     "start_time": "2020-06-22T01:35:24.736644Z"
    }
   },
   "outputs": [
    {
     "data": {
      "text/plain": [
       "((30082771, 4), (33585512, 4))"
      ]
     },
     "execution_count": 4,
     "metadata": {},
     "output_type": "execute_result"
    }
   ],
   "source": [
    "df_user_click_log_train.shape,df_user_click_log_test.shape"
   ]
  },
  {
   "cell_type": "code",
   "execution_count": 5,
   "metadata": {
    "ExecuteTime": {
     "end_time": "2020-06-22T01:35:26.591912Z",
     "start_time": "2020-06-22T01:35:26.576056Z"
    }
   },
   "outputs": [
    {
     "data": {
      "text/html": [
       "<div>\n",
       "<style scoped>\n",
       "    .dataframe tbody tr th:only-of-type {\n",
       "        vertical-align: middle;\n",
       "    }\n",
       "\n",
       "    .dataframe tbody tr th {\n",
       "        vertical-align: top;\n",
       "    }\n",
       "\n",
       "    .dataframe thead th {\n",
       "        text-align: right;\n",
       "    }\n",
       "</style>\n",
       "<table border=\"1\" class=\"dataframe\">\n",
       "  <thead>\n",
       "    <tr style=\"text-align: right;\">\n",
       "      <th></th>\n",
       "      <th>time</th>\n",
       "      <th>user_id</th>\n",
       "      <th>creative_id</th>\n",
       "      <th>click_times</th>\n",
       "    </tr>\n",
       "  </thead>\n",
       "  <tbody>\n",
       "    <tr>\n",
       "      <th>0</th>\n",
       "      <td>9</td>\n",
       "      <td>30920</td>\n",
       "      <td>567330</td>\n",
       "      <td>1</td>\n",
       "    </tr>\n",
       "    <tr>\n",
       "      <th>1</th>\n",
       "      <td>65</td>\n",
       "      <td>30920</td>\n",
       "      <td>3072255</td>\n",
       "      <td>1</td>\n",
       "    </tr>\n",
       "    <tr>\n",
       "      <th>2</th>\n",
       "      <td>56</td>\n",
       "      <td>30920</td>\n",
       "      <td>2361327</td>\n",
       "      <td>1</td>\n",
       "    </tr>\n",
       "    <tr>\n",
       "      <th>3</th>\n",
       "      <td>6</td>\n",
       "      <td>309204</td>\n",
       "      <td>325532</td>\n",
       "      <td>1</td>\n",
       "    </tr>\n",
       "    <tr>\n",
       "      <th>4</th>\n",
       "      <td>59</td>\n",
       "      <td>309204</td>\n",
       "      <td>2746730</td>\n",
       "      <td>1</td>\n",
       "    </tr>\n",
       "  </tbody>\n",
       "</table>\n",
       "</div>"
      ],
      "text/plain": [
       "   time  user_id  creative_id  click_times\n",
       "0     9    30920       567330            1\n",
       "1    65    30920      3072255            1\n",
       "2    56    30920      2361327            1\n",
       "3     6   309204       325532            1\n",
       "4    59   309204      2746730            1"
      ]
     },
     "execution_count": 5,
     "metadata": {},
     "output_type": "execute_result"
    }
   ],
   "source": [
    "df_user_click_log_train.head()"
   ]
  },
  {
   "cell_type": "code",
   "execution_count": 6,
   "metadata": {
    "ExecuteTime": {
     "end_time": "2020-06-22T01:35:27.954860Z",
     "start_time": "2020-06-22T01:35:27.683579Z"
    },
    "scrolled": true
   },
   "outputs": [
    {
     "data": {
      "text/plain": [
       "time           0\n",
       "user_id        0\n",
       "creative_id    0\n",
       "click_times    0\n",
       "dtype: int64"
      ]
     },
     "execution_count": 6,
     "metadata": {},
     "output_type": "execute_result"
    }
   ],
   "source": [
    "df_user_click_log_test.isnull().sum()"
   ]
  },
  {
   "cell_type": "code",
   "execution_count": 7,
   "metadata": {
    "ExecuteTime": {
     "end_time": "2020-06-22T01:35:33.180375Z",
     "start_time": "2020-06-22T01:35:31.263358Z"
    }
   },
   "outputs": [
    {
     "data": {
      "text/plain": [
       "((900000,), (1000000,))"
      ]
     },
     "execution_count": 7,
     "metadata": {},
     "output_type": "execute_result"
    }
   ],
   "source": [
    "df_user_click_log_train['user_id'].drop_duplicates().shape,df_user_click_log_test['user_id'].drop_duplicates().shape"
   ]
  },
  {
   "cell_type": "code",
   "execution_count": 73,
   "metadata": {
    "ExecuteTime": {
     "end_time": "2020-05-20T08:01:25.676267Z",
     "start_time": "2020-05-20T08:01:25.121641Z"
    }
   },
   "outputs": [
    {
     "data": {
      "text/plain": [
       "array([3131989, 3131990, 3131994, ..., 3131984, 3131987, 3131988])"
      ]
     },
     "execution_count": 73,
     "metadata": {},
     "output_type": "execute_result"
    }
   ],
   "source": [
    "df_user_click_log_test['user_id'].drop_duplicates().values"
   ]
  },
  {
   "cell_type": "code",
   "execution_count": 20,
   "metadata": {
    "ExecuteTime": {
     "end_time": "2020-05-19T01:51:19.631794Z",
     "start_time": "2020-05-19T01:51:18.519318Z"
    }
   },
   "outputs": [
    {
     "data": {
      "text/plain": [
       "count    3.008277e+07\n",
       "mean     1.063127e+00\n",
       "std      2.982831e-01\n",
       "min      1.000000e+00\n",
       "5%       1.000000e+00\n",
       "25%      1.000000e+00\n",
       "50%      1.000000e+00\n",
       "75%      1.000000e+00\n",
       "95%      2.000000e+00\n",
       "max      1.520000e+02\n",
       "Name: click_times, dtype: float64"
      ]
     },
     "execution_count": 20,
     "metadata": {},
     "output_type": "execute_result"
    }
   ],
   "source": [
    "df_user_click_log['click_times'].describe(percentiles=[0.05,0.25,0.5,0.75,0.95])"
   ]
  },
  {
   "cell_type": "markdown",
   "metadata": {},
   "source": [
    "### 广告信息"
   ]
  },
  {
   "cell_type": "code",
   "execution_count": 8,
   "metadata": {
    "ExecuteTime": {
     "end_time": "2020-06-22T01:35:52.130641Z",
     "start_time": "2020-06-22T01:35:47.169134Z"
    }
   },
   "outputs": [],
   "source": [
    "df_ad_info_train = pd.read_csv(\"./data/train_preliminary/ad.csv\")\n",
    "df_ad_info_test = pd.read_csv(\"./data/test/ad.csv\")"
   ]
  },
  {
   "cell_type": "code",
   "execution_count": 9,
   "metadata": {
    "ExecuteTime": {
     "end_time": "2020-06-22T01:36:16.272175Z",
     "start_time": "2020-06-22T01:36:16.262427Z"
    },
    "scrolled": true
   },
   "outputs": [
    {
     "data": {
      "text/plain": [
       "((2481135, 6), (2618159, 6))"
      ]
     },
     "execution_count": 9,
     "metadata": {},
     "output_type": "execute_result"
    }
   ],
   "source": [
    "df_ad_info_train.shape,df_ad_info_test.shape"
   ]
  },
  {
   "cell_type": "code",
   "execution_count": null,
   "metadata": {
    "ExecuteTime": {
     "end_time": "2020-06-22T01:36:17.248059Z",
     "start_time": "2020-06-22T01:36:17.206943Z"
    }
   },
   "outputs": [],
   "source": [
    "df_ad_info.head()"
   ]
  },
  {
   "cell_type": "code",
   "execution_count": 13,
   "metadata": {
    "ExecuteTime": {
     "end_time": "2020-05-18T12:16:06.979569Z",
     "start_time": "2020-05-18T12:16:06.808324Z"
    }
   },
   "outputs": [
    {
     "data": {
      "text/plain": [
       "creative_id         0\n",
       "ad_id               0\n",
       "product_id          0\n",
       "product_category    0\n",
       "advertiser_id       0\n",
       "industry            0\n",
       "dtype: int64"
      ]
     },
     "execution_count": 13,
     "metadata": {},
     "output_type": "execute_result"
    }
   ],
   "source": [
    "df_ad_info.isnull().sum()"
   ]
  },
  {
   "cell_type": "code",
   "execution_count": 12,
   "metadata": {
    "ExecuteTime": {
     "end_time": "2020-05-18T12:14:22.952507Z",
     "start_time": "2020-05-18T12:14:22.776204Z"
    },
    "scrolled": true
   },
   "outputs": [
    {
     "data": {
      "text/html": [
       "<div>\n",
       "<style scoped>\n",
       "    .dataframe tbody tr th:only-of-type {\n",
       "        vertical-align: middle;\n",
       "    }\n",
       "\n",
       "    .dataframe tbody tr th {\n",
       "        vertical-align: top;\n",
       "    }\n",
       "\n",
       "    .dataframe thead th {\n",
       "        text-align: right;\n",
       "    }\n",
       "</style>\n",
       "<table border=\"1\" class=\"dataframe\">\n",
       "  <thead>\n",
       "    <tr style=\"text-align: right;\">\n",
       "      <th></th>\n",
       "      <th>creative_id</th>\n",
       "      <th>ad_id</th>\n",
       "      <th>product_id</th>\n",
       "      <th>product_category</th>\n",
       "      <th>advertiser_id</th>\n",
       "      <th>industry</th>\n",
       "    </tr>\n",
       "  </thead>\n",
       "  <tbody>\n",
       "    <tr>\n",
       "      <th>9</th>\n",
       "      <td>20</td>\n",
       "      <td>20</td>\n",
       "      <td>34647</td>\n",
       "      <td>5</td>\n",
       "      <td>312</td>\n",
       "      <td>267</td>\n",
       "    </tr>\n",
       "    <tr>\n",
       "      <th>14</th>\n",
       "      <td>27</td>\n",
       "      <td>27</td>\n",
       "      <td>59</td>\n",
       "      <td>1</td>\n",
       "      <td>62948</td>\n",
       "      <td>254</td>\n",
       "    </tr>\n",
       "    <tr>\n",
       "      <th>21</th>\n",
       "      <td>46</td>\n",
       "      <td>46</td>\n",
       "      <td>1263</td>\n",
       "      <td>1</td>\n",
       "      <td>1274</td>\n",
       "      <td>247</td>\n",
       "    </tr>\n",
       "    <tr>\n",
       "      <th>33</th>\n",
       "      <td>63</td>\n",
       "      <td>63</td>\n",
       "      <td>66</td>\n",
       "      <td>1</td>\n",
       "      <td>62928</td>\n",
       "      <td>242</td>\n",
       "    </tr>\n",
       "    <tr>\n",
       "      <th>34</th>\n",
       "      <td>65</td>\n",
       "      <td>64</td>\n",
       "      <td>4573</td>\n",
       "      <td>3</td>\n",
       "      <td>22</td>\n",
       "      <td>141</td>\n",
       "    </tr>\n",
       "  </tbody>\n",
       "</table>\n",
       "</div>"
      ],
      "text/plain": [
       "    creative_id  ad_id product_id  product_category  advertiser_id industry\n",
       "9            20     20      34647                 5            312      267\n",
       "14           27     27         59                 1          62948      254\n",
       "21           46     46       1263                 1           1274      247\n",
       "33           63     63         66                 1          62928      242\n",
       "34           65     64       4573                 3             22      141"
      ]
     },
     "execution_count": 12,
     "metadata": {},
     "output_type": "execute_result"
    }
   ],
   "source": [
    "df_ad_info[df_ad_info['product_id']!='\\\\N'].head()"
   ]
  },
  {
   "cell_type": "markdown",
   "metadata": {},
   "source": [
    "#### 分类信息查看"
   ]
  },
  {
   "cell_type": "code",
   "execution_count": 9,
   "metadata": {
    "ExecuteTime": {
     "end_time": "2020-05-20T07:01:17.327653Z",
     "start_time": "2020-05-20T07:01:17.304067Z"
    }
   },
   "outputs": [
    {
     "data": {
      "text/plain": [
       "1        259\n",
       "2     923994\n",
       "3     283817\n",
       "4      22917\n",
       "5     227970\n",
       "6      12077\n",
       "7       7611\n",
       "8     233832\n",
       "9       2970\n",
       "10        18\n",
       "11      1379\n",
       "12     19592\n",
       "13     38072\n",
       "14        95\n",
       "15       332\n",
       "16      7216\n",
       "17     35638\n",
       "18    663346\n",
       "Name: product_category, dtype: int64"
      ]
     },
     "execution_count": 9,
     "metadata": {},
     "output_type": "execute_result"
    }
   ],
   "source": [
    "df_ad_info_train['product_category'].value_counts().sort_index()"
   ]
  },
  {
   "cell_type": "code",
   "execution_count": 10,
   "metadata": {
    "ExecuteTime": {
     "end_time": "2020-05-20T07:01:18.832830Z",
     "start_time": "2020-05-20T07:01:18.808947Z"
    }
   },
   "outputs": [
    {
     "data": {
      "text/plain": [
       "1        277\n",
       "2     974647\n",
       "3     298067\n",
       "4      23927\n",
       "5     234806\n",
       "6      13189\n",
       "7       7778\n",
       "8     256240\n",
       "9       3159\n",
       "10        13\n",
       "11      1499\n",
       "12     20132\n",
       "13     39621\n",
       "14       105\n",
       "15       355\n",
       "16      7457\n",
       "17     36712\n",
       "18    700175\n",
       "Name: product_category, dtype: int64"
      ]
     },
     "execution_count": 10,
     "metadata": {},
     "output_type": "execute_result"
    }
   ],
   "source": [
    "df_ad_info_test['product_category'].value_counts().sort_index()"
   ]
  },
  {
   "cell_type": "code",
   "execution_count": 13,
   "metadata": {
    "ExecuteTime": {
     "end_time": "2020-05-20T07:02:32.865137Z",
     "start_time": "2020-05-20T07:02:32.676087Z"
    },
    "scrolled": false
   },
   "outputs": [
    {
     "data": {
      "text/plain": [
       "\\N    101048\n",
       "99      1571\n",
       "98      3461\n",
       "97         3\n",
       "96         1\n",
       "94         1\n",
       "93         2\n",
       "92         5\n",
       "90        53\n",
       "9        342\n",
       "89      7756\n",
       "88     13587\n",
       "87      5915\n",
       "86     11565\n",
       "85       930\n",
       "84     11723\n",
       "83         2\n",
       "82      6680\n",
       "81      3429\n",
       "8       6146\n",
       "Name: industry, dtype: int64"
      ]
     },
     "execution_count": 13,
     "metadata": {},
     "output_type": "execute_result"
    }
   ],
   "source": [
    "df_ad_info_train['industry'].value_counts().sort_index(ascending=False).head(20)"
   ]
  },
  {
   "cell_type": "code",
   "execution_count": 12,
   "metadata": {
    "ExecuteTime": {
     "end_time": "2020-05-20T07:02:26.954154Z",
     "start_time": "2020-05-20T07:02:26.755249Z"
    },
    "scrolled": false
   },
   "outputs": [
    {
     "data": {
      "text/plain": [
       "\\N    104764\n",
       "99      1650\n",
       "98      3911\n",
       "97         3\n",
       "96         2\n",
       "95         1\n",
       "93         3\n",
       "92         5\n",
       "91         1\n",
       "90        62\n",
       "9        375\n",
       "89      8227\n",
       "88     13918\n",
       "87      6199\n",
       "86     12688\n",
       "85      1012\n",
       "84     12843\n",
       "83         2\n",
       "82      6898\n",
       "81      3699\n",
       "Name: industry, dtype: int64"
      ]
     },
     "execution_count": 12,
     "metadata": {},
     "output_type": "execute_result"
    }
   ],
   "source": [
    "df_ad_info_test['industry'].value_counts().sort_index(ascending=False).head(20)"
   ]
  },
  {
   "cell_type": "markdown",
   "metadata": {},
   "source": [
    "查看训练集和测试集不相同的id"
   ]
  },
  {
   "cell_type": "code",
   "execution_count": 14,
   "metadata": {
    "ExecuteTime": {
     "end_time": "2020-05-20T07:05:47.420008Z",
     "start_time": "2020-05-20T07:05:47.038986Z"
    }
   },
   "outputs": [
    {
     "data": {
      "text/plain": [
       "{'152', '266', '282', '325', '42', '94'}"
      ]
     },
     "execution_count": 14,
     "metadata": {},
     "output_type": "execute_result"
    }
   ],
   "source": [
    "set(df_ad_info_train['industry'].value_counts().index)-set(df_ad_info_test['industry'].value_counts().index)"
   ]
  },
  {
   "cell_type": "code",
   "execution_count": 15,
   "metadata": {
    "ExecuteTime": {
     "end_time": "2020-05-20T07:06:36.411024Z",
     "start_time": "2020-05-20T07:06:36.024219Z"
    }
   },
   "outputs": [
    {
     "data": {
      "text/plain": [
       "{'153', '198', '199', '7', '91', '95'}"
      ]
     },
     "execution_count": 15,
     "metadata": {},
     "output_type": "execute_result"
    }
   ],
   "source": [
    "set(df_ad_info_test['industry'].value_counts().index)-set(df_ad_info_train['industry'].value_counts().index)"
   ]
  },
  {
   "cell_type": "code",
   "execution_count": 42,
   "metadata": {
    "ExecuteTime": {
     "end_time": "2020-05-19T11:44:24.046272Z",
     "start_time": "2020-05-19T11:44:23.781730Z"
    }
   },
   "outputs": [
    {
     "data": {
      "text/plain": [
       "('1', '\\\\N')"
      ]
     },
     "execution_count": 42,
     "metadata": {},
     "output_type": "execute_result"
    }
   ],
   "source": [
    "df_ad_info['industry'].min(),df_ad_info['industry'].max()"
   ]
  },
  {
   "cell_type": "code",
   "execution_count": 18,
   "metadata": {
    "ExecuteTime": {
     "end_time": "2020-05-18T12:23:35.748357Z",
     "start_time": "2020-05-18T12:23:35.708077Z"
    },
    "scrolled": false
   },
   "outputs": [
    {
     "data": {
      "text/plain": [
       "14681    26906\n",
       "14056    24500\n",
       "14682    18915\n",
       "9058     12127\n",
       "32876     8633\n",
       "         ...  \n",
       "50063        1\n",
       "13201        1\n",
       "5013         1\n",
       "31640        1\n",
       "2049         1\n",
       "Name: advertiser_id, Length: 52090, dtype: int64"
      ]
     },
     "execution_count": 18,
     "metadata": {},
     "output_type": "execute_result"
    }
   ],
   "source": [
    "df_ad_info['advertiser_id'].value_counts()"
   ]
  },
  {
   "cell_type": "markdown",
   "metadata": {},
   "source": [
    "#### 处理缺失值"
   ]
  },
  {
   "cell_type": "code",
   "execution_count": 7,
   "metadata": {
    "ExecuteTime": {
     "end_time": "2020-05-21T09:05:08.297237Z",
     "start_time": "2020-05-21T09:05:08.051607Z"
    }
   },
   "outputs": [],
   "source": [
    "df_ad_info_train.replace('\\\\N','unknown',inplace=True)\n",
    "df_ad_info_test.replace('\\\\N','unknown',inplace=True)"
   ]
  },
  {
   "cell_type": "code",
   "execution_count": 8,
   "metadata": {
    "ExecuteTime": {
     "end_time": "2020-05-21T09:05:10.286388Z",
     "start_time": "2020-05-21T09:05:10.083421Z"
    },
    "scrolled": false
   },
   "outputs": [
    {
     "data": {
      "text/plain": [
       "247        275504\n",
       "319        189526\n",
       "322        168259\n",
       "6          168083\n",
       "unknown    104764\n",
       "            ...  \n",
       "78              1\n",
       "153             1\n",
       "269             1\n",
       "199             1\n",
       "268             1\n",
       "Name: industry, Length: 326, dtype: int64"
      ]
     },
     "execution_count": 8,
     "metadata": {},
     "output_type": "execute_result"
    }
   ],
   "source": [
    "df_ad_info_test['industry'].value_counts()"
   ]
  },
  {
   "cell_type": "markdown",
   "metadata": {},
   "source": [
    "### 标签信息"
   ]
  },
  {
   "cell_type": "code",
   "execution_count": 11,
   "metadata": {
    "ExecuteTime": {
     "end_time": "2020-06-22T01:37:00.262338Z",
     "start_time": "2020-06-22T01:37:00.077768Z"
    }
   },
   "outputs": [],
   "source": [
    "df_user_label = pd.read_csv(\"./data/train_preliminary/user.csv\")"
   ]
  },
  {
   "cell_type": "code",
   "execution_count": 12,
   "metadata": {
    "ExecuteTime": {
     "end_time": "2020-06-22T01:37:01.014928Z",
     "start_time": "2020-06-22T01:37:01.005622Z"
    }
   },
   "outputs": [
    {
     "data": {
      "text/plain": [
       "(900000, 3)"
      ]
     },
     "execution_count": 12,
     "metadata": {},
     "output_type": "execute_result"
    }
   ],
   "source": [
    "df_user_label.shape"
   ]
  },
  {
   "cell_type": "code",
   "execution_count": 63,
   "metadata": {
    "ExecuteTime": {
     "end_time": "2020-05-19T11:56:33.658543Z",
     "start_time": "2020-05-19T11:56:33.652059Z"
    }
   },
   "outputs": [
    {
     "data": {
      "text/html": [
       "<div>\n",
       "<style scoped>\n",
       "    .dataframe tbody tr th:only-of-type {\n",
       "        vertical-align: middle;\n",
       "    }\n",
       "\n",
       "    .dataframe tbody tr th {\n",
       "        vertical-align: top;\n",
       "    }\n",
       "\n",
       "    .dataframe thead th {\n",
       "        text-align: right;\n",
       "    }\n",
       "</style>\n",
       "<table border=\"1\" class=\"dataframe\">\n",
       "  <thead>\n",
       "    <tr style=\"text-align: right;\">\n",
       "      <th></th>\n",
       "      <th>user_id</th>\n",
       "      <th>age</th>\n",
       "      <th>gender</th>\n",
       "    </tr>\n",
       "  </thead>\n",
       "  <tbody>\n",
       "    <tr>\n",
       "      <th>0</th>\n",
       "      <td>1</td>\n",
       "      <td>4</td>\n",
       "      <td>1</td>\n",
       "    </tr>\n",
       "    <tr>\n",
       "      <th>1</th>\n",
       "      <td>2</td>\n",
       "      <td>10</td>\n",
       "      <td>1</td>\n",
       "    </tr>\n",
       "    <tr>\n",
       "      <th>2</th>\n",
       "      <td>3</td>\n",
       "      <td>7</td>\n",
       "      <td>2</td>\n",
       "    </tr>\n",
       "    <tr>\n",
       "      <th>3</th>\n",
       "      <td>4</td>\n",
       "      <td>5</td>\n",
       "      <td>1</td>\n",
       "    </tr>\n",
       "    <tr>\n",
       "      <th>4</th>\n",
       "      <td>5</td>\n",
       "      <td>4</td>\n",
       "      <td>1</td>\n",
       "    </tr>\n",
       "  </tbody>\n",
       "</table>\n",
       "</div>"
      ],
      "text/plain": [
       "   user_id  age  gender\n",
       "0        1    4       1\n",
       "1        2   10       1\n",
       "2        3    7       2\n",
       "3        4    5       1\n",
       "4        5    4       1"
      ]
     },
     "execution_count": 63,
     "metadata": {},
     "output_type": "execute_result"
    }
   ],
   "source": [
    "df_user_label.head()"
   ]
  },
  {
   "cell_type": "code",
   "execution_count": 21,
   "metadata": {
    "ExecuteTime": {
     "end_time": "2020-05-20T07:23:01.471270Z",
     "start_time": "2020-05-20T07:23:01.457559Z"
    }
   },
   "outputs": [
    {
     "data": {
      "text/plain": [
       "3     202909\n",
       "4     150578\n",
       "2     149271\n",
       "5     130667\n",
       "6     101720\n",
       "7      66711\n",
       "1      35195\n",
       "8      31967\n",
       "9      19474\n",
       "10     11508\n",
       "Name: age, dtype: int64"
      ]
     },
     "execution_count": 21,
     "metadata": {},
     "output_type": "execute_result"
    }
   ],
   "source": [
    "df_user_label['age'].value_counts()"
   ]
  },
  {
   "cell_type": "code",
   "execution_count": 22,
   "metadata": {
    "ExecuteTime": {
     "end_time": "2020-05-20T07:23:03.294743Z",
     "start_time": "2020-05-20T07:23:03.283776Z"
    },
    "scrolled": true
   },
   "outputs": [
    {
     "data": {
      "text/plain": [
       "1    602610\n",
       "2    297390\n",
       "Name: gender, dtype: int64"
      ]
     },
     "execution_count": 22,
     "metadata": {},
     "output_type": "execute_result"
    }
   ],
   "source": [
    "df_user_label['gender'].value_counts()"
   ]
  },
  {
   "cell_type": "markdown",
   "metadata": {},
   "source": [
    "## 合并训练集和测试集点击日志"
   ]
  },
  {
   "cell_type": "code",
   "execution_count": 13,
   "metadata": {
    "ExecuteTime": {
     "end_time": "2020-06-22T01:37:24.391342Z",
     "start_time": "2020-06-22T01:37:08.670083Z"
    }
   },
   "outputs": [],
   "source": [
    "df_user_features_train = pd.merge(df_user_click_log_train,df_ad_info_train,on='creative_id')"
   ]
  },
  {
   "cell_type": "code",
   "execution_count": 14,
   "metadata": {
    "ExecuteTime": {
     "end_time": "2020-06-22T01:37:37.467957Z",
     "start_time": "2020-06-22T01:37:37.458278Z"
    }
   },
   "outputs": [
    {
     "data": {
      "text/plain": [
       "((30082771, 4), (30082771, 9))"
      ]
     },
     "execution_count": 14,
     "metadata": {},
     "output_type": "execute_result"
    }
   ],
   "source": [
    "df_user_click_log_train.shape,df_user_features_train.shape"
   ]
  },
  {
   "cell_type": "code",
   "execution_count": 15,
   "metadata": {
    "ExecuteTime": {
     "end_time": "2020-06-22T01:37:42.299060Z",
     "start_time": "2020-06-22T01:37:39.795632Z"
    }
   },
   "outputs": [
    {
     "data": {
      "text/plain": [
       "((2481135,), (2264190,), (52090,))"
      ]
     },
     "execution_count": 15,
     "metadata": {},
     "output_type": "execute_result"
    }
   ],
   "source": [
    "df_user_features_train['creative_id'].drop_duplicates().shape,df_user_features_train['ad_id'].drop_duplicates().shape,df_user_features_train['advertiser_id'].drop_duplicates().shape"
   ]
  },
  {
   "cell_type": "code",
   "execution_count": 25,
   "metadata": {
    "ExecuteTime": {
     "end_time": "2020-05-20T07:39:16.553803Z",
     "start_time": "2020-05-20T07:39:16.544237Z"
    },
    "scrolled": true
   },
   "outputs": [
    {
     "data": {
      "text/html": [
       "<div>\n",
       "<style scoped>\n",
       "    .dataframe tbody tr th:only-of-type {\n",
       "        vertical-align: middle;\n",
       "    }\n",
       "\n",
       "    .dataframe tbody tr th {\n",
       "        vertical-align: top;\n",
       "    }\n",
       "\n",
       "    .dataframe thead th {\n",
       "        text-align: right;\n",
       "    }\n",
       "</style>\n",
       "<table border=\"1\" class=\"dataframe\">\n",
       "  <thead>\n",
       "    <tr style=\"text-align: right;\">\n",
       "      <th></th>\n",
       "      <th>time</th>\n",
       "      <th>user_id</th>\n",
       "      <th>creative_id</th>\n",
       "      <th>click_times</th>\n",
       "      <th>ad_id</th>\n",
       "      <th>product_id</th>\n",
       "      <th>product_category</th>\n",
       "      <th>advertiser_id</th>\n",
       "      <th>industry</th>\n",
       "    </tr>\n",
       "  </thead>\n",
       "  <tbody>\n",
       "    <tr>\n",
       "      <th>0</th>\n",
       "      <td>9</td>\n",
       "      <td>30920</td>\n",
       "      <td>567330</td>\n",
       "      <td>1</td>\n",
       "      <td>504423</td>\n",
       "      <td>30673</td>\n",
       "      <td>3</td>\n",
       "      <td>32638</td>\n",
       "      <td>319</td>\n",
       "    </tr>\n",
       "    <tr>\n",
       "      <th>1</th>\n",
       "      <td>15</td>\n",
       "      <td>320815</td>\n",
       "      <td>567330</td>\n",
       "      <td>1</td>\n",
       "      <td>504423</td>\n",
       "      <td>30673</td>\n",
       "      <td>3</td>\n",
       "      <td>32638</td>\n",
       "      <td>319</td>\n",
       "    </tr>\n",
       "    <tr>\n",
       "      <th>2</th>\n",
       "      <td>11</td>\n",
       "      <td>355089</td>\n",
       "      <td>567330</td>\n",
       "      <td>1</td>\n",
       "      <td>504423</td>\n",
       "      <td>30673</td>\n",
       "      <td>3</td>\n",
       "      <td>32638</td>\n",
       "      <td>319</td>\n",
       "    </tr>\n",
       "    <tr>\n",
       "      <th>3</th>\n",
       "      <td>9</td>\n",
       "      <td>363442</td>\n",
       "      <td>567330</td>\n",
       "      <td>1</td>\n",
       "      <td>504423</td>\n",
       "      <td>30673</td>\n",
       "      <td>3</td>\n",
       "      <td>32638</td>\n",
       "      <td>319</td>\n",
       "    </tr>\n",
       "    <tr>\n",
       "      <th>4</th>\n",
       "      <td>14</td>\n",
       "      <td>370513</td>\n",
       "      <td>567330</td>\n",
       "      <td>1</td>\n",
       "      <td>504423</td>\n",
       "      <td>30673</td>\n",
       "      <td>3</td>\n",
       "      <td>32638</td>\n",
       "      <td>319</td>\n",
       "    </tr>\n",
       "  </tbody>\n",
       "</table>\n",
       "</div>"
      ],
      "text/plain": [
       "   time  user_id  creative_id  click_times   ad_id product_id  \\\n",
       "0     9    30920       567330            1  504423      30673   \n",
       "1    15   320815       567330            1  504423      30673   \n",
       "2    11   355089       567330            1  504423      30673   \n",
       "3     9   363442       567330            1  504423      30673   \n",
       "4    14   370513       567330            1  504423      30673   \n",
       "\n",
       "   product_category  advertiser_id industry  \n",
       "0                 3          32638      319  \n",
       "1                 3          32638      319  \n",
       "2                 3          32638      319  \n",
       "3                 3          32638      319  \n",
       "4                 3          32638      319  "
      ]
     },
     "execution_count": 25,
     "metadata": {},
     "output_type": "execute_result"
    }
   ],
   "source": [
    "df_user_features_train.head()"
   ]
  },
  {
   "cell_type": "code",
   "execution_count": 16,
   "metadata": {
    "ExecuteTime": {
     "end_time": "2020-06-22T01:38:09.404142Z",
     "start_time": "2020-06-22T01:37:51.907743Z"
    }
   },
   "outputs": [],
   "source": [
    "df_user_features_test = pd.merge(df_user_click_log_test,df_ad_info_test,on='creative_id')"
   ]
  },
  {
   "cell_type": "code",
   "execution_count": 13,
   "metadata": {
    "ExecuteTime": {
     "end_time": "2020-05-21T09:06:27.619066Z",
     "start_time": "2020-05-21T09:06:27.615416Z"
    }
   },
   "outputs": [
    {
     "data": {
      "text/plain": [
       "((33585512, 4), (33585512, 9))"
      ]
     },
     "execution_count": 13,
     "metadata": {},
     "output_type": "execute_result"
    }
   ],
   "source": [
    "df_user_click_log_test.shape,df_user_features_test.shape"
   ]
  },
  {
   "cell_type": "code",
   "execution_count": 27,
   "metadata": {
    "ExecuteTime": {
     "end_time": "2020-05-20T07:41:30.853131Z",
     "start_time": "2020-05-20T07:41:30.843438Z"
    }
   },
   "outputs": [
    {
     "data": {
      "text/html": [
       "<div>\n",
       "<style scoped>\n",
       "    .dataframe tbody tr th:only-of-type {\n",
       "        vertical-align: middle;\n",
       "    }\n",
       "\n",
       "    .dataframe tbody tr th {\n",
       "        vertical-align: top;\n",
       "    }\n",
       "\n",
       "    .dataframe thead th {\n",
       "        text-align: right;\n",
       "    }\n",
       "</style>\n",
       "<table border=\"1\" class=\"dataframe\">\n",
       "  <thead>\n",
       "    <tr style=\"text-align: right;\">\n",
       "      <th></th>\n",
       "      <th>time</th>\n",
       "      <th>user_id</th>\n",
       "      <th>creative_id</th>\n",
       "      <th>click_times</th>\n",
       "      <th>ad_id</th>\n",
       "      <th>product_id</th>\n",
       "      <th>product_category</th>\n",
       "      <th>advertiser_id</th>\n",
       "      <th>industry</th>\n",
       "    </tr>\n",
       "  </thead>\n",
       "  <tbody>\n",
       "    <tr>\n",
       "      <th>0</th>\n",
       "      <td>20</td>\n",
       "      <td>3131989</td>\n",
       "      <td>645764</td>\n",
       "      <td>1</td>\n",
       "      <td>573314</td>\n",
       "      <td>58</td>\n",
       "      <td>2</td>\n",
       "      <td>14689</td>\n",
       "      <td>6</td>\n",
       "    </tr>\n",
       "    <tr>\n",
       "      <th>1</th>\n",
       "      <td>10</td>\n",
       "      <td>3142948</td>\n",
       "      <td>645764</td>\n",
       "      <td>1</td>\n",
       "      <td>573314</td>\n",
       "      <td>58</td>\n",
       "      <td>2</td>\n",
       "      <td>14689</td>\n",
       "      <td>6</td>\n",
       "    </tr>\n",
       "    <tr>\n",
       "      <th>2</th>\n",
       "      <td>14</td>\n",
       "      <td>3170643</td>\n",
       "      <td>645764</td>\n",
       "      <td>1</td>\n",
       "      <td>573314</td>\n",
       "      <td>58</td>\n",
       "      <td>2</td>\n",
       "      <td>14689</td>\n",
       "      <td>6</td>\n",
       "    </tr>\n",
       "    <tr>\n",
       "      <th>3</th>\n",
       "      <td>10</td>\n",
       "      <td>3194257</td>\n",
       "      <td>645764</td>\n",
       "      <td>1</td>\n",
       "      <td>573314</td>\n",
       "      <td>58</td>\n",
       "      <td>2</td>\n",
       "      <td>14689</td>\n",
       "      <td>6</td>\n",
       "    </tr>\n",
       "    <tr>\n",
       "      <th>4</th>\n",
       "      <td>21</td>\n",
       "      <td>3222925</td>\n",
       "      <td>645764</td>\n",
       "      <td>1</td>\n",
       "      <td>573314</td>\n",
       "      <td>58</td>\n",
       "      <td>2</td>\n",
       "      <td>14689</td>\n",
       "      <td>6</td>\n",
       "    </tr>\n",
       "  </tbody>\n",
       "</table>\n",
       "</div>"
      ],
      "text/plain": [
       "   time  user_id  creative_id  click_times   ad_id product_id  \\\n",
       "0    20  3131989       645764            1  573314         58   \n",
       "1    10  3142948       645764            1  573314         58   \n",
       "2    14  3170643       645764            1  573314         58   \n",
       "3    10  3194257       645764            1  573314         58   \n",
       "4    21  3222925       645764            1  573314         58   \n",
       "\n",
       "   product_category  advertiser_id industry  \n",
       "0                 2          14689        6  \n",
       "1                 2          14689        6  \n",
       "2                 2          14689        6  \n",
       "3                 2          14689        6  \n",
       "4                 2          14689        6  "
      ]
     },
     "execution_count": 27,
     "metadata": {},
     "output_type": "execute_result"
    }
   ],
   "source": [
    "df_user_features_test.head()"
   ]
  },
  {
   "cell_type": "code",
   "execution_count": null,
   "metadata": {
    "ExecuteTime": {
     "end_time": "2020-05-20T01:30:42.574632Z",
     "start_time": "2020-05-20T01:30:41.856415Z"
    }
   },
   "outputs": [],
   "source": [
    "df_user_features_test['creative_id'].drop_duplicates().shape,df_user_features_test['ad_id'].drop_duplicates().shape,df_user_features_test['advertiser_id'].drop_duplicates().shape"
   ]
  },
  {
   "cell_type": "code",
   "execution_count": 17,
   "metadata": {
    "ExecuteTime": {
     "end_time": "2020-06-22T01:38:41.246181Z",
     "start_time": "2020-06-22T01:38:21.161755Z"
    }
   },
   "outputs": [],
   "source": [
    "df_user_features = pd.concat((df_user_features_train,df_user_features_test))"
   ]
  },
  {
   "cell_type": "code",
   "execution_count": 18,
   "metadata": {
    "ExecuteTime": {
     "end_time": "2020-06-22T01:38:44.333266Z",
     "start_time": "2020-06-22T01:38:43.596380Z"
    }
   },
   "outputs": [],
   "source": [
    "del df_user_features_train\n",
    "del df_user_features_test"
   ]
  },
  {
   "cell_type": "code",
   "execution_count": 19,
   "metadata": {
    "ExecuteTime": {
     "end_time": "2020-06-22T01:39:08.826512Z",
     "start_time": "2020-06-22T01:39:08.817078Z"
    },
    "scrolled": false
   },
   "outputs": [
    {
     "data": {
      "text/plain": [
       "(63668283, 9)"
      ]
     },
     "execution_count": 19,
     "metadata": {},
     "output_type": "execute_result"
    }
   ],
   "source": [
    "df_user_features.shape"
   ]
  },
  {
   "cell_type": "markdown",
   "metadata": {},
   "source": [
    "## 提取分类特征"
   ]
  },
  {
   "cell_type": "markdown",
   "metadata": {},
   "source": [
    "### 产品类别"
   ]
  },
  {
   "cell_type": "code",
   "execution_count": 20,
   "metadata": {
    "ExecuteTime": {
     "end_time": "2020-06-22T01:48:02.058111Z",
     "start_time": "2020-06-22T01:48:02.034122Z"
    }
   },
   "outputs": [
    {
     "data": {
      "text/html": [
       "<div>\n",
       "<style scoped>\n",
       "    .dataframe tbody tr th:only-of-type {\n",
       "        vertical-align: middle;\n",
       "    }\n",
       "\n",
       "    .dataframe tbody tr th {\n",
       "        vertical-align: top;\n",
       "    }\n",
       "\n",
       "    .dataframe thead th {\n",
       "        text-align: right;\n",
       "    }\n",
       "</style>\n",
       "<table border=\"1\" class=\"dataframe\">\n",
       "  <thead>\n",
       "    <tr style=\"text-align: right;\">\n",
       "      <th></th>\n",
       "      <th>time</th>\n",
       "      <th>user_id</th>\n",
       "      <th>creative_id</th>\n",
       "      <th>click_times</th>\n",
       "      <th>ad_id</th>\n",
       "      <th>product_id</th>\n",
       "      <th>product_category</th>\n",
       "      <th>advertiser_id</th>\n",
       "      <th>industry</th>\n",
       "    </tr>\n",
       "  </thead>\n",
       "  <tbody>\n",
       "    <tr>\n",
       "      <th>0</th>\n",
       "      <td>9</td>\n",
       "      <td>30920</td>\n",
       "      <td>567330</td>\n",
       "      <td>1</td>\n",
       "      <td>504423</td>\n",
       "      <td>30673</td>\n",
       "      <td>3</td>\n",
       "      <td>32638</td>\n",
       "      <td>319</td>\n",
       "    </tr>\n",
       "    <tr>\n",
       "      <th>1</th>\n",
       "      <td>15</td>\n",
       "      <td>320815</td>\n",
       "      <td>567330</td>\n",
       "      <td>1</td>\n",
       "      <td>504423</td>\n",
       "      <td>30673</td>\n",
       "      <td>3</td>\n",
       "      <td>32638</td>\n",
       "      <td>319</td>\n",
       "    </tr>\n",
       "    <tr>\n",
       "      <th>2</th>\n",
       "      <td>11</td>\n",
       "      <td>355089</td>\n",
       "      <td>567330</td>\n",
       "      <td>1</td>\n",
       "      <td>504423</td>\n",
       "      <td>30673</td>\n",
       "      <td>3</td>\n",
       "      <td>32638</td>\n",
       "      <td>319</td>\n",
       "    </tr>\n",
       "    <tr>\n",
       "      <th>3</th>\n",
       "      <td>9</td>\n",
       "      <td>363442</td>\n",
       "      <td>567330</td>\n",
       "      <td>1</td>\n",
       "      <td>504423</td>\n",
       "      <td>30673</td>\n",
       "      <td>3</td>\n",
       "      <td>32638</td>\n",
       "      <td>319</td>\n",
       "    </tr>\n",
       "    <tr>\n",
       "      <th>4</th>\n",
       "      <td>14</td>\n",
       "      <td>370513</td>\n",
       "      <td>567330</td>\n",
       "      <td>1</td>\n",
       "      <td>504423</td>\n",
       "      <td>30673</td>\n",
       "      <td>3</td>\n",
       "      <td>32638</td>\n",
       "      <td>319</td>\n",
       "    </tr>\n",
       "  </tbody>\n",
       "</table>\n",
       "</div>"
      ],
      "text/plain": [
       "   time  user_id  creative_id  click_times   ad_id product_id  \\\n",
       "0     9    30920       567330            1  504423      30673   \n",
       "1    15   320815       567330            1  504423      30673   \n",
       "2    11   355089       567330            1  504423      30673   \n",
       "3     9   363442       567330            1  504423      30673   \n",
       "4    14   370513       567330            1  504423      30673   \n",
       "\n",
       "   product_category  advertiser_id industry  \n",
       "0                 3          32638      319  \n",
       "1                 3          32638      319  \n",
       "2                 3          32638      319  \n",
       "3                 3          32638      319  \n",
       "4                 3          32638      319  "
      ]
     },
     "execution_count": 20,
     "metadata": {},
     "output_type": "execute_result"
    }
   ],
   "source": [
    "df_user_features.head()"
   ]
  },
  {
   "cell_type": "code",
   "execution_count": 40,
   "metadata": {
    "ExecuteTime": {
     "end_time": "2020-05-20T07:48:20.026139Z",
     "start_time": "2020-05-20T07:48:17.604529Z"
    }
   },
   "outputs": [
    {
     "data": {
      "text/plain": [
       "count    6.366828e+07\n",
       "mean     1.064746e+00\n",
       "std      3.300665e-01\n",
       "min      1.000000e+00\n",
       "5%       1.000000e+00\n",
       "25%      1.000000e+00\n",
       "50%      1.000000e+00\n",
       "75%      1.000000e+00\n",
       "95%      2.000000e+00\n",
       "max      1.850000e+02\n",
       "Name: click_times, dtype: float64"
      ]
     },
     "execution_count": 40,
     "metadata": {},
     "output_type": "execute_result"
    }
   ],
   "source": [
    "df_user_features['click_times'].describe(percentiles=[0.05,0.25,0.5,0.75,0.95])"
   ]
  },
  {
   "cell_type": "code",
   "execution_count": 21,
   "metadata": {
    "ExecuteTime": {
     "end_time": "2020-06-22T01:48:54.574800Z",
     "start_time": "2020-06-22T01:48:21.427939Z"
    }
   },
   "outputs": [],
   "source": [
    "df_user_category_group = df_user_features.groupby(['user_id','product_category'])['click_times'].sum()\n",
    "df_user_category_feature = df_user_category_group.unstack(fill_value=0)"
   ]
  },
  {
   "cell_type": "code",
   "execution_count": 22,
   "metadata": {
    "ExecuteTime": {
     "end_time": "2020-06-22T01:48:56.916457Z",
     "start_time": "2020-06-22T01:48:56.907620Z"
    }
   },
   "outputs": [
    {
     "data": {
      "text/plain": [
       "(1900000, 18)"
      ]
     },
     "execution_count": 22,
     "metadata": {},
     "output_type": "execute_result"
    }
   ],
   "source": [
    "df_user_category_feature.shape"
   ]
  },
  {
   "cell_type": "code",
   "execution_count": 23,
   "metadata": {
    "ExecuteTime": {
     "end_time": "2020-06-22T01:48:57.979752Z",
     "start_time": "2020-06-22T01:48:57.962038Z"
    }
   },
   "outputs": [
    {
     "data": {
      "text/html": [
       "<div>\n",
       "<style scoped>\n",
       "    .dataframe tbody tr th:only-of-type {\n",
       "        vertical-align: middle;\n",
       "    }\n",
       "\n",
       "    .dataframe tbody tr th {\n",
       "        vertical-align: top;\n",
       "    }\n",
       "\n",
       "    .dataframe thead th {\n",
       "        text-align: right;\n",
       "    }\n",
       "</style>\n",
       "<table border=\"1\" class=\"dataframe\">\n",
       "  <thead>\n",
       "    <tr style=\"text-align: right;\">\n",
       "      <th>product_category</th>\n",
       "      <th>1</th>\n",
       "      <th>2</th>\n",
       "      <th>3</th>\n",
       "      <th>4</th>\n",
       "      <th>5</th>\n",
       "      <th>6</th>\n",
       "      <th>7</th>\n",
       "      <th>8</th>\n",
       "      <th>9</th>\n",
       "      <th>10</th>\n",
       "      <th>11</th>\n",
       "      <th>12</th>\n",
       "      <th>13</th>\n",
       "      <th>14</th>\n",
       "      <th>15</th>\n",
       "      <th>16</th>\n",
       "      <th>17</th>\n",
       "      <th>18</th>\n",
       "    </tr>\n",
       "    <tr>\n",
       "      <th>user_id</th>\n",
       "      <th></th>\n",
       "      <th></th>\n",
       "      <th></th>\n",
       "      <th></th>\n",
       "      <th></th>\n",
       "      <th></th>\n",
       "      <th></th>\n",
       "      <th></th>\n",
       "      <th></th>\n",
       "      <th></th>\n",
       "      <th></th>\n",
       "      <th></th>\n",
       "      <th></th>\n",
       "      <th></th>\n",
       "      <th></th>\n",
       "      <th></th>\n",
       "      <th></th>\n",
       "      <th></th>\n",
       "    </tr>\n",
       "  </thead>\n",
       "  <tbody>\n",
       "    <tr>\n",
       "      <th>1</th>\n",
       "      <td>0</td>\n",
       "      <td>7</td>\n",
       "      <td>0</td>\n",
       "      <td>0</td>\n",
       "      <td>5</td>\n",
       "      <td>0</td>\n",
       "      <td>0</td>\n",
       "      <td>0</td>\n",
       "      <td>0</td>\n",
       "      <td>0</td>\n",
       "      <td>0</td>\n",
       "      <td>0</td>\n",
       "      <td>0</td>\n",
       "      <td>0</td>\n",
       "      <td>0</td>\n",
       "      <td>0</td>\n",
       "      <td>0</td>\n",
       "      <td>2</td>\n",
       "    </tr>\n",
       "    <tr>\n",
       "      <th>2</th>\n",
       "      <td>0</td>\n",
       "      <td>30</td>\n",
       "      <td>0</td>\n",
       "      <td>0</td>\n",
       "      <td>0</td>\n",
       "      <td>0</td>\n",
       "      <td>0</td>\n",
       "      <td>2</td>\n",
       "      <td>0</td>\n",
       "      <td>0</td>\n",
       "      <td>0</td>\n",
       "      <td>0</td>\n",
       "      <td>0</td>\n",
       "      <td>0</td>\n",
       "      <td>0</td>\n",
       "      <td>0</td>\n",
       "      <td>0</td>\n",
       "      <td>14</td>\n",
       "    </tr>\n",
       "    <tr>\n",
       "      <th>3</th>\n",
       "      <td>0</td>\n",
       "      <td>13</td>\n",
       "      <td>0</td>\n",
       "      <td>1</td>\n",
       "      <td>0</td>\n",
       "      <td>0</td>\n",
       "      <td>0</td>\n",
       "      <td>1</td>\n",
       "      <td>0</td>\n",
       "      <td>0</td>\n",
       "      <td>0</td>\n",
       "      <td>1</td>\n",
       "      <td>0</td>\n",
       "      <td>0</td>\n",
       "      <td>0</td>\n",
       "      <td>0</td>\n",
       "      <td>6</td>\n",
       "      <td>8</td>\n",
       "    </tr>\n",
       "    <tr>\n",
       "      <th>4</th>\n",
       "      <td>0</td>\n",
       "      <td>15</td>\n",
       "      <td>0</td>\n",
       "      <td>1</td>\n",
       "      <td>1</td>\n",
       "      <td>0</td>\n",
       "      <td>1</td>\n",
       "      <td>0</td>\n",
       "      <td>0</td>\n",
       "      <td>0</td>\n",
       "      <td>0</td>\n",
       "      <td>0</td>\n",
       "      <td>0</td>\n",
       "      <td>0</td>\n",
       "      <td>0</td>\n",
       "      <td>0</td>\n",
       "      <td>7</td>\n",
       "      <td>4</td>\n",
       "    </tr>\n",
       "    <tr>\n",
       "      <th>5</th>\n",
       "      <td>0</td>\n",
       "      <td>12</td>\n",
       "      <td>0</td>\n",
       "      <td>0</td>\n",
       "      <td>7</td>\n",
       "      <td>0</td>\n",
       "      <td>0</td>\n",
       "      <td>1</td>\n",
       "      <td>0</td>\n",
       "      <td>0</td>\n",
       "      <td>0</td>\n",
       "      <td>0</td>\n",
       "      <td>0</td>\n",
       "      <td>0</td>\n",
       "      <td>0</td>\n",
       "      <td>0</td>\n",
       "      <td>0</td>\n",
       "      <td>14</td>\n",
       "    </tr>\n",
       "  </tbody>\n",
       "</table>\n",
       "</div>"
      ],
      "text/plain": [
       "product_category  1   2   3   4   5   6   7   8   9   10  11  12  13  14  15  \\\n",
       "user_id                                                                        \n",
       "1                  0   7   0   0   5   0   0   0   0   0   0   0   0   0   0   \n",
       "2                  0  30   0   0   0   0   0   2   0   0   0   0   0   0   0   \n",
       "3                  0  13   0   1   0   0   0   1   0   0   0   1   0   0   0   \n",
       "4                  0  15   0   1   1   0   1   0   0   0   0   0   0   0   0   \n",
       "5                  0  12   0   0   7   0   0   1   0   0   0   0   0   0   0   \n",
       "\n",
       "product_category  16  17  18  \n",
       "user_id                       \n",
       "1                  0   0   2  \n",
       "2                  0   0  14  \n",
       "3                  0   6   8  \n",
       "4                  0   7   4  \n",
       "5                  0   0  14  "
      ]
     },
     "execution_count": 23,
     "metadata": {},
     "output_type": "execute_result"
    }
   ],
   "source": [
    "df_user_category_feature.head()"
   ]
  },
  {
   "cell_type": "code",
   "execution_count": 24,
   "metadata": {
    "ExecuteTime": {
     "end_time": "2020-06-22T01:49:04.817604Z",
     "start_time": "2020-06-22T01:49:04.810506Z"
    }
   },
   "outputs": [],
   "source": [
    "category_feature_names=[]\n",
    "for x in df_user_category_feature.columns:\n",
    "    category_feature_names.append(\"c_\"+str(x))"
   ]
  },
  {
   "cell_type": "code",
   "execution_count": 25,
   "metadata": {
    "ExecuteTime": {
     "end_time": "2020-06-22T01:49:08.576978Z",
     "start_time": "2020-06-22T01:49:08.570713Z"
    }
   },
   "outputs": [],
   "source": [
    "df_user_category_feature.columns=category_feature_names"
   ]
  },
  {
   "cell_type": "code",
   "execution_count": 24,
   "metadata": {
    "ExecuteTime": {
     "end_time": "2020-05-21T09:08:27.710276Z",
     "start_time": "2020-05-21T09:08:27.698070Z"
    }
   },
   "outputs": [
    {
     "data": {
      "text/html": [
       "<div>\n",
       "<style scoped>\n",
       "    .dataframe tbody tr th:only-of-type {\n",
       "        vertical-align: middle;\n",
       "    }\n",
       "\n",
       "    .dataframe tbody tr th {\n",
       "        vertical-align: top;\n",
       "    }\n",
       "\n",
       "    .dataframe thead th {\n",
       "        text-align: right;\n",
       "    }\n",
       "</style>\n",
       "<table border=\"1\" class=\"dataframe\">\n",
       "  <thead>\n",
       "    <tr style=\"text-align: right;\">\n",
       "      <th></th>\n",
       "      <th>c_1</th>\n",
       "      <th>c_2</th>\n",
       "      <th>c_3</th>\n",
       "      <th>c_4</th>\n",
       "      <th>c_5</th>\n",
       "      <th>c_6</th>\n",
       "      <th>c_7</th>\n",
       "      <th>c_8</th>\n",
       "      <th>c_9</th>\n",
       "      <th>c_10</th>\n",
       "      <th>c_11</th>\n",
       "      <th>c_12</th>\n",
       "      <th>c_13</th>\n",
       "      <th>c_14</th>\n",
       "      <th>c_15</th>\n",
       "      <th>c_16</th>\n",
       "      <th>c_17</th>\n",
       "      <th>c_18</th>\n",
       "    </tr>\n",
       "    <tr>\n",
       "      <th>user_id</th>\n",
       "      <th></th>\n",
       "      <th></th>\n",
       "      <th></th>\n",
       "      <th></th>\n",
       "      <th></th>\n",
       "      <th></th>\n",
       "      <th></th>\n",
       "      <th></th>\n",
       "      <th></th>\n",
       "      <th></th>\n",
       "      <th></th>\n",
       "      <th></th>\n",
       "      <th></th>\n",
       "      <th></th>\n",
       "      <th></th>\n",
       "      <th></th>\n",
       "      <th></th>\n",
       "      <th></th>\n",
       "    </tr>\n",
       "  </thead>\n",
       "  <tbody>\n",
       "    <tr>\n",
       "      <th>1</th>\n",
       "      <td>0</td>\n",
       "      <td>7</td>\n",
       "      <td>0</td>\n",
       "      <td>0</td>\n",
       "      <td>5</td>\n",
       "      <td>0</td>\n",
       "      <td>0</td>\n",
       "      <td>0</td>\n",
       "      <td>0</td>\n",
       "      <td>0</td>\n",
       "      <td>0</td>\n",
       "      <td>0</td>\n",
       "      <td>0</td>\n",
       "      <td>0</td>\n",
       "      <td>0</td>\n",
       "      <td>0</td>\n",
       "      <td>0</td>\n",
       "      <td>2</td>\n",
       "    </tr>\n",
       "    <tr>\n",
       "      <th>2</th>\n",
       "      <td>0</td>\n",
       "      <td>30</td>\n",
       "      <td>0</td>\n",
       "      <td>0</td>\n",
       "      <td>0</td>\n",
       "      <td>0</td>\n",
       "      <td>0</td>\n",
       "      <td>2</td>\n",
       "      <td>0</td>\n",
       "      <td>0</td>\n",
       "      <td>0</td>\n",
       "      <td>0</td>\n",
       "      <td>0</td>\n",
       "      <td>0</td>\n",
       "      <td>0</td>\n",
       "      <td>0</td>\n",
       "      <td>0</td>\n",
       "      <td>14</td>\n",
       "    </tr>\n",
       "    <tr>\n",
       "      <th>3</th>\n",
       "      <td>0</td>\n",
       "      <td>13</td>\n",
       "      <td>0</td>\n",
       "      <td>1</td>\n",
       "      <td>0</td>\n",
       "      <td>0</td>\n",
       "      <td>0</td>\n",
       "      <td>1</td>\n",
       "      <td>0</td>\n",
       "      <td>0</td>\n",
       "      <td>0</td>\n",
       "      <td>1</td>\n",
       "      <td>0</td>\n",
       "      <td>0</td>\n",
       "      <td>0</td>\n",
       "      <td>0</td>\n",
       "      <td>6</td>\n",
       "      <td>8</td>\n",
       "    </tr>\n",
       "    <tr>\n",
       "      <th>4</th>\n",
       "      <td>0</td>\n",
       "      <td>15</td>\n",
       "      <td>0</td>\n",
       "      <td>1</td>\n",
       "      <td>1</td>\n",
       "      <td>0</td>\n",
       "      <td>1</td>\n",
       "      <td>0</td>\n",
       "      <td>0</td>\n",
       "      <td>0</td>\n",
       "      <td>0</td>\n",
       "      <td>0</td>\n",
       "      <td>0</td>\n",
       "      <td>0</td>\n",
       "      <td>0</td>\n",
       "      <td>0</td>\n",
       "      <td>7</td>\n",
       "      <td>4</td>\n",
       "    </tr>\n",
       "    <tr>\n",
       "      <th>5</th>\n",
       "      <td>0</td>\n",
       "      <td>12</td>\n",
       "      <td>0</td>\n",
       "      <td>0</td>\n",
       "      <td>7</td>\n",
       "      <td>0</td>\n",
       "      <td>0</td>\n",
       "      <td>1</td>\n",
       "      <td>0</td>\n",
       "      <td>0</td>\n",
       "      <td>0</td>\n",
       "      <td>0</td>\n",
       "      <td>0</td>\n",
       "      <td>0</td>\n",
       "      <td>0</td>\n",
       "      <td>0</td>\n",
       "      <td>0</td>\n",
       "      <td>14</td>\n",
       "    </tr>\n",
       "  </tbody>\n",
       "</table>\n",
       "</div>"
      ],
      "text/plain": [
       "         c_1  c_2  c_3  c_4  c_5  c_6  c_7  c_8  c_9  c_10  c_11  c_12  c_13  \\\n",
       "user_id                                                                        \n",
       "1          0    7    0    0    5    0    0    0    0     0     0     0     0   \n",
       "2          0   30    0    0    0    0    0    2    0     0     0     0     0   \n",
       "3          0   13    0    1    0    0    0    1    0     0     0     1     0   \n",
       "4          0   15    0    1    1    0    1    0    0     0     0     0     0   \n",
       "5          0   12    0    0    7    0    0    1    0     0     0     0     0   \n",
       "\n",
       "         c_14  c_15  c_16  c_17  c_18  \n",
       "user_id                                \n",
       "1           0     0     0     0     2  \n",
       "2           0     0     0     0    14  \n",
       "3           0     0     0     6     8  \n",
       "4           0     0     0     7     4  \n",
       "5           0     0     0     0    14  "
      ]
     },
     "execution_count": 24,
     "metadata": {},
     "output_type": "execute_result"
    }
   ],
   "source": [
    "df_user_category_feature.head()"
   ]
  },
  {
   "cell_type": "markdown",
   "metadata": {},
   "source": [
    "### 产业类别"
   ]
  },
  {
   "cell_type": "code",
   "execution_count": 26,
   "metadata": {
    "ExecuteTime": {
     "end_time": "2020-06-22T01:50:05.599432Z",
     "start_time": "2020-06-22T01:49:14.188241Z"
    }
   },
   "outputs": [],
   "source": [
    "df_user_industry_group = df_user_features.groupby(['user_id','industry'])['click_times'].sum()\n",
    "df_user_industry_feature = df_user_industry_group.unstack(fill_value=0)"
   ]
  },
  {
   "cell_type": "code",
   "execution_count": 27,
   "metadata": {
    "ExecuteTime": {
     "end_time": "2020-06-22T01:50:07.515139Z",
     "start_time": "2020-06-22T01:50:07.508028Z"
    }
   },
   "outputs": [
    {
     "data": {
      "text/plain": [
       "(1900000, 332)"
      ]
     },
     "execution_count": 27,
     "metadata": {},
     "output_type": "execute_result"
    }
   ],
   "source": [
    "df_user_industry_feature.shape"
   ]
  },
  {
   "cell_type": "code",
   "execution_count": 42,
   "metadata": {
    "ExecuteTime": {
     "end_time": "2020-06-22T01:54:08.902245Z",
     "start_time": "2020-06-22T01:54:08.876841Z"
    },
    "scrolled": false
   },
   "outputs": [
    {
     "data": {
      "text/html": [
       "<div>\n",
       "<style scoped>\n",
       "    .dataframe tbody tr th:only-of-type {\n",
       "        vertical-align: middle;\n",
       "    }\n",
       "\n",
       "    .dataframe tbody tr th {\n",
       "        vertical-align: top;\n",
       "    }\n",
       "\n",
       "    .dataframe thead th {\n",
       "        text-align: right;\n",
       "    }\n",
       "</style>\n",
       "<table border=\"1\" class=\"dataframe\">\n",
       "  <thead>\n",
       "    <tr style=\"text-align: right;\">\n",
       "      <th></th>\n",
       "      <th>1</th>\n",
       "      <th>10</th>\n",
       "      <th>100</th>\n",
       "      <th>101</th>\n",
       "      <th>102</th>\n",
       "      <th>103</th>\n",
       "      <th>104</th>\n",
       "      <th>105</th>\n",
       "      <th>106</th>\n",
       "      <th>107</th>\n",
       "      <th>...</th>\n",
       "      <th>91</th>\n",
       "      <th>92</th>\n",
       "      <th>93</th>\n",
       "      <th>94</th>\n",
       "      <th>95</th>\n",
       "      <th>96</th>\n",
       "      <th>97</th>\n",
       "      <th>98</th>\n",
       "      <th>99</th>\n",
       "      <th>0</th>\n",
       "    </tr>\n",
       "    <tr>\n",
       "      <th>user_id</th>\n",
       "      <th></th>\n",
       "      <th></th>\n",
       "      <th></th>\n",
       "      <th></th>\n",
       "      <th></th>\n",
       "      <th></th>\n",
       "      <th></th>\n",
       "      <th></th>\n",
       "      <th></th>\n",
       "      <th></th>\n",
       "      <th></th>\n",
       "      <th></th>\n",
       "      <th></th>\n",
       "      <th></th>\n",
       "      <th></th>\n",
       "      <th></th>\n",
       "      <th></th>\n",
       "      <th></th>\n",
       "      <th></th>\n",
       "      <th></th>\n",
       "      <th></th>\n",
       "    </tr>\n",
       "  </thead>\n",
       "  <tbody>\n",
       "    <tr>\n",
       "      <th>1</th>\n",
       "      <td>0</td>\n",
       "      <td>0</td>\n",
       "      <td>0</td>\n",
       "      <td>0</td>\n",
       "      <td>0</td>\n",
       "      <td>0</td>\n",
       "      <td>0</td>\n",
       "      <td>0</td>\n",
       "      <td>1</td>\n",
       "      <td>0</td>\n",
       "      <td>...</td>\n",
       "      <td>0</td>\n",
       "      <td>0</td>\n",
       "      <td>0</td>\n",
       "      <td>0</td>\n",
       "      <td>0</td>\n",
       "      <td>0</td>\n",
       "      <td>0</td>\n",
       "      <td>0</td>\n",
       "      <td>0</td>\n",
       "      <td>1</td>\n",
       "    </tr>\n",
       "    <tr>\n",
       "      <th>2</th>\n",
       "      <td>0</td>\n",
       "      <td>0</td>\n",
       "      <td>0</td>\n",
       "      <td>0</td>\n",
       "      <td>0</td>\n",
       "      <td>0</td>\n",
       "      <td>0</td>\n",
       "      <td>0</td>\n",
       "      <td>0</td>\n",
       "      <td>0</td>\n",
       "      <td>...</td>\n",
       "      <td>0</td>\n",
       "      <td>0</td>\n",
       "      <td>0</td>\n",
       "      <td>0</td>\n",
       "      <td>0</td>\n",
       "      <td>0</td>\n",
       "      <td>0</td>\n",
       "      <td>0</td>\n",
       "      <td>0</td>\n",
       "      <td>0</td>\n",
       "    </tr>\n",
       "    <tr>\n",
       "      <th>3</th>\n",
       "      <td>0</td>\n",
       "      <td>0</td>\n",
       "      <td>0</td>\n",
       "      <td>0</td>\n",
       "      <td>0</td>\n",
       "      <td>0</td>\n",
       "      <td>0</td>\n",
       "      <td>0</td>\n",
       "      <td>0</td>\n",
       "      <td>0</td>\n",
       "      <td>...</td>\n",
       "      <td>0</td>\n",
       "      <td>0</td>\n",
       "      <td>0</td>\n",
       "      <td>0</td>\n",
       "      <td>0</td>\n",
       "      <td>0</td>\n",
       "      <td>0</td>\n",
       "      <td>0</td>\n",
       "      <td>0</td>\n",
       "      <td>8</td>\n",
       "    </tr>\n",
       "    <tr>\n",
       "      <th>4</th>\n",
       "      <td>0</td>\n",
       "      <td>0</td>\n",
       "      <td>0</td>\n",
       "      <td>0</td>\n",
       "      <td>0</td>\n",
       "      <td>0</td>\n",
       "      <td>0</td>\n",
       "      <td>0</td>\n",
       "      <td>0</td>\n",
       "      <td>0</td>\n",
       "      <td>...</td>\n",
       "      <td>0</td>\n",
       "      <td>0</td>\n",
       "      <td>0</td>\n",
       "      <td>0</td>\n",
       "      <td>0</td>\n",
       "      <td>0</td>\n",
       "      <td>0</td>\n",
       "      <td>0</td>\n",
       "      <td>0</td>\n",
       "      <td>9</td>\n",
       "    </tr>\n",
       "    <tr>\n",
       "      <th>5</th>\n",
       "      <td>0</td>\n",
       "      <td>0</td>\n",
       "      <td>0</td>\n",
       "      <td>0</td>\n",
       "      <td>0</td>\n",
       "      <td>0</td>\n",
       "      <td>0</td>\n",
       "      <td>0</td>\n",
       "      <td>0</td>\n",
       "      <td>0</td>\n",
       "      <td>...</td>\n",
       "      <td>0</td>\n",
       "      <td>0</td>\n",
       "      <td>0</td>\n",
       "      <td>0</td>\n",
       "      <td>0</td>\n",
       "      <td>0</td>\n",
       "      <td>0</td>\n",
       "      <td>0</td>\n",
       "      <td>0</td>\n",
       "      <td>1</td>\n",
       "    </tr>\n",
       "  </tbody>\n",
       "</table>\n",
       "<p>5 rows × 332 columns</p>\n",
       "</div>"
      ],
      "text/plain": [
       "         1  10  100  101  102  103  104  105  106  107  ...  91  92  93  94  \\\n",
       "user_id                                                 ...                   \n",
       "1        0   0    0    0    0    0    0    0    1    0  ...   0   0   0   0   \n",
       "2        0   0    0    0    0    0    0    0    0    0  ...   0   0   0   0   \n",
       "3        0   0    0    0    0    0    0    0    0    0  ...   0   0   0   0   \n",
       "4        0   0    0    0    0    0    0    0    0    0  ...   0   0   0   0   \n",
       "5        0   0    0    0    0    0    0    0    0    0  ...   0   0   0   0   \n",
       "\n",
       "         95  96  97  98  99  0  \n",
       "user_id                         \n",
       "1         0   0   0   0   0  1  \n",
       "2         0   0   0   0   0  0  \n",
       "3         0   0   0   0   0  8  \n",
       "4         0   0   0   0   0  9  \n",
       "5         0   0   0   0   0  1  \n",
       "\n",
       "[5 rows x 332 columns]"
      ]
     },
     "execution_count": 42,
     "metadata": {},
     "output_type": "execute_result"
    }
   ],
   "source": [
    "df_user_industry_feature.head()"
   ]
  },
  {
   "cell_type": "code",
   "execution_count": 34,
   "metadata": {
    "ExecuteTime": {
     "end_time": "2020-06-22T01:51:51.128620Z",
     "start_time": "2020-06-22T01:51:51.124124Z"
    }
   },
   "outputs": [
    {
     "data": {
      "text/plain": [
       "'\\\\N'"
      ]
     },
     "execution_count": 34,
     "metadata": {},
     "output_type": "execute_result"
    }
   ],
   "source": [
    "'\\\\N'"
   ]
  },
  {
   "cell_type": "code",
   "execution_count": 38,
   "metadata": {
    "ExecuteTime": {
     "end_time": "2020-06-22T01:53:42.740242Z",
     "start_time": "2020-06-22T01:53:42.728931Z"
    }
   },
   "outputs": [],
   "source": [
    "# 将‘\\\\N’用0替代\n",
    "i_columns = []\n",
    "for x in df_user_industry_feature.columns:\n",
    "    if x=='\\\\N':\n",
    "        i_columns.append(0)\n",
    "    else:\n",
    "        i_columns.append(x)"
   ]
  },
  {
   "cell_type": "code",
   "execution_count": 41,
   "metadata": {
    "ExecuteTime": {
     "end_time": "2020-06-22T01:54:02.434343Z",
     "start_time": "2020-06-22T01:54:02.425977Z"
    }
   },
   "outputs": [],
   "source": [
    "df_user_industry_feature.columns = i_columns"
   ]
  },
  {
   "cell_type": "code",
   "execution_count": 43,
   "metadata": {
    "ExecuteTime": {
     "end_time": "2020-06-22T01:54:32.674636Z",
     "start_time": "2020-06-22T01:54:32.667453Z"
    }
   },
   "outputs": [],
   "source": [
    "industry_feature_names=[]\n",
    "for x in df_user_industry_feature.columns:\n",
    "    industry_feature_names.append(\"i_\"+str(x))"
   ]
  },
  {
   "cell_type": "code",
   "execution_count": 44,
   "metadata": {
    "ExecuteTime": {
     "end_time": "2020-06-22T01:54:34.568138Z",
     "start_time": "2020-06-22T01:54:34.561496Z"
    }
   },
   "outputs": [],
   "source": [
    "df_user_industry_feature.columns=industry_feature_names"
   ]
  },
  {
   "cell_type": "code",
   "execution_count": 45,
   "metadata": {
    "ExecuteTime": {
     "end_time": "2020-06-22T01:54:36.429510Z",
     "start_time": "2020-06-22T01:54:36.407596Z"
    },
    "scrolled": false
   },
   "outputs": [
    {
     "data": {
      "text/html": [
       "<div>\n",
       "<style scoped>\n",
       "    .dataframe tbody tr th:only-of-type {\n",
       "        vertical-align: middle;\n",
       "    }\n",
       "\n",
       "    .dataframe tbody tr th {\n",
       "        vertical-align: top;\n",
       "    }\n",
       "\n",
       "    .dataframe thead th {\n",
       "        text-align: right;\n",
       "    }\n",
       "</style>\n",
       "<table border=\"1\" class=\"dataframe\">\n",
       "  <thead>\n",
       "    <tr style=\"text-align: right;\">\n",
       "      <th></th>\n",
       "      <th>i_1</th>\n",
       "      <th>i_10</th>\n",
       "      <th>i_100</th>\n",
       "      <th>i_101</th>\n",
       "      <th>i_102</th>\n",
       "      <th>i_103</th>\n",
       "      <th>i_104</th>\n",
       "      <th>i_105</th>\n",
       "      <th>i_106</th>\n",
       "      <th>i_107</th>\n",
       "      <th>...</th>\n",
       "      <th>i_91</th>\n",
       "      <th>i_92</th>\n",
       "      <th>i_93</th>\n",
       "      <th>i_94</th>\n",
       "      <th>i_95</th>\n",
       "      <th>i_96</th>\n",
       "      <th>i_97</th>\n",
       "      <th>i_98</th>\n",
       "      <th>i_99</th>\n",
       "      <th>i_0</th>\n",
       "    </tr>\n",
       "    <tr>\n",
       "      <th>user_id</th>\n",
       "      <th></th>\n",
       "      <th></th>\n",
       "      <th></th>\n",
       "      <th></th>\n",
       "      <th></th>\n",
       "      <th></th>\n",
       "      <th></th>\n",
       "      <th></th>\n",
       "      <th></th>\n",
       "      <th></th>\n",
       "      <th></th>\n",
       "      <th></th>\n",
       "      <th></th>\n",
       "      <th></th>\n",
       "      <th></th>\n",
       "      <th></th>\n",
       "      <th></th>\n",
       "      <th></th>\n",
       "      <th></th>\n",
       "      <th></th>\n",
       "      <th></th>\n",
       "    </tr>\n",
       "  </thead>\n",
       "  <tbody>\n",
       "    <tr>\n",
       "      <th>1</th>\n",
       "      <td>0</td>\n",
       "      <td>0</td>\n",
       "      <td>0</td>\n",
       "      <td>0</td>\n",
       "      <td>0</td>\n",
       "      <td>0</td>\n",
       "      <td>0</td>\n",
       "      <td>0</td>\n",
       "      <td>1</td>\n",
       "      <td>0</td>\n",
       "      <td>...</td>\n",
       "      <td>0</td>\n",
       "      <td>0</td>\n",
       "      <td>0</td>\n",
       "      <td>0</td>\n",
       "      <td>0</td>\n",
       "      <td>0</td>\n",
       "      <td>0</td>\n",
       "      <td>0</td>\n",
       "      <td>0</td>\n",
       "      <td>1</td>\n",
       "    </tr>\n",
       "    <tr>\n",
       "      <th>2</th>\n",
       "      <td>0</td>\n",
       "      <td>0</td>\n",
       "      <td>0</td>\n",
       "      <td>0</td>\n",
       "      <td>0</td>\n",
       "      <td>0</td>\n",
       "      <td>0</td>\n",
       "      <td>0</td>\n",
       "      <td>0</td>\n",
       "      <td>0</td>\n",
       "      <td>...</td>\n",
       "      <td>0</td>\n",
       "      <td>0</td>\n",
       "      <td>0</td>\n",
       "      <td>0</td>\n",
       "      <td>0</td>\n",
       "      <td>0</td>\n",
       "      <td>0</td>\n",
       "      <td>0</td>\n",
       "      <td>0</td>\n",
       "      <td>0</td>\n",
       "    </tr>\n",
       "    <tr>\n",
       "      <th>3</th>\n",
       "      <td>0</td>\n",
       "      <td>0</td>\n",
       "      <td>0</td>\n",
       "      <td>0</td>\n",
       "      <td>0</td>\n",
       "      <td>0</td>\n",
       "      <td>0</td>\n",
       "      <td>0</td>\n",
       "      <td>0</td>\n",
       "      <td>0</td>\n",
       "      <td>...</td>\n",
       "      <td>0</td>\n",
       "      <td>0</td>\n",
       "      <td>0</td>\n",
       "      <td>0</td>\n",
       "      <td>0</td>\n",
       "      <td>0</td>\n",
       "      <td>0</td>\n",
       "      <td>0</td>\n",
       "      <td>0</td>\n",
       "      <td>8</td>\n",
       "    </tr>\n",
       "    <tr>\n",
       "      <th>4</th>\n",
       "      <td>0</td>\n",
       "      <td>0</td>\n",
       "      <td>0</td>\n",
       "      <td>0</td>\n",
       "      <td>0</td>\n",
       "      <td>0</td>\n",
       "      <td>0</td>\n",
       "      <td>0</td>\n",
       "      <td>0</td>\n",
       "      <td>0</td>\n",
       "      <td>...</td>\n",
       "      <td>0</td>\n",
       "      <td>0</td>\n",
       "      <td>0</td>\n",
       "      <td>0</td>\n",
       "      <td>0</td>\n",
       "      <td>0</td>\n",
       "      <td>0</td>\n",
       "      <td>0</td>\n",
       "      <td>0</td>\n",
       "      <td>9</td>\n",
       "    </tr>\n",
       "    <tr>\n",
       "      <th>5</th>\n",
       "      <td>0</td>\n",
       "      <td>0</td>\n",
       "      <td>0</td>\n",
       "      <td>0</td>\n",
       "      <td>0</td>\n",
       "      <td>0</td>\n",
       "      <td>0</td>\n",
       "      <td>0</td>\n",
       "      <td>0</td>\n",
       "      <td>0</td>\n",
       "      <td>...</td>\n",
       "      <td>0</td>\n",
       "      <td>0</td>\n",
       "      <td>0</td>\n",
       "      <td>0</td>\n",
       "      <td>0</td>\n",
       "      <td>0</td>\n",
       "      <td>0</td>\n",
       "      <td>0</td>\n",
       "      <td>0</td>\n",
       "      <td>1</td>\n",
       "    </tr>\n",
       "  </tbody>\n",
       "</table>\n",
       "<p>5 rows × 332 columns</p>\n",
       "</div>"
      ],
      "text/plain": [
       "         i_1  i_10  i_100  i_101  i_102  i_103  i_104  i_105  i_106  i_107  \\\n",
       "user_id                                                                      \n",
       "1          0     0      0      0      0      0      0      0      1      0   \n",
       "2          0     0      0      0      0      0      0      0      0      0   \n",
       "3          0     0      0      0      0      0      0      0      0      0   \n",
       "4          0     0      0      0      0      0      0      0      0      0   \n",
       "5          0     0      0      0      0      0      0      0      0      0   \n",
       "\n",
       "         ...  i_91  i_92  i_93  i_94  i_95  i_96  i_97  i_98  i_99  i_0  \n",
       "user_id  ...                                                             \n",
       "1        ...     0     0     0     0     0     0     0     0     0    1  \n",
       "2        ...     0     0     0     0     0     0     0     0     0    0  \n",
       "3        ...     0     0     0     0     0     0     0     0     0    8  \n",
       "4        ...     0     0     0     0     0     0     0     0     0    9  \n",
       "5        ...     0     0     0     0     0     0     0     0     0    1  \n",
       "\n",
       "[5 rows x 332 columns]"
      ]
     },
     "execution_count": 45,
     "metadata": {},
     "output_type": "execute_result"
    }
   ],
   "source": [
    "df_user_industry_feature.head()"
   ]
  },
  {
   "cell_type": "markdown",
   "metadata": {},
   "source": [
    "### 合并分类特征"
   ]
  },
  {
   "cell_type": "code",
   "execution_count": 46,
   "metadata": {
    "ExecuteTime": {
     "end_time": "2020-06-22T01:54:59.289696Z",
     "start_time": "2020-06-22T01:54:39.469430Z"
    }
   },
   "outputs": [],
   "source": [
    "df_user_cate_feature = pd.merge(df_user_category_feature,df_user_industry_feature,on='user_id')"
   ]
  },
  {
   "cell_type": "code",
   "execution_count": 47,
   "metadata": {
    "ExecuteTime": {
     "end_time": "2020-06-22T01:55:02.162937Z",
     "start_time": "2020-06-22T01:55:02.159507Z"
    }
   },
   "outputs": [],
   "source": [
    "del df_user_category_group\n",
    "del df_user_industry_group\n",
    "del df_user_category_feature\n",
    "del df_user_industry_feature"
   ]
  },
  {
   "cell_type": "code",
   "execution_count": null,
   "metadata": {},
   "outputs": [],
   "source": [
    "gc.collect()"
   ]
  },
  {
   "cell_type": "code",
   "execution_count": 48,
   "metadata": {
    "ExecuteTime": {
     "end_time": "2020-06-22T01:55:03.400708Z",
     "start_time": "2020-06-22T01:55:03.389943Z"
    }
   },
   "outputs": [
    {
     "data": {
      "text/plain": [
       "(1900000, 350)"
      ]
     },
     "execution_count": 48,
     "metadata": {},
     "output_type": "execute_result"
    }
   ],
   "source": [
    "df_user_cate_feature.shape"
   ]
  },
  {
   "cell_type": "code",
   "execution_count": 49,
   "metadata": {
    "ExecuteTime": {
     "end_time": "2020-06-22T01:55:04.715143Z",
     "start_time": "2020-06-22T01:55:04.690064Z"
    },
    "scrolled": true
   },
   "outputs": [
    {
     "data": {
      "text/html": [
       "<div>\n",
       "<style scoped>\n",
       "    .dataframe tbody tr th:only-of-type {\n",
       "        vertical-align: middle;\n",
       "    }\n",
       "\n",
       "    .dataframe tbody tr th {\n",
       "        vertical-align: top;\n",
       "    }\n",
       "\n",
       "    .dataframe thead th {\n",
       "        text-align: right;\n",
       "    }\n",
       "</style>\n",
       "<table border=\"1\" class=\"dataframe\">\n",
       "  <thead>\n",
       "    <tr style=\"text-align: right;\">\n",
       "      <th></th>\n",
       "      <th>c_1</th>\n",
       "      <th>c_2</th>\n",
       "      <th>c_3</th>\n",
       "      <th>c_4</th>\n",
       "      <th>c_5</th>\n",
       "      <th>c_6</th>\n",
       "      <th>c_7</th>\n",
       "      <th>c_8</th>\n",
       "      <th>c_9</th>\n",
       "      <th>c_10</th>\n",
       "      <th>...</th>\n",
       "      <th>i_91</th>\n",
       "      <th>i_92</th>\n",
       "      <th>i_93</th>\n",
       "      <th>i_94</th>\n",
       "      <th>i_95</th>\n",
       "      <th>i_96</th>\n",
       "      <th>i_97</th>\n",
       "      <th>i_98</th>\n",
       "      <th>i_99</th>\n",
       "      <th>i_0</th>\n",
       "    </tr>\n",
       "    <tr>\n",
       "      <th>user_id</th>\n",
       "      <th></th>\n",
       "      <th></th>\n",
       "      <th></th>\n",
       "      <th></th>\n",
       "      <th></th>\n",
       "      <th></th>\n",
       "      <th></th>\n",
       "      <th></th>\n",
       "      <th></th>\n",
       "      <th></th>\n",
       "      <th></th>\n",
       "      <th></th>\n",
       "      <th></th>\n",
       "      <th></th>\n",
       "      <th></th>\n",
       "      <th></th>\n",
       "      <th></th>\n",
       "      <th></th>\n",
       "      <th></th>\n",
       "      <th></th>\n",
       "      <th></th>\n",
       "    </tr>\n",
       "  </thead>\n",
       "  <tbody>\n",
       "    <tr>\n",
       "      <th>1</th>\n",
       "      <td>0</td>\n",
       "      <td>7</td>\n",
       "      <td>0</td>\n",
       "      <td>0</td>\n",
       "      <td>5</td>\n",
       "      <td>0</td>\n",
       "      <td>0</td>\n",
       "      <td>0</td>\n",
       "      <td>0</td>\n",
       "      <td>0</td>\n",
       "      <td>...</td>\n",
       "      <td>0</td>\n",
       "      <td>0</td>\n",
       "      <td>0</td>\n",
       "      <td>0</td>\n",
       "      <td>0</td>\n",
       "      <td>0</td>\n",
       "      <td>0</td>\n",
       "      <td>0</td>\n",
       "      <td>0</td>\n",
       "      <td>1</td>\n",
       "    </tr>\n",
       "    <tr>\n",
       "      <th>2</th>\n",
       "      <td>0</td>\n",
       "      <td>30</td>\n",
       "      <td>0</td>\n",
       "      <td>0</td>\n",
       "      <td>0</td>\n",
       "      <td>0</td>\n",
       "      <td>0</td>\n",
       "      <td>2</td>\n",
       "      <td>0</td>\n",
       "      <td>0</td>\n",
       "      <td>...</td>\n",
       "      <td>0</td>\n",
       "      <td>0</td>\n",
       "      <td>0</td>\n",
       "      <td>0</td>\n",
       "      <td>0</td>\n",
       "      <td>0</td>\n",
       "      <td>0</td>\n",
       "      <td>0</td>\n",
       "      <td>0</td>\n",
       "      <td>0</td>\n",
       "    </tr>\n",
       "    <tr>\n",
       "      <th>3</th>\n",
       "      <td>0</td>\n",
       "      <td>13</td>\n",
       "      <td>0</td>\n",
       "      <td>1</td>\n",
       "      <td>0</td>\n",
       "      <td>0</td>\n",
       "      <td>0</td>\n",
       "      <td>1</td>\n",
       "      <td>0</td>\n",
       "      <td>0</td>\n",
       "      <td>...</td>\n",
       "      <td>0</td>\n",
       "      <td>0</td>\n",
       "      <td>0</td>\n",
       "      <td>0</td>\n",
       "      <td>0</td>\n",
       "      <td>0</td>\n",
       "      <td>0</td>\n",
       "      <td>0</td>\n",
       "      <td>0</td>\n",
       "      <td>8</td>\n",
       "    </tr>\n",
       "    <tr>\n",
       "      <th>4</th>\n",
       "      <td>0</td>\n",
       "      <td>15</td>\n",
       "      <td>0</td>\n",
       "      <td>1</td>\n",
       "      <td>1</td>\n",
       "      <td>0</td>\n",
       "      <td>1</td>\n",
       "      <td>0</td>\n",
       "      <td>0</td>\n",
       "      <td>0</td>\n",
       "      <td>...</td>\n",
       "      <td>0</td>\n",
       "      <td>0</td>\n",
       "      <td>0</td>\n",
       "      <td>0</td>\n",
       "      <td>0</td>\n",
       "      <td>0</td>\n",
       "      <td>0</td>\n",
       "      <td>0</td>\n",
       "      <td>0</td>\n",
       "      <td>9</td>\n",
       "    </tr>\n",
       "    <tr>\n",
       "      <th>5</th>\n",
       "      <td>0</td>\n",
       "      <td>12</td>\n",
       "      <td>0</td>\n",
       "      <td>0</td>\n",
       "      <td>7</td>\n",
       "      <td>0</td>\n",
       "      <td>0</td>\n",
       "      <td>1</td>\n",
       "      <td>0</td>\n",
       "      <td>0</td>\n",
       "      <td>...</td>\n",
       "      <td>0</td>\n",
       "      <td>0</td>\n",
       "      <td>0</td>\n",
       "      <td>0</td>\n",
       "      <td>0</td>\n",
       "      <td>0</td>\n",
       "      <td>0</td>\n",
       "      <td>0</td>\n",
       "      <td>0</td>\n",
       "      <td>1</td>\n",
       "    </tr>\n",
       "  </tbody>\n",
       "</table>\n",
       "<p>5 rows × 350 columns</p>\n",
       "</div>"
      ],
      "text/plain": [
       "         c_1  c_2  c_3  c_4  c_5  c_6  c_7  c_8  c_9  c_10  ...  i_91  i_92  \\\n",
       "user_id                                                     ...               \n",
       "1          0    7    0    0    5    0    0    0    0     0  ...     0     0   \n",
       "2          0   30    0    0    0    0    0    2    0     0  ...     0     0   \n",
       "3          0   13    0    1    0    0    0    1    0     0  ...     0     0   \n",
       "4          0   15    0    1    1    0    1    0    0     0  ...     0     0   \n",
       "5          0   12    0    0    7    0    0    1    0     0  ...     0     0   \n",
       "\n",
       "         i_93  i_94  i_95  i_96  i_97  i_98  i_99  i_0  \n",
       "user_id                                                 \n",
       "1           0     0     0     0     0     0     0    1  \n",
       "2           0     0     0     0     0     0     0    0  \n",
       "3           0     0     0     0     0     0     0    8  \n",
       "4           0     0     0     0     0     0     0    9  \n",
       "5           0     0     0     0     0     0     0    1  \n",
       "\n",
       "[5 rows x 350 columns]"
      ]
     },
     "execution_count": 49,
     "metadata": {},
     "output_type": "execute_result"
    }
   ],
   "source": [
    "df_user_cate_feature.head()"
   ]
  },
  {
   "cell_type": "markdown",
   "metadata": {},
   "source": [
    "## 构造样本"
   ]
  },
  {
   "cell_type": "code",
   "execution_count": 34,
   "metadata": {
    "ExecuteTime": {
     "end_time": "2020-05-21T09:10:40.264028Z",
     "start_time": "2020-05-21T09:10:38.468960Z"
    }
   },
   "outputs": [],
   "source": [
    "df_sample_train = pd.merge(df_user_cate_feature,df_user_label,left_index=True,right_on='user_id')"
   ]
  },
  {
   "cell_type": "code",
   "execution_count": 35,
   "metadata": {
    "ExecuteTime": {
     "end_time": "2020-05-21T09:10:43.231690Z",
     "start_time": "2020-05-21T09:10:43.228304Z"
    },
    "scrolled": true
   },
   "outputs": [
    {
     "data": {
      "text/plain": [
       "(900000, 353)"
      ]
     },
     "execution_count": 35,
     "metadata": {},
     "output_type": "execute_result"
    }
   ],
   "source": [
    "df_sample_train.shape"
   ]
  },
  {
   "cell_type": "code",
   "execution_count": 36,
   "metadata": {
    "ExecuteTime": {
     "end_time": "2020-05-21T09:10:58.430870Z",
     "start_time": "2020-05-21T09:10:46.132563Z"
    }
   },
   "outputs": [],
   "source": [
    "df_sample_test = df_user_cate_feature.loc[df_user_click_log_test['user_id'].drop_duplicates().values]"
   ]
  },
  {
   "cell_type": "code",
   "execution_count": 37,
   "metadata": {
    "ExecuteTime": {
     "end_time": "2020-05-21T09:11:05.949725Z",
     "start_time": "2020-05-21T09:11:05.947163Z"
    }
   },
   "outputs": [],
   "source": [
    "del df_user_cate_feature"
   ]
  },
  {
   "cell_type": "code",
   "execution_count": 39,
   "metadata": {
    "ExecuteTime": {
     "end_time": "2020-05-21T09:11:20.110792Z",
     "start_time": "2020-05-21T09:11:20.107370Z"
    }
   },
   "outputs": [
    {
     "data": {
      "text/plain": [
       "(1000000, 350)"
      ]
     },
     "execution_count": 39,
     "metadata": {},
     "output_type": "execute_result"
    }
   ],
   "source": [
    "df_sample_test.shape"
   ]
  },
  {
   "cell_type": "code",
   "execution_count": 40,
   "metadata": {
    "ExecuteTime": {
     "end_time": "2020-05-21T09:11:23.344319Z",
     "start_time": "2020-05-21T09:11:23.340788Z"
    }
   },
   "outputs": [
    {
     "data": {
      "text/plain": [
       "((900000, 353), (1000000, 350))"
      ]
     },
     "execution_count": 40,
     "metadata": {},
     "output_type": "execute_result"
    }
   ],
   "source": [
    "df_sample_train.shape,df_sample_test.shape"
   ]
  },
  {
   "cell_type": "code",
   "execution_count": 77,
   "metadata": {
    "ExecuteTime": {
     "end_time": "2020-05-20T08:03:48.994326Z",
     "start_time": "2020-05-20T08:03:48.979657Z"
    },
    "scrolled": true
   },
   "outputs": [
    {
     "data": {
      "text/html": [
       "<div>\n",
       "<style scoped>\n",
       "    .dataframe tbody tr th:only-of-type {\n",
       "        vertical-align: middle;\n",
       "    }\n",
       "\n",
       "    .dataframe tbody tr th {\n",
       "        vertical-align: top;\n",
       "    }\n",
       "\n",
       "    .dataframe thead th {\n",
       "        text-align: right;\n",
       "    }\n",
       "</style>\n",
       "<table border=\"1\" class=\"dataframe\">\n",
       "  <thead>\n",
       "    <tr style=\"text-align: right;\">\n",
       "      <th></th>\n",
       "      <th>c_1</th>\n",
       "      <th>c_2</th>\n",
       "      <th>c_3</th>\n",
       "      <th>c_4</th>\n",
       "      <th>c_5</th>\n",
       "      <th>c_6</th>\n",
       "      <th>c_7</th>\n",
       "      <th>c_8</th>\n",
       "      <th>c_9</th>\n",
       "      <th>c_10</th>\n",
       "      <th>...</th>\n",
       "      <th>i_94</th>\n",
       "      <th>i_95</th>\n",
       "      <th>i_96</th>\n",
       "      <th>i_97</th>\n",
       "      <th>i_98</th>\n",
       "      <th>i_99</th>\n",
       "      <th>i_unknown</th>\n",
       "      <th>user_id</th>\n",
       "      <th>age</th>\n",
       "      <th>gender</th>\n",
       "    </tr>\n",
       "  </thead>\n",
       "  <tbody>\n",
       "    <tr>\n",
       "      <th>0</th>\n",
       "      <td>0</td>\n",
       "      <td>7</td>\n",
       "      <td>0</td>\n",
       "      <td>0</td>\n",
       "      <td>5</td>\n",
       "      <td>0</td>\n",
       "      <td>0</td>\n",
       "      <td>0</td>\n",
       "      <td>0</td>\n",
       "      <td>0</td>\n",
       "      <td>...</td>\n",
       "      <td>0</td>\n",
       "      <td>0</td>\n",
       "      <td>0</td>\n",
       "      <td>0</td>\n",
       "      <td>0</td>\n",
       "      <td>0</td>\n",
       "      <td>1</td>\n",
       "      <td>1</td>\n",
       "      <td>4</td>\n",
       "      <td>1</td>\n",
       "    </tr>\n",
       "    <tr>\n",
       "      <th>1</th>\n",
       "      <td>0</td>\n",
       "      <td>30</td>\n",
       "      <td>0</td>\n",
       "      <td>0</td>\n",
       "      <td>0</td>\n",
       "      <td>0</td>\n",
       "      <td>0</td>\n",
       "      <td>2</td>\n",
       "      <td>0</td>\n",
       "      <td>0</td>\n",
       "      <td>...</td>\n",
       "      <td>0</td>\n",
       "      <td>0</td>\n",
       "      <td>0</td>\n",
       "      <td>0</td>\n",
       "      <td>0</td>\n",
       "      <td>0</td>\n",
       "      <td>0</td>\n",
       "      <td>2</td>\n",
       "      <td>10</td>\n",
       "      <td>1</td>\n",
       "    </tr>\n",
       "    <tr>\n",
       "      <th>2</th>\n",
       "      <td>0</td>\n",
       "      <td>13</td>\n",
       "      <td>0</td>\n",
       "      <td>1</td>\n",
       "      <td>0</td>\n",
       "      <td>0</td>\n",
       "      <td>0</td>\n",
       "      <td>1</td>\n",
       "      <td>0</td>\n",
       "      <td>0</td>\n",
       "      <td>...</td>\n",
       "      <td>0</td>\n",
       "      <td>0</td>\n",
       "      <td>0</td>\n",
       "      <td>0</td>\n",
       "      <td>0</td>\n",
       "      <td>0</td>\n",
       "      <td>8</td>\n",
       "      <td>3</td>\n",
       "      <td>7</td>\n",
       "      <td>2</td>\n",
       "    </tr>\n",
       "    <tr>\n",
       "      <th>3</th>\n",
       "      <td>0</td>\n",
       "      <td>15</td>\n",
       "      <td>0</td>\n",
       "      <td>1</td>\n",
       "      <td>1</td>\n",
       "      <td>0</td>\n",
       "      <td>1</td>\n",
       "      <td>0</td>\n",
       "      <td>0</td>\n",
       "      <td>0</td>\n",
       "      <td>...</td>\n",
       "      <td>0</td>\n",
       "      <td>0</td>\n",
       "      <td>0</td>\n",
       "      <td>0</td>\n",
       "      <td>0</td>\n",
       "      <td>0</td>\n",
       "      <td>9</td>\n",
       "      <td>4</td>\n",
       "      <td>5</td>\n",
       "      <td>1</td>\n",
       "    </tr>\n",
       "    <tr>\n",
       "      <th>4</th>\n",
       "      <td>0</td>\n",
       "      <td>12</td>\n",
       "      <td>0</td>\n",
       "      <td>0</td>\n",
       "      <td>7</td>\n",
       "      <td>0</td>\n",
       "      <td>0</td>\n",
       "      <td>1</td>\n",
       "      <td>0</td>\n",
       "      <td>0</td>\n",
       "      <td>...</td>\n",
       "      <td>0</td>\n",
       "      <td>0</td>\n",
       "      <td>0</td>\n",
       "      <td>0</td>\n",
       "      <td>0</td>\n",
       "      <td>0</td>\n",
       "      <td>1</td>\n",
       "      <td>5</td>\n",
       "      <td>4</td>\n",
       "      <td>1</td>\n",
       "    </tr>\n",
       "  </tbody>\n",
       "</table>\n",
       "<p>5 rows × 353 columns</p>\n",
       "</div>"
      ],
      "text/plain": [
       "   c_1  c_2  c_3  c_4  c_5  c_6  c_7  c_8  c_9  c_10  ...  i_94  i_95  i_96  \\\n",
       "0    0    7    0    0    5    0    0    0    0     0  ...     0     0     0   \n",
       "1    0   30    0    0    0    0    0    2    0     0  ...     0     0     0   \n",
       "2    0   13    0    1    0    0    0    1    0     0  ...     0     0     0   \n",
       "3    0   15    0    1    1    0    1    0    0     0  ...     0     0     0   \n",
       "4    0   12    0    0    7    0    0    1    0     0  ...     0     0     0   \n",
       "\n",
       "   i_97  i_98  i_99  i_unknown  user_id  age  gender  \n",
       "0     0     0     0          1        1    4       1  \n",
       "1     0     0     0          0        2   10       1  \n",
       "2     0     0     0          8        3    7       2  \n",
       "3     0     0     0          9        4    5       1  \n",
       "4     0     0     0          1        5    4       1  \n",
       "\n",
       "[5 rows x 353 columns]"
      ]
     },
     "execution_count": 77,
     "metadata": {},
     "output_type": "execute_result"
    }
   ],
   "source": [
    "df_sample_train.head()"
   ]
  },
  {
   "cell_type": "code",
   "execution_count": 78,
   "metadata": {
    "ExecuteTime": {
     "end_time": "2020-05-20T08:03:52.464850Z",
     "start_time": "2020-05-20T08:03:52.450601Z"
    }
   },
   "outputs": [
    {
     "data": {
      "text/html": [
       "<div>\n",
       "<style scoped>\n",
       "    .dataframe tbody tr th:only-of-type {\n",
       "        vertical-align: middle;\n",
       "    }\n",
       "\n",
       "    .dataframe tbody tr th {\n",
       "        vertical-align: top;\n",
       "    }\n",
       "\n",
       "    .dataframe thead th {\n",
       "        text-align: right;\n",
       "    }\n",
       "</style>\n",
       "<table border=\"1\" class=\"dataframe\">\n",
       "  <thead>\n",
       "    <tr style=\"text-align: right;\">\n",
       "      <th></th>\n",
       "      <th>c_1</th>\n",
       "      <th>c_2</th>\n",
       "      <th>c_3</th>\n",
       "      <th>c_4</th>\n",
       "      <th>c_5</th>\n",
       "      <th>c_6</th>\n",
       "      <th>c_7</th>\n",
       "      <th>c_8</th>\n",
       "      <th>c_9</th>\n",
       "      <th>c_10</th>\n",
       "      <th>...</th>\n",
       "      <th>i_91</th>\n",
       "      <th>i_92</th>\n",
       "      <th>i_93</th>\n",
       "      <th>i_94</th>\n",
       "      <th>i_95</th>\n",
       "      <th>i_96</th>\n",
       "      <th>i_97</th>\n",
       "      <th>i_98</th>\n",
       "      <th>i_99</th>\n",
       "      <th>i_unknown</th>\n",
       "    </tr>\n",
       "    <tr>\n",
       "      <th>user_id</th>\n",
       "      <th></th>\n",
       "      <th></th>\n",
       "      <th></th>\n",
       "      <th></th>\n",
       "      <th></th>\n",
       "      <th></th>\n",
       "      <th></th>\n",
       "      <th></th>\n",
       "      <th></th>\n",
       "      <th></th>\n",
       "      <th></th>\n",
       "      <th></th>\n",
       "      <th></th>\n",
       "      <th></th>\n",
       "      <th></th>\n",
       "      <th></th>\n",
       "      <th></th>\n",
       "      <th></th>\n",
       "      <th></th>\n",
       "      <th></th>\n",
       "      <th></th>\n",
       "    </tr>\n",
       "  </thead>\n",
       "  <tbody>\n",
       "    <tr>\n",
       "      <th>3131989</th>\n",
       "      <td>0</td>\n",
       "      <td>14</td>\n",
       "      <td>0</td>\n",
       "      <td>0</td>\n",
       "      <td>2</td>\n",
       "      <td>0</td>\n",
       "      <td>0</td>\n",
       "      <td>0</td>\n",
       "      <td>0</td>\n",
       "      <td>0</td>\n",
       "      <td>...</td>\n",
       "      <td>0</td>\n",
       "      <td>0</td>\n",
       "      <td>0</td>\n",
       "      <td>0</td>\n",
       "      <td>0</td>\n",
       "      <td>0</td>\n",
       "      <td>0</td>\n",
       "      <td>0</td>\n",
       "      <td>0</td>\n",
       "      <td>0</td>\n",
       "    </tr>\n",
       "    <tr>\n",
       "      <th>3131990</th>\n",
       "      <td>0</td>\n",
       "      <td>21</td>\n",
       "      <td>0</td>\n",
       "      <td>0</td>\n",
       "      <td>0</td>\n",
       "      <td>0</td>\n",
       "      <td>0</td>\n",
       "      <td>0</td>\n",
       "      <td>0</td>\n",
       "      <td>0</td>\n",
       "      <td>...</td>\n",
       "      <td>0</td>\n",
       "      <td>0</td>\n",
       "      <td>0</td>\n",
       "      <td>0</td>\n",
       "      <td>0</td>\n",
       "      <td>0</td>\n",
       "      <td>0</td>\n",
       "      <td>0</td>\n",
       "      <td>0</td>\n",
       "      <td>0</td>\n",
       "    </tr>\n",
       "    <tr>\n",
       "      <th>3131994</th>\n",
       "      <td>0</td>\n",
       "      <td>14</td>\n",
       "      <td>0</td>\n",
       "      <td>0</td>\n",
       "      <td>0</td>\n",
       "      <td>0</td>\n",
       "      <td>0</td>\n",
       "      <td>0</td>\n",
       "      <td>0</td>\n",
       "      <td>0</td>\n",
       "      <td>...</td>\n",
       "      <td>0</td>\n",
       "      <td>0</td>\n",
       "      <td>0</td>\n",
       "      <td>0</td>\n",
       "      <td>0</td>\n",
       "      <td>0</td>\n",
       "      <td>0</td>\n",
       "      <td>0</td>\n",
       "      <td>0</td>\n",
       "      <td>0</td>\n",
       "    </tr>\n",
       "    <tr>\n",
       "      <th>3131995</th>\n",
       "      <td>0</td>\n",
       "      <td>11</td>\n",
       "      <td>0</td>\n",
       "      <td>0</td>\n",
       "      <td>0</td>\n",
       "      <td>0</td>\n",
       "      <td>1</td>\n",
       "      <td>0</td>\n",
       "      <td>0</td>\n",
       "      <td>0</td>\n",
       "      <td>...</td>\n",
       "      <td>0</td>\n",
       "      <td>0</td>\n",
       "      <td>0</td>\n",
       "      <td>0</td>\n",
       "      <td>0</td>\n",
       "      <td>0</td>\n",
       "      <td>0</td>\n",
       "      <td>0</td>\n",
       "      <td>0</td>\n",
       "      <td>4</td>\n",
       "    </tr>\n",
       "    <tr>\n",
       "      <th>3132000</th>\n",
       "      <td>0</td>\n",
       "      <td>7</td>\n",
       "      <td>0</td>\n",
       "      <td>0</td>\n",
       "      <td>4</td>\n",
       "      <td>0</td>\n",
       "      <td>0</td>\n",
       "      <td>0</td>\n",
       "      <td>0</td>\n",
       "      <td>0</td>\n",
       "      <td>...</td>\n",
       "      <td>0</td>\n",
       "      <td>0</td>\n",
       "      <td>0</td>\n",
       "      <td>0</td>\n",
       "      <td>0</td>\n",
       "      <td>0</td>\n",
       "      <td>0</td>\n",
       "      <td>0</td>\n",
       "      <td>0</td>\n",
       "      <td>0</td>\n",
       "    </tr>\n",
       "  </tbody>\n",
       "</table>\n",
       "<p>5 rows × 350 columns</p>\n",
       "</div>"
      ],
      "text/plain": [
       "         c_1  c_2  c_3  c_4  c_5  c_6  c_7  c_8  c_9  c_10  ...  i_91  i_92  \\\n",
       "user_id                                                     ...               \n",
       "3131989    0   14    0    0    2    0    0    0    0     0  ...     0     0   \n",
       "3131990    0   21    0    0    0    0    0    0    0     0  ...     0     0   \n",
       "3131994    0   14    0    0    0    0    0    0    0     0  ...     0     0   \n",
       "3131995    0   11    0    0    0    0    1    0    0     0  ...     0     0   \n",
       "3132000    0    7    0    0    4    0    0    0    0     0  ...     0     0   \n",
       "\n",
       "         i_93  i_94  i_95  i_96  i_97  i_98  i_99  i_unknown  \n",
       "user_id                                                       \n",
       "3131989     0     0     0     0     0     0     0          0  \n",
       "3131990     0     0     0     0     0     0     0          0  \n",
       "3131994     0     0     0     0     0     0     0          0  \n",
       "3131995     0     0     0     0     0     0     0          4  \n",
       "3132000     0     0     0     0     0     0     0          0  \n",
       "\n",
       "[5 rows x 350 columns]"
      ]
     },
     "execution_count": 78,
     "metadata": {},
     "output_type": "execute_result"
    }
   ],
   "source": [
    "df_sample_test.head()"
   ]
  },
  {
   "cell_type": "code",
   "execution_count": 41,
   "metadata": {
    "ExecuteTime": {
     "end_time": "2020-05-21T09:11:41.293600Z",
     "start_time": "2020-05-21T09:11:36.174219Z"
    }
   },
   "outputs": [],
   "source": [
    "df_sample_test = df_sample_test.rename_axis('user_id').reset_index()"
   ]
  },
  {
   "cell_type": "code",
   "execution_count": 42,
   "metadata": {
    "ExecuteTime": {
     "end_time": "2020-05-21T09:11:44.319463Z",
     "start_time": "2020-05-21T09:11:44.305565Z"
    }
   },
   "outputs": [
    {
     "data": {
      "text/html": [
       "<div>\n",
       "<style scoped>\n",
       "    .dataframe tbody tr th:only-of-type {\n",
       "        vertical-align: middle;\n",
       "    }\n",
       "\n",
       "    .dataframe tbody tr th {\n",
       "        vertical-align: top;\n",
       "    }\n",
       "\n",
       "    .dataframe thead th {\n",
       "        text-align: right;\n",
       "    }\n",
       "</style>\n",
       "<table border=\"1\" class=\"dataframe\">\n",
       "  <thead>\n",
       "    <tr style=\"text-align: right;\">\n",
       "      <th></th>\n",
       "      <th>user_id</th>\n",
       "      <th>c_1</th>\n",
       "      <th>c_2</th>\n",
       "      <th>c_3</th>\n",
       "      <th>c_4</th>\n",
       "      <th>c_5</th>\n",
       "      <th>c_6</th>\n",
       "      <th>c_7</th>\n",
       "      <th>c_8</th>\n",
       "      <th>c_9</th>\n",
       "      <th>...</th>\n",
       "      <th>i_91</th>\n",
       "      <th>i_92</th>\n",
       "      <th>i_93</th>\n",
       "      <th>i_94</th>\n",
       "      <th>i_95</th>\n",
       "      <th>i_96</th>\n",
       "      <th>i_97</th>\n",
       "      <th>i_98</th>\n",
       "      <th>i_99</th>\n",
       "      <th>i_unknown</th>\n",
       "    </tr>\n",
       "  </thead>\n",
       "  <tbody>\n",
       "    <tr>\n",
       "      <th>0</th>\n",
       "      <td>3131989</td>\n",
       "      <td>0</td>\n",
       "      <td>14</td>\n",
       "      <td>0</td>\n",
       "      <td>0</td>\n",
       "      <td>2</td>\n",
       "      <td>0</td>\n",
       "      <td>0</td>\n",
       "      <td>0</td>\n",
       "      <td>0</td>\n",
       "      <td>...</td>\n",
       "      <td>0</td>\n",
       "      <td>0</td>\n",
       "      <td>0</td>\n",
       "      <td>0</td>\n",
       "      <td>0</td>\n",
       "      <td>0</td>\n",
       "      <td>0</td>\n",
       "      <td>0</td>\n",
       "      <td>0</td>\n",
       "      <td>0</td>\n",
       "    </tr>\n",
       "    <tr>\n",
       "      <th>1</th>\n",
       "      <td>3131990</td>\n",
       "      <td>0</td>\n",
       "      <td>21</td>\n",
       "      <td>0</td>\n",
       "      <td>0</td>\n",
       "      <td>0</td>\n",
       "      <td>0</td>\n",
       "      <td>0</td>\n",
       "      <td>0</td>\n",
       "      <td>0</td>\n",
       "      <td>...</td>\n",
       "      <td>0</td>\n",
       "      <td>0</td>\n",
       "      <td>0</td>\n",
       "      <td>0</td>\n",
       "      <td>0</td>\n",
       "      <td>0</td>\n",
       "      <td>0</td>\n",
       "      <td>0</td>\n",
       "      <td>0</td>\n",
       "      <td>0</td>\n",
       "    </tr>\n",
       "    <tr>\n",
       "      <th>2</th>\n",
       "      <td>3131994</td>\n",
       "      <td>0</td>\n",
       "      <td>14</td>\n",
       "      <td>0</td>\n",
       "      <td>0</td>\n",
       "      <td>0</td>\n",
       "      <td>0</td>\n",
       "      <td>0</td>\n",
       "      <td>0</td>\n",
       "      <td>0</td>\n",
       "      <td>...</td>\n",
       "      <td>0</td>\n",
       "      <td>0</td>\n",
       "      <td>0</td>\n",
       "      <td>0</td>\n",
       "      <td>0</td>\n",
       "      <td>0</td>\n",
       "      <td>0</td>\n",
       "      <td>0</td>\n",
       "      <td>0</td>\n",
       "      <td>0</td>\n",
       "    </tr>\n",
       "    <tr>\n",
       "      <th>3</th>\n",
       "      <td>3131995</td>\n",
       "      <td>0</td>\n",
       "      <td>11</td>\n",
       "      <td>0</td>\n",
       "      <td>0</td>\n",
       "      <td>0</td>\n",
       "      <td>0</td>\n",
       "      <td>1</td>\n",
       "      <td>0</td>\n",
       "      <td>0</td>\n",
       "      <td>...</td>\n",
       "      <td>0</td>\n",
       "      <td>0</td>\n",
       "      <td>0</td>\n",
       "      <td>0</td>\n",
       "      <td>0</td>\n",
       "      <td>0</td>\n",
       "      <td>0</td>\n",
       "      <td>0</td>\n",
       "      <td>0</td>\n",
       "      <td>4</td>\n",
       "    </tr>\n",
       "    <tr>\n",
       "      <th>4</th>\n",
       "      <td>3132000</td>\n",
       "      <td>0</td>\n",
       "      <td>7</td>\n",
       "      <td>0</td>\n",
       "      <td>0</td>\n",
       "      <td>4</td>\n",
       "      <td>0</td>\n",
       "      <td>0</td>\n",
       "      <td>0</td>\n",
       "      <td>0</td>\n",
       "      <td>...</td>\n",
       "      <td>0</td>\n",
       "      <td>0</td>\n",
       "      <td>0</td>\n",
       "      <td>0</td>\n",
       "      <td>0</td>\n",
       "      <td>0</td>\n",
       "      <td>0</td>\n",
       "      <td>0</td>\n",
       "      <td>0</td>\n",
       "      <td>0</td>\n",
       "    </tr>\n",
       "  </tbody>\n",
       "</table>\n",
       "<p>5 rows × 351 columns</p>\n",
       "</div>"
      ],
      "text/plain": [
       "   user_id  c_1  c_2  c_3  c_4  c_5  c_6  c_7  c_8  c_9  ...  i_91  i_92  \\\n",
       "0  3131989    0   14    0    0    2    0    0    0    0  ...     0     0   \n",
       "1  3131990    0   21    0    0    0    0    0    0    0  ...     0     0   \n",
       "2  3131994    0   14    0    0    0    0    0    0    0  ...     0     0   \n",
       "3  3131995    0   11    0    0    0    0    1    0    0  ...     0     0   \n",
       "4  3132000    0    7    0    0    4    0    0    0    0  ...     0     0   \n",
       "\n",
       "   i_93  i_94  i_95  i_96  i_97  i_98  i_99  i_unknown  \n",
       "0     0     0     0     0     0     0     0          0  \n",
       "1     0     0     0     0     0     0     0          0  \n",
       "2     0     0     0     0     0     0     0          0  \n",
       "3     0     0     0     0     0     0     0          4  \n",
       "4     0     0     0     0     0     0     0          0  \n",
       "\n",
       "[5 rows x 351 columns]"
      ]
     },
     "execution_count": 42,
     "metadata": {},
     "output_type": "execute_result"
    }
   ],
   "source": [
    "df_sample_test.head()"
   ]
  },
  {
   "cell_type": "code",
   "execution_count": 61,
   "metadata": {
    "ExecuteTime": {
     "end_time": "2020-05-21T09:18:54.387282Z",
     "start_time": "2020-05-21T09:18:54.384836Z"
    }
   },
   "outputs": [],
   "source": [
    "feature_exclude_columns=['user_id','age','gender']"
   ]
  },
  {
   "cell_type": "code",
   "execution_count": 62,
   "metadata": {
    "ExecuteTime": {
     "end_time": "2020-05-21T09:18:56.133200Z",
     "start_time": "2020-05-21T09:18:56.130386Z"
    }
   },
   "outputs": [],
   "source": [
    "feature_columns = [x for x in df_sample_train.columns if x not in feature_exclude_columns]"
   ]
  },
  {
   "cell_type": "code",
   "execution_count": 63,
   "metadata": {
    "ExecuteTime": {
     "end_time": "2020-05-21T09:18:57.668394Z",
     "start_time": "2020-05-21T09:18:57.664879Z"
    }
   },
   "outputs": [
    {
     "data": {
      "text/plain": [
       "478"
      ]
     },
     "execution_count": 63,
     "metadata": {},
     "output_type": "execute_result"
    }
   ],
   "source": [
    "len(feature_columns)"
   ]
  },
  {
   "cell_type": "markdown",
   "metadata": {},
   "source": [
    "### 补充词向量特征（可选）"
   ]
  },
  {
   "cell_type": "code",
   "execution_count": 50,
   "metadata": {
    "ExecuteTime": {
     "end_time": "2020-06-22T01:57:22.352407Z",
     "start_time": "2020-06-22T01:55:06.998034Z"
    }
   },
   "outputs": [],
   "source": [
    "df_word2_vec = pd.read_csv(\"./data/user_word2_vec_128.csv\")"
   ]
  },
  {
   "cell_type": "code",
   "execution_count": 51,
   "metadata": {
    "ExecuteTime": {
     "end_time": "2020-06-22T08:43:22.802758Z",
     "start_time": "2020-06-22T08:43:22.799243Z"
    }
   },
   "outputs": [
    {
     "data": {
      "text/plain": [
       "(1900000, 129)"
      ]
     },
     "execution_count": 51,
     "metadata": {},
     "output_type": "execute_result"
    }
   ],
   "source": [
    "df_word2_vec.shape"
   ]
  },
  {
   "cell_type": "code",
   "execution_count": 46,
   "metadata": {
    "ExecuteTime": {
     "end_time": "2020-05-21T09:14:15.535026Z",
     "start_time": "2020-05-21T09:14:15.511621Z"
    },
    "scrolled": true
   },
   "outputs": [
    {
     "data": {
      "text/html": [
       "<div>\n",
       "<style scoped>\n",
       "    .dataframe tbody tr th:only-of-type {\n",
       "        vertical-align: middle;\n",
       "    }\n",
       "\n",
       "    .dataframe tbody tr th {\n",
       "        vertical-align: top;\n",
       "    }\n",
       "\n",
       "    .dataframe thead th {\n",
       "        text-align: right;\n",
       "    }\n",
       "</style>\n",
       "<table border=\"1\" class=\"dataframe\">\n",
       "  <thead>\n",
       "    <tr style=\"text-align: right;\">\n",
       "      <th></th>\n",
       "      <th>user_id</th>\n",
       "      <th>w2v_0</th>\n",
       "      <th>w2v_1</th>\n",
       "      <th>w2v_2</th>\n",
       "      <th>w2v_3</th>\n",
       "      <th>w2v_4</th>\n",
       "      <th>w2v_5</th>\n",
       "      <th>w2v_6</th>\n",
       "      <th>w2v_7</th>\n",
       "      <th>w2v_8</th>\n",
       "      <th>...</th>\n",
       "      <th>w2v_118</th>\n",
       "      <th>w2v_119</th>\n",
       "      <th>w2v_120</th>\n",
       "      <th>w2v_121</th>\n",
       "      <th>w2v_122</th>\n",
       "      <th>w2v_123</th>\n",
       "      <th>w2v_124</th>\n",
       "      <th>w2v_125</th>\n",
       "      <th>w2v_126</th>\n",
       "      <th>w2v_127</th>\n",
       "    </tr>\n",
       "  </thead>\n",
       "  <tbody>\n",
       "    <tr>\n",
       "      <th>0</th>\n",
       "      <td>1</td>\n",
       "      <td>-0.193146</td>\n",
       "      <td>-0.228589</td>\n",
       "      <td>-0.212177</td>\n",
       "      <td>0.502402</td>\n",
       "      <td>0.419108</td>\n",
       "      <td>-0.155171</td>\n",
       "      <td>-0.050705</td>\n",
       "      <td>-0.278514</td>\n",
       "      <td>-0.257985</td>\n",
       "      <td>...</td>\n",
       "      <td>-0.508188</td>\n",
       "      <td>-0.047964</td>\n",
       "      <td>0.173882</td>\n",
       "      <td>-0.233017</td>\n",
       "      <td>-0.106127</td>\n",
       "      <td>0.137993</td>\n",
       "      <td>0.364915</td>\n",
       "      <td>-0.258417</td>\n",
       "      <td>0.158040</td>\n",
       "      <td>-0.312584</td>\n",
       "    </tr>\n",
       "    <tr>\n",
       "      <th>1</th>\n",
       "      <td>2</td>\n",
       "      <td>-0.427113</td>\n",
       "      <td>-0.449429</td>\n",
       "      <td>0.155294</td>\n",
       "      <td>0.204986</td>\n",
       "      <td>0.057536</td>\n",
       "      <td>0.182058</td>\n",
       "      <td>-0.118976</td>\n",
       "      <td>-0.134916</td>\n",
       "      <td>0.312591</td>\n",
       "      <td>...</td>\n",
       "      <td>-0.383222</td>\n",
       "      <td>0.240402</td>\n",
       "      <td>0.421468</td>\n",
       "      <td>-0.091944</td>\n",
       "      <td>0.024992</td>\n",
       "      <td>0.344723</td>\n",
       "      <td>0.350942</td>\n",
       "      <td>-0.021163</td>\n",
       "      <td>-0.156320</td>\n",
       "      <td>0.067091</td>\n",
       "    </tr>\n",
       "    <tr>\n",
       "      <th>2</th>\n",
       "      <td>3</td>\n",
       "      <td>-0.290485</td>\n",
       "      <td>-0.123267</td>\n",
       "      <td>0.147264</td>\n",
       "      <td>0.294396</td>\n",
       "      <td>0.333517</td>\n",
       "      <td>-0.002210</td>\n",
       "      <td>-0.147300</td>\n",
       "      <td>-0.487144</td>\n",
       "      <td>0.015274</td>\n",
       "      <td>...</td>\n",
       "      <td>-0.172198</td>\n",
       "      <td>0.003900</td>\n",
       "      <td>0.099584</td>\n",
       "      <td>-0.028236</td>\n",
       "      <td>-0.022920</td>\n",
       "      <td>0.151936</td>\n",
       "      <td>0.563423</td>\n",
       "      <td>0.020704</td>\n",
       "      <td>-0.102448</td>\n",
       "      <td>0.014376</td>\n",
       "    </tr>\n",
       "    <tr>\n",
       "      <th>3</th>\n",
       "      <td>4</td>\n",
       "      <td>-0.258450</td>\n",
       "      <td>-0.598861</td>\n",
       "      <td>0.174674</td>\n",
       "      <td>0.272897</td>\n",
       "      <td>0.258750</td>\n",
       "      <td>0.102361</td>\n",
       "      <td>-0.110127</td>\n",
       "      <td>-0.355300</td>\n",
       "      <td>0.377514</td>\n",
       "      <td>...</td>\n",
       "      <td>-0.160130</td>\n",
       "      <td>0.139451</td>\n",
       "      <td>-0.130731</td>\n",
       "      <td>-0.239497</td>\n",
       "      <td>0.049233</td>\n",
       "      <td>0.100909</td>\n",
       "      <td>0.297746</td>\n",
       "      <td>0.005558</td>\n",
       "      <td>-0.144150</td>\n",
       "      <td>-0.023132</td>\n",
       "    </tr>\n",
       "    <tr>\n",
       "      <th>4</th>\n",
       "      <td>5</td>\n",
       "      <td>-0.403251</td>\n",
       "      <td>-0.223418</td>\n",
       "      <td>-0.140462</td>\n",
       "      <td>0.211255</td>\n",
       "      <td>0.477512</td>\n",
       "      <td>0.247194</td>\n",
       "      <td>-0.021708</td>\n",
       "      <td>-0.284819</td>\n",
       "      <td>-0.154669</td>\n",
       "      <td>...</td>\n",
       "      <td>-0.323597</td>\n",
       "      <td>-0.099868</td>\n",
       "      <td>0.383555</td>\n",
       "      <td>-0.227641</td>\n",
       "      <td>-0.094448</td>\n",
       "      <td>0.155718</td>\n",
       "      <td>0.490123</td>\n",
       "      <td>-0.108260</td>\n",
       "      <td>-0.032434</td>\n",
       "      <td>-0.036300</td>\n",
       "    </tr>\n",
       "  </tbody>\n",
       "</table>\n",
       "<p>5 rows × 129 columns</p>\n",
       "</div>"
      ],
      "text/plain": [
       "   user_id     w2v_0     w2v_1     w2v_2     w2v_3     w2v_4     w2v_5  \\\n",
       "0        1 -0.193146 -0.228589 -0.212177  0.502402  0.419108 -0.155171   \n",
       "1        2 -0.427113 -0.449429  0.155294  0.204986  0.057536  0.182058   \n",
       "2        3 -0.290485 -0.123267  0.147264  0.294396  0.333517 -0.002210   \n",
       "3        4 -0.258450 -0.598861  0.174674  0.272897  0.258750  0.102361   \n",
       "4        5 -0.403251 -0.223418 -0.140462  0.211255  0.477512  0.247194   \n",
       "\n",
       "      w2v_6     w2v_7     w2v_8  ...   w2v_118   w2v_119   w2v_120   w2v_121  \\\n",
       "0 -0.050705 -0.278514 -0.257985  ... -0.508188 -0.047964  0.173882 -0.233017   \n",
       "1 -0.118976 -0.134916  0.312591  ... -0.383222  0.240402  0.421468 -0.091944   \n",
       "2 -0.147300 -0.487144  0.015274  ... -0.172198  0.003900  0.099584 -0.028236   \n",
       "3 -0.110127 -0.355300  0.377514  ... -0.160130  0.139451 -0.130731 -0.239497   \n",
       "4 -0.021708 -0.284819 -0.154669  ... -0.323597 -0.099868  0.383555 -0.227641   \n",
       "\n",
       "    w2v_122   w2v_123   w2v_124   w2v_125   w2v_126   w2v_127  \n",
       "0 -0.106127  0.137993  0.364915 -0.258417  0.158040 -0.312584  \n",
       "1  0.024992  0.344723  0.350942 -0.021163 -0.156320  0.067091  \n",
       "2 -0.022920  0.151936  0.563423  0.020704 -0.102448  0.014376  \n",
       "3  0.049233  0.100909  0.297746  0.005558 -0.144150 -0.023132  \n",
       "4 -0.094448  0.155718  0.490123 -0.108260 -0.032434 -0.036300  \n",
       "\n",
       "[5 rows x 129 columns]"
      ]
     },
     "execution_count": 46,
     "metadata": {},
     "output_type": "execute_result"
    }
   ],
   "source": [
    "df_word2_vec.head()"
   ]
  },
  {
   "cell_type": "markdown",
   "metadata": {},
   "source": [
    "#### 融合特征"
   ]
  },
  {
   "cell_type": "code",
   "execution_count": 48,
   "metadata": {
    "ExecuteTime": {
     "end_time": "2020-05-21T09:16:45.069674Z",
     "start_time": "2020-05-21T09:16:39.484612Z"
    }
   },
   "outputs": [],
   "source": [
    "df_sample_train =  pd.merge(df_sample_train,df_word2_vec,on='user_id')"
   ]
  },
  {
   "cell_type": "code",
   "execution_count": 49,
   "metadata": {
    "ExecuteTime": {
     "end_time": "2020-05-21T09:16:55.596756Z",
     "start_time": "2020-05-21T09:16:55.593498Z"
    }
   },
   "outputs": [
    {
     "data": {
      "text/plain": [
       "(900000, 481)"
      ]
     },
     "execution_count": 49,
     "metadata": {},
     "output_type": "execute_result"
    }
   ],
   "source": [
    "df_sample_train.shape"
   ]
  },
  {
   "cell_type": "code",
   "execution_count": 50,
   "metadata": {
    "ExecuteTime": {
     "end_time": "2020-05-21T09:17:11.253339Z",
     "start_time": "2020-05-21T09:17:04.240973Z"
    }
   },
   "outputs": [],
   "source": [
    "df_sample_test =  pd.merge(df_sample_test,df_word2_vec,on='user_id')"
   ]
  },
  {
   "cell_type": "code",
   "execution_count": 51,
   "metadata": {
    "ExecuteTime": {
     "end_time": "2020-05-21T09:17:16.134118Z",
     "start_time": "2020-05-21T09:17:16.130390Z"
    },
    "scrolled": true
   },
   "outputs": [
    {
     "data": {
      "text/plain": [
       "(1000000, 479)"
      ]
     },
     "execution_count": 51,
     "metadata": {},
     "output_type": "execute_result"
    }
   ],
   "source": [
    "df_sample_test.shape"
   ]
  },
  {
   "cell_type": "markdown",
   "metadata": {},
   "source": [
    "## 清空冗余变量"
   ]
  },
  {
   "cell_type": "code",
   "execution_count": 197,
   "metadata": {
    "ExecuteTime": {
     "end_time": "2020-05-20T01:28:01.754870Z",
     "start_time": "2020-05-20T01:28:01.752425Z"
    }
   },
   "outputs": [],
   "source": [
    "del df_user_click_log_train\n",
    "del df_user_click_log_test"
   ]
  },
  {
   "cell_type": "code",
   "execution_count": 53,
   "metadata": {
    "ExecuteTime": {
     "end_time": "2020-05-21T09:17:26.583127Z",
     "start_time": "2020-05-21T09:17:25.789200Z"
    }
   },
   "outputs": [
    {
     "data": {
      "text/plain": [
       "41198"
      ]
     },
     "execution_count": 53,
     "metadata": {},
     "output_type": "execute_result"
    }
   ],
   "source": [
    "gc.collect()"
   ]
  },
  {
   "cell_type": "markdown",
   "metadata": {},
   "source": [
    "## 建模"
   ]
  },
  {
   "cell_type": "code",
   "execution_count": 54,
   "metadata": {
    "ExecuteTime": {
     "end_time": "2020-05-21T09:17:32.870395Z",
     "start_time": "2020-05-21T09:17:32.629188Z"
    }
   },
   "outputs": [],
   "source": [
    "from sklearn.model_selection import train_test_split\n",
    "from lightgbm.sklearn import LGBMClassifier\n",
    "from sklearn.metrics import accuracy_score"
   ]
  },
  {
   "cell_type": "code",
   "execution_count": 55,
   "metadata": {
    "ExecuteTime": {
     "end_time": "2020-05-21T09:17:34.582227Z",
     "start_time": "2020-05-21T09:17:34.578985Z"
    }
   },
   "outputs": [],
   "source": [
    "from sklearn.naive_bayes import MultinomialNB,BernoulliNB"
   ]
  },
  {
   "cell_type": "code",
   "execution_count": 56,
   "metadata": {
    "ExecuteTime": {
     "end_time": "2020-05-21T09:17:36.094537Z",
     "start_time": "2020-05-21T09:17:36.092250Z"
    }
   },
   "outputs": [],
   "source": [
    "from sklearn.model_selection import cross_val_score"
   ]
  },
  {
   "cell_type": "code",
   "execution_count": 58,
   "metadata": {
    "ExecuteTime": {
     "end_time": "2020-05-21T09:17:39.097532Z",
     "start_time": "2020-05-21T09:17:39.095338Z"
    }
   },
   "outputs": [],
   "source": [
    "from sklearn.externals import joblib"
   ]
  },
  {
   "cell_type": "markdown",
   "metadata": {},
   "source": [
    "### 性别"
   ]
  },
  {
   "cell_type": "markdown",
   "metadata": {},
   "source": [
    "#### LGBM"
   ]
  },
  {
   "cell_type": "code",
   "execution_count": 73,
   "metadata": {
    "ExecuteTime": {
     "end_time": "2020-05-21T10:38:58.968389Z",
     "start_time": "2020-05-21T10:38:58.964664Z"
    }
   },
   "outputs": [],
   "source": [
    "lgbm_gender = LGBMClassifier(n_estimators=300,learning_rate=0.1,max_depth=8,num_leaves=127,subsample=0.8,colsample_bytree=0.8,min_split_gain=3,random_state=0,reg_alpha=0.05)"
   ]
  },
  {
   "cell_type": "code",
   "execution_count": 60,
   "metadata": {
    "ExecuteTime": {
     "end_time": "2020-05-21T09:18:18.162608Z",
     "start_time": "2020-05-21T09:18:18.157485Z"
    }
   },
   "outputs": [],
   "source": [
    "def model_test(clf,df_data,feature_columns,label_name,test_size=0.3,refit=False):\n",
    "     '''\n",
    "    建模测试\n",
    "    Parameters\n",
    "    ----------\n",
    "    clf:sklearn model\n",
    "    df_data：pandas.DataFrame,训练数据源\n",
    "    feature_columns：list,特征列名\n",
    "    label_name：str,标签列名\n",
    "    test_size：验证集比例\n",
    "    refit：boolean,测试完是否refit\n",
    "    Returns\n",
    "    ----------\n",
    "    clf:sklearn model\n",
    "    '''\n",
    "    X_train, X_test, y_train, y_test = train_test_split(df_data[feature_columns],df_data[label_name],test_size=test_size,random_state=0)\n",
    "    print(\"数据集划分完毕\")\n",
    "    clf.fit(X_train,y_train)\n",
    "    print(\"模型训练完毕\")\n",
    "    y_test_predict = clf.predict(X_test)\n",
    "    y_train_predict = clf.predict(X_train)\n",
    "    print(\"训练集：%f,测试集：%f\" % (accuracy_score(y_train,y_train_predict),accuracy_score(y_test,y_test_predict)))\n",
    "    if refit is True:\n",
    "        clf.fit(df_data[feature_columns],df_data[label_name])\n",
    "    return clf"
   ]
  },
  {
   "cell_type": "markdown",
   "metadata": {},
   "source": [
    "产品+产业类别+word2vec"
   ]
  },
  {
   "cell_type": "code",
   "execution_count": 64,
   "metadata": {
    "ExecuteTime": {
     "end_time": "2020-05-21T09:25:03.334109Z",
     "start_time": "2020-05-21T09:19:13.780552Z"
    },
    "scrolled": true
   },
   "outputs": [
    {
     "name": "stdout",
     "output_type": "stream",
     "text": [
      "数据集划分完毕\n",
      "模型训练完毕\n",
      "训练集：0.946217,测试集：0.922156\n"
     ]
    }
   ],
   "source": [
    "lgbm_gender = model_test(lgbm_gender,df_sample_train,feature_columns=feature_columns,label_name='gender')"
   ]
  },
  {
   "cell_type": "markdown",
   "metadata": {},
   "source": [
    "refit"
   ]
  },
  {
   "cell_type": "code",
   "execution_count": 74,
   "metadata": {
    "ExecuteTime": {
     "end_time": "2020-05-21T10:47:00.726983Z",
     "start_time": "2020-05-21T10:39:03.687712Z"
    },
    "scrolled": true
   },
   "outputs": [
    {
     "data": {
      "text/plain": [
       "LGBMClassifier(boosting_type='gbdt', class_weight=None, colsample_bytree=0.8,\n",
       "               importance_type='split', learning_rate=0.1, max_depth=8,\n",
       "               min_child_samples=20, min_child_weight=0.001, min_split_gain=3,\n",
       "               n_estimators=300, n_jobs=-1, num_leaves=127, objective=None,\n",
       "               random_state=0, reg_alpha=0.05, reg_lambda=0.0, silent=True,\n",
       "               subsample=0.8, subsample_for_bin=200000, subsample_freq=0)"
      ]
     },
     "execution_count": 74,
     "metadata": {},
     "output_type": "execute_result"
    }
   ],
   "source": [
    "lgbm_gender.fit(df_sample_train[feature_columns],df_sample_train['gender'])"
   ]
  },
  {
   "cell_type": "markdown",
   "metadata": {},
   "source": [
    "test"
   ]
  },
  {
   "cell_type": "code",
   "execution_count": 91,
   "metadata": {
    "ExecuteTime": {
     "end_time": "2020-05-20T08:09:17.031676Z",
     "start_time": "2020-05-20T08:09:10.893992Z"
    }
   },
   "outputs": [],
   "source": [
    "X_train, X_test, y_train, y_test = train_test_split(df_sample_train[feature_columns],df_sample_train['gender'],test_size=0.3,random_state=0)"
   ]
  },
  {
   "cell_type": "code",
   "execution_count": 92,
   "metadata": {
    "ExecuteTime": {
     "end_time": "2020-05-20T08:09:20.952873Z",
     "start_time": "2020-05-20T08:09:20.949207Z"
    }
   },
   "outputs": [
    {
     "data": {
      "text/plain": [
       "((630000, 350), (270000, 350))"
      ]
     },
     "execution_count": 92,
     "metadata": {},
     "output_type": "execute_result"
    }
   ],
   "source": [
    "X_train.shape,X_test.shape"
   ]
  },
  {
   "cell_type": "code",
   "execution_count": 93,
   "metadata": {
    "ExecuteTime": {
     "end_time": "2020-05-20T08:09:23.238551Z",
     "start_time": "2020-05-20T08:09:23.229357Z"
    }
   },
   "outputs": [
    {
     "data": {
      "text/plain": [
       "1    421968\n",
       "2    208032\n",
       "Name: gender, dtype: int64"
      ]
     },
     "execution_count": 93,
     "metadata": {},
     "output_type": "execute_result"
    }
   ],
   "source": [
    "y_train.value_counts()"
   ]
  },
  {
   "cell_type": "code",
   "execution_count": 94,
   "metadata": {
    "ExecuteTime": {
     "end_time": "2020-05-20T08:09:25.801573Z",
     "start_time": "2020-05-20T08:09:25.795174Z"
    }
   },
   "outputs": [
    {
     "data": {
      "text/plain": [
       "1    180642\n",
       "2     89358\n",
       "Name: gender, dtype: int64"
      ]
     },
     "execution_count": 94,
     "metadata": {},
     "output_type": "execute_result"
    }
   ],
   "source": [
    "y_test.value_counts()"
   ]
  },
  {
   "cell_type": "markdown",
   "metadata": {},
   "source": [
    "只用产品类别:0.68"
   ]
  },
  {
   "cell_type": "markdown",
   "metadata": {},
   "source": [
    "产品+产业类别"
   ]
  },
  {
   "cell_type": "code",
   "execution_count": 117,
   "metadata": {
    "ExecuteTime": {
     "end_time": "2020-05-20T08:33:23.617171Z",
     "start_time": "2020-05-20T08:33:23.558567Z"
    }
   },
   "outputs": [
    {
     "data": {
      "text/plain": [
       "0.8518460317460318"
      ]
     },
     "execution_count": 117,
     "metadata": {},
     "output_type": "execute_result"
    }
   ],
   "source": [
    "accuracy_score(y_train,y_train_predict)"
   ]
  },
  {
   "cell_type": "code",
   "execution_count": 118,
   "metadata": {
    "ExecuteTime": {
     "end_time": "2020-05-20T08:33:25.450364Z",
     "start_time": "2020-05-20T08:33:25.424448Z"
    }
   },
   "outputs": [
    {
     "data": {
      "text/plain": [
       "0.8417074074074075"
      ]
     },
     "execution_count": 118,
     "metadata": {},
     "output_type": "execute_result"
    }
   ],
   "source": [
    "accuracy_score(y_test,y_test_predict)"
   ]
  },
  {
   "cell_type": "markdown",
   "metadata": {},
   "source": [
    "5折交叉验证"
   ]
  },
  {
   "cell_type": "code",
   "execution_count": 101,
   "metadata": {
    "ExecuteTime": {
     "end_time": "2020-05-20T08:18:54.930013Z",
     "start_time": "2020-05-20T08:14:52.786834Z"
    }
   },
   "outputs": [
    {
     "name": "stdout",
     "output_type": "stream",
     "text": [
      "CPU times: user 23min 19s, sys: 1min 4s, total: 24min 24s\n",
      "Wall time: 4min 2s\n"
     ]
    }
   ],
   "source": [
    "%time cv_score = cross_val_score(lgbm_gender,X_train,y_train,scoring='accuracy',cv=5)"
   ]
  },
  {
   "cell_type": "code",
   "execution_count": 103,
   "metadata": {
    "ExecuteTime": {
     "end_time": "2020-05-20T08:19:26.624359Z",
     "start_time": "2020-05-20T08:19:26.621212Z"
    }
   },
   "outputs": [
    {
     "data": {
      "text/plain": [
       "0.8414222222222222"
      ]
     },
     "execution_count": 103,
     "metadata": {},
     "output_type": "execute_result"
    }
   ],
   "source": [
    "cv_score.mean()"
   ]
  },
  {
   "cell_type": "markdown",
   "metadata": {},
   "source": [
    "#### 贝叶斯"
   ]
  },
  {
   "cell_type": "code",
   "execution_count": 120,
   "metadata": {
    "ExecuteTime": {
     "end_time": "2020-05-19T15:17:31.441480Z",
     "start_time": "2020-05-19T15:17:31.439108Z"
    }
   },
   "outputs": [],
   "source": [
    "clf_bnb = BernoulliNB()"
   ]
  },
  {
   "cell_type": "code",
   "execution_count": 123,
   "metadata": {
    "ExecuteTime": {
     "end_time": "2020-05-19T15:19:02.102713Z",
     "start_time": "2020-05-19T15:18:58.202778Z"
    }
   },
   "outputs": [
    {
     "data": {
      "text/plain": [
       "BernoulliNB(alpha=1.0, binarize=0.0, class_prior=None, fit_prior=True)"
      ]
     },
     "execution_count": 123,
     "metadata": {},
     "output_type": "execute_result"
    }
   ],
   "source": [
    "clf_bnb.fit(X_train,y_train)"
   ]
  },
  {
   "cell_type": "code",
   "execution_count": 129,
   "metadata": {
    "ExecuteTime": {
     "end_time": "2020-05-19T15:22:11.805986Z",
     "start_time": "2020-05-19T15:22:09.723610Z"
    }
   },
   "outputs": [],
   "source": [
    "y_test_predict = clf_bnb.predict(X_test)"
   ]
  },
  {
   "cell_type": "code",
   "execution_count": 130,
   "metadata": {
    "ExecuteTime": {
     "end_time": "2020-05-19T15:22:21.361461Z",
     "start_time": "2020-05-19T15:22:16.102254Z"
    }
   },
   "outputs": [],
   "source": [
    "y_train_predict = clf_bnb.predict(X_train)"
   ]
  },
  {
   "cell_type": "markdown",
   "metadata": {},
   "source": [
    "产品+产业类别"
   ]
  },
  {
   "cell_type": "code",
   "execution_count": 131,
   "metadata": {
    "ExecuteTime": {
     "end_time": "2020-05-19T15:22:44.704724Z",
     "start_time": "2020-05-19T15:22:44.649744Z"
    }
   },
   "outputs": [
    {
     "data": {
      "text/plain": [
       "0.7970063492063492"
      ]
     },
     "execution_count": 131,
     "metadata": {},
     "output_type": "execute_result"
    }
   ],
   "source": [
    "accuracy_score(y_train,y_train_predict)"
   ]
  },
  {
   "cell_type": "code",
   "execution_count": 132,
   "metadata": {
    "ExecuteTime": {
     "end_time": "2020-05-19T15:22:51.873638Z",
     "start_time": "2020-05-19T15:22:51.847921Z"
    },
    "scrolled": true
   },
   "outputs": [
    {
     "data": {
      "text/plain": [
       "0.7971185185185186"
      ]
     },
     "execution_count": 132,
     "metadata": {},
     "output_type": "execute_result"
    }
   ],
   "source": [
    "accuracy_score(y_test,y_predict)"
   ]
  },
  {
   "cell_type": "code",
   "execution_count": 159,
   "metadata": {
    "ExecuteTime": {
     "end_time": "2020-05-19T15:33:26.141960Z",
     "start_time": "2020-05-19T15:33:25.181480Z"
    }
   },
   "outputs": [
    {
     "data": {
      "text/plain": [
       "70391"
      ]
     },
     "execution_count": 159,
     "metadata": {},
     "output_type": "execute_result"
    }
   ],
   "source": [
    "gc.collect()"
   ]
  },
  {
   "cell_type": "markdown",
   "metadata": {},
   "source": [
    "### 年龄"
   ]
  },
  {
   "cell_type": "markdown",
   "metadata": {},
   "source": [
    "#### LGBM"
   ]
  },
  {
   "cell_type": "code",
   "execution_count": 75,
   "metadata": {
    "ExecuteTime": {
     "end_time": "2020-05-21T10:47:05.196464Z",
     "start_time": "2020-05-21T10:47:05.192350Z"
    }
   },
   "outputs": [],
   "source": [
    "lgbm_age = LGBMClassifier(n_estimators=300,learning_rate=0.1,max_depth=8,num_leaves=127,subsample=0.8,colsample_bytree=0.8,min_split_gain=3,random_state=0,reg_alpha=0.02)"
   ]
  },
  {
   "cell_type": "markdown",
   "metadata": {},
   "source": [
    "产品+产业类别+word2vec"
   ]
  },
  {
   "cell_type": "code",
   "execution_count": 67,
   "metadata": {
    "ExecuteTime": {
     "end_time": "2020-05-21T10:09:31.138811Z",
     "start_time": "2020-05-21T09:29:18.656976Z"
    },
    "scrolled": true
   },
   "outputs": [
    {
     "name": "stdout",
     "output_type": "stream",
     "text": [
      "数据集划分完毕\n",
      "模型训练完毕\n",
      "训练集：0.552656,测试集：0.384619\n"
     ]
    }
   ],
   "source": [
    "lgbm_age = model_test(lgbm_age,df_sample_train,feature_columns=feature_columns,label_name='age')"
   ]
  },
  {
   "cell_type": "markdown",
   "metadata": {},
   "source": [
    "refit"
   ]
  },
  {
   "cell_type": "code",
   "execution_count": 76,
   "metadata": {
    "ExecuteTime": {
     "end_time": "2020-05-21T11:44:27.924262Z",
     "start_time": "2020-05-21T10:47:09.391982Z"
    },
    "scrolled": false
   },
   "outputs": [
    {
     "data": {
      "text/plain": [
       "LGBMClassifier(boosting_type='gbdt', class_weight=None, colsample_bytree=0.8,\n",
       "               importance_type='split', learning_rate=0.1, max_depth=8,\n",
       "               min_child_samples=20, min_child_weight=0.001, min_split_gain=3,\n",
       "               n_estimators=300, n_jobs=-1, num_leaves=127, objective=None,\n",
       "               random_state=0, reg_alpha=0.02, reg_lambda=0.0, silent=True,\n",
       "               subsample=0.8, subsample_for_bin=200000, subsample_freq=0)"
      ]
     },
     "execution_count": 76,
     "metadata": {},
     "output_type": "execute_result"
    }
   ],
   "source": [
    "lgbm_age.fit(df_sample_train[feature_columns],df_sample_train['age'])"
   ]
  },
  {
   "cell_type": "markdown",
   "metadata": {},
   "source": [
    "test"
   ]
  },
  {
   "cell_type": "code",
   "execution_count": 147,
   "metadata": {
    "ExecuteTime": {
     "end_time": "2020-05-20T09:00:55.456618Z",
     "start_time": "2020-05-20T09:00:49.188500Z"
    }
   },
   "outputs": [],
   "source": [
    "X_train, X_test, y_train, y_test = train_test_split(df_sample_train[feature_columns],df_sample_train['age'],test_size=0.3,random_state=0)"
   ]
  },
  {
   "cell_type": "code",
   "execution_count": 161,
   "metadata": {
    "ExecuteTime": {
     "end_time": "2020-05-20T09:54:01.608716Z",
     "start_time": "2020-05-20T09:53:00.411949Z"
    }
   },
   "outputs": [],
   "source": [
    "y_test_predict = lgbm_age.predict(X_test)\n",
    "y_train_predict = lgbm_age.predict(X_train)"
   ]
  },
  {
   "cell_type": "markdown",
   "metadata": {},
   "source": [
    "只用产品类别"
   ]
  },
  {
   "cell_type": "code",
   "execution_count": 112,
   "metadata": {
    "ExecuteTime": {
     "end_time": "2020-05-19T15:12:21.606735Z",
     "start_time": "2020-05-19T15:12:21.590541Z"
    },
    "scrolled": true
   },
   "outputs": [
    {
     "data": {
      "text/plain": [
       "0.23807777777777778"
      ]
     },
     "execution_count": 112,
     "metadata": {},
     "output_type": "execute_result"
    }
   ],
   "source": [
    "accuracy_score(y_test,y_predict)"
   ]
  },
  {
   "cell_type": "markdown",
   "metadata": {},
   "source": [
    "产品+产业类别"
   ]
  },
  {
   "cell_type": "code",
   "execution_count": 151,
   "metadata": {
    "ExecuteTime": {
     "end_time": "2020-05-20T09:27:06.455043Z",
     "start_time": "2020-05-20T09:27:06.417524Z"
    }
   },
   "outputs": [
    {
     "data": {
      "text/plain": [
       "0.343968253968254"
      ]
     },
     "execution_count": 151,
     "metadata": {},
     "output_type": "execute_result"
    }
   ],
   "source": [
    "accuracy_score(y_train,y_train_predict)"
   ]
  },
  {
   "cell_type": "code",
   "execution_count": 152,
   "metadata": {
    "ExecuteTime": {
     "end_time": "2020-05-20T09:27:10.460234Z",
     "start_time": "2020-05-20T09:27:10.433465Z"
    },
    "scrolled": true
   },
   "outputs": [
    {
     "data": {
      "text/plain": [
       "0.3012"
      ]
     },
     "execution_count": 152,
     "metadata": {},
     "output_type": "execute_result"
    }
   ],
   "source": [
    "accuracy_score(y_test,y_test_predict)"
   ]
  },
  {
   "cell_type": "markdown",
   "metadata": {},
   "source": [
    "产品+产业类别:balanced(多分类class_weight:balanced)"
   ]
  },
  {
   "cell_type": "code",
   "execution_count": 157,
   "metadata": {
    "ExecuteTime": {
     "end_time": "2020-05-20T09:41:51.120472Z",
     "start_time": "2020-05-20T09:41:51.079635Z"
    }
   },
   "outputs": [
    {
     "data": {
      "text/plain": [
       "0.2971761904761905"
      ]
     },
     "execution_count": 157,
     "metadata": {},
     "output_type": "execute_result"
    }
   ],
   "source": [
    "accuracy_score(y_train,y_train_predict)"
   ]
  },
  {
   "cell_type": "code",
   "execution_count": 158,
   "metadata": {
    "ExecuteTime": {
     "end_time": "2020-05-20T09:41:53.345361Z",
     "start_time": "2020-05-20T09:41:53.325483Z"
    }
   },
   "outputs": [
    {
     "data": {
      "text/plain": [
       "0.2457148148148148"
      ]
     },
     "execution_count": 158,
     "metadata": {},
     "output_type": "execute_result"
    }
   ],
   "source": [
    "accuracy_score(y_test,y_test_predict)"
   ]
  },
  {
   "cell_type": "markdown",
   "metadata": {},
   "source": [
    "#### 贝叶斯"
   ]
  },
  {
   "cell_type": "code",
   "execution_count": 137,
   "metadata": {
    "ExecuteTime": {
     "end_time": "2020-05-19T15:24:24.972262Z",
     "start_time": "2020-05-19T15:24:24.969971Z"
    }
   },
   "outputs": [],
   "source": [
    "clf_bnb_age = BernoulliNB()"
   ]
  },
  {
   "cell_type": "code",
   "execution_count": 138,
   "metadata": {
    "ExecuteTime": {
     "end_time": "2020-05-19T15:24:46.043787Z",
     "start_time": "2020-05-19T15:24:31.222530Z"
    },
    "scrolled": true
   },
   "outputs": [
    {
     "data": {
      "text/plain": [
       "BernoulliNB(alpha=1.0, binarize=0.0, class_prior=None, fit_prior=True)"
      ]
     },
     "execution_count": 138,
     "metadata": {},
     "output_type": "execute_result"
    }
   ],
   "source": [
    "clf_bnb_age.fit(X_train,y_train)"
   ]
  },
  {
   "cell_type": "code",
   "execution_count": 141,
   "metadata": {
    "ExecuteTime": {
     "end_time": "2020-05-19T15:25:06.480794Z",
     "start_time": "2020-05-19T15:25:04.223737Z"
    }
   },
   "outputs": [],
   "source": [
    "y_test_predict = clf_bnb_age.predict(X_test)"
   ]
  },
  {
   "cell_type": "code",
   "execution_count": 142,
   "metadata": {
    "ExecuteTime": {
     "end_time": "2020-05-19T15:25:13.331332Z",
     "start_time": "2020-05-19T15:25:08.059173Z"
    }
   },
   "outputs": [],
   "source": [
    "y_train_predict = clf_bnb_age.predict(X_train)"
   ]
  },
  {
   "cell_type": "markdown",
   "metadata": {},
   "source": [
    "产品+产业类别"
   ]
  },
  {
   "cell_type": "code",
   "execution_count": 144,
   "metadata": {
    "ExecuteTime": {
     "end_time": "2020-05-19T15:26:19.617504Z",
     "start_time": "2020-05-19T15:26:19.577451Z"
    }
   },
   "outputs": [
    {
     "data": {
      "text/plain": [
       "0.2665571428571429"
      ]
     },
     "execution_count": 144,
     "metadata": {},
     "output_type": "execute_result"
    }
   ],
   "source": [
    "accuracy_score(y_train_predict,y_train)"
   ]
  },
  {
   "cell_type": "code",
   "execution_count": 147,
   "metadata": {
    "ExecuteTime": {
     "end_time": "2020-05-19T15:27:46.487858Z",
     "start_time": "2020-05-19T15:27:46.470785Z"
    }
   },
   "outputs": [
    {
     "data": {
      "text/plain": [
       "0.2665148148148148"
      ]
     },
     "execution_count": 147,
     "metadata": {},
     "output_type": "execute_result"
    }
   ],
   "source": [
    "accuracy_score(y_test,y_test_predict)"
   ]
  },
  {
   "cell_type": "markdown",
   "metadata": {},
   "source": [
    "## 模型固化"
   ]
  },
  {
   "cell_type": "code",
   "execution_count": 77,
   "metadata": {
    "ExecuteTime": {
     "end_time": "2020-05-21T11:48:09.602822Z",
     "start_time": "2020-05-21T11:48:09.434544Z"
    }
   },
   "outputs": [
    {
     "data": {
      "text/plain": [
       "['./model/lgbm_gender_w2v128_cate350.pkl']"
      ]
     },
     "execution_count": 77,
     "metadata": {},
     "output_type": "execute_result"
    }
   ],
   "source": [
    "joblib.dump(lgbm_gender,'./model/lgbm_gender_w2v128_cate350.pkl')"
   ]
  },
  {
   "cell_type": "code",
   "execution_count": 179,
   "metadata": {
    "ExecuteTime": {
     "end_time": "2020-05-20T10:15:46.974131Z",
     "start_time": "2020-05-20T10:15:46.953783Z"
    }
   },
   "outputs": [],
   "source": [
    "lgbm_gender = joblib.load(\"./model/lgbm_gender_w2v128_cate350.pkl\")"
   ]
  },
  {
   "cell_type": "code",
   "execution_count": 180,
   "metadata": {
    "ExecuteTime": {
     "end_time": "2020-05-20T10:16:03.304981Z",
     "start_time": "2020-05-20T10:15:52.027306Z"
    }
   },
   "outputs": [],
   "source": [
    "y_test_predict = lgbm_gender.predict(X_test)\n",
    "y_train_predict = lgbm_gender.predict(X_train)"
   ]
  },
  {
   "cell_type": "code",
   "execution_count": null,
   "metadata": {},
   "outputs": [],
   "source": [
    "accuracy_score(y_train,y_train_predict),accuracy_score(y_test,y_test_predict)"
   ]
  },
  {
   "cell_type": "code",
   "execution_count": null,
   "metadata": {},
   "outputs": [],
   "source": [
    "joblib.dump(lgbm_age,'./model/lgbm_age_w2v128_cate350.pkl')"
   ]
  },
  {
   "cell_type": "markdown",
   "metadata": {},
   "source": [
    "## 测试集输出结果"
   ]
  },
  {
   "cell_type": "markdown",
   "metadata": {},
   "source": [
    "性别"
   ]
  },
  {
   "cell_type": "code",
   "execution_count": 78,
   "metadata": {
    "ExecuteTime": {
     "end_time": "2020-05-21T11:48:48.293779Z",
     "start_time": "2020-05-21T11:48:17.720735Z"
    }
   },
   "outputs": [],
   "source": [
    "train_result_gender = lgbm_gender.predict(df_sample_train[feature_columns])"
   ]
  },
  {
   "cell_type": "code",
   "execution_count": 79,
   "metadata": {
    "ExecuteTime": {
     "end_time": "2020-05-21T11:48:52.748524Z",
     "start_time": "2020-05-21T11:48:52.671479Z"
    },
    "scrolled": true
   },
   "outputs": [
    {
     "data": {
      "text/plain": [
       "0.9407177777777778"
      ]
     },
     "execution_count": 79,
     "metadata": {},
     "output_type": "execute_result"
    }
   ],
   "source": [
    "accuracy_score(df_sample_train['gender'],train_result_gender)"
   ]
  },
  {
   "cell_type": "code",
   "execution_count": null,
   "metadata": {},
   "outputs": [],
   "source": [
    "df_sample_train['predicted_gender']=train_result_gender"
   ]
  },
  {
   "cell_type": "code",
   "execution_count": 80,
   "metadata": {
    "ExecuteTime": {
     "end_time": "2020-05-21T11:49:26.786532Z",
     "start_time": "2020-05-21T11:48:56.937917Z"
    }
   },
   "outputs": [],
   "source": [
    "test_result_gender = lgbm_gender.predict(df_sample_test[feature_columns])"
   ]
  },
  {
   "cell_type": "code",
   "execution_count": 124,
   "metadata": {
    "ExecuteTime": {
     "end_time": "2020-05-20T08:38:08.040721Z",
     "start_time": "2020-05-20T08:38:08.037073Z"
    },
    "scrolled": true
   },
   "outputs": [
    {
     "data": {
      "text/plain": [
       "array([1, 2, 1, ..., 1, 1, 1])"
      ]
     },
     "execution_count": 124,
     "metadata": {},
     "output_type": "execute_result"
    }
   ],
   "source": [
    "test_result_gender"
   ]
  },
  {
   "cell_type": "code",
   "execution_count": 81,
   "metadata": {
    "ExecuteTime": {
     "end_time": "2020-05-21T11:49:30.936209Z",
     "start_time": "2020-05-21T11:49:30.927852Z"
    }
   },
   "outputs": [],
   "source": [
    "df_sample_test['predicted_gender'] = test_result_gender"
   ]
  },
  {
   "cell_type": "markdown",
   "metadata": {},
   "source": [
    "年龄"
   ]
  },
  {
   "cell_type": "code",
   "execution_count": 85,
   "metadata": {
    "ExecuteTime": {
     "end_time": "2020-05-21T11:55:26.846854Z",
     "start_time": "2020-05-21T11:50:42.607379Z"
    }
   },
   "outputs": [],
   "source": [
    "train_result_age = lgbm_age.predict(df_sample_train[feature_columns])"
   ]
  },
  {
   "cell_type": "code",
   "execution_count": 86,
   "metadata": {
    "ExecuteTime": {
     "end_time": "2020-05-21T11:55:30.810604Z",
     "start_time": "2020-05-21T11:55:30.752413Z"
    },
    "scrolled": true
   },
   "outputs": [
    {
     "data": {
      "text/plain": [
       "0.5245644444444445"
      ]
     },
     "execution_count": 86,
     "metadata": {},
     "output_type": "execute_result"
    }
   ],
   "source": [
    "accuracy_score(df_sample_train['age'],train_result_age)"
   ]
  },
  {
   "cell_type": "code",
   "execution_count": null,
   "metadata": {},
   "outputs": [],
   "source": [
    "df_sample_train['predicted_age']=train_result_age"
   ]
  },
  {
   "cell_type": "code",
   "execution_count": 87,
   "metadata": {
    "ExecuteTime": {
     "end_time": "2020-05-21T12:00:48.402283Z",
     "start_time": "2020-05-21T11:55:34.501985Z"
    }
   },
   "outputs": [],
   "source": [
    "test_result_age = lgbm_age.predict(df_sample_test[feature_columns])"
   ]
  },
  {
   "cell_type": "code",
   "execution_count": 167,
   "metadata": {
    "ExecuteTime": {
     "end_time": "2020-05-20T09:56:49.832033Z",
     "start_time": "2020-05-20T09:56:49.828791Z"
    },
    "scrolled": false
   },
   "outputs": [
    {
     "data": {
      "text/plain": [
       "array([6, 2, 4, ..., 3, 3, 3])"
      ]
     },
     "execution_count": 167,
     "metadata": {},
     "output_type": "execute_result"
    }
   ],
   "source": [
    "test_result_age"
   ]
  },
  {
   "cell_type": "code",
   "execution_count": 92,
   "metadata": {
    "ExecuteTime": {
     "end_time": "2020-05-21T12:16:40.436054Z",
     "start_time": "2020-05-21T12:16:40.427506Z"
    }
   },
   "outputs": [],
   "source": [
    "df_sample_test['predicted_age'] = test_result_age"
   ]
  },
  {
   "cell_type": "markdown",
   "metadata": {},
   "source": [
    "导出结果"
   ]
  },
  {
   "cell_type": "code",
   "execution_count": 93,
   "metadata": {
    "ExecuteTime": {
     "end_time": "2020-05-21T12:16:50.959160Z",
     "start_time": "2020-05-21T12:16:44.430367Z"
    }
   },
   "outputs": [],
   "source": [
    "df_sample_test[['user_id','predicted_age','predicted_gender']].to_csv(\"./result/submission.csv\",index=False)"
   ]
  },
  {
   "cell_type": "code",
   "execution_count": 171,
   "metadata": {
    "ExecuteTime": {
     "end_time": "2020-05-20T09:57:50.677001Z",
     "start_time": "2020-05-20T09:57:50.551700Z"
    }
   },
   "outputs": [],
   "source": [
    "df_sample_test_result = pd.read_csv(\"./result/submission.csv\")"
   ]
  },
  {
   "cell_type": "code",
   "execution_count": 172,
   "metadata": {
    "ExecuteTime": {
     "end_time": "2020-05-20T09:57:52.628903Z",
     "start_time": "2020-05-20T09:57:52.625658Z"
    }
   },
   "outputs": [
    {
     "data": {
      "text/plain": [
       "(1000000, 3)"
      ]
     },
     "execution_count": 172,
     "metadata": {},
     "output_type": "execute_result"
    }
   ],
   "source": [
    "df_sample_test_result.shape"
   ]
  },
  {
   "cell_type": "markdown",
   "metadata": {},
   "source": [
    "观察测试集和训练集预测标签分布"
   ]
  },
  {
   "cell_type": "code",
   "execution_count": 130,
   "metadata": {
    "ExecuteTime": {
     "end_time": "2020-05-20T08:41:25.806873Z",
     "start_time": "2020-05-20T08:41:25.795756Z"
    }
   },
   "outputs": [
    {
     "data": {
      "text/plain": [
       "1    602610\n",
       "2    297390\n",
       "Name: gender, dtype: int64"
      ]
     },
     "execution_count": 130,
     "metadata": {},
     "output_type": "execute_result"
    }
   ],
   "source": [
    "df_sample_train['gender'].value_counts()"
   ]
  },
  {
   "cell_type": "code",
   "execution_count": null,
   "metadata": {},
   "outputs": [],
   "source": [
    "df_sample_train['predicted_gender'].value_counts()"
   ]
  },
  {
   "cell_type": "code",
   "execution_count": 82,
   "metadata": {
    "ExecuteTime": {
     "end_time": "2020-05-21T11:49:34.660325Z",
     "start_time": "2020-05-21T11:49:34.648512Z"
    },
    "scrolled": true
   },
   "outputs": [
    {
     "data": {
      "text/plain": [
       "1    679278\n",
       "2    320722\n",
       "Name: predicted_gender, dtype: int64"
      ]
     },
     "execution_count": 82,
     "metadata": {},
     "output_type": "execute_result"
    }
   ],
   "source": [
    "df_sample_test['predicted_gender'].value_counts()"
   ]
  },
  {
   "cell_type": "code",
   "execution_count": null,
   "metadata": {},
   "outputs": [],
   "source": [
    "df_sample_train['age'].value_counts()"
   ]
  },
  {
   "cell_type": "code",
   "execution_count": null,
   "metadata": {},
   "outputs": [],
   "source": [
    "df_sample_train['predicted_age'].value_counts()"
   ]
  },
  {
   "cell_type": "code",
   "execution_count": null,
   "metadata": {},
   "outputs": [],
   "source": [
    "df_sample_test['predicted_age'].value_counts()"
   ]
  }
 ],
 "metadata": {
  "kernelspec": {
   "display_name": "Python 3",
   "language": "python",
   "name": "python3"
  },
  "language_info": {
   "codemirror_mode": {
    "name": "ipython",
    "version": 3
   },
   "file_extension": ".py",
   "mimetype": "text/x-python",
   "name": "python",
   "nbconvert_exporter": "python",
   "pygments_lexer": "ipython3",
   "version": "3.6.5"
  },
  "toc": {
   "base_numbering": 1,
   "nav_menu": {},
   "number_sections": true,
   "sideBar": true,
   "skip_h1_title": false,
   "title_cell": "Table of Contents",
   "title_sidebar": "Contents",
   "toc_cell": false,
   "toc_position": {
    "height": "calc(100% - 180px)",
    "left": "10px",
    "top": "150px",
    "width": "384px"
   },
   "toc_section_display": true,
   "toc_window_display": true
  },
  "varInspector": {
   "cols": {
    "lenName": 16,
    "lenType": 16,
    "lenVar": 40
   },
   "kernels_config": {
    "python": {
     "delete_cmd_postfix": "",
     "delete_cmd_prefix": "del ",
     "library": "var_list.py",
     "varRefreshCmd": "print(var_dic_list())"
    },
    "r": {
     "delete_cmd_postfix": ") ",
     "delete_cmd_prefix": "rm(",
     "library": "var_list.r",
     "varRefreshCmd": "cat(var_dic_list()) "
    }
   },
   "position": {
    "height": "518.85px",
    "left": "1569px",
    "right": "20px",
    "top": "127px",
    "width": "350px"
   },
   "types_to_exclude": [
    "module",
    "function",
    "builtin_function_or_method",
    "instance",
    "_Feature"
   ],
   "window_display": true
  }
 },
 "nbformat": 4,
 "nbformat_minor": 4
}
