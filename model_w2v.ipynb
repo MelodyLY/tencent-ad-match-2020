{
 "cells": [
  {
   "cell_type": "markdown",
   "metadata": {},
   "source": [
    "# age|gender预测-word2vec版"
   ]
  },
  {
   "cell_type": "code",
   "execution_count": 16,
   "metadata": {
    "ExecuteTime": {
     "end_time": "2020-06-28T13:25:51.635524Z",
     "start_time": "2020-06-28T13:25:51.633307Z"
    }
   },
   "outputs": [],
   "source": [
    "import numpy as np\n",
    "import pandas as pd"
   ]
  },
  {
   "cell_type": "code",
   "execution_count": 17,
   "metadata": {
    "ExecuteTime": {
     "end_time": "2020-06-28T13:25:52.291413Z",
     "start_time": "2020-06-28T13:25:52.289328Z"
    }
   },
   "outputs": [],
   "source": [
    "import gc"
   ]
  },
  {
   "cell_type": "markdown",
   "metadata": {},
   "source": [
    "## 载入用户点击日志"
   ]
  },
  {
   "cell_type": "code",
   "execution_count": 18,
   "metadata": {
    "ExecuteTime": {
     "end_time": "2020-06-28T13:26:19.488092Z",
     "start_time": "2020-06-28T13:25:54.401956Z"
    }
   },
   "outputs": [],
   "source": [
    "pd_user_ad_list = pd.read_csv(\"./data/pd_user_ad_id_seg_all_click_time.csv\")"
   ]
  },
  {
   "cell_type": "code",
   "execution_count": 19,
   "metadata": {
    "ExecuteTime": {
     "end_time": "2020-06-28T13:28:23.878626Z",
     "start_time": "2020-06-28T13:28:23.865558Z"
    }
   },
   "outputs": [
    {
     "data": {
      "text/html": [
       "<div>\n",
       "<style scoped>\n",
       "    .dataframe tbody tr th:only-of-type {\n",
       "        vertical-align: middle;\n",
       "    }\n",
       "\n",
       "    .dataframe tbody tr th {\n",
       "        vertical-align: top;\n",
       "    }\n",
       "\n",
       "    .dataframe thead th {\n",
       "        text-align: right;\n",
       "    }\n",
       "</style>\n",
       "<table border=\"1\" class=\"dataframe\">\n",
       "  <thead>\n",
       "    <tr style=\"text-align: right;\">\n",
       "      <th></th>\n",
       "      <th>user_id</th>\n",
       "      <th>time</th>\n",
       "      <th>creative_id</th>\n",
       "      <th>click_times</th>\n",
       "      <th>ad_id</th>\n",
       "      <th>product_id</th>\n",
       "      <th>product_category</th>\n",
       "      <th>advertiser_id</th>\n",
       "      <th>industry</th>\n",
       "    </tr>\n",
       "  </thead>\n",
       "  <tbody>\n",
       "    <tr>\n",
       "      <th>0</th>\n",
       "      <td>1</td>\n",
       "      <td>20 20 20 39 40 43 46 52 60 64 64 73 76</td>\n",
       "      <td>877468 209778 821396 1683713 122032 71691 1940...</td>\n",
       "      <td>1 1 1 1 1 1 1 1 1 1 1 1 2</td>\n",
       "      <td>773445 188507 724607 1458878 109959 66210 1678...</td>\n",
       "      <td>0 136 0 0 1334 0 0 0 0 64 1454 64 1261</td>\n",
       "      <td>5 2 5 5 2 18 5 5 18 2 2 2 2</td>\n",
       "      <td>29455 9702 7293 14668 11411 14681 17189 367 44...</td>\n",
       "      <td>106 6 326 326 0 326 73 217 64 245 238 245 6</td>\n",
       "    </tr>\n",
       "    <tr>\n",
       "      <th>1</th>\n",
       "      <td>2</td>\n",
       "      <td>10 11 14 17 28 28 28 38 38 39 41 42 42 42 44 4...</td>\n",
       "      <td>63441 155822 39714 609050 13069 1266180 441462...</td>\n",
       "      <td>1 1 1 1 1 1 1 1 1 1 1 1 1 1 1 1 1 1 1 1 1 1 1 ...</td>\n",
       "      <td>58788 139702 38066 541125 14495 1107111 392680...</td>\n",
       "      <td>87 80 129 129 1400 0 87 0 1261 0 111 129 0 0 0...</td>\n",
       "      <td>2 2 2 2 2 18 2 18 2 18 2 2 18 18 18 18 2 2 2 2...</td>\n",
       "      <td>22885 10686 18562 25932 768 34505 22885 26006 ...</td>\n",
       "      <td>318 238 6 6 317 47 318 47 6 47 242 6 47 6 47 4...</td>\n",
       "    </tr>\n",
       "    <tr>\n",
       "      <th>2</th>\n",
       "      <td>3</td>\n",
       "      <td>12 13 14 14 14 17 19 22 31 36 37 44 47 47 50 5...</td>\n",
       "      <td>661347 808612 593522 825434 710859 726940 3920...</td>\n",
       "      <td>1 1 1 1 1 1 1 1 1 1 1 1 1 1 1 1 1 1 1 1 1 1 1 ...</td>\n",
       "      <td>586668 713448 527601 728308 629278 643108 3502...</td>\n",
       "      <td>36256 40905 1674 35985 1674 0 0 1031 1786 2258...</td>\n",
       "      <td>17 17 2 17 2 18 18 2 2 2 18 12 2 2 18 18 8 4 2...</td>\n",
       "      <td>32974 9877 17018 14186 18492 9058 8371 2336 39...</td>\n",
       "      <td>0 0 322 0 322 6 54 6 322 322 205 302 322 322 2...</td>\n",
       "    </tr>\n",
       "    <tr>\n",
       "      <th>3</th>\n",
       "      <td>4</td>\n",
       "      <td>8 15 41 44 48 48 48 48 49 52 58 58 59 61 62 62...</td>\n",
       "      <td>39588 589886 574787 1892854 1230094 31070 2264...</td>\n",
       "      <td>1 1 1 1 1 1 1 1 1 1 1 1 1 1 1 1 1 1 1 1 1 1 1 ...</td>\n",
       "      <td>37966 524312 511235 1638619 1076286 30773 1953...</td>\n",
       "      <td>1862 0 2625 38743 39904 39422 37758 41265 0 15...</td>\n",
       "      <td>2 18 2 17 17 17 4 17 18 2 2 2 2 2 2 2 2 2 5 2 ...</td>\n",
       "      <td>19451 7976 13084 12130 10172 13299 811 23664 1...</td>\n",
       "      <td>238 25 248 0 0 0 0 0 88 319 6 238 319 238 319 ...</td>\n",
       "    </tr>\n",
       "    <tr>\n",
       "      <th>4</th>\n",
       "      <td>5</td>\n",
       "      <td>3 13 14 15 20 21 24 25 27 28 29 30 32 32 35 35...</td>\n",
       "      <td>296145 350759 24333 43235 852327 1054434 12964...</td>\n",
       "      <td>1 1 1 1 1 2 1 1 1 1 1 1 1 1 1 1 1 1 1 1 1 1 1 ...</td>\n",
       "      <td>265971 314795 24966 41148 751113 925792 113378...</td>\n",
       "      <td>0 0 87 136 0 136 0 0 0 1064 0 2620 0 0 0 136 2...</td>\n",
       "      <td>5 8 2 2 18 2 5 18 18 2 18 2 5 5 18 2 2 18 18 5...</td>\n",
       "      <td>11882 992 22885 9706 38760 2862 17745 31552 22...</td>\n",
       "      <td>297 0 318 6 322 6 288 322 319 238 322 322 203 ...</td>\n",
       "    </tr>\n",
       "  </tbody>\n",
       "</table>\n",
       "</div>"
      ],
      "text/plain": [
       "   user_id                                               time  \\\n",
       "0        1             20 20 20 39 40 43 46 52 60 64 64 73 76   \n",
       "1        2  10 11 14 17 28 28 28 38 38 39 41 42 42 42 44 4...   \n",
       "2        3  12 13 14 14 14 17 19 22 31 36 37 44 47 47 50 5...   \n",
       "3        4  8 15 41 44 48 48 48 48 49 52 58 58 59 61 62 62...   \n",
       "4        5  3 13 14 15 20 21 24 25 27 28 29 30 32 32 35 35...   \n",
       "\n",
       "                                         creative_id  \\\n",
       "0  877468 209778 821396 1683713 122032 71691 1940...   \n",
       "1  63441 155822 39714 609050 13069 1266180 441462...   \n",
       "2  661347 808612 593522 825434 710859 726940 3920...   \n",
       "3  39588 589886 574787 1892854 1230094 31070 2264...   \n",
       "4  296145 350759 24333 43235 852327 1054434 12964...   \n",
       "\n",
       "                                         click_times  \\\n",
       "0                          1 1 1 1 1 1 1 1 1 1 1 1 2   \n",
       "1  1 1 1 1 1 1 1 1 1 1 1 1 1 1 1 1 1 1 1 1 1 1 1 ...   \n",
       "2  1 1 1 1 1 1 1 1 1 1 1 1 1 1 1 1 1 1 1 1 1 1 1 ...   \n",
       "3  1 1 1 1 1 1 1 1 1 1 1 1 1 1 1 1 1 1 1 1 1 1 1 ...   \n",
       "4  1 1 1 1 1 2 1 1 1 1 1 1 1 1 1 1 1 1 1 1 1 1 1 ...   \n",
       "\n",
       "                                               ad_id  \\\n",
       "0  773445 188507 724607 1458878 109959 66210 1678...   \n",
       "1  58788 139702 38066 541125 14495 1107111 392680...   \n",
       "2  586668 713448 527601 728308 629278 643108 3502...   \n",
       "3  37966 524312 511235 1638619 1076286 30773 1953...   \n",
       "4  265971 314795 24966 41148 751113 925792 113378...   \n",
       "\n",
       "                                          product_id  \\\n",
       "0             0 136 0 0 1334 0 0 0 0 64 1454 64 1261   \n",
       "1  87 80 129 129 1400 0 87 0 1261 0 111 129 0 0 0...   \n",
       "2  36256 40905 1674 35985 1674 0 0 1031 1786 2258...   \n",
       "3  1862 0 2625 38743 39904 39422 37758 41265 0 15...   \n",
       "4  0 0 87 136 0 136 0 0 0 1064 0 2620 0 0 0 136 2...   \n",
       "\n",
       "                                    product_category  \\\n",
       "0                        5 2 5 5 2 18 5 5 18 2 2 2 2   \n",
       "1  2 2 2 2 2 18 2 18 2 18 2 2 18 18 18 18 2 2 2 2...   \n",
       "2  17 17 2 17 2 18 18 2 2 2 18 12 2 2 18 18 8 4 2...   \n",
       "3  2 18 2 17 17 17 4 17 18 2 2 2 2 2 2 2 2 2 5 2 ...   \n",
       "4  5 8 2 2 18 2 5 18 18 2 18 2 5 5 18 2 2 18 18 5...   \n",
       "\n",
       "                                       advertiser_id  \\\n",
       "0  29455 9702 7293 14668 11411 14681 17189 367 44...   \n",
       "1  22885 10686 18562 25932 768 34505 22885 26006 ...   \n",
       "2  32974 9877 17018 14186 18492 9058 8371 2336 39...   \n",
       "3  19451 7976 13084 12130 10172 13299 811 23664 1...   \n",
       "4  11882 992 22885 9706 38760 2862 17745 31552 22...   \n",
       "\n",
       "                                            industry  \n",
       "0        106 6 326 326 0 326 73 217 64 245 238 245 6  \n",
       "1  318 238 6 6 317 47 318 47 6 47 242 6 47 6 47 4...  \n",
       "2  0 0 322 0 322 6 54 6 322 322 205 302 322 322 2...  \n",
       "3  238 25 248 0 0 0 0 0 88 319 6 238 319 238 319 ...  \n",
       "4  297 0 318 6 322 6 288 322 319 238 322 322 203 ...  "
      ]
     },
     "execution_count": 19,
     "metadata": {},
     "output_type": "execute_result"
    }
   ],
   "source": [
    "pd_user_ad_list.head()"
   ]
  },
  {
   "cell_type": "code",
   "execution_count": 20,
   "metadata": {
    "ExecuteTime": {
     "end_time": "2020-06-28T13:28:24.556328Z",
     "start_time": "2020-06-28T13:28:24.553401Z"
    }
   },
   "outputs": [
    {
     "data": {
      "text/plain": [
       "(1900000, 9)"
      ]
     },
     "execution_count": 20,
     "metadata": {},
     "output_type": "execute_result"
    }
   ],
   "source": [
    "pd_user_ad_list.shape"
   ]
  },
  {
   "cell_type": "markdown",
   "metadata": {},
   "source": [
    "### 标签信息"
   ]
  },
  {
   "cell_type": "code",
   "execution_count": 21,
   "metadata": {
    "ExecuteTime": {
     "end_time": "2020-06-28T13:28:26.854921Z",
     "start_time": "2020-06-28T13:28:26.745043Z"
    }
   },
   "outputs": [],
   "source": [
    "df_user_label = pd.read_csv(\"./data/train_preliminary/user.csv\")"
   ]
  },
  {
   "cell_type": "code",
   "execution_count": 22,
   "metadata": {
    "ExecuteTime": {
     "end_time": "2020-06-28T13:28:27.293116Z",
     "start_time": "2020-06-28T13:28:27.290270Z"
    },
    "scrolled": true
   },
   "outputs": [
    {
     "data": {
      "text/plain": [
       "(900000, 3)"
      ]
     },
     "execution_count": 22,
     "metadata": {},
     "output_type": "execute_result"
    }
   ],
   "source": [
    "df_user_label.shape"
   ]
  },
  {
   "cell_type": "markdown",
   "metadata": {},
   "source": [
    "#### 分离出测试集用户id"
   ]
  },
  {
   "cell_type": "code",
   "execution_count": 23,
   "metadata": {
    "ExecuteTime": {
     "end_time": "2020-06-28T13:28:29.485409Z",
     "start_time": "2020-06-28T13:28:29.032874Z"
    }
   },
   "outputs": [],
   "source": [
    "user_ids_test = set(pd_user_ad_list['user_id'].unique())-set(df_user_label['user_id'].values)"
   ]
  },
  {
   "cell_type": "code",
   "execution_count": 24,
   "metadata": {
    "ExecuteTime": {
     "end_time": "2020-06-28T13:28:31.825449Z",
     "start_time": "2020-06-28T13:28:31.822656Z"
    }
   },
   "outputs": [
    {
     "data": {
      "text/plain": [
       "1000000"
      ]
     },
     "execution_count": 24,
     "metadata": {},
     "output_type": "execute_result"
    }
   ],
   "source": [
    "len(user_ids_test)"
   ]
  },
  {
   "cell_type": "code",
   "execution_count": 25,
   "metadata": {
    "ExecuteTime": {
     "end_time": "2020-06-28T13:28:34.407921Z",
     "start_time": "2020-06-28T13:28:34.151748Z"
    }
   },
   "outputs": [],
   "source": [
    "df_test_user_id = pd.DataFrame(data=user_ids_test,columns=['user_id'])"
   ]
  },
  {
   "cell_type": "code",
   "execution_count": 26,
   "metadata": {
    "ExecuteTime": {
     "end_time": "2020-06-28T13:28:36.747746Z",
     "start_time": "2020-06-28T13:28:36.744943Z"
    }
   },
   "outputs": [
    {
     "data": {
      "text/plain": [
       "(1000000, 1)"
      ]
     },
     "execution_count": 26,
     "metadata": {},
     "output_type": "execute_result"
    }
   ],
   "source": [
    "df_test_user_id.shape"
   ]
  },
  {
   "cell_type": "code",
   "execution_count": 27,
   "metadata": {
    "ExecuteTime": {
     "end_time": "2020-06-28T13:28:39.110103Z",
     "start_time": "2020-06-28T13:28:39.104889Z"
    }
   },
   "outputs": [
    {
     "data": {
      "text/plain": [
       "(3000001, 4000000)"
      ]
     },
     "execution_count": 27,
     "metadata": {},
     "output_type": "execute_result"
    }
   ],
   "source": [
    "df_test_user_id['user_id'].min(),df_test_user_id['user_id'].max()"
   ]
  },
  {
   "cell_type": "code",
   "execution_count": 28,
   "metadata": {
    "ExecuteTime": {
     "end_time": "2020-06-28T13:28:41.469831Z",
     "start_time": "2020-06-28T13:28:41.464841Z"
    }
   },
   "outputs": [
    {
     "data": {
      "text/plain": [
       "(1, 900000)"
      ]
     },
     "execution_count": 28,
     "metadata": {},
     "output_type": "execute_result"
    }
   ],
   "source": [
    "df_user_label['user_id'].min(),df_user_label['user_id'].max()"
   ]
  },
  {
   "cell_type": "markdown",
   "metadata": {},
   "source": [
    "## 训练词向量"
   ]
  },
  {
   "cell_type": "markdown",
   "metadata": {},
   "source": [
    "### w2v"
   ]
  },
  {
   "cell_type": "code",
   "execution_count": 30,
   "metadata": {
    "ExecuteTime": {
     "end_time": "2020-06-28T13:32:54.773195Z",
     "start_time": "2020-06-28T13:32:54.770609Z"
    }
   },
   "outputs": [],
   "source": [
    "from gensim.models import Word2Vec\n",
    "from gensim.models import KeyedVectors\n",
    "from gensim.models import word2vec"
   ]
  },
  {
   "cell_type": "code",
   "execution_count": null,
   "metadata": {
    "ExecuteTime": {
     "end_time": "2020-05-20T12:05:51.291801Z",
     "start_time": "2020-05-20T12:05:41.211762Z"
    }
   },
   "outputs": [],
   "source": [
    "#pd_user_ad_list[['id_segcontent']].to_csv(\"./data/creative_id_seg_content.csv\",header=False,index=False)"
   ]
  },
  {
   "cell_type": "code",
   "execution_count": 40,
   "metadata": {
    "ExecuteTime": {
     "end_time": "2020-06-28T13:48:10.400476Z",
     "start_time": "2020-06-28T13:48:10.396677Z"
    }
   },
   "outputs": [],
   "source": [
    "def get_seg_list(dfData,col_name):\n",
    "    '''\n",
    "    获取指定id类型的用户id序列\n",
    "    Parameters\n",
    "    ----------\n",
    "    dfData：pandas.DataFrame，需包含列名['user_id','time','creative_id','click_times','ad_id','product_id','product_category','advertiser_id','industry']\n",
    "    col_name：str,列名\n",
    "    Returns\n",
    "    ----------\n",
    "    cr_segcontent_list：list,用户id序列\n",
    "    '''\n",
    "    cr_segcontent_list=[]\n",
    "    count=0\n",
    "    for segcontent in dfData[col_name].values:\n",
    "        count+=1\n",
    "        cr_segcontent_list.append(segcontent.split(\" \"))\n",
    "        if count%100000==0:\n",
    "            print(count)\n",
    "    return cr_segcontent_list"
   ]
  },
  {
   "cell_type": "markdown",
   "metadata": {},
   "source": [
    "#### 素材id"
   ]
  },
  {
   "cell_type": "code",
   "execution_count": 34,
   "metadata": {
    "ExecuteTime": {
     "end_time": "2020-06-28T13:33:44.370426Z",
     "start_time": "2020-06-28T13:33:36.377259Z"
    },
    "scrolled": true
   },
   "outputs": [
    {
     "name": "stdout",
     "output_type": "stream",
     "text": [
      "100000\n",
      "200000\n",
      "300000\n",
      "400000\n",
      "500000\n",
      "600000\n",
      "700000\n",
      "800000\n",
      "900000\n",
      "1000000\n",
      "1100000\n",
      "1200000\n",
      "1300000\n",
      "1400000\n",
      "1500000\n",
      "1600000\n",
      "1700000\n",
      "1800000\n",
      "1900000\n"
     ]
    }
   ],
   "source": [
    "cr_segcontent_list=get_seg_list(pd_user_ad_list,'creative_id')"
   ]
  },
  {
   "cell_type": "code",
   "execution_count": 35,
   "metadata": {
    "ExecuteTime": {
     "end_time": "2020-06-28T13:34:14.496387Z",
     "start_time": "2020-06-28T13:34:14.493293Z"
    },
    "scrolled": false
   },
   "outputs": [
    {
     "data": {
      "text/plain": [
       "['877468',\n",
       " '209778',\n",
       " '821396',\n",
       " '1683713',\n",
       " '122032',\n",
       " '71691',\n",
       " '1940159',\n",
       " '90171',\n",
       " '2087846',\n",
       " '2456345',\n",
       " '3068256',\n",
       " '2456345',\n",
       " '3592928']"
      ]
     },
     "execution_count": 35,
     "metadata": {},
     "output_type": "execute_result"
    }
   ],
   "source": [
    "cr_segcontent_list[0]"
   ]
  },
  {
   "cell_type": "markdown",
   "metadata": {},
   "source": [
    "训练词向量"
   ]
  },
  {
   "cell_type": "code",
   "execution_count": 123,
   "metadata": {
    "ExecuteTime": {
     "end_time": "2020-06-21T08:30:36.374136Z",
     "start_time": "2020-06-21T07:11:39.467441Z"
    }
   },
   "outputs": [],
   "source": [
    "wv_model_cr = Word2Vec(cr_segcontent_list,size=128,sg=1, window=100, min_count=1, iter=10,workers=24)"
   ]
  },
  {
   "cell_type": "code",
   "execution_count": 25,
   "metadata": {
    "ExecuteTime": {
     "end_time": "2020-06-20T10:10:22.607764Z",
     "start_time": "2020-06-20T10:10:22.603876Z"
    },
    "scrolled": true
   },
   "outputs": [
    {
     "data": {
      "text/plain": [
       "128"
      ]
     },
     "execution_count": 25,
     "metadata": {},
     "output_type": "execute_result"
    }
   ],
   "source": [
    "wv_model_cr.wv.vector_size"
   ]
  },
  {
   "cell_type": "markdown",
   "metadata": {},
   "source": [
    "保存词向量"
   ]
  },
  {
   "cell_type": "code",
   "execution_count": 124,
   "metadata": {
    "ExecuteTime": {
     "end_time": "2020-06-21T08:32:42.128080Z",
     "start_time": "2020-06-21T08:32:29.369255Z"
    }
   },
   "outputs": [],
   "source": [
    "wv_model_cr.wv.save(\"./model/word2vec/kv_cr/tx_gender_age_log_sg_win100_neg5_dim128_iter10_minc1_w2v_cr.kv\")"
   ]
  },
  {
   "cell_type": "markdown",
   "metadata": {},
   "source": [
    "载入词向量"
   ]
  },
  {
   "cell_type": "code",
   "execution_count": 38,
   "metadata": {
    "ExecuteTime": {
     "end_time": "2020-06-28T13:46:22.682721Z",
     "start_time": "2020-06-28T13:46:07.419544Z"
    }
   },
   "outputs": [],
   "source": [
    "wv_cr = KeyedVectors.load(\"./model/word2vec/kv_cr/tx_gender_age_log_sg_win100_neg5_dim128_iter10_minc1_w2v_cr.kv\", mmap='r')"
   ]
  },
  {
   "cell_type": "code",
   "execution_count": 118,
   "metadata": {
    "ExecuteTime": {
     "end_time": "2020-06-20T13:53:08.268750Z",
     "start_time": "2020-06-20T13:53:07.508682Z"
    }
   },
   "outputs": [],
   "source": [
    "#del wv_cr"
   ]
  },
  {
   "cell_type": "code",
   "execution_count": 126,
   "metadata": {
    "ExecuteTime": {
     "end_time": "2020-06-21T08:34:03.917508Z",
     "start_time": "2020-06-21T08:34:03.615373Z"
    }
   },
   "outputs": [],
   "source": [
    "del wv_model_cr"
   ]
  },
  {
   "cell_type": "code",
   "execution_count": 127,
   "metadata": {
    "ExecuteTime": {
     "end_time": "2020-06-21T08:34:45.642168Z",
     "start_time": "2020-06-21T08:34:41.568998Z"
    }
   },
   "outputs": [
    {
     "data": {
      "text/plain": [
       "0"
      ]
     },
     "execution_count": 127,
     "metadata": {},
     "output_type": "execute_result"
    }
   ],
   "source": [
    "gc.collect()"
   ]
  },
  {
   "cell_type": "code",
   "execution_count": 44,
   "metadata": {
    "ExecuteTime": {
     "end_time": "2020-06-28T13:54:22.528177Z",
     "start_time": "2020-06-28T13:54:22.525284Z"
    }
   },
   "outputs": [
    {
     "data": {
      "text/plain": [
       "numpy.memmap"
      ]
     },
     "execution_count": 44,
     "metadata": {},
     "output_type": "execute_result"
    }
   ],
   "source": [
    "type(wv_cr['877468'])"
   ]
  },
  {
   "cell_type": "code",
   "execution_count": 45,
   "metadata": {
    "ExecuteTime": {
     "end_time": "2020-06-28T13:54:53.949084Z",
     "start_time": "2020-06-28T13:54:53.945894Z"
    }
   },
   "outputs": [
    {
     "data": {
      "text/plain": [
       "3412772"
      ]
     },
     "execution_count": 45,
     "metadata": {},
     "output_type": "execute_result"
    }
   ],
   "source": [
    "len(wv_cr.vocab.keys())"
   ]
  },
  {
   "cell_type": "markdown",
   "metadata": {},
   "source": [
    "#### 广告id"
   ]
  },
  {
   "cell_type": "code",
   "execution_count": 59,
   "metadata": {
    "ExecuteTime": {
     "end_time": "2020-06-28T14:21:22.382660Z",
     "start_time": "2020-06-28T14:21:12.921574Z"
    },
    "scrolled": false
   },
   "outputs": [
    {
     "name": "stdout",
     "output_type": "stream",
     "text": [
      "100000\n",
      "200000\n",
      "300000\n",
      "400000\n",
      "500000\n",
      "600000\n",
      "700000\n",
      "800000\n",
      "900000\n",
      "1000000\n",
      "1100000\n",
      "1200000\n",
      "1300000\n",
      "1400000\n",
      "1500000\n",
      "1600000\n",
      "1700000\n",
      "1800000\n",
      "1900000\n"
     ]
    }
   ],
   "source": [
    "ad_segcontent_list = get_seg_list(pd_user_ad_list,'ad_id')"
   ]
  },
  {
   "cell_type": "code",
   "execution_count": 7,
   "metadata": {
    "ExecuteTime": {
     "end_time": "2020-06-21T09:43:10.743925Z",
     "start_time": "2020-06-21T09:43:10.733977Z"
    }
   },
   "outputs": [
    {
     "data": {
      "text/plain": [
       "['773445',\n",
       " '188507',\n",
       " '724607',\n",
       " '1458878',\n",
       " '109959',\n",
       " '66210',\n",
       " '1678901',\n",
       " '82421',\n",
       " '1803758',\n",
       " '2116146',\n",
       " '2638858',\n",
       " '2116146',\n",
       " '3093461']"
      ]
     },
     "execution_count": 7,
     "metadata": {},
     "output_type": "execute_result"
    }
   ],
   "source": [
    "ad_segcontent_list[0]"
   ]
  },
  {
   "cell_type": "code",
   "execution_count": 8,
   "metadata": {
    "ExecuteTime": {
     "end_time": "2020-06-21T13:03:37.148278Z",
     "start_time": "2020-06-21T09:43:29.551579Z"
    }
   },
   "outputs": [],
   "source": [
    "wv_model_ad = Word2Vec(ad_segcontent_list,size=128,sg=1, window=10, min_count=1, iter=10,workers=24)"
   ]
  },
  {
   "cell_type": "code",
   "execution_count": 123,
   "metadata": {
    "ExecuteTime": {
     "end_time": "2020-06-20T15:04:32.170247Z",
     "start_time": "2020-06-20T15:04:32.166816Z"
    }
   },
   "outputs": [
    {
     "data": {
      "text/plain": [
       "128"
      ]
     },
     "execution_count": 123,
     "metadata": {},
     "output_type": "execute_result"
    }
   ],
   "source": [
    "wv_model_ad.wv.vector_size"
   ]
  },
  {
   "cell_type": "code",
   "execution_count": 124,
   "metadata": {
    "ExecuteTime": {
     "end_time": "2020-06-20T15:05:48.369062Z",
     "start_time": "2020-06-20T15:05:48.365721Z"
    }
   },
   "outputs": [
    {
     "data": {
      "text/plain": [
       "3027360"
      ]
     },
     "execution_count": 124,
     "metadata": {},
     "output_type": "execute_result"
    }
   ],
   "source": [
    "len(wv_model_ad.wv.vocab.keys())"
   ]
  },
  {
   "cell_type": "code",
   "execution_count": 49,
   "metadata": {
    "ExecuteTime": {
     "end_time": "2020-06-28T13:58:31.677372Z",
     "start_time": "2020-06-28T13:58:31.675424Z"
    }
   },
   "outputs": [],
   "source": [
    "#另一种保存方式，保存整个模型\n",
    "#wv_model_ad.save(\"./model/word2vec/tx_gender_age_log_sg_win10_neg5_dim128_iter10_minc1_w2v_ad.model\")"
   ]
  },
  {
   "cell_type": "code",
   "execution_count": 10,
   "metadata": {
    "ExecuteTime": {
     "end_time": "2020-06-21T14:03:36.869221Z",
     "start_time": "2020-06-21T14:03:26.192533Z"
    }
   },
   "outputs": [],
   "source": [
    "wv_model_ad.wv.save(\"./model/word2vec/kv_ad/tx_gender_age_log_sg_win10_neg5_dim128_iter10_minc1_w2v_ad.kv\")"
   ]
  },
  {
   "cell_type": "code",
   "execution_count": 46,
   "metadata": {
    "ExecuteTime": {
     "end_time": "2020-06-28T13:55:35.044318Z",
     "start_time": "2020-06-28T13:55:24.579336Z"
    }
   },
   "outputs": [],
   "source": [
    "wv_ad =  KeyedVectors.load(\"./model/word2vec/kv_ad/tx_gender_age_log_sg_win10_neg5_dim128_iter10_minc1_w2v_ad.kv\", mmap='r')"
   ]
  },
  {
   "cell_type": "code",
   "execution_count": 12,
   "metadata": {
    "ExecuteTime": {
     "end_time": "2020-06-21T14:04:40.405423Z",
     "start_time": "2020-06-21T14:04:40.292116Z"
    }
   },
   "outputs": [],
   "source": [
    "del wv_model_ad"
   ]
  },
  {
   "cell_type": "code",
   "execution_count": 13,
   "metadata": {
    "ExecuteTime": {
     "end_time": "2020-06-21T14:05:00.277946Z",
     "start_time": "2020-06-21T14:04:58.511157Z"
    }
   },
   "outputs": [
    {
     "data": {
      "text/plain": [
       "0"
      ]
     },
     "execution_count": 13,
     "metadata": {},
     "output_type": "execute_result"
    }
   ],
   "source": [
    "gc.collect()"
   ]
  },
  {
   "cell_type": "code",
   "execution_count": 47,
   "metadata": {
    "ExecuteTime": {
     "end_time": "2020-06-28T13:57:30.007411Z",
     "start_time": "2020-06-28T13:57:30.004327Z"
    }
   },
   "outputs": [
    {
     "data": {
      "text/plain": [
       "128"
      ]
     },
     "execution_count": 47,
     "metadata": {},
     "output_type": "execute_result"
    }
   ],
   "source": [
    "wv_ad.vector_size"
   ]
  },
  {
   "cell_type": "code",
   "execution_count": 48,
   "metadata": {
    "ExecuteTime": {
     "end_time": "2020-06-28T13:58:00.911454Z",
     "start_time": "2020-06-28T13:58:00.908256Z"
    }
   },
   "outputs": [
    {
     "data": {
      "text/plain": [
       "3027360"
      ]
     },
     "execution_count": 48,
     "metadata": {},
     "output_type": "execute_result"
    }
   ],
   "source": [
    "len(wv_ad.vocab.keys())"
   ]
  },
  {
   "cell_type": "code",
   "execution_count": 30,
   "metadata": {
    "ExecuteTime": {
     "end_time": "2020-06-15T02:44:55.586067Z",
     "start_time": "2020-06-15T02:44:55.486380Z"
    }
   },
   "outputs": [
    {
     "data": {
      "text/plain": [
       "memmap([ 0.52969337,  0.33892685, -0.0703271 , -0.34758982, -0.35821044,\n",
       "        -0.21997395,  0.49055594,  0.42249727,  0.24383329, -0.45413095,\n",
       "        -0.75186896,  0.45233342,  0.03626498,  0.2921691 , -0.34779158,\n",
       "        -0.68172795, -0.628323  , -0.73124325, -0.06407569,  0.13663574,\n",
       "        -0.11289886, -0.5851949 , -0.5324513 , -0.3608619 , -0.03872818,\n",
       "        -0.07542732,  0.3897827 ,  0.35616758,  0.33299232, -0.00696155,\n",
       "         0.04148217, -0.15156786, -0.07657099,  0.31003407, -0.35803583,\n",
       "         0.36154985,  0.03016107,  0.22941351,  0.05970838,  0.21700382,\n",
       "         0.27672017, -0.05959861,  0.32186624, -0.07051835, -0.04180244,\n",
       "         0.05897556, -0.31905413,  0.10865369, -0.44322863,  0.15936883,\n",
       "         0.12831885, -0.26384902, -0.6091436 , -1.0872767 ,  0.3676072 ,\n",
       "         0.14638689,  0.20025156, -0.20940013,  0.5903393 , -0.04398829,\n",
       "         0.20712706, -0.19877014, -0.0698178 , -0.03146586,  0.35813892,\n",
       "        -0.26679087, -0.16335687,  0.59887457,  0.63458365, -1.0104599 ,\n",
       "         0.17866105,  0.5447123 ,  0.3627116 ,  0.5706063 ,  0.0421099 ,\n",
       "        -0.02889795,  0.03995792,  0.3177751 , -0.53654766, -0.01910469,\n",
       "         0.06923352,  0.30910036, -0.38270557,  0.6458224 ,  0.729449  ,\n",
       "         0.10132169,  0.724842  ,  0.15509957,  0.15555145,  0.15261051,\n",
       "        -0.22720194,  0.46383247,  0.324526  , -0.15870215,  0.02820261,\n",
       "         0.05549273,  0.09758817,  0.07504604, -0.11740831,  0.57487005,\n",
       "         0.18109064,  0.21849546, -0.48188505, -0.36050653, -0.6208497 ,\n",
       "        -0.5336985 ,  0.0887236 ,  0.0520465 , -0.16297862,  0.14218923,\n",
       "         0.1673277 , -0.12870954, -0.1892068 ,  0.19194634,  0.11768327,\n",
       "         0.45935914,  0.47021368,  0.3178607 ,  0.16909179,  0.37193352,\n",
       "         0.15511759, -0.16033012,  0.49895424, -0.39949438, -0.6892195 ,\n",
       "         0.19533892, -0.12015317, -0.02406984], dtype=float32)"
      ]
     },
     "execution_count": 30,
     "metadata": {},
     "output_type": "execute_result"
    }
   ],
   "source": [
    "wv_ad['773445']"
   ]
  },
  {
   "cell_type": "markdown",
   "metadata": {},
   "source": [
    "#### 广告主id"
   ]
  },
  {
   "cell_type": "code",
   "execution_count": 60,
   "metadata": {
    "ExecuteTime": {
     "end_time": "2020-06-28T14:22:33.296199Z",
     "start_time": "2020-06-28T14:22:22.464837Z"
    }
   },
   "outputs": [
    {
     "name": "stdout",
     "output_type": "stream",
     "text": [
      "100000\n",
      "200000\n",
      "300000\n",
      "400000\n",
      "500000\n",
      "600000\n",
      "700000\n",
      "800000\n",
      "900000\n",
      "1000000\n",
      "1100000\n",
      "1200000\n",
      "1300000\n",
      "1400000\n",
      "1500000\n",
      "1600000\n",
      "1700000\n",
      "1800000\n",
      "1900000\n"
     ]
    }
   ],
   "source": [
    "adv_segcontent_list=get_seg_list(pd_user_ad_list,'advertiser_id')"
   ]
  },
  {
   "cell_type": "code",
   "execution_count": 14,
   "metadata": {
    "ExecuteTime": {
     "end_time": "2020-06-20T09:05:24.405096Z",
     "start_time": "2020-06-20T09:05:24.400918Z"
    },
    "scrolled": true
   },
   "outputs": [
    {
     "data": {
      "text/plain": [
       "['29455',\n",
       " '9702',\n",
       " '7293',\n",
       " '14668',\n",
       " '11411',\n",
       " '14681',\n",
       " '17189',\n",
       " '367',\n",
       " '44865',\n",
       " '188',\n",
       " '23575',\n",
       " '188',\n",
       " '10988']"
      ]
     },
     "execution_count": 14,
     "metadata": {},
     "output_type": "execute_result"
    }
   ],
   "source": [
    "adv_segcontent_list[0]"
   ]
  },
  {
   "cell_type": "code",
   "execution_count": 108,
   "metadata": {
    "ExecuteTime": {
     "end_time": "2020-06-21T06:01:23.586654Z",
     "start_time": "2020-06-21T04:23:19.446692Z"
    }
   },
   "outputs": [],
   "source": [
    "wv_model_adv = Word2Vec(adv_segcontent_list,sg=1,size=64, window=10, min_count=1, iter=10,workers=24)"
   ]
  },
  {
   "cell_type": "code",
   "execution_count": 36,
   "metadata": {
    "ExecuteTime": {
     "end_time": "2020-06-21T01:46:13.685519Z",
     "start_time": "2020-06-21T01:46:13.682399Z"
    }
   },
   "outputs": [
    {
     "data": {
      "text/plain": [
       "True"
      ]
     },
     "execution_count": 36,
     "metadata": {},
     "output_type": "execute_result"
    }
   ],
   "source": [
    "'29455' in wv_model_adv.wv"
   ]
  },
  {
   "cell_type": "code",
   "execution_count": 19,
   "metadata": {
    "ExecuteTime": {
     "end_time": "2020-06-20T09:53:31.067410Z",
     "start_time": "2020-06-20T09:53:30.786352Z"
    }
   },
   "outputs": [],
   "source": [
    "#wv_model_adv.save(\"./model/word2vec/tx_gender_age_log_sg_win10_neg5_dim64_iter10_minc1_w2v_adv.model\")"
   ]
  },
  {
   "cell_type": "code",
   "execution_count": null,
   "metadata": {},
   "outputs": [],
   "source": [
    "wv_model_adv.wv.save(\"./model/word2vec/kv_adv/tx_gender_age_log_sg_win10_neg5_dim64_iter10_minc1_w2v_adv.kv\")"
   ]
  },
  {
   "cell_type": "code",
   "execution_count": 50,
   "metadata": {
    "ExecuteTime": {
     "end_time": "2020-06-28T13:59:03.611641Z",
     "start_time": "2020-06-28T13:59:02.740557Z"
    }
   },
   "outputs": [],
   "source": [
    "wv_adv = KeyedVectors.load(\"./model/word2vec/kv_adv/tx_gender_age_log_sg_win10_neg5_dim64_iter10_minc1_w2v_adv.kv\", mmap='r')"
   ]
  },
  {
   "cell_type": "code",
   "execution_count": null,
   "metadata": {},
   "outputs": [],
   "source": [
    "del wv_model_adv"
   ]
  },
  {
   "cell_type": "code",
   "execution_count": null,
   "metadata": {},
   "outputs": [],
   "source": [
    "gc.collect()"
   ]
  },
  {
   "cell_type": "markdown",
   "metadata": {},
   "source": [
    "#### 产品id"
   ]
  },
  {
   "cell_type": "code",
   "execution_count": 61,
   "metadata": {
    "ExecuteTime": {
     "end_time": "2020-06-28T14:24:38.852291Z",
     "start_time": "2020-06-28T14:24:34.164762Z"
    }
   },
   "outputs": [
    {
     "name": "stdout",
     "output_type": "stream",
     "text": [
      "100000\n",
      "200000\n",
      "300000\n",
      "400000\n",
      "500000\n",
      "600000\n",
      "700000\n",
      "800000\n",
      "900000\n",
      "1000000\n",
      "1100000\n",
      "1200000\n",
      "1300000\n",
      "1400000\n",
      "1500000\n",
      "1600000\n",
      "1700000\n",
      "1800000\n",
      "1900000\n"
     ]
    }
   ],
   "source": [
    "pr_segcontent_list=get_seg_list(pd_user_ad_list,'product_id')"
   ]
  },
  {
   "cell_type": "code",
   "execution_count": 93,
   "metadata": {
    "ExecuteTime": {
     "end_time": "2020-06-21T04:03:45.666634Z",
     "start_time": "2020-06-21T03:51:27.811473Z"
    }
   },
   "outputs": [],
   "source": [
    "wv_model_pr = Word2Vec(pr_segcontent_list,sg=1,size=64, window=10, min_count=1, iter=10,workers=24)"
   ]
  },
  {
   "cell_type": "code",
   "execution_count": 22,
   "metadata": {
    "ExecuteTime": {
     "end_time": "2020-06-20T10:06:29.413827Z",
     "start_time": "2020-06-20T10:06:29.281774Z"
    }
   },
   "outputs": [],
   "source": [
    "#wv_model_pr.save(\"./model/word2vec/tx_gender_age_log_sg_win10_neg5_dim64_iter10_minc1_w2v_pr.model\")"
   ]
  },
  {
   "cell_type": "code",
   "execution_count": 94,
   "metadata": {
    "ExecuteTime": {
     "end_time": "2020-06-21T04:06:03.693280Z",
     "start_time": "2020-06-21T04:06:03.512579Z"
    }
   },
   "outputs": [],
   "source": [
    "wv_model_pr.wv.save(\"./model/word2vec/kv_pr/tx_gender_age_log_sg_win10_neg5_dim64_iter10_minc1_w2v_pr.kv\")"
   ]
  },
  {
   "cell_type": "code",
   "execution_count": 51,
   "metadata": {
    "ExecuteTime": {
     "end_time": "2020-06-28T13:59:34.437348Z",
     "start_time": "2020-06-28T13:59:34.017604Z"
    }
   },
   "outputs": [],
   "source": [
    "wv_pr = KeyedVectors.load(\"./model/word2vec/kv_pr/tx_gender_age_log_sg_win10_neg5_dim64_iter10_minc1_w2v_pr.kv\", mmap='r')"
   ]
  },
  {
   "cell_type": "code",
   "execution_count": null,
   "metadata": {},
   "outputs": [],
   "source": [
    "del wv_model_pr"
   ]
  },
  {
   "cell_type": "code",
   "execution_count": 36,
   "metadata": {
    "ExecuteTime": {
     "end_time": "2020-06-28T13:43:44.518572Z",
     "start_time": "2020-06-28T13:43:42.133129Z"
    }
   },
   "outputs": [
    {
     "data": {
      "text/plain": [
       "715"
      ]
     },
     "execution_count": 36,
     "metadata": {},
     "output_type": "execute_result"
    }
   ],
   "source": [
    "gc.collect()"
   ]
  },
  {
   "cell_type": "markdown",
   "metadata": {},
   "source": [
    "**词向量预训练至此结束**"
   ]
  },
  {
   "cell_type": "markdown",
   "metadata": {},
   "source": [
    "## 获取用户向量"
   ]
  },
  {
   "cell_type": "markdown",
   "metadata": {},
   "source": [
    "### 方式一"
   ]
  },
  {
   "cell_type": "code",
   "execution_count": 39,
   "metadata": {
    "ExecuteTime": {
     "end_time": "2020-06-20T10:17:03.195528Z",
     "start_time": "2020-06-20T10:16:57.678212Z"
    }
   },
   "outputs": [
    {
     "data": {
      "text/plain": [
       "16"
      ]
     },
     "execution_count": 39,
     "metadata": {},
     "output_type": "execute_result"
    }
   ],
   "source": [
    "gc.collect()"
   ]
  },
  {
   "cell_type": "code",
   "execution_count": 41,
   "metadata": {
    "ExecuteTime": {
     "end_time": "2020-06-28T13:50:53.484854Z",
     "start_time": "2020-06-28T13:50:53.478207Z"
    }
   },
   "outputs": [],
   "source": [
    "def user_w2v(df_data,wv,col_name):\n",
    "    \"\"\"\n",
    "    生成用户的词向量表征（考虑点击次数）\n",
    "    \n",
    "    Parameters\n",
    "    ----------\n",
    "    df_data: pandas.DataFrame,数据源\n",
    "    wv: gensim.models.keyedvectors.Word2VecKeyedVectors,训练好的词向量\n",
    "    col_name: str,列名\n",
    "    \n",
    "    Returns\n",
    "    ----------\n",
    "    numpy.ndarray, 用户词向量表征\n",
    "    \"\"\"\n",
    "    k = wv.vector_size\n",
    "    user_vectors=[]\n",
    "    count=0\n",
    "    for index,row in df_data.iterrows():\n",
    "        \n",
    "        count+=1\n",
    "        user_vec = np.zeros(k)\n",
    "        \n",
    "        id_segcontent = row[col_name]\n",
    "        click_times = row['click_times']\n",
    "                          \n",
    "        ad_list = id_segcontent.split(\" \")\n",
    "        click_time_list = click_times.split(\" \")\n",
    "\n",
    "        word_len = len(ad_list)\n",
    "        word_size = 0\n",
    "        for i in range(0,word_len):\n",
    "            if ad_list[i] in wv:\n",
    "                user_vec+=wv[ad_list[i]]*int(click_time_list[i])\n",
    "                word_size+=int(click_time_list[i])\n",
    "        user_vec = user_vec/word_size\n",
    "        user_vectors.append(user_vec)\n",
    "        if count%100000==0:\n",
    "            print(count)\n",
    "    return np.array(user_vectors)"
   ]
  },
  {
   "cell_type": "code",
   "execution_count": 13,
   "metadata": {
    "ExecuteTime": {
     "end_time": "2020-06-22T03:21:59.185021Z",
     "start_time": "2020-06-22T02:52:55.631455Z"
    }
   },
   "outputs": [
    {
     "name": "stdout",
     "output_type": "stream",
     "text": [
      "100000\n",
      "200000\n",
      "300000\n",
      "400000\n",
      "500000\n",
      "600000\n",
      "700000\n",
      "800000\n",
      "900000\n",
      "1000000\n",
      "1100000\n",
      "1200000\n",
      "1300000\n",
      "1400000\n",
      "1500000\n",
      "1600000\n",
      "1700000\n",
      "1800000\n",
      "1900000\n"
     ]
    }
   ],
   "source": [
    "user_vectors_cr = user_w2v(pd_user_ad_list,wv_cr,col_name='creative_id')"
   ]
  },
  {
   "cell_type": "code",
   "execution_count": 10,
   "metadata": {
    "ExecuteTime": {
     "end_time": "2020-06-22T02:49:49.867380Z",
     "start_time": "2020-06-22T02:49:49.858906Z"
    }
   },
   "outputs": [
    {
     "data": {
      "text/plain": [
       "1900000"
      ]
     },
     "execution_count": 10,
     "metadata": {},
     "output_type": "execute_result"
    }
   ],
   "source": [
    "pd_user_ad_list.shape[0]"
   ]
  },
  {
   "cell_type": "code",
   "execution_count": 7,
   "metadata": {
    "ExecuteTime": {
     "end_time": "2020-06-22T02:49:14.031345Z",
     "start_time": "2020-06-22T02:49:14.012481Z"
    }
   },
   "outputs": [
    {
     "data": {
      "text/plain": [
       "'877468 209778 821396 1683713 122032 71691 1940159 90171 2087846 2456345 3068256 2456345 3592928'"
      ]
     },
     "execution_count": 7,
     "metadata": {},
     "output_type": "execute_result"
    }
   ],
   "source": [
    "pd_user_ad_list['creative_id'][0]"
   ]
  },
  {
   "cell_type": "markdown",
   "metadata": {},
   "source": [
    "### 方式二"
   ]
  },
  {
   "cell_type": "code",
   "execution_count": 55,
   "metadata": {
    "ExecuteTime": {
     "end_time": "2020-06-28T14:05:34.043830Z",
     "start_time": "2020-06-28T14:05:34.041516Z"
    }
   },
   "outputs": [],
   "source": [
    "import collections"
   ]
  },
  {
   "cell_type": "code",
   "execution_count": 56,
   "metadata": {
    "ExecuteTime": {
     "end_time": "2020-06-28T14:06:05.159386Z",
     "start_time": "2020-06-28T14:06:05.154494Z"
    }
   },
   "outputs": [],
   "source": [
    "def user_w2v(segcontent_list,wv):\n",
    "    \"\"\"\n",
    "    生成用户的词向量表征（不考虑点击次数）\n",
    "    \n",
    "    Parameters\n",
    "    ----------\n",
    "    segcontent_list: 用户id序列\n",
    "    wv: gensim.models.keyedvectors.Word2VecKeyedVectors,训练好的词向量\n",
    "    \n",
    "    Returns\n",
    "    ----------\n",
    "    numpy.ndarray, 用户词向量表征\n",
    "    \"\"\"\n",
    "    k = wv.vector_size\n",
    "    user_vectors=[]\n",
    "    count=0\n",
    "    for user_segcontent in segcontent_list:\n",
    "        count+=1\n",
    "        user_vec = np.zeros(k)\n",
    "        ad_count_dict = collections.Counter(user_segcontent)\n",
    "        word_size=0\n",
    "        for ad_id in ad_count_dict.keys():\n",
    "            if ad_id in wv:\n",
    "                user_vec+=wv[ad_id]*ad_count_dict[ad_id]\n",
    "                word_size+=ad_count_dict[ad_id]\n",
    "        user_vec = user_vec/word_size\n",
    "        user_vectors.append(user_vec)\n",
    "        if count%100000==0:\n",
    "            print(count)\n",
    "    return np.array(user_vectors)"
   ]
  },
  {
   "cell_type": "code",
   "execution_count": 57,
   "metadata": {
    "ExecuteTime": {
     "end_time": "2020-06-28T14:20:30.014074Z",
     "start_time": "2020-06-28T14:06:35.791670Z"
    },
    "scrolled": false
   },
   "outputs": [
    {
     "name": "stdout",
     "output_type": "stream",
     "text": [
      "100000\n",
      "200000\n",
      "300000\n",
      "400000\n",
      "500000\n",
      "600000\n",
      "700000\n",
      "800000\n",
      "900000\n",
      "1000000\n",
      "1100000\n",
      "1200000\n",
      "1300000\n",
      "1400000\n",
      "1500000\n",
      "1600000\n",
      "1700000\n",
      "1800000\n",
      "1900000\n"
     ]
    }
   ],
   "source": [
    "user_vectors_cr = user_w2v(cr_segcontent_list,wv=wv_cr)"
   ]
  },
  {
   "cell_type": "code",
   "execution_count": 62,
   "metadata": {
    "ExecuteTime": {
     "end_time": "2020-06-28T14:40:26.115608Z",
     "start_time": "2020-06-28T14:26:31.771565Z"
    },
    "scrolled": false
   },
   "outputs": [
    {
     "name": "stdout",
     "output_type": "stream",
     "text": [
      "100000\n",
      "200000\n",
      "300000\n",
      "400000\n",
      "500000\n",
      "600000\n",
      "700000\n",
      "800000\n",
      "900000\n",
      "1000000\n",
      "1100000\n",
      "1200000\n",
      "1300000\n",
      "1400000\n",
      "1500000\n",
      "1600000\n",
      "1700000\n",
      "1800000\n",
      "1900000\n"
     ]
    }
   ],
   "source": [
    "user_vectors_ad = user_w2v(ad_segcontent_list,wv=wv_ad)"
   ]
  },
  {
   "cell_type": "code",
   "execution_count": 63,
   "metadata": {
    "ExecuteTime": {
     "end_time": "2020-06-28T14:46:36.811541Z",
     "start_time": "2020-06-28T14:42:15.688458Z"
    },
    "scrolled": false
   },
   "outputs": [
    {
     "name": "stdout",
     "output_type": "stream",
     "text": [
      "100000\n",
      "200000\n",
      "300000\n",
      "400000\n",
      "500000\n",
      "600000\n",
      "700000\n",
      "800000\n",
      "900000\n",
      "1000000\n",
      "1100000\n",
      "1200000\n",
      "1300000\n",
      "1400000\n",
      "1500000\n",
      "1600000\n",
      "1700000\n",
      "1800000\n",
      "1900000\n"
     ]
    }
   ],
   "source": [
    "user_vectors_adv = user_w2v(adv_segcontent_list,wv=wv_adv)"
   ]
  },
  {
   "cell_type": "code",
   "execution_count": 64,
   "metadata": {
    "ExecuteTime": {
     "end_time": "2020-06-28T14:50:51.752817Z",
     "start_time": "2020-06-28T14:48:26.730802Z"
    },
    "scrolled": true
   },
   "outputs": [
    {
     "name": "stdout",
     "output_type": "stream",
     "text": [
      "100000\n",
      "200000\n",
      "300000\n",
      "400000\n",
      "500000\n",
      "600000\n",
      "700000\n",
      "800000\n",
      "900000\n",
      "1000000\n",
      "1100000\n",
      "1200000\n",
      "1300000\n",
      "1400000\n",
      "1500000\n",
      "1600000\n",
      "1700000\n",
      "1800000\n",
      "1900000\n"
     ]
    }
   ],
   "source": [
    "user_vectors_pr = user_w2v(pr_segcontent_list,wv=wv_pr)"
   ]
  },
  {
   "cell_type": "code",
   "execution_count": 67,
   "metadata": {
    "ExecuteTime": {
     "end_time": "2020-06-29T02:43:44.919485Z",
     "start_time": "2020-06-29T02:43:44.915603Z"
    },
    "scrolled": false
   },
   "outputs": [
    {
     "data": {
      "text/plain": [
       "((1900000, 128), (1900000, 128), (1900000, 64), (1900000, 64))"
      ]
     },
     "execution_count": 67,
     "metadata": {},
     "output_type": "execute_result"
    }
   ],
   "source": [
    "user_vectors_cr.shape,user_vectors_ad.shape,user_vectors_adv.shape,user_vectors_pr.shape"
   ]
  },
  {
   "cell_type": "markdown",
   "metadata": {},
   "source": [
    "### doc2vec"
   ]
  },
  {
   "cell_type": "markdown",
   "metadata": {},
   "source": [
    "此部分在目前场景下效果不佳，仅供参考"
   ]
  },
  {
   "cell_type": "code",
   "execution_count": null,
   "metadata": {
    "ExecuteTime": {
     "end_time": "2020-05-21T06:48:50.462511Z",
     "start_time": "2020-05-21T06:48:50.459834Z"
    }
   },
   "outputs": [],
   "source": [
    "from gensim.models.doc2vec import Doc2Vec, TaggedDocument\n",
    "from gensim.models import doc2vec"
   ]
  },
  {
   "cell_type": "code",
   "execution_count": null,
   "metadata": {
    "ExecuteTime": {
     "end_time": "2020-05-21T06:56:10.926400Z",
     "start_time": "2020-05-21T06:56:10.923998Z"
    }
   },
   "outputs": [],
   "source": [
    "from gensim.test.utils import datapath"
   ]
  },
  {
   "cell_type": "code",
   "execution_count": null,
   "metadata": {
    "ExecuteTime": {
     "end_time": "2020-05-21T06:59:03.997599Z",
     "start_time": "2020-05-21T06:59:03.995275Z"
    }
   },
   "outputs": [],
   "source": [
    "from gensim.test.utils import common_texts"
   ]
  },
  {
   "cell_type": "code",
   "execution_count": null,
   "metadata": {
    "ExecuteTime": {
     "end_time": "2020-05-21T06:59:13.526001Z",
     "start_time": "2020-05-21T06:59:13.522104Z"
    }
   },
   "outputs": [],
   "source": [
    "common_texts"
   ]
  },
  {
   "cell_type": "code",
   "execution_count": null,
   "metadata": {
    "ExecuteTime": {
     "end_time": "2020-05-21T07:05:56.634238Z",
     "start_time": "2020-05-21T07:05:52.776168Z"
    }
   },
   "outputs": [],
   "source": [
    "documents = [TaggedDocument(doc, [i]) for i, doc in enumerate(segcontent_list)]"
   ]
  },
  {
   "cell_type": "code",
   "execution_count": null,
   "metadata": {
    "ExecuteTime": {
     "end_time": "2020-05-21T07:51:50.305173Z",
     "start_time": "2020-05-21T07:06:14.323810Z"
    }
   },
   "outputs": [],
   "source": [
    "%time dv_model_dbow = Doc2Vec(documents,dm=0,vector_size=128,window=5, min_count=1,hs=0,negative=5,sample=0.001,workers=32,epochs=10)"
   ]
  },
  {
   "cell_type": "code",
   "execution_count": null,
   "metadata": {},
   "outputs": [],
   "source": [
    "del dv_model_dbow"
   ]
  },
  {
   "cell_type": "code",
   "execution_count": 305,
   "metadata": {
    "ExecuteTime": {
     "end_time": "2020-05-21T08:53:20.801366Z",
     "start_time": "2020-05-21T08:53:08.006096Z"
    }
   },
   "outputs": [],
   "source": [
    "dv_model_dbow.save(\"./model/tx_gender_age_log_win5_mc1_neg5_dim128_iter10_dbow_d2v.model\")"
   ]
  },
  {
   "cell_type": "code",
   "execution_count": 291,
   "metadata": {
    "ExecuteTime": {
     "end_time": "2020-05-21T08:43:13.711725Z",
     "start_time": "2020-05-21T08:43:13.709226Z"
    }
   },
   "outputs": [],
   "source": [
    "dv_model_dbow.delete_temporary_training_data(keep_doctags_vectors=True, keep_inference=True)"
   ]
  },
  {
   "cell_type": "code",
   "execution_count": null,
   "metadata": {
    "ExecuteTime": {
     "end_time": "2020-05-21T07:56:56.650643Z",
     "start_time": "2020-05-21T07:56:56.645945Z"
    },
    "scrolled": true
   },
   "outputs": [],
   "source": [
    "len(documents)"
   ]
  },
  {
   "cell_type": "code",
   "execution_count": 289,
   "metadata": {
    "ExecuteTime": {
     "end_time": "2020-05-21T08:42:16.553392Z",
     "start_time": "2020-05-21T08:42:16.547959Z"
    }
   },
   "outputs": [
    {
     "data": {
      "text/plain": [
       "array([-0.00881683, -0.09074552,  0.13075437, -0.12135855,  0.09921252,\n",
       "       -0.01294636, -0.08020144, -0.05435244,  0.01543843,  0.35401312,\n",
       "        0.1546657 , -0.21313967, -0.10770545, -0.21218939,  0.03634015,\n",
       "       -0.08141699, -0.00262357,  0.05173508,  0.04500632, -0.05160706,\n",
       "        0.12433016,  0.03802612,  0.06809052, -0.0615447 ,  0.10139114,\n",
       "        0.15431184, -0.01228508,  0.12595516, -0.18911907, -0.14850868,\n",
       "        0.0488173 ,  0.02910751,  0.1443899 , -0.22144215, -0.07177097,\n",
       "        0.2585742 , -0.03468794, -0.01290978,  0.16182937, -0.14685196,\n",
       "       -0.00163103,  0.22421774, -0.05435663,  0.05489495,  0.19467843,\n",
       "        0.07843263, -0.06721466, -0.26648575, -0.03835699,  0.20915097,\n",
       "       -0.07001007,  0.12921974,  0.02046305,  0.07181315, -0.00357183,\n",
       "        0.06828393, -0.11953515,  0.08324942, -0.04401371,  0.10308376,\n",
       "        0.1904173 , -0.06379346, -0.08766186,  0.07839777, -0.0344345 ,\n",
       "        0.06396211, -0.06207786, -0.09146874,  0.06072115,  0.02086393,\n",
       "       -0.09826056, -0.07688484,  0.01015115, -0.06214987, -0.1375569 ,\n",
       "        0.15193516, -0.06103759,  0.11276286,  0.14874846,  0.13092525,\n",
       "        0.15624271,  0.06217661, -0.20830266,  0.00674476,  0.05286706,\n",
       "        0.00529146, -0.11423131,  0.0663499 ,  0.20334339, -0.01010388,\n",
       "       -0.11751266,  0.00196535,  0.01311853, -0.029302  ,  0.01331227,\n",
       "        0.0714587 ,  0.14411712, -0.03423357, -0.00141977, -0.07442421,\n",
       "        0.08535014,  0.06252845,  0.06324692,  0.20445786, -0.0039226 ,\n",
       "        0.02301067,  0.04021904, -0.00200979,  0.09292316,  0.06961162,\n",
       "        0.03236828, -0.03435706, -0.03704137, -0.21781425,  0.03255531,\n",
       "        0.11947136, -0.08141403,  0.03526754,  0.10915288, -0.1621754 ,\n",
       "        0.06538995, -0.06915047,  0.12411501,  0.13201281,  0.10086775,\n",
       "        0.00746548, -0.01563492,  0.08154967], dtype=float32)"
      ]
     },
     "execution_count": 289,
     "metadata": {},
     "output_type": "execute_result"
    }
   ],
   "source": [
    "dv_model_dbow.docvecs[0]"
   ]
  },
  {
   "cell_type": "code",
   "execution_count": null,
   "metadata": {
    "ExecuteTime": {
     "end_time": "2020-05-21T08:06:20.204544Z",
     "start_time": "2020-05-21T08:06:20.201301Z"
    }
   },
   "outputs": [],
   "source": [
    "dv_model_dbow.wv.vector_size"
   ]
  },
  {
   "cell_type": "code",
   "execution_count": 296,
   "metadata": {
    "ExecuteTime": {
     "end_time": "2020-05-21T08:46:41.216139Z",
     "start_time": "2020-05-21T08:46:41.212312Z"
    }
   },
   "outputs": [],
   "source": [
    "def user_doc2vec(l,dv_model):\n",
    "    k = dv_model.wv.vector_size\n",
    "    user_vectors=[]\n",
    "    count=0\n",
    "    for i in range(0,l):\n",
    "        count+=1\n",
    "        #使用user_vectors.append(dv_model.infer_vector(ad_list))会让模型继续训练，因而很慢\n",
    "        user_vectors.append(dv_model.docvecs[i])\n",
    "        if count%100000==0:\n",
    "            print(count)\n",
    "    return np.array(user_vectors)"
   ]
  },
  {
   "cell_type": "code",
   "execution_count": 297,
   "metadata": {
    "ExecuteTime": {
     "end_time": "2020-05-21T08:47:02.222329Z",
     "start_time": "2020-05-21T08:46:57.677908Z"
    },
    "scrolled": false
   },
   "outputs": [
    {
     "name": "stdout",
     "output_type": "stream",
     "text": [
      "100000\n",
      "200000\n",
      "300000\n",
      "400000\n",
      "500000\n",
      "600000\n",
      "700000\n",
      "800000\n",
      "900000\n",
      "1000000\n",
      "1100000\n",
      "1200000\n",
      "1300000\n",
      "1400000\n",
      "1500000\n",
      "1600000\n",
      "1700000\n",
      "1800000\n",
      "1900000\n"
     ]
    }
   ],
   "source": [
    "user_vectors = user_doc2vec(len(documents),dv_model=dv_model_dbow)"
   ]
  },
  {
   "cell_type": "markdown",
   "metadata": {},
   "source": [
    "## 构造样本"
   ]
  },
  {
   "cell_type": "code",
   "execution_count": 22,
   "metadata": {
    "ExecuteTime": {
     "end_time": "2020-06-21T14:27:58.820905Z",
     "start_time": "2020-06-21T14:27:58.818605Z"
    }
   },
   "outputs": [],
   "source": [
    "#pd_word2_vec = pd_word2_vec_ad"
   ]
  },
  {
   "cell_type": "code",
   "execution_count": 66,
   "metadata": {
    "ExecuteTime": {
     "end_time": "2020-06-29T02:41:57.321060Z",
     "start_time": "2020-06-29T02:41:57.318188Z"
    }
   },
   "outputs": [],
   "source": [
    "w2v_fname=['w2v_cr_'+str(x) for x in range(0,wv_cr.vector_size)]"
   ]
  },
  {
   "cell_type": "code",
   "execution_count": 68,
   "metadata": {
    "ExecuteTime": {
     "end_time": "2020-06-29T02:45:37.084271Z",
     "start_time": "2020-06-29T02:45:32.551611Z"
    }
   },
   "outputs": [],
   "source": [
    "pd_word2vec_cr = pd.DataFrame(user_vectors_cr,columns=w2v_fname)\n",
    "pd_word2vec_cr = pd.concat([pd_user_ad_list[[\"user_id\"]],pd_word2vec_cr],axis=1)"
   ]
  },
  {
   "cell_type": "code",
   "execution_count": 69,
   "metadata": {
    "ExecuteTime": {
     "end_time": "2020-06-29T02:47:26.051429Z",
     "start_time": "2020-06-29T02:47:26.048785Z"
    }
   },
   "outputs": [],
   "source": [
    "w2v_fname=['w2v_ad_'+str(x) for x in range(0,wv_ad.vector_size)]"
   ]
  },
  {
   "cell_type": "code",
   "execution_count": 70,
   "metadata": {
    "ExecuteTime": {
     "end_time": "2020-06-29T02:49:19.451951Z",
     "start_time": "2020-06-29T02:49:15.030762Z"
    }
   },
   "outputs": [],
   "source": [
    "pd_word2vec_ad = pd.DataFrame(user_vectors_ad,columns=w2v_fname)\n",
    "pd_word2vec_ad = pd.concat([pd_user_ad_list[[\"user_id\"]],pd_word2vec_ad],axis=1)"
   ]
  },
  {
   "cell_type": "code",
   "execution_count": 71,
   "metadata": {
    "ExecuteTime": {
     "end_time": "2020-06-29T02:51:09.588471Z",
     "start_time": "2020-06-29T02:51:09.585923Z"
    }
   },
   "outputs": [],
   "source": [
    "w2v_fname=['w2v_adv_'+str(x) for x in range(0,wv_adv.vector_size)]"
   ]
  },
  {
   "cell_type": "code",
   "execution_count": 72,
   "metadata": {
    "ExecuteTime": {
     "end_time": "2020-06-29T02:53:01.240891Z",
     "start_time": "2020-06-29T02:52:59.423828Z"
    }
   },
   "outputs": [],
   "source": [
    "pd_word2vec_adv = pd.DataFrame(user_vectors_adv,columns=w2v_fname)\n",
    "pd_word2vec_adv = pd.concat([pd_user_ad_list[[\"user_id\"]],pd_word2vec_adv],axis=1)"
   ]
  },
  {
   "cell_type": "code",
   "execution_count": 73,
   "metadata": {
    "ExecuteTime": {
     "end_time": "2020-06-29T02:55:03.130728Z",
     "start_time": "2020-06-29T02:55:03.127842Z"
    }
   },
   "outputs": [],
   "source": [
    "w2v_fname=['w2v_pr_'+str(x) for x in range(0,wv_pr.vector_size)]"
   ]
  },
  {
   "cell_type": "code",
   "execution_count": 74,
   "metadata": {
    "ExecuteTime": {
     "end_time": "2020-06-29T02:57:06.580545Z",
     "start_time": "2020-06-29T02:57:04.473270Z"
    }
   },
   "outputs": [],
   "source": [
    "pd_word2vec_pr = pd.DataFrame(user_vectors_pr,columns=w2v_fname)\n",
    "pd_word2vec_pr = pd.concat([pd_user_ad_list[[\"user_id\"]],pd_word2vec_pr],axis=1)"
   ]
  },
  {
   "cell_type": "code",
   "execution_count": 75,
   "metadata": {
    "ExecuteTime": {
     "end_time": "2020-06-29T02:59:10.910601Z",
     "start_time": "2020-06-29T02:59:10.906728Z"
    }
   },
   "outputs": [
    {
     "data": {
      "text/plain": [
       "((1900000, 129), (1900000, 129), (1900000, 65), (1900000, 65))"
      ]
     },
     "execution_count": 75,
     "metadata": {},
     "output_type": "execute_result"
    }
   ],
   "source": [
    "pd_word2vec_cr.shape,pd_word2vec_ad.shape,pd_word2vec_adv.shape,pd_word2vec_pr.shape"
   ]
  },
  {
   "cell_type": "markdown",
   "metadata": {},
   "source": [
    "导出部分词向量特征"
   ]
  },
  {
   "cell_type": "code",
   "execution_count": null,
   "metadata": {
    "ExecuteTime": {
     "end_time": "2020-05-21T06:18:45.008857Z",
     "start_time": "2020-05-21T06:12:36.094249Z"
    }
   },
   "outputs": [],
   "source": [
    "pd_word2vec_cr.to_csv(\"./data/user_word2_vec_128.csv\",index=False)"
   ]
  },
  {
   "cell_type": "code",
   "execution_count": 49,
   "metadata": {
    "ExecuteTime": {
     "end_time": "2020-05-24T04:34:47.687605Z",
     "start_time": "2020-05-24T04:34:02.733841Z"
    }
   },
   "outputs": [],
   "source": [
    "pd_word2vec_cr = pd.read_csv(\"./data/user_word2_vec_128.csv\")"
   ]
  },
  {
   "cell_type": "code",
   "execution_count": 50,
   "metadata": {
    "ExecuteTime": {
     "end_time": "2020-05-24T04:35:15.350581Z",
     "start_time": "2020-05-24T04:35:15.330580Z"
    },
    "scrolled": true
   },
   "outputs": [
    {
     "data": {
      "text/html": [
       "<div>\n",
       "<style scoped>\n",
       "    .dataframe tbody tr th:only-of-type {\n",
       "        vertical-align: middle;\n",
       "    }\n",
       "\n",
       "    .dataframe tbody tr th {\n",
       "        vertical-align: top;\n",
       "    }\n",
       "\n",
       "    .dataframe thead th {\n",
       "        text-align: right;\n",
       "    }\n",
       "</style>\n",
       "<table border=\"1\" class=\"dataframe\">\n",
       "  <thead>\n",
       "    <tr style=\"text-align: right;\">\n",
       "      <th></th>\n",
       "      <th>user_id</th>\n",
       "      <th>w2v_0</th>\n",
       "      <th>w2v_1</th>\n",
       "      <th>w2v_2</th>\n",
       "      <th>w2v_3</th>\n",
       "      <th>w2v_4</th>\n",
       "      <th>w2v_5</th>\n",
       "      <th>w2v_6</th>\n",
       "      <th>w2v_7</th>\n",
       "      <th>w2v_8</th>\n",
       "      <th>...</th>\n",
       "      <th>w2v_118</th>\n",
       "      <th>w2v_119</th>\n",
       "      <th>w2v_120</th>\n",
       "      <th>w2v_121</th>\n",
       "      <th>w2v_122</th>\n",
       "      <th>w2v_123</th>\n",
       "      <th>w2v_124</th>\n",
       "      <th>w2v_125</th>\n",
       "      <th>w2v_126</th>\n",
       "      <th>w2v_127</th>\n",
       "    </tr>\n",
       "  </thead>\n",
       "  <tbody>\n",
       "    <tr>\n",
       "      <th>0</th>\n",
       "      <td>1</td>\n",
       "      <td>-0.193146</td>\n",
       "      <td>-0.228589</td>\n",
       "      <td>-0.212177</td>\n",
       "      <td>0.502402</td>\n",
       "      <td>0.419108</td>\n",
       "      <td>-0.155171</td>\n",
       "      <td>-0.050705</td>\n",
       "      <td>-0.278514</td>\n",
       "      <td>-0.257985</td>\n",
       "      <td>...</td>\n",
       "      <td>-0.508188</td>\n",
       "      <td>-0.047964</td>\n",
       "      <td>0.173882</td>\n",
       "      <td>-0.233017</td>\n",
       "      <td>-0.106127</td>\n",
       "      <td>0.137993</td>\n",
       "      <td>0.364915</td>\n",
       "      <td>-0.258417</td>\n",
       "      <td>0.158040</td>\n",
       "      <td>-0.312584</td>\n",
       "    </tr>\n",
       "    <tr>\n",
       "      <th>1</th>\n",
       "      <td>2</td>\n",
       "      <td>-0.427113</td>\n",
       "      <td>-0.449429</td>\n",
       "      <td>0.155294</td>\n",
       "      <td>0.204986</td>\n",
       "      <td>0.057536</td>\n",
       "      <td>0.182058</td>\n",
       "      <td>-0.118976</td>\n",
       "      <td>-0.134916</td>\n",
       "      <td>0.312591</td>\n",
       "      <td>...</td>\n",
       "      <td>-0.383222</td>\n",
       "      <td>0.240402</td>\n",
       "      <td>0.421468</td>\n",
       "      <td>-0.091944</td>\n",
       "      <td>0.024992</td>\n",
       "      <td>0.344723</td>\n",
       "      <td>0.350942</td>\n",
       "      <td>-0.021163</td>\n",
       "      <td>-0.156320</td>\n",
       "      <td>0.067091</td>\n",
       "    </tr>\n",
       "    <tr>\n",
       "      <th>2</th>\n",
       "      <td>3</td>\n",
       "      <td>-0.290485</td>\n",
       "      <td>-0.123267</td>\n",
       "      <td>0.147264</td>\n",
       "      <td>0.294396</td>\n",
       "      <td>0.333517</td>\n",
       "      <td>-0.002210</td>\n",
       "      <td>-0.147300</td>\n",
       "      <td>-0.487144</td>\n",
       "      <td>0.015274</td>\n",
       "      <td>...</td>\n",
       "      <td>-0.172198</td>\n",
       "      <td>0.003900</td>\n",
       "      <td>0.099584</td>\n",
       "      <td>-0.028236</td>\n",
       "      <td>-0.022920</td>\n",
       "      <td>0.151936</td>\n",
       "      <td>0.563423</td>\n",
       "      <td>0.020704</td>\n",
       "      <td>-0.102448</td>\n",
       "      <td>0.014376</td>\n",
       "    </tr>\n",
       "    <tr>\n",
       "      <th>3</th>\n",
       "      <td>4</td>\n",
       "      <td>-0.258450</td>\n",
       "      <td>-0.598861</td>\n",
       "      <td>0.174674</td>\n",
       "      <td>0.272897</td>\n",
       "      <td>0.258750</td>\n",
       "      <td>0.102361</td>\n",
       "      <td>-0.110127</td>\n",
       "      <td>-0.355300</td>\n",
       "      <td>0.377514</td>\n",
       "      <td>...</td>\n",
       "      <td>-0.160130</td>\n",
       "      <td>0.139451</td>\n",
       "      <td>-0.130731</td>\n",
       "      <td>-0.239497</td>\n",
       "      <td>0.049233</td>\n",
       "      <td>0.100909</td>\n",
       "      <td>0.297746</td>\n",
       "      <td>0.005558</td>\n",
       "      <td>-0.144150</td>\n",
       "      <td>-0.023132</td>\n",
       "    </tr>\n",
       "    <tr>\n",
       "      <th>4</th>\n",
       "      <td>5</td>\n",
       "      <td>-0.403251</td>\n",
       "      <td>-0.223418</td>\n",
       "      <td>-0.140462</td>\n",
       "      <td>0.211255</td>\n",
       "      <td>0.477512</td>\n",
       "      <td>0.247194</td>\n",
       "      <td>-0.021708</td>\n",
       "      <td>-0.284819</td>\n",
       "      <td>-0.154669</td>\n",
       "      <td>...</td>\n",
       "      <td>-0.323597</td>\n",
       "      <td>-0.099868</td>\n",
       "      <td>0.383555</td>\n",
       "      <td>-0.227641</td>\n",
       "      <td>-0.094448</td>\n",
       "      <td>0.155718</td>\n",
       "      <td>0.490123</td>\n",
       "      <td>-0.108260</td>\n",
       "      <td>-0.032434</td>\n",
       "      <td>-0.036300</td>\n",
       "    </tr>\n",
       "  </tbody>\n",
       "</table>\n",
       "<p>5 rows × 129 columns</p>\n",
       "</div>"
      ],
      "text/plain": [
       "   user_id     w2v_0     w2v_1     w2v_2     w2v_3     w2v_4     w2v_5  \\\n",
       "0        1 -0.193146 -0.228589 -0.212177  0.502402  0.419108 -0.155171   \n",
       "1        2 -0.427113 -0.449429  0.155294  0.204986  0.057536  0.182058   \n",
       "2        3 -0.290485 -0.123267  0.147264  0.294396  0.333517 -0.002210   \n",
       "3        4 -0.258450 -0.598861  0.174674  0.272897  0.258750  0.102361   \n",
       "4        5 -0.403251 -0.223418 -0.140462  0.211255  0.477512  0.247194   \n",
       "\n",
       "      w2v_6     w2v_7     w2v_8  ...   w2v_118   w2v_119   w2v_120   w2v_121  \\\n",
       "0 -0.050705 -0.278514 -0.257985  ... -0.508188 -0.047964  0.173882 -0.233017   \n",
       "1 -0.118976 -0.134916  0.312591  ... -0.383222  0.240402  0.421468 -0.091944   \n",
       "2 -0.147300 -0.487144  0.015274  ... -0.172198  0.003900  0.099584 -0.028236   \n",
       "3 -0.110127 -0.355300  0.377514  ... -0.160130  0.139451 -0.130731 -0.239497   \n",
       "4 -0.021708 -0.284819 -0.154669  ... -0.323597 -0.099868  0.383555 -0.227641   \n",
       "\n",
       "    w2v_122   w2v_123   w2v_124   w2v_125   w2v_126   w2v_127  \n",
       "0 -0.106127  0.137993  0.364915 -0.258417  0.158040 -0.312584  \n",
       "1  0.024992  0.344723  0.350942 -0.021163 -0.156320  0.067091  \n",
       "2 -0.022920  0.151936  0.563423  0.020704 -0.102448  0.014376  \n",
       "3  0.049233  0.100909  0.297746  0.005558 -0.144150 -0.023132  \n",
       "4 -0.094448  0.155718  0.490123 -0.108260 -0.032434 -0.036300  \n",
       "\n",
       "[5 rows x 129 columns]"
      ]
     },
     "execution_count": 50,
     "metadata": {},
     "output_type": "execute_result"
    }
   ],
   "source": [
    "pd_word2vec_cr.head()"
   ]
  },
  {
   "cell_type": "markdown",
   "metadata": {},
   "source": [
    "### 融合词向量特征"
   ]
  },
  {
   "cell_type": "code",
   "execution_count": 76,
   "metadata": {
    "ExecuteTime": {
     "end_time": "2020-06-29T03:10:18.356263Z",
     "start_time": "2020-06-29T03:10:18.352424Z"
    }
   },
   "outputs": [
    {
     "data": {
      "text/plain": [
       "((1900000, 129), (1900000, 129), (1900000, 65), (1900000, 65))"
      ]
     },
     "execution_count": 76,
     "metadata": {},
     "output_type": "execute_result"
    }
   ],
   "source": [
    "pd_word2vec_cr.shape,pd_word2vec_ad.shape,pd_word2vec_adv.shape,pd_word2vec_pr.shape"
   ]
  },
  {
   "cell_type": "code",
   "execution_count": 77,
   "metadata": {
    "ExecuteTime": {
     "end_time": "2020-06-29T03:12:30.860299Z",
     "start_time": "2020-06-29T03:12:23.035879Z"
    }
   },
   "outputs": [],
   "source": [
    "pd_word2vec = pd.merge(pd_word2vec_cr,pd_word2vec_ad,on='user_id')"
   ]
  },
  {
   "cell_type": "code",
   "execution_count": 78,
   "metadata": {
    "ExecuteTime": {
     "end_time": "2020-06-29T03:14:51.902698Z",
     "start_time": "2020-06-29T03:14:43.847059Z"
    }
   },
   "outputs": [],
   "source": [
    "pd_word2vec = pd.merge(pd_word2vec,pd_word2vec_adv,on='user_id')"
   ]
  },
  {
   "cell_type": "code",
   "execution_count": 79,
   "metadata": {
    "ExecuteTime": {
     "end_time": "2020-06-29T03:17:11.336026Z",
     "start_time": "2020-06-29T03:17:03.649571Z"
    }
   },
   "outputs": [],
   "source": [
    "pd_word2vec = pd.merge(pd_word2vec,pd_word2vec_pr,on='user_id')"
   ]
  },
  {
   "cell_type": "code",
   "execution_count": 80,
   "metadata": {
    "ExecuteTime": {
     "end_time": "2020-06-29T03:19:20.509884Z",
     "start_time": "2020-06-29T03:19:20.506440Z"
    }
   },
   "outputs": [
    {
     "data": {
      "text/plain": [
       "(1900000, 385)"
      ]
     },
     "execution_count": 80,
     "metadata": {},
     "output_type": "execute_result"
    }
   ],
   "source": [
    "pd_word2vec.shape"
   ]
  },
  {
   "cell_type": "code",
   "execution_count": 81,
   "metadata": {
    "ExecuteTime": {
     "end_time": "2020-06-29T03:21:35.760136Z",
     "start_time": "2020-06-29T03:21:28.655507Z"
    }
   },
   "outputs": [
    {
     "data": {
      "text/plain": [
       "0"
      ]
     },
     "execution_count": 81,
     "metadata": {},
     "output_type": "execute_result"
    }
   ],
   "source": [
    "gc.collect()"
   ]
  },
  {
   "cell_type": "code",
   "execution_count": 82,
   "metadata": {
    "ExecuteTime": {
     "end_time": "2020-06-29T03:23:42.427591Z",
     "start_time": "2020-06-29T03:23:42.425742Z"
    }
   },
   "outputs": [],
   "source": [
    "#del df_sample_train"
   ]
  },
  {
   "cell_type": "code",
   "execution_count": 83,
   "metadata": {
    "ExecuteTime": {
     "end_time": "2020-06-29T03:25:53.138118Z",
     "start_time": "2020-06-29T03:25:50.426117Z"
    }
   },
   "outputs": [],
   "source": [
    "df_sample_train = pd.merge(pd_word2vec,df_user_label,on='user_id')"
   ]
  },
  {
   "cell_type": "code",
   "execution_count": 84,
   "metadata": {
    "ExecuteTime": {
     "end_time": "2020-06-29T03:28:01.425468Z",
     "start_time": "2020-06-29T03:28:01.422323Z"
    }
   },
   "outputs": [
    {
     "data": {
      "text/plain": [
       "(900000, 387)"
      ]
     },
     "execution_count": 84,
     "metadata": {},
     "output_type": "execute_result"
    }
   ],
   "source": [
    "df_sample_train.shape"
   ]
  },
  {
   "cell_type": "code",
   "execution_count": 85,
   "metadata": {
    "ExecuteTime": {
     "end_time": "2020-06-29T03:30:11.662825Z",
     "start_time": "2020-06-29T03:30:11.642615Z"
    },
    "scrolled": false
   },
   "outputs": [
    {
     "data": {
      "text/html": [
       "<div>\n",
       "<style scoped>\n",
       "    .dataframe tbody tr th:only-of-type {\n",
       "        vertical-align: middle;\n",
       "    }\n",
       "\n",
       "    .dataframe tbody tr th {\n",
       "        vertical-align: top;\n",
       "    }\n",
       "\n",
       "    .dataframe thead th {\n",
       "        text-align: right;\n",
       "    }\n",
       "</style>\n",
       "<table border=\"1\" class=\"dataframe\">\n",
       "  <thead>\n",
       "    <tr style=\"text-align: right;\">\n",
       "      <th></th>\n",
       "      <th>user_id</th>\n",
       "      <th>w2v_cr_0</th>\n",
       "      <th>w2v_cr_1</th>\n",
       "      <th>w2v_cr_2</th>\n",
       "      <th>w2v_cr_3</th>\n",
       "      <th>w2v_cr_4</th>\n",
       "      <th>w2v_cr_5</th>\n",
       "      <th>w2v_cr_6</th>\n",
       "      <th>w2v_cr_7</th>\n",
       "      <th>w2v_cr_8</th>\n",
       "      <th>...</th>\n",
       "      <th>w2v_pr_56</th>\n",
       "      <th>w2v_pr_57</th>\n",
       "      <th>w2v_pr_58</th>\n",
       "      <th>w2v_pr_59</th>\n",
       "      <th>w2v_pr_60</th>\n",
       "      <th>w2v_pr_61</th>\n",
       "      <th>w2v_pr_62</th>\n",
       "      <th>w2v_pr_63</th>\n",
       "      <th>age</th>\n",
       "      <th>gender</th>\n",
       "    </tr>\n",
       "  </thead>\n",
       "  <tbody>\n",
       "    <tr>\n",
       "      <th>0</th>\n",
       "      <td>1</td>\n",
       "      <td>0.089777</td>\n",
       "      <td>-0.132495</td>\n",
       "      <td>0.222717</td>\n",
       "      <td>0.312500</td>\n",
       "      <td>-0.089935</td>\n",
       "      <td>-0.035498</td>\n",
       "      <td>0.219225</td>\n",
       "      <td>0.380090</td>\n",
       "      <td>-0.098880</td>\n",
       "      <td>...</td>\n",
       "      <td>-0.102909</td>\n",
       "      <td>-0.069506</td>\n",
       "      <td>-0.013462</td>\n",
       "      <td>-0.303535</td>\n",
       "      <td>-0.151102</td>\n",
       "      <td>-0.416932</td>\n",
       "      <td>-0.274069</td>\n",
       "      <td>0.271734</td>\n",
       "      <td>4</td>\n",
       "      <td>1</td>\n",
       "    </tr>\n",
       "    <tr>\n",
       "      <th>1</th>\n",
       "      <td>2</td>\n",
       "      <td>0.205643</td>\n",
       "      <td>-0.154495</td>\n",
       "      <td>0.237451</td>\n",
       "      <td>0.158883</td>\n",
       "      <td>-0.008960</td>\n",
       "      <td>-0.104230</td>\n",
       "      <td>0.023858</td>\n",
       "      <td>0.343034</td>\n",
       "      <td>0.014614</td>\n",
       "      <td>...</td>\n",
       "      <td>-0.011438</td>\n",
       "      <td>-0.113968</td>\n",
       "      <td>-0.066190</td>\n",
       "      <td>-0.297549</td>\n",
       "      <td>-0.079522</td>\n",
       "      <td>-0.305683</td>\n",
       "      <td>-0.199420</td>\n",
       "      <td>0.353566</td>\n",
       "      <td>10</td>\n",
       "      <td>1</td>\n",
       "    </tr>\n",
       "    <tr>\n",
       "      <th>2</th>\n",
       "      <td>3</td>\n",
       "      <td>0.019845</td>\n",
       "      <td>-0.397888</td>\n",
       "      <td>0.222115</td>\n",
       "      <td>0.410672</td>\n",
       "      <td>-0.006792</td>\n",
       "      <td>-0.000501</td>\n",
       "      <td>0.163669</td>\n",
       "      <td>0.344088</td>\n",
       "      <td>-0.078659</td>\n",
       "      <td>...</td>\n",
       "      <td>-0.211163</td>\n",
       "      <td>-0.059042</td>\n",
       "      <td>-0.065321</td>\n",
       "      <td>-0.379983</td>\n",
       "      <td>-0.123349</td>\n",
       "      <td>-0.292780</td>\n",
       "      <td>-0.320767</td>\n",
       "      <td>0.087188</td>\n",
       "      <td>7</td>\n",
       "      <td>2</td>\n",
       "    </tr>\n",
       "    <tr>\n",
       "      <th>3</th>\n",
       "      <td>4</td>\n",
       "      <td>0.046794</td>\n",
       "      <td>-0.229000</td>\n",
       "      <td>0.067148</td>\n",
       "      <td>0.382606</td>\n",
       "      <td>0.176876</td>\n",
       "      <td>-0.121723</td>\n",
       "      <td>0.071203</td>\n",
       "      <td>0.216840</td>\n",
       "      <td>0.084766</td>\n",
       "      <td>...</td>\n",
       "      <td>-0.183278</td>\n",
       "      <td>-0.143893</td>\n",
       "      <td>-0.063736</td>\n",
       "      <td>-0.417863</td>\n",
       "      <td>-0.030431</td>\n",
       "      <td>-0.182565</td>\n",
       "      <td>-0.275010</td>\n",
       "      <td>0.154389</td>\n",
       "      <td>5</td>\n",
       "      <td>1</td>\n",
       "    </tr>\n",
       "    <tr>\n",
       "      <th>4</th>\n",
       "      <td>5</td>\n",
       "      <td>0.114058</td>\n",
       "      <td>-0.010847</td>\n",
       "      <td>0.189893</td>\n",
       "      <td>-0.046693</td>\n",
       "      <td>-0.158460</td>\n",
       "      <td>0.046259</td>\n",
       "      <td>0.472983</td>\n",
       "      <td>0.323280</td>\n",
       "      <td>-0.029474</td>\n",
       "      <td>...</td>\n",
       "      <td>0.056306</td>\n",
       "      <td>-0.133631</td>\n",
       "      <td>-0.105429</td>\n",
       "      <td>-0.292214</td>\n",
       "      <td>-0.190382</td>\n",
       "      <td>-0.420457</td>\n",
       "      <td>-0.333188</td>\n",
       "      <td>0.229452</td>\n",
       "      <td>4</td>\n",
       "      <td>1</td>\n",
       "    </tr>\n",
       "  </tbody>\n",
       "</table>\n",
       "<p>5 rows × 387 columns</p>\n",
       "</div>"
      ],
      "text/plain": [
       "   user_id  w2v_cr_0  w2v_cr_1  w2v_cr_2  w2v_cr_3  w2v_cr_4  w2v_cr_5  \\\n",
       "0        1  0.089777 -0.132495  0.222717  0.312500 -0.089935 -0.035498   \n",
       "1        2  0.205643 -0.154495  0.237451  0.158883 -0.008960 -0.104230   \n",
       "2        3  0.019845 -0.397888  0.222115  0.410672 -0.006792 -0.000501   \n",
       "3        4  0.046794 -0.229000  0.067148  0.382606  0.176876 -0.121723   \n",
       "4        5  0.114058 -0.010847  0.189893 -0.046693 -0.158460  0.046259   \n",
       "\n",
       "   w2v_cr_6  w2v_cr_7  w2v_cr_8  ...  w2v_pr_56  w2v_pr_57  w2v_pr_58  \\\n",
       "0  0.219225  0.380090 -0.098880  ...  -0.102909  -0.069506  -0.013462   \n",
       "1  0.023858  0.343034  0.014614  ...  -0.011438  -0.113968  -0.066190   \n",
       "2  0.163669  0.344088 -0.078659  ...  -0.211163  -0.059042  -0.065321   \n",
       "3  0.071203  0.216840  0.084766  ...  -0.183278  -0.143893  -0.063736   \n",
       "4  0.472983  0.323280 -0.029474  ...   0.056306  -0.133631  -0.105429   \n",
       "\n",
       "   w2v_pr_59  w2v_pr_60  w2v_pr_61  w2v_pr_62  w2v_pr_63  age  gender  \n",
       "0  -0.303535  -0.151102  -0.416932  -0.274069   0.271734    4       1  \n",
       "1  -0.297549  -0.079522  -0.305683  -0.199420   0.353566   10       1  \n",
       "2  -0.379983  -0.123349  -0.292780  -0.320767   0.087188    7       2  \n",
       "3  -0.417863  -0.030431  -0.182565  -0.275010   0.154389    5       1  \n",
       "4  -0.292214  -0.190382  -0.420457  -0.333188   0.229452    4       1  \n",
       "\n",
       "[5 rows x 387 columns]"
      ]
     },
     "execution_count": 85,
     "metadata": {},
     "output_type": "execute_result"
    }
   ],
   "source": [
    "df_sample_train.head()"
   ]
  },
  {
   "cell_type": "code",
   "execution_count": 86,
   "metadata": {
    "ExecuteTime": {
     "end_time": "2020-06-29T03:32:23.063367Z",
     "start_time": "2020-06-29T03:32:20.203085Z"
    }
   },
   "outputs": [],
   "source": [
    "df_sample_test = pd.merge(pd_word2vec,df_test_user_id,on='user_id')"
   ]
  },
  {
   "cell_type": "code",
   "execution_count": 87,
   "metadata": {
    "ExecuteTime": {
     "end_time": "2020-06-29T03:34:38.120441Z",
     "start_time": "2020-06-29T03:34:38.117363Z"
    }
   },
   "outputs": [
    {
     "data": {
      "text/plain": [
       "(1000000, 385)"
      ]
     },
     "execution_count": 87,
     "metadata": {},
     "output_type": "execute_result"
    }
   ],
   "source": [
    "df_sample_test.shape"
   ]
  },
  {
   "cell_type": "code",
   "execution_count": null,
   "metadata": {
    "ExecuteTime": {
     "start_time": "2020-06-29T03:11:17.522Z"
    }
   },
   "outputs": [],
   "source": [
    "feature_exclude_columns=['user_id','age','gender']"
   ]
  },
  {
   "cell_type": "code",
   "execution_count": null,
   "metadata": {
    "ExecuteTime": {
     "start_time": "2020-06-29T03:11:18.786Z"
    }
   },
   "outputs": [],
   "source": [
    "feature_columns = [x for x in df_sample_train.columns if x not in feature_exclude_columns]"
   ]
  },
  {
   "cell_type": "code",
   "execution_count": null,
   "metadata": {
    "ExecuteTime": {
     "start_time": "2020-06-29T03:11:20.386Z"
    }
   },
   "outputs": [],
   "source": [
    "len(feature_columns)"
   ]
  },
  {
   "cell_type": "code",
   "execution_count": null,
   "metadata": {
    "ExecuteTime": {
     "start_time": "2020-06-29T03:11:20.948Z"
    }
   },
   "outputs": [],
   "source": [
    "gc.collect()"
   ]
  },
  {
   "cell_type": "markdown",
   "metadata": {},
   "source": [
    "## 建模测试"
   ]
  },
  {
   "cell_type": "code",
   "execution_count": 33,
   "metadata": {
    "ExecuteTime": {
     "end_time": "2020-06-21T14:32:02.906055Z",
     "start_time": "2020-06-21T14:32:02.832216Z"
    }
   },
   "outputs": [],
   "source": [
    "from sklearn.model_selection import train_test_split\n",
    "from lightgbm.sklearn import LGBMClassifier\n",
    "from sklearn.metrics import accuracy_score"
   ]
  },
  {
   "cell_type": "code",
   "execution_count": 34,
   "metadata": {
    "ExecuteTime": {
     "end_time": "2020-06-21T14:32:25.380129Z",
     "start_time": "2020-06-21T14:32:25.377656Z"
    }
   },
   "outputs": [],
   "source": [
    "from sklearn.model_selection import cross_val_score"
   ]
  },
  {
   "cell_type": "code",
   "execution_count": 35,
   "metadata": {
    "ExecuteTime": {
     "end_time": "2020-06-21T14:32:47.832765Z",
     "start_time": "2020-06-21T14:32:47.829537Z"
    }
   },
   "outputs": [
    {
     "name": "stderr",
     "output_type": "stream",
     "text": [
      "/opt/app/conda/lib/python3.6/site-packages/sklearn/externals/joblib/__init__.py:15: FutureWarning: sklearn.externals.joblib is deprecated in 0.21 and will be removed in 0.23. Please import this functionality directly from joblib, which can be installed with: pip install joblib. If this warning is raised when loading pickled models, you may need to re-serialize those models with scikit-learn 0.21+.\n",
      "  warnings.warn(msg, category=FutureWarning)\n"
     ]
    }
   ],
   "source": [
    "from sklearn.externals import joblib"
   ]
  },
  {
   "cell_type": "markdown",
   "metadata": {},
   "source": [
    "### 性别"
   ]
  },
  {
   "cell_type": "code",
   "execution_count": 36,
   "metadata": {
    "ExecuteTime": {
     "end_time": "2020-06-21T14:33:10.338983Z",
     "start_time": "2020-06-21T14:33:10.336187Z"
    }
   },
   "outputs": [],
   "source": [
    "lgbm_gender = LGBMClassifier(n_estimators=300,learning_rate=0.1,max_depth=8,num_leaves=127,subsample=0.8,colsample_bytree=0.8,min_split_gain=3,random_state=0,reg_alpha=0.05)"
   ]
  },
  {
   "cell_type": "code",
   "execution_count": 37,
   "metadata": {
    "ExecuteTime": {
     "end_time": "2020-06-21T14:33:32.659191Z",
     "start_time": "2020-06-21T14:33:32.654497Z"
    }
   },
   "outputs": [],
   "source": [
    "def model_test(clf,df_data,feature_columns,label_name,test_size=0.3,refit=False):\n",
    "     '''\n",
    "    建模测试\n",
    "    Parameters\n",
    "    ----------\n",
    "    clf:sklearn model\n",
    "    df_data：pandas.DataFrame,训练数据源\n",
    "    feature_columns：list,特征列名\n",
    "    label_name：str,标签列名\n",
    "    test_size：验证集比例\n",
    "    refit：boolean,测试完是否refit\n",
    "    Returns\n",
    "    ----------\n",
    "    clf:sklearn model\n",
    "    '''\n",
    "    X_train, X_test, y_train, y_test = train_test_split(df_data[feature_columns],df_data[label_name],test_size=test_size,random_state=0)\n",
    "    print(\"数据集划分完毕\")\n",
    "    clf.fit(X_train,y_train)\n",
    "    print(\"模型训练完毕\")\n",
    "    y_test_predict = clf.predict(X_test)\n",
    "    y_train_predict = clf.predict(X_train)\n",
    "    print(\"训练集：%f,测试集：%f\" % (accuracy_score(y_train,y_train_predict),accuracy_score(y_test,y_test_predict)))\n",
    "    if refit is True:\n",
    "        clf.fit(df_data[feature_columns],df_data[label_name])\n",
    "    return clf"
   ]
  },
  {
   "cell_type": "code",
   "execution_count": 63,
   "metadata": {
    "ExecuteTime": {
     "end_time": "2020-06-20T10:54:41.984414Z",
     "start_time": "2020-06-20T10:54:39.093558Z"
    }
   },
   "outputs": [],
   "source": [
    "X_train, X_test, y_train, y_test = train_test_split(df_sample_train[feature_columns],df_sample_train['gender'],test_size=0.3,random_state=0)"
   ]
  },
  {
   "cell_type": "markdown",
   "metadata": {},
   "source": [
    "单id"
   ]
  },
  {
   "cell_type": "markdown",
   "metadata": {},
   "source": [
    "cr:size=128,window=5"
   ]
  },
  {
   "cell_type": "code",
   "execution_count": 61,
   "metadata": {
    "ExecuteTime": {
     "end_time": "2020-06-20T10:52:01.126167Z",
     "start_time": "2020-06-20T10:51:04.503721Z"
    },
    "scrolled": true
   },
   "outputs": [
    {
     "name": "stdout",
     "output_type": "stream",
     "text": [
      "数据集划分完毕\n",
      "模型训练完毕\n",
      "训练集：0.945535,测试集：0.920344\n"
     ]
    }
   ],
   "source": [
    "lgbm_gender = model_test(lgbm_gender,df_sample_train,feature_columns=feature_columns,label_name='gender')"
   ]
  },
  {
   "cell_type": "markdown",
   "metadata": {},
   "source": [
    "cr:size=128,window=10"
   ]
  },
  {
   "cell_type": "code",
   "execution_count": 112,
   "metadata": {
    "ExecuteTime": {
     "end_time": "2020-06-20T13:39:22.804101Z",
     "start_time": "2020-06-20T13:38:26.244866Z"
    },
    "scrolled": true
   },
   "outputs": [
    {
     "name": "stdout",
     "output_type": "stream",
     "text": [
      "数据集划分完毕\n",
      "模型训练完毕\n",
      "训练集：0.946943,测试集：0.922948\n"
     ]
    }
   ],
   "source": [
    "lgbm_gender = model_test(lgbm_gender,df_sample_train,feature_columns=feature_columns,label_name='gender')"
   ]
  },
  {
   "cell_type": "markdown",
   "metadata": {},
   "source": [
    "cr:size=256,window=10"
   ]
  },
  {
   "cell_type": "code",
   "execution_count": 140,
   "metadata": {
    "ExecuteTime": {
     "end_time": "2020-06-21T09:27:55.020279Z",
     "start_time": "2020-06-21T09:25:41.601204Z"
    },
    "scrolled": true
   },
   "outputs": [
    {
     "name": "stdout",
     "output_type": "stream",
     "text": [
      "数据集划分完毕\n",
      "模型训练完毕\n",
      "训练集：0.949924,测试集：0.922041\n"
     ]
    }
   ],
   "source": [
    "lgbm_gender = model_test(lgbm_gender,df_sample_train,feature_columns=feature_columns,label_name='gender')"
   ]
  },
  {
   "cell_type": "markdown",
   "metadata": {},
   "source": [
    "cr:size=128,window=100"
   ]
  },
  {
   "cell_type": "code",
   "execution_count": 34,
   "metadata": {
    "ExecuteTime": {
     "end_time": "2020-06-21T01:32:48.480773Z",
     "start_time": "2020-06-21T01:31:38.263416Z"
    },
    "scrolled": false
   },
   "outputs": [
    {
     "name": "stdout",
     "output_type": "stream",
     "text": [
      "数据集划分完毕\n",
      "模型训练完毕\n",
      "训练集：0.947544,测试集：0.924763\n"
     ]
    }
   ],
   "source": [
    "lgbm_gender = model_test(lgbm_gender,df_sample_train,feature_columns=feature_columns,label_name='gender')"
   ]
  },
  {
   "cell_type": "markdown",
   "metadata": {},
   "source": [
    "adv:size=128,window=10"
   ]
  },
  {
   "cell_type": "code",
   "execution_count": 92,
   "metadata": {
    "ExecuteTime": {
     "end_time": "2020-06-21T03:49:21.463249Z",
     "start_time": "2020-06-21T03:47:07.717680Z"
    },
    "scrolled": true
   },
   "outputs": [
    {
     "name": "stdout",
     "output_type": "stream",
     "text": [
      "数据集划分完毕\n",
      "模型训练完毕\n",
      "训练集：0.918963,测试集：0.890222\n"
     ]
    }
   ],
   "source": [
    "lgbm_gender = model_test(lgbm_gender,df_sample_train,feature_columns=feature_columns,label_name='gender')"
   ]
  },
  {
   "cell_type": "markdown",
   "metadata": {},
   "source": [
    "adv:size=64:window=10"
   ]
  },
  {
   "cell_type": "code",
   "execution_count": 51,
   "metadata": {
    "ExecuteTime": {
     "end_time": "2020-06-21T02:18:49.697875Z",
     "start_time": "2020-06-21T02:18:18.583912Z"
    },
    "scrolled": true
   },
   "outputs": [
    {
     "name": "stdout",
     "output_type": "stream",
     "text": [
      "数据集划分完毕\n",
      "模型训练完毕\n",
      "训练集：0.913338,测试集：0.889204\n"
     ]
    }
   ],
   "source": [
    "lgbm_gender = model_test(lgbm_gender,df_sample_train,feature_columns=feature_columns,label_name='gender')"
   ]
  },
  {
   "cell_type": "markdown",
   "metadata": {},
   "source": [
    "adv:size=64,window=100"
   ]
  },
  {
   "cell_type": "code",
   "execution_count": 122,
   "metadata": {
    "ExecuteTime": {
     "end_time": "2020-06-21T06:17:14.711656Z",
     "start_time": "2020-06-21T06:16:37.577404Z"
    },
    "scrolled": true
   },
   "outputs": [
    {
     "name": "stdout",
     "output_type": "stream",
     "text": [
      "数据集划分完毕\n",
      "模型训练完毕\n",
      "训练集：0.911878,测试集：0.888263\n"
     ]
    }
   ],
   "source": [
    "lgbm_gender = model_test(lgbm_gender,df_sample_train,feature_columns=feature_columns,label_name='gender')"
   ]
  },
  {
   "cell_type": "markdown",
   "metadata": {},
   "source": [
    "adv:size=32,window=10"
   ]
  },
  {
   "cell_type": "code",
   "execution_count": 62,
   "metadata": {
    "ExecuteTime": {
     "end_time": "2020-06-21T02:37:54.904552Z",
     "start_time": "2020-06-21T02:37:38.687868Z"
    },
    "scrolled": true
   },
   "outputs": [
    {
     "name": "stdout",
     "output_type": "stream",
     "text": [
      "数据集划分完毕\n",
      "模型训练完毕\n",
      "训练集：0.902352,测试集：0.884437\n"
     ]
    }
   ],
   "source": [
    "lgbm_gender = model_test(lgbm_gender,df_sample_train,feature_columns=feature_columns,label_name='gender')"
   ]
  },
  {
   "cell_type": "markdown",
   "metadata": {},
   "source": [
    "pr:size=64,window=10"
   ]
  },
  {
   "cell_type": "code",
   "execution_count": 107,
   "metadata": {
    "ExecuteTime": {
     "end_time": "2020-06-21T04:20:58.279554Z",
     "start_time": "2020-06-21T04:19:43.760869Z"
    },
    "scrolled": true
   },
   "outputs": [
    {
     "name": "stdout",
     "output_type": "stream",
     "text": [
      "数据集划分完毕\n",
      "模型训练完毕\n",
      "训练集：0.874917,测试集：0.850715\n"
     ]
    }
   ],
   "source": [
    "lgbm_gender = model_test(lgbm_gender,df_sample_train,feature_columns=feature_columns,label_name='gender')"
   ]
  },
  {
   "cell_type": "markdown",
   "metadata": {},
   "source": [
    "pr:size=16,window=10"
   ]
  },
  {
   "cell_type": "code",
   "execution_count": 77,
   "metadata": {
    "ExecuteTime": {
     "end_time": "2020-06-21T02:59:54.099728Z",
     "start_time": "2020-06-21T02:59:25.677375Z"
    },
    "scrolled": true
   },
   "outputs": [
    {
     "name": "stdout",
     "output_type": "stream",
     "text": [
      "数据集划分完毕\n",
      "模型训练完毕\n",
      "训练集：0.855970,测试集：0.845863\n"
     ]
    }
   ],
   "source": [
    "lgbm_gender = model_test(lgbm_gender,df_sample_train,feature_columns=feature_columns,label_name='gender')"
   ]
  },
  {
   "cell_type": "markdown",
   "metadata": {},
   "source": [
    "ad:size=128,window=10"
   ]
  },
  {
   "cell_type": "code",
   "execution_count": 140,
   "metadata": {
    "ExecuteTime": {
     "end_time": "2020-06-20T15:40:33.881075Z",
     "start_time": "2020-06-20T15:39:11.375293Z"
    }
   },
   "outputs": [
    {
     "name": "stdout",
     "output_type": "stream",
     "text": [
      "数据集划分完毕\n",
      "模型训练完毕\n",
      "训练集：0.947221,测试集：0.922900\n"
     ]
    }
   ],
   "source": [
    "lgbm_gender = model_test(lgbm_gender,df_sample_train,feature_columns=feature_columns,label_name='gender')"
   ]
  },
  {
   "cell_type": "markdown",
   "metadata": {},
   "source": [
    "ad:size=128,window=100"
   ]
  },
  {
   "cell_type": "code",
   "execution_count": 38,
   "metadata": {
    "ExecuteTime": {
     "end_time": "2020-06-21T14:34:55.496491Z",
     "start_time": "2020-06-21T14:33:55.488302Z"
    },
    "scrolled": false
   },
   "outputs": [
    {
     "name": "stdout",
     "output_type": "stream",
     "text": [
      "数据集划分完毕\n",
      "模型训练完毕\n",
      "训练集：0.947695,测试集：0.924970\n"
     ]
    }
   ],
   "source": [
    "lgbm_gender = model_test(lgbm_gender,df_sample_train,feature_columns=feature_columns,label_name='gender')"
   ]
  },
  {
   "cell_type": "markdown",
   "metadata": {},
   "source": [
    "多id"
   ]
  },
  {
   "cell_type": "markdown",
   "metadata": {},
   "source": [
    "cr+pr+adv"
   ]
  },
  {
   "cell_type": "code",
   "execution_count": 92,
   "metadata": {
    "ExecuteTime": {
     "end_time": "2020-06-20T11:33:21.427367Z",
     "start_time": "2020-06-20T11:32:07.520649Z"
    },
    "scrolled": true
   },
   "outputs": [
    {
     "name": "stdout",
     "output_type": "stream",
     "text": [
      "数据集划分完毕\n",
      "模型训练完毕\n",
      "训练集：0.948065,测试集：0.922163\n"
     ]
    }
   ],
   "source": [
    "lgbm_gender = model_test(lgbm_gender,df_sample_train,feature_columns=feature_columns,label_name='gender')"
   ]
  },
  {
   "cell_type": "markdown",
   "metadata": {
    "ExecuteTime": {
     "end_time": "2020-06-20T16:11:45.365165Z",
     "start_time": "2020-06-20T16:11:45.351515Z"
    }
   },
   "source": [
    "cr+ad+pr+adv"
   ]
  },
  {
   "cell_type": "code",
   "execution_count": 164,
   "metadata": {
    "ExecuteTime": {
     "end_time": "2020-06-20T16:11:15.668386Z",
     "start_time": "2020-06-20T16:08:10.696955Z"
    },
    "scrolled": false
   },
   "outputs": [
    {
     "name": "stdout",
     "output_type": "stream",
     "text": [
      "数据集划分完毕\n",
      "模型训练完毕\n",
      "训练集：0.951481,测试集：0.925904\n"
     ]
    }
   ],
   "source": [
    "lgbm_gender = model_test(lgbm_gender,df_sample_train,feature_columns=feature_columns,label_name='gender')"
   ]
  },
  {
   "cell_type": "markdown",
   "metadata": {},
   "source": [
    "cr+ad"
   ]
  },
  {
   "cell_type": "code",
   "execution_count": 171,
   "metadata": {
    "ExecuteTime": {
     "end_time": "2020-06-20T16:24:03.711205Z",
     "start_time": "2020-06-20T16:21:09.314026Z"
    },
    "scrolled": true
   },
   "outputs": [
    {
     "name": "stdout",
     "output_type": "stream",
     "text": [
      "数据集划分完毕\n",
      "模型训练完毕\n",
      "训练集：0.949968,测试集：0.924556\n"
     ]
    }
   ],
   "source": [
    "lgbm_gender = model_test(lgbm_gender,df_sample_train,feature_columns=feature_columns,label_name='gender')"
   ]
  },
  {
   "cell_type": "markdown",
   "metadata": {},
   "source": [
    "refit"
   ]
  },
  {
   "cell_type": "code",
   "execution_count": null,
   "metadata": {
    "ExecuteTime": {
     "end_time": "2020-05-21T04:02:41.320424Z",
     "start_time": "2020-05-21T04:00:40.305483Z"
    }
   },
   "outputs": [],
   "source": [
    "lgbm_gender.fit(df_sample_train[feature_columns],df_sample_train['gender'])"
   ]
  },
  {
   "cell_type": "code",
   "execution_count": null,
   "metadata": {
    "ExecuteTime": {
     "end_time": "2020-05-20T14:34:09.012386Z",
     "start_time": "2020-05-20T14:33:57.741681Z"
    }
   },
   "outputs": [],
   "source": [
    "y_test_predict = lgbm_gender.predict(X_test)\n",
    "y_train_predict = lgbm_gender.predict(X_train)"
   ]
  },
  {
   "cell_type": "code",
   "execution_count": null,
   "metadata": {
    "ExecuteTime": {
     "end_time": "2020-05-20T14:29:34.067396Z",
     "start_time": "2020-05-20T14:29:33.988166Z"
    },
    "scrolled": true
   },
   "outputs": [],
   "source": [
    "accuracy_score(y_train,y_train_predict),accuracy_score(y_test,y_test_predict)"
   ]
  },
  {
   "cell_type": "code",
   "execution_count": 66,
   "metadata": {
    "ExecuteTime": {
     "end_time": "2020-06-20T10:59:01.169550Z",
     "start_time": "2020-06-20T10:58:54.823167Z"
    }
   },
   "outputs": [
    {
     "data": {
      "text/plain": [
       "16"
      ]
     },
     "execution_count": 66,
     "metadata": {},
     "output_type": "execute_result"
    }
   ],
   "source": [
    "gc.collect()"
   ]
  },
  {
   "cell_type": "markdown",
   "metadata": {},
   "source": [
    "### 年龄"
   ]
  },
  {
   "cell_type": "code",
   "execution_count": null,
   "metadata": {
    "ExecuteTime": {
     "end_time": "2020-05-21T03:56:58.505082Z",
     "start_time": "2020-05-21T03:56:56.287029Z"
    }
   },
   "outputs": [],
   "source": [
    "X_train, X_test, y_train, y_test = train_test_split(df_sample_train[feature_columns],df_sample_train['age'],test_size=0.3,random_state=0)"
   ]
  },
  {
   "cell_type": "code",
   "execution_count": 39,
   "metadata": {
    "ExecuteTime": {
     "end_time": "2020-06-21T02:03:14.974079Z",
     "start_time": "2020-06-21T02:03:14.970753Z"
    }
   },
   "outputs": [],
   "source": [
    "lgbm_age =LGBMClassifier(n_estimators=300,learning_rate=0.1,max_depth=8,num_leaves=127,subsample=0.8,colsample_bytree=0.8,min_split_gain=3,random_state=0,reg_alpha=0.05)"
   ]
  },
  {
   "cell_type": "code",
   "execution_count": 99,
   "metadata": {
    "ExecuteTime": {
     "end_time": "2020-05-24T05:30:44.409395Z",
     "start_time": "2020-05-24T05:14:59.697985Z"
    },
    "scrolled": false
   },
   "outputs": [
    {
     "name": "stdout",
     "output_type": "stream",
     "text": [
      "数据集划分完毕\n",
      "模型训练完毕\n",
      "训练集：0.554054,测试集：0.378707\n"
     ]
    }
   ],
   "source": [
    "lgbm_age = model_test(lgbm_age,df_sample_train,feature_columns=feature_columns,label_name='age')"
   ]
  },
  {
   "cell_type": "markdown",
   "metadata": {},
   "source": [
    "refit"
   ]
  },
  {
   "cell_type": "code",
   "execution_count": null,
   "metadata": {
    "ExecuteTime": {
     "end_time": "2020-05-21T04:16:58.466965Z",
     "start_time": "2020-05-21T04:03:02.286722Z"
    },
    "scrolled": true
   },
   "outputs": [],
   "source": [
    "lgbm_age.fit(df_sample_train[feature_columns],df_sample_train['age'])"
   ]
  },
  {
   "cell_type": "code",
   "execution_count": null,
   "metadata": {
    "ExecuteTime": {
     "end_time": "2020-05-21T03:58:55.513991Z",
     "start_time": "2020-05-21T03:57:22.115651Z"
    }
   },
   "outputs": [],
   "source": [
    "y_test_predict = lgbm_age.predict(X_test)\n",
    "y_train_predict = lgbm_age.predict(X_train)"
   ]
  },
  {
   "cell_type": "code",
   "execution_count": null,
   "metadata": {
    "ExecuteTime": {
     "end_time": "2020-05-20T14:55:07.196061Z",
     "start_time": "2020-05-20T14:55:07.140083Z"
    }
   },
   "outputs": [],
   "source": [
    "accuracy_score(y_train,y_train_predict),accuracy_score(y_test,y_test_predict)"
   ]
  },
  {
   "cell_type": "markdown",
   "metadata": {},
   "source": [
    "## 模型固化"
   ]
  },
  {
   "cell_type": "code",
   "execution_count": null,
   "metadata": {
    "ExecuteTime": {
     "end_time": "2020-05-21T06:09:30.368856Z",
     "start_time": "2020-05-21T06:09:30.229935Z"
    }
   },
   "outputs": [],
   "source": [
    "joblib.dump(lgbm_gender,'./model/lgbm_gender_w2v128.pkl')"
   ]
  },
  {
   "cell_type": "code",
   "execution_count": 62,
   "metadata": {
    "ExecuteTime": {
     "end_time": "2020-06-20T10:54:19.813578Z",
     "start_time": "2020-06-20T10:54:19.682393Z"
    }
   },
   "outputs": [],
   "source": [
    "lgbm_gender = joblib.load('./model/lgbm_gender_w2v128.pkl')"
   ]
  },
  {
   "cell_type": "code",
   "execution_count": 64,
   "metadata": {
    "ExecuteTime": {
     "end_time": "2020-06-20T10:55:16.725862Z",
     "start_time": "2020-06-20T10:55:07.329984Z"
    }
   },
   "outputs": [],
   "source": [
    "y_test_predict = lgbm_gender.predict(X_test)\n",
    "y_train_predict = lgbm_gender.predict(X_train)"
   ]
  },
  {
   "cell_type": "code",
   "execution_count": 65,
   "metadata": {
    "ExecuteTime": {
     "end_time": "2020-06-20T10:55:36.160721Z",
     "start_time": "2020-06-20T10:55:36.085595Z"
    },
    "scrolled": true
   },
   "outputs": [
    {
     "data": {
      "text/plain": [
       "(0.9401746031746032, 0.9394037037037037)"
      ]
     },
     "execution_count": 65,
     "metadata": {},
     "output_type": "execute_result"
    }
   ],
   "source": [
    "accuracy_score(y_train,y_train_predict),accuracy_score(y_test,y_test_predict)"
   ]
  },
  {
   "cell_type": "code",
   "execution_count": null,
   "metadata": {
    "ExecuteTime": {
     "end_time": "2020-05-21T06:09:41.080462Z",
     "start_time": "2020-05-21T06:09:39.936166Z"
    }
   },
   "outputs": [],
   "source": [
    "joblib.dump(lgbm_age,'./model/lgbm_age_w2v128.pkl')"
   ]
  },
  {
   "cell_type": "markdown",
   "metadata": {},
   "source": [
    "## 测试集输出结果"
   ]
  },
  {
   "cell_type": "code",
   "execution_count": null,
   "metadata": {
    "ExecuteTime": {
     "end_time": "2020-05-21T04:18:36.205956Z",
     "start_time": "2020-05-21T04:18:25.460869Z"
    }
   },
   "outputs": [],
   "source": [
    "train_result_gender = lgbm_gender.predict(df_sample_train[feature_columns])"
   ]
  },
  {
   "cell_type": "code",
   "execution_count": null,
   "metadata": {
    "ExecuteTime": {
     "end_time": "2020-05-21T02:22:22.434925Z",
     "start_time": "2020-05-21T02:22:22.359595Z"
    }
   },
   "outputs": [],
   "source": [
    "accuracy_score(df_sample_train['gender'],train_result_gender)"
   ]
  },
  {
   "cell_type": "code",
   "execution_count": null,
   "metadata": {
    "ExecuteTime": {
     "end_time": "2020-05-21T04:20:39.566372Z",
     "start_time": "2020-05-21T04:20:27.781690Z"
    }
   },
   "outputs": [],
   "source": [
    "test_result_gender = lgbm_gender.predict(df_sample_test[feature_columns])"
   ]
  },
  {
   "cell_type": "code",
   "execution_count": null,
   "metadata": {
    "ExecuteTime": {
     "end_time": "2020-05-21T04:20:49.206009Z",
     "start_time": "2020-05-21T04:20:49.200624Z"
    }
   },
   "outputs": [],
   "source": [
    "df_sample_test['predicted_gender'] = test_result_gender"
   ]
  },
  {
   "cell_type": "code",
   "execution_count": null,
   "metadata": {
    "ExecuteTime": {
     "end_time": "2020-05-21T04:22:27.832544Z",
     "start_time": "2020-05-21T04:20:58.727421Z"
    }
   },
   "outputs": [],
   "source": [
    "train_result_age = lgbm_age.predict(df_sample_train[feature_columns])"
   ]
  },
  {
   "cell_type": "code",
   "execution_count": null,
   "metadata": {
    "ExecuteTime": {
     "end_time": "2020-05-21T04:22:37.783711Z",
     "start_time": "2020-05-21T04:22:37.730387Z"
    }
   },
   "outputs": [],
   "source": [
    "accuracy_score(df_sample_train['age'],train_result_age)"
   ]
  },
  {
   "cell_type": "code",
   "execution_count": null,
   "metadata": {
    "ExecuteTime": {
     "end_time": "2020-05-21T04:24:41.270197Z",
     "start_time": "2020-05-21T04:22:47.473026Z"
    }
   },
   "outputs": [],
   "source": [
    "test_result_age = lgbm_age.predict(df_sample_test[feature_columns])"
   ]
  },
  {
   "cell_type": "code",
   "execution_count": null,
   "metadata": {
    "ExecuteTime": {
     "end_time": "2020-05-21T04:24:52.271469Z",
     "start_time": "2020-05-21T04:24:52.266254Z"
    }
   },
   "outputs": [],
   "source": [
    "df_sample_test['predicted_age'] = test_result_age"
   ]
  },
  {
   "cell_type": "code",
   "execution_count": null,
   "metadata": {
    "ExecuteTime": {
     "end_time": "2020-05-21T04:26:40.790970Z",
     "start_time": "2020-05-21T04:26:39.566740Z"
    }
   },
   "outputs": [],
   "source": [
    "df_sample_test[['user_id','predicted_age','predicted_gender']].to_csv(\"./result/submission.csv\",index=False)"
   ]
  }
 ],
 "metadata": {
  "kernelspec": {
   "display_name": "Python 3",
   "language": "python",
   "name": "python3"
  },
  "language_info": {
   "codemirror_mode": {
    "name": "ipython",
    "version": 3
   },
   "file_extension": ".py",
   "mimetype": "text/x-python",
   "name": "python",
   "nbconvert_exporter": "python",
   "pygments_lexer": "ipython3",
   "version": "3.6.5"
  },
  "toc": {
   "base_numbering": 1,
   "nav_menu": {},
   "number_sections": true,
   "sideBar": true,
   "skip_h1_title": false,
   "title_cell": "Table of Contents",
   "title_sidebar": "Contents",
   "toc_cell": false,
   "toc_position": {
    "height": "calc(100% - 180px)",
    "left": "10px",
    "top": "150px",
    "width": "384px"
   },
   "toc_section_display": true,
   "toc_window_display": true
  },
  "varInspector": {
   "cols": {
    "lenName": 16,
    "lenType": 16,
    "lenVar": 40
   },
   "kernels_config": {
    "python": {
     "delete_cmd_postfix": "",
     "delete_cmd_prefix": "del ",
     "library": "var_list.py",
     "varRefreshCmd": "print(var_dic_list())"
    },
    "r": {
     "delete_cmd_postfix": ") ",
     "delete_cmd_prefix": "rm(",
     "library": "var_list.r",
     "varRefreshCmd": "cat(var_dic_list()) "
    }
   },
   "types_to_exclude": [
    "module",
    "function",
    "builtin_function_or_method",
    "instance",
    "_Feature"
   ],
   "window_display": false
  }
 },
 "nbformat": 4,
 "nbformat_minor": 4
}
